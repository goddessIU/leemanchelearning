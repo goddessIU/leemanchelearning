{
  "metadata": {
    "kernelspec": {
      "display_name": "Python 3",
      "name": "python3"
    },
    "language_info": {
      "pygments_lexer": "ipython3",
      "nbconvert_exporter": "python",
      "version": "3.6.4",
      "file_extension": ".py",
      "codemirror_mode": {
        "name": "ipython",
        "version": 3
      },
      "name": "python",
      "mimetype": "text/x-python"
    },
    "colab": {
      "provenance": [],
      "gpuType": "V100",
      "collapsed_sections": [
        "Tm2aXcb-j9Fc",
        "igqIMEgu64-F",
        "fTAVqRfc2KK3",
        "IqO3lTm78nNO",
        "m73ooU75CL_j",
        "kADIPNQ2Ih5X"
      ],
      "include_colab_link": true
    },
    "accelerator": "GPU"
  },
  "nbformat_minor": 0,
  "nbformat": 4,
  "cells": [
    {
      "cell_type": "markdown",
      "metadata": {
        "id": "view-in-github",
        "colab_type": "text"
      },
      "source": [
        "<a href=\"https://colab.research.google.com/github/goddessIU/leemanchelearning/blob/home1/%E2%80%9Cml2023spring_hw1_samplecode%E2%80%9D%E7%9A%84%E5%89%AF%E6%9C%AC.ipynb\" target=\"_parent\"><img src=\"https://colab.research.google.com/assets/colab-badge.svg\" alt=\"Open In Colab\"/></a>"
      ]
    },
    {
      "cell_type": "markdown",
      "source": [
        "# **Homework 1: COVID-19 Cases Prediction (Regression)**"
      ],
      "metadata": {
        "id": "guE34D3Fj2R9"
      }
    },
    {
      "cell_type": "markdown",
      "source": [
        "Objectives:\n",
        "* Solve a regression problem with deep neural networks (DNN).\n",
        "* Understand basic DNN training tips.\n",
        "* Familiarize yourself with PyTorch.\n",
        "\n",
        "If you have any questions, please contact the TAs via TA hours, NTU COOL, or email to mlta-2023-spring@googlegroups.com"
      ],
      "metadata": {
        "id": "V57zhcTp1Xxb"
      }
    },
    {
      "cell_type": "code",
      "source": [
        "!nvidia-smi"
      ],
      "metadata": {
        "id": "GUATI4ONArv_",
        "execution": {
          "iopub.status.busy": "2023-02-12T07:30:52.741854Z",
          "iopub.execute_input": "2023-02-12T07:30:52.742902Z",
          "iopub.status.idle": "2023-02-12T07:30:53.95358Z",
          "shell.execute_reply.started": "2023-02-12T07:30:52.742777Z",
          "shell.execute_reply": "2023-02-12T07:30:53.95213Z"
        },
        "trusted": true,
        "colab": {
          "base_uri": "https://localhost:8080/"
        },
        "outputId": "cf7ec31c-b7af-4111-c511-7a2833cb5b1b"
      },
      "execution_count": null,
      "outputs": [
        {
          "output_type": "stream",
          "name": "stdout",
          "text": [
            "Wed Mar 13 14:11:56 2024       \n",
            "+---------------------------------------------------------------------------------------+\n",
            "| NVIDIA-SMI 535.104.05             Driver Version: 535.104.05   CUDA Version: 12.2     |\n",
            "|-----------------------------------------+----------------------+----------------------+\n",
            "| GPU  Name                 Persistence-M | Bus-Id        Disp.A | Volatile Uncorr. ECC |\n",
            "| Fan  Temp   Perf          Pwr:Usage/Cap |         Memory-Usage | GPU-Util  Compute M. |\n",
            "|                                         |                      |               MIG M. |\n",
            "|=========================================+======================+======================|\n",
            "|   0  Tesla V100-SXM2-16GB           Off | 00000000:00:04.0 Off |                    0 |\n",
            "| N/A   37C    P0              43W / 300W |    406MiB / 16384MiB |      0%      Default |\n",
            "|                                         |                      |                  N/A |\n",
            "+-----------------------------------------+----------------------+----------------------+\n",
            "                                                                                         \n",
            "+---------------------------------------------------------------------------------------+\n",
            "| Processes:                                                                            |\n",
            "|  GPU   GI   CI        PID   Type   Process name                            GPU Memory |\n",
            "|        ID   ID                                                             Usage      |\n",
            "|=======================================================================================|\n",
            "+---------------------------------------------------------------------------------------+\n"
          ]
        }
      ]
    },
    {
      "cell_type": "markdown",
      "source": [
        "# Download data\n",
        "If the Google Drive links below do not work, you can use the dropbox link below or download data from [Kaggle](https://www.kaggle.com/t/a339b77fa5214978bfb8dde62d3151fe), and upload data manually to the workspace."
      ],
      "metadata": {
        "id": "Tm2aXcb-j9Fc"
      }
    },
    {
      "cell_type": "code",
      "source": [
        "# google drive link\n",
        "# !pip install gdown\n",
        "# !gdown --id '1BjXalPZxq9mybPKNjF3h5L3NcF7XKTS-' --output covid_train.csv\n",
        "# !gdown --id '1B55t74Jg2E5FCsKCsUEkPKIuqaY7UIi1' --output covid_test.csv\n",
        "\n",
        "# dropbox link\n",
        "!wget -O covid_train.csv https://www.dropbox.com/s/lmy1riadzoy0ahw/covid.train.csv?dl=0\n",
        "!wget -O covid_test.csv https://www.dropbox.com/s/zalbw42lu4nmhr2/covid.test.csv?dl=0"
      ],
      "metadata": {
        "id": "YPmfl-awlKZA",
        "execution": {
          "iopub.status.busy": "2023-02-12T07:30:53.956273Z",
          "iopub.execute_input": "2023-02-12T07:30:53.956956Z",
          "iopub.status.idle": "2023-02-12T07:31:15.495174Z",
          "shell.execute_reply.started": "2023-02-12T07:30:53.956913Z",
          "shell.execute_reply": "2023-02-12T07:31:15.493786Z"
        },
        "trusted": true,
        "colab": {
          "base_uri": "https://localhost:8080/"
        },
        "outputId": "cffcf385-c27b-4b3b-cd03-2118837dab51"
      },
      "execution_count": null,
      "outputs": [
        {
          "output_type": "stream",
          "name": "stdout",
          "text": [
            "--2024-03-13 14:11:57--  https://www.dropbox.com/s/lmy1riadzoy0ahw/covid.train.csv?dl=0\n",
            "Resolving www.dropbox.com (www.dropbox.com)... 162.125.66.18, 2620:100:6021:18::a27d:4112\n",
            "Connecting to www.dropbox.com (www.dropbox.com)|162.125.66.18|:443... connected.\n",
            "HTTP request sent, awaiting response... 302 Found\n",
            "Location: /s/raw/lmy1riadzoy0ahw/covid.train.csv [following]\n",
            "--2024-03-13 14:11:58--  https://www.dropbox.com/s/raw/lmy1riadzoy0ahw/covid.train.csv\n",
            "Reusing existing connection to www.dropbox.com:443.\n",
            "HTTP request sent, awaiting response... 302 Found\n",
            "Location: https://ucf3930b30d9b3348a1830925667.dl.dropboxusercontent.com/cd/0/inline/CPDXA0SXvxXJNfIBXexYBHVWdwDHmQUd424elH1fCHrKcJcwMm-iHHsuweX9SK-52Aa9g18BJ08hNbLxV3KrlGNMFX2wJWLWumdJPsfAF3wg8FocADJaXjEUYgYStkN3MNX4epJiKZPn6lQOWy5Wh2kq/file# [following]\n",
            "--2024-03-13 14:11:58--  https://ucf3930b30d9b3348a1830925667.dl.dropboxusercontent.com/cd/0/inline/CPDXA0SXvxXJNfIBXexYBHVWdwDHmQUd424elH1fCHrKcJcwMm-iHHsuweX9SK-52Aa9g18BJ08hNbLxV3KrlGNMFX2wJWLWumdJPsfAF3wg8FocADJaXjEUYgYStkN3MNX4epJiKZPn6lQOWy5Wh2kq/file\n",
            "Resolving ucf3930b30d9b3348a1830925667.dl.dropboxusercontent.com (ucf3930b30d9b3348a1830925667.dl.dropboxusercontent.com)... 162.125.65.15, 2620:100:6021:15::a27d:410f\n",
            "Connecting to ucf3930b30d9b3348a1830925667.dl.dropboxusercontent.com (ucf3930b30d9b3348a1830925667.dl.dropboxusercontent.com)|162.125.65.15|:443... connected.\n",
            "HTTP request sent, awaiting response... 200 OK\n",
            "Length: 2162766 (2.1M) [text/plain]\n",
            "Saving to: ‘covid_train.csv’\n",
            "\n",
            "covid_train.csv     100%[===================>]   2.06M  --.-KB/s    in 0.03s   \n",
            "\n",
            "2024-03-13 14:11:59 (74.6 MB/s) - ‘covid_train.csv’ saved [2162766/2162766]\n",
            "\n",
            "--2024-03-13 14:11:59--  https://www.dropbox.com/s/zalbw42lu4nmhr2/covid.test.csv?dl=0\n",
            "Resolving www.dropbox.com (www.dropbox.com)... 162.125.66.18, 2620:100:6021:18::a27d:4112\n",
            "Connecting to www.dropbox.com (www.dropbox.com)|162.125.66.18|:443... connected.\n",
            "HTTP request sent, awaiting response... 302 Found\n",
            "Location: /s/raw/zalbw42lu4nmhr2/covid.test.csv [following]\n",
            "--2024-03-13 14:11:59--  https://www.dropbox.com/s/raw/zalbw42lu4nmhr2/covid.test.csv\n",
            "Reusing existing connection to www.dropbox.com:443.\n",
            "HTTP request sent, awaiting response... 302 Found\n",
            "Location: https://uc0daf7b30272500886a82268198.dl.dropboxusercontent.com/cd/0/inline/CPA_u89YmF40qXprD5ElX53vIM3DR2MO1J1Zc5m1PVI_fO3xmiaM4qzC4LWSlh0ktu9JWqGJccTRUW1ckh1Q5ax6-P4tIYA0lvTKRkVdwgUylmOtY2Bj_g500FpxTh1MEhh3zfqPzEtsgnJhARTqY8Zu/file# [following]\n",
            "--2024-03-13 14:12:00--  https://uc0daf7b30272500886a82268198.dl.dropboxusercontent.com/cd/0/inline/CPA_u89YmF40qXprD5ElX53vIM3DR2MO1J1Zc5m1PVI_fO3xmiaM4qzC4LWSlh0ktu9JWqGJccTRUW1ckh1Q5ax6-P4tIYA0lvTKRkVdwgUylmOtY2Bj_g500FpxTh1MEhh3zfqPzEtsgnJhARTqY8Zu/file\n",
            "Resolving uc0daf7b30272500886a82268198.dl.dropboxusercontent.com (uc0daf7b30272500886a82268198.dl.dropboxusercontent.com)... 162.125.66.15, 2620:100:6021:15::a27d:410f\n",
            "Connecting to uc0daf7b30272500886a82268198.dl.dropboxusercontent.com (uc0daf7b30272500886a82268198.dl.dropboxusercontent.com)|162.125.66.15|:443... connected.\n",
            "HTTP request sent, awaiting response... 200 OK\n",
            "Length: 638359 (623K) [text/plain]\n",
            "Saving to: ‘covid_test.csv’\n",
            "\n",
            "covid_test.csv      100%[===================>] 623.40K  1.01MB/s    in 0.6s    \n",
            "\n",
            "2024-03-13 14:12:01 (1.01 MB/s) - ‘covid_test.csv’ saved [638359/638359]\n",
            "\n"
          ]
        }
      ]
    },
    {
      "cell_type": "markdown",
      "source": [
        "# Import packages"
      ],
      "metadata": {
        "id": "igqIMEgu64-F"
      }
    },
    {
      "cell_type": "code",
      "source": [
        "# Numerical Operations\n",
        "import math\n",
        "import numpy as np\n",
        "\n",
        "# Reading/Writing Data\n",
        "import pandas as pd\n",
        "import os\n",
        "import csv\n",
        "\n",
        "# For Progress Bar\n",
        "from tqdm import tqdm\n",
        "\n",
        "# Pytorch\n",
        "import torch\n",
        "import torch.nn as nn\n",
        "from torch.utils.data import Dataset, DataLoader, random_split\n",
        "\n",
        "# For plotting learning curve\n",
        "from torch.utils.tensorboard import SummaryWriter\n",
        "from sklearn.feature_selection import SelectKBest, f_regression"
      ],
      "metadata": {
        "id": "xybQNYCXYu13",
        "execution": {
          "iopub.status.busy": "2023-02-12T07:31:16.478205Z",
          "iopub.execute_input": "2023-02-12T07:31:16.478628Z",
          "iopub.status.idle": "2023-02-12T07:31:18.240062Z",
          "shell.execute_reply.started": "2023-02-12T07:31:16.478584Z",
          "shell.execute_reply": "2023-02-12T07:31:18.239091Z"
        },
        "trusted": true
      },
      "execution_count": null,
      "outputs": []
    },
    {
      "cell_type": "markdown",
      "source": [
        "# Some Utility Functions\n",
        "\n",
        "You do not need to modify this part."
      ],
      "metadata": {
        "id": "fTAVqRfc2KK3"
      }
    },
    {
      "cell_type": "code",
      "source": [
        "def same_seed(seed):\n",
        "    '''Fixes random number generator seeds for reproducibility.'''\n",
        "    torch.backends.cudnn.deterministic = True\n",
        "    torch.backends.cudnn.benchmark = False\n",
        "    np.random.seed(seed)\n",
        "    torch.manual_seed(seed)\n",
        "    if torch.cuda.is_available():\n",
        "        torch.cuda.manual_seed_all(seed)\n",
        "\n",
        "def train_valid_split(data_set, valid_ratio, seed):\n",
        "    '''Split provided training data into training set and validation set'''\n",
        "    valid_set_size = int(valid_ratio * len(data_set))\n",
        "    train_set_size = len(data_set) - valid_set_size\n",
        "    train_set, valid_set = random_split(data_set, [train_set_size, valid_set_size], generator=torch.Generator().manual_seed(seed))\n",
        "    return np.array(train_set), np.array(valid_set)\n",
        "\n",
        "def predict(test_loader, model, device):\n",
        "    model.eval() # Set your model to evaluation mode.\n",
        "    preds = []\n",
        "    for x in tqdm(test_loader):\n",
        "        x = x.to(device)\n",
        "        with torch.no_grad():\n",
        "            pred = model(x)\n",
        "            preds.append(pred.detach().cpu())\n",
        "    preds = torch.cat(preds, dim=0).numpy()\n",
        "    return preds"
      ],
      "metadata": {
        "id": "RbrcpfYN2I-H",
        "execution": {
          "iopub.status.busy": "2023-02-12T07:31:18.241353Z",
          "iopub.execute_input": "2023-02-12T07:31:18.241964Z",
          "iopub.status.idle": "2023-02-12T07:31:18.251864Z",
          "shell.execute_reply.started": "2023-02-12T07:31:18.241928Z",
          "shell.execute_reply": "2023-02-12T07:31:18.250938Z"
        },
        "trusted": true
      },
      "execution_count": null,
      "outputs": []
    },
    {
      "cell_type": "markdown",
      "source": [
        "# Dataset"
      ],
      "metadata": {
        "id": "IqO3lTm78nNO"
      }
    },
    {
      "cell_type": "code",
      "source": [
        "class COVID19Dataset(Dataset):\n",
        "    '''\n",
        "    x: Features.\n",
        "    y: Targets, if none, do prediction.\n",
        "    '''\n",
        "    def __init__(self, x, y=None):\n",
        "        if y is None:\n",
        "            self.y = y\n",
        "        else:\n",
        "            self.y = torch.FloatTensor(y)\n",
        "        self.x = torch.FloatTensor(x)\n",
        "\n",
        "    def __getitem__(self, idx):\n",
        "        if self.y is None:\n",
        "            return self.x[idx]\n",
        "        else:\n",
        "            return self.x[idx], self.y[idx]\n",
        "\n",
        "    def __len__(self):\n",
        "        return len(self.x)"
      ],
      "metadata": {
        "id": "-mjaJM0wprMs",
        "execution": {
          "iopub.status.busy": "2023-02-12T07:31:18.253412Z",
          "iopub.execute_input": "2023-02-12T07:31:18.254031Z",
          "iopub.status.idle": "2023-02-12T07:31:18.262072Z",
          "shell.execute_reply.started": "2023-02-12T07:31:18.253994Z",
          "shell.execute_reply": "2023-02-12T07:31:18.261108Z"
        },
        "trusted": true
      },
      "execution_count": null,
      "outputs": []
    },
    {
      "cell_type": "markdown",
      "source": [
        "# Neural Network Model\n",
        "Try out different model architectures by modifying the class below."
      ],
      "metadata": {
        "id": "m73ooU75CL_j"
      }
    },
    {
      "cell_type": "code",
      "source": [
        "class My_Model(nn.Module):\n",
        "    def __init__(self, input_dim):\n",
        "        super(My_Model, self).__init__()\n",
        "        # TODO: modify model's structure, be aware of dimensions.\n",
        "        self.layers = nn.Sequential(\n",
        "            nn.Linear(input_dim, 32),\n",
        "            nn.ReLU(),\n",
        "            nn.Linear(32, 16),\n",
        "            nn.ReLU(),\n",
        "            nn.Linear(16, 8),\n",
        "            nn.ReLU(),\n",
        "            nn.Linear(8, 1)\n",
        "        )\n",
        "\n",
        "    def forward(self, x):\n",
        "        x = self.layers(x)\n",
        "        x = x.squeeze(1) # (B, 1) -> (B)\n",
        "        return x"
      ],
      "metadata": {
        "id": "Qn97_WvvrEkG",
        "execution": {
          "iopub.status.busy": "2023-02-12T07:31:18.263546Z",
          "iopub.execute_input": "2023-02-12T07:31:18.263886Z",
          "iopub.status.idle": "2023-02-12T07:31:18.274148Z",
          "shell.execute_reply.started": "2023-02-12T07:31:18.263852Z",
          "shell.execute_reply": "2023-02-12T07:31:18.273078Z"
        },
        "trusted": true
      },
      "execution_count": null,
      "outputs": []
    },
    {
      "cell_type": "code",
      "source": [],
      "metadata": {
        "id": "wPMZs68IqaQC"
      },
      "execution_count": null,
      "outputs": []
    },
    {
      "cell_type": "markdown",
      "source": [
        "# Feature Selection\n",
        "Choose features you deem useful by modifying the function below."
      ],
      "metadata": {
        "id": "x5-LKF6R8xeq"
      }
    },
    {
      "cell_type": "code",
      "source": [
        "\n",
        "def select_feat(train_data, valid_data, test_data, select_all=True):\n",
        "    '''Selects useful features to perform regression'''\n",
        "    y_train, y_valid = train_data[:,-1], valid_data[:,-1]\n",
        "    raw_x_train, raw_x_valid, raw_x_test = train_data[:,:-1], valid_data[:,:-1], test_data\n",
        "\n",
        "    if select_all:\n",
        "        feat_idx = list(range(raw_x_train.shape[1]))\n",
        "    else:\n",
        "        feat_idx = list(range(35, raw_x_train.shape[1])) # TODO: Select suitable feature columns.\n",
        "\n",
        "    return raw_x_train[:,feat_idx], raw_x_valid[:,feat_idx], raw_x_test[:,feat_idx], y_train, y_valid"
      ],
      "metadata": {
        "id": "0FEnKRaIIeKp",
        "execution": {
          "iopub.status.busy": "2023-02-12T07:31:18.277047Z",
          "iopub.execute_input": "2023-02-12T07:31:18.277589Z",
          "iopub.status.idle": "2023-02-12T07:31:18.284837Z",
          "shell.execute_reply.started": "2023-02-12T07:31:18.277554Z",
          "shell.execute_reply": "2023-02-12T07:31:18.283918Z"
        },
        "trusted": true
      },
      "execution_count": null,
      "outputs": []
    },
    {
      "cell_type": "markdown",
      "source": [
        "# Training Loop"
      ],
      "metadata": {
        "id": "kADIPNQ2Ih5X"
      }
    },
    {
      "cell_type": "code",
      "source": [
        "def trainer(train_loader, valid_loader, model, config, device):\n",
        "\n",
        "    criterion = nn.MSELoss(reduction='mean') # Define your loss function, do not modify this.\n",
        "\n",
        "    # Define your optimization algorithm.\n",
        "    # TODO: Please check https://pytorch.org/docs/stable/optim.html to get more available algorithms.\n",
        "    # TODO: L2 regularization (optimizer(weight decay...) or implement by your self).\n",
        "    optimizer = torch.optim.Adam(model.parameters(), lr=config['learning_rate'])\n",
        "    writer = SummaryWriter() # Writer of tensoboard.\n",
        "\n",
        "    if not os.path.isdir('./models'):\n",
        "        os.mkdir('./models') # Create directory of saving models.\n",
        "\n",
        "    n_epochs, best_loss, step, early_stop_count = config['n_epochs'], math.inf, 0, 0\n",
        "\n",
        "    for epoch in range(n_epochs):\n",
        "        model.train() # Set your model to train mode.\n",
        "        loss_record = []\n",
        "\n",
        "        # tqdm is a package to visualize your training progress.\n",
        "        train_pbar = tqdm(train_loader, position=0, leave=True)\n",
        "\n",
        "        for x, y in train_pbar:\n",
        "            optimizer.zero_grad()               # Set gradient to zero.\n",
        "            x, y = x.to(device), y.to(device)   # Move your data to device.\n",
        "            pred = model(x)\n",
        "            loss = criterion(pred, y)\n",
        "            loss.backward()                     # Compute gradient(backpropagation).\n",
        "            optimizer.step()                    # Update parameters.\n",
        "            step += 1\n",
        "            loss_record.append(loss.detach().item())\n",
        "\n",
        "            # Display current epoch number and loss on tqdm progress bar.\n",
        "            train_pbar.set_description(f'Epoch [{epoch+1}/{n_epochs}]')\n",
        "            train_pbar.set_postfix({'loss': loss.detach().item()})\n",
        "\n",
        "        mean_train_loss = sum(loss_record)/len(loss_record)\n",
        "        writer.add_scalar('Loss/train', mean_train_loss, step)\n",
        "\n",
        "        model.eval() # Set your model to evaluation mode.\n",
        "        loss_record = []\n",
        "        for x, y in valid_loader:\n",
        "            x, y = x.to(device), y.to(device)\n",
        "            with torch.no_grad():\n",
        "                pred = model(x)\n",
        "                loss = criterion(pred, y)\n",
        "\n",
        "            loss_record.append(loss.item())\n",
        "\n",
        "        mean_valid_loss = sum(loss_record)/len(loss_record)\n",
        "        print(f'Epoch [{epoch+1}/{n_epochs}]: Train loss: {mean_train_loss:.4f}, Valid loss: {mean_valid_loss:.4f}')\n",
        "        writer.add_scalar('Loss/valid', mean_valid_loss, step)\n",
        "\n",
        "        if mean_valid_loss < best_loss:\n",
        "            best_loss = mean_valid_loss\n",
        "            torch.save(model.state_dict(), config['save_path']) # Save your best model\n",
        "            print('Saving model with loss {:.3f}...'.format(best_loss))\n",
        "            early_stop_count = 0\n",
        "        else:\n",
        "            early_stop_count += 1\n",
        "\n",
        "        if early_stop_count >= config['early_stop']:\n",
        "            print('\\nModel is not improving, so we halt the training session.')\n",
        "            return"
      ],
      "metadata": {
        "id": "k4Rq8_TztAhq",
        "execution": {
          "iopub.status.busy": "2023-02-12T07:31:18.286341Z",
          "iopub.execute_input": "2023-02-12T07:31:18.286701Z",
          "iopub.status.idle": "2023-02-12T07:31:18.301211Z",
          "shell.execute_reply.started": "2023-02-12T07:31:18.286646Z",
          "shell.execute_reply": "2023-02-12T07:31:18.300217Z"
        },
        "trusted": true
      },
      "execution_count": null,
      "outputs": []
    },
    {
      "cell_type": "markdown",
      "source": [
        "# Configurations\n",
        "`config` contains hyper-parameters for training and the path to save your model."
      ],
      "metadata": {
        "id": "0pgkOh2e9UjE"
      }
    },
    {
      "cell_type": "code",
      "source": [
        "device = 'cuda' if torch.cuda.is_available() else 'cpu'\n",
        "config = {\n",
        "    'seed': 5201314,      # Your seed number, you can pick your lucky number. :)\n",
        "    'select_all': True,   # Whether to use all features.\n",
        "    'valid_ratio': 0.2,   # validation_size = train_size * valid_ratio\n",
        "    'n_epochs': 5000,     # Number of epochs.\n",
        "    'batch_size': 256,\n",
        "    'learning_rate': 1e-5,\n",
        "    'early_stop': 600,    # If model has not improved for this many consecutive epochs, stop training.\n",
        "    'save_path': './models/model.ckpt',  # Your model will be saved here.\n",
        "    'k': 16\n",
        "}"
      ],
      "metadata": {
        "id": "QoWPUahCtoT6",
        "execution": {
          "iopub.status.busy": "2023-02-12T07:31:18.304983Z",
          "iopub.execute_input": "2023-02-12T07:31:18.305345Z",
          "iopub.status.idle": "2023-02-12T07:31:18.361404Z",
          "shell.execute_reply.started": "2023-02-12T07:31:18.305313Z",
          "shell.execute_reply": "2023-02-12T07:31:18.36028Z"
        },
        "trusted": true
      },
      "execution_count": null,
      "outputs": []
    },
    {
      "cell_type": "markdown",
      "source": [
        "# Dataloader\n",
        "Read data from files and set up training, validation, and testing sets. You do not need to modify this part."
      ],
      "metadata": {
        "id": "lrS-aJJh9XkW"
      }
    },
    {
      "cell_type": "code",
      "source": [
        "# Set seed for reproducibility\n",
        "same_seed(config['seed'])\n",
        "\n",
        "\n",
        "# train_data size: 3009 x 89 (35 states + 18 features x 3 days)\n",
        "# test_data size: 997 x 88 (without last day's positive rate)\n",
        "train_data, test_data = pd.read_csv('./covid_train.csv').values, pd.read_csv('./covid_test.csv').values\n",
        "\n",
        "# select the best features\n",
        "selector = SelectKBest(f_regression, k=config['k'])\n",
        "result = selector.fit(train_data[:, :-1], train_data[:,-1])\n",
        "idx = np.argsort(result.scores_)[::-1]\n",
        "# print(idx)\n",
        "\n",
        "feat_idx = list(np.sort(idx[:config['k']]))\n",
        "test_data = test_data[:, feat_idx]\n",
        "feat_idx.append(train_data[0].size - 1)\n",
        "train_data = train_data[:, feat_idx]\n",
        "\n",
        "# print(feat_idx)\n",
        "# print(pd.read_csv('./covid_train.csv').columns[feat_idx])\n",
        "# print(train_data.size)\n",
        "\n",
        "train_data, valid_data = train_valid_split(train_data, config['valid_ratio'], config['seed'])\n",
        "\n",
        "\n",
        "# Print out the data size.\n",
        "print(f\"\"\"train_data size: {train_data.shape}\n",
        "valid_data size: {valid_data.shape}\n",
        "test_data size: {test_data.shape}\"\"\")\n",
        "\n",
        "# Select features\n",
        "x_train, x_valid, x_test, y_train, y_valid = select_feat(train_data, valid_data, test_data, config['select_all'])\n",
        "\n",
        "# Print out the number of features.\n",
        "print(f'number of features: {x_train.shape[1]}')\n",
        "\n",
        "train_dataset, valid_dataset, test_dataset = COVID19Dataset(x_train, y_train), \\\n",
        "                                            COVID19Dataset(x_valid, y_valid), \\\n",
        "                                            COVID19Dataset(x_test)\n",
        "\n",
        "# Pytorch data loader loads pytorch dataset into batches.\n",
        "train_loader = DataLoader(train_dataset, batch_size=config['batch_size'], shuffle=True, pin_memory=True)\n",
        "valid_loader = DataLoader(valid_dataset, batch_size=config['batch_size'], shuffle=True, pin_memory=True)\n",
        "test_loader = DataLoader(test_dataset, batch_size=config['batch_size'], shuffle=False, pin_memory=True)"
      ],
      "metadata": {
        "id": "2jc7ZfDot2t9",
        "execution": {
          "iopub.status.busy": "2023-02-12T07:31:18.363178Z",
          "iopub.execute_input": "2023-02-12T07:31:18.363561Z",
          "iopub.status.idle": "2023-02-12T07:31:18.439675Z",
          "shell.execute_reply.started": "2023-02-12T07:31:18.363526Z",
          "shell.execute_reply": "2023-02-12T07:31:18.43872Z"
        },
        "trusted": true,
        "colab": {
          "base_uri": "https://localhost:8080/"
        },
        "outputId": "3f71c149-4008-46f4-8d49-fcc4a06df552"
      },
      "execution_count": null,
      "outputs": [
        {
          "output_type": "stream",
          "name": "stdout",
          "text": [
            "train_data size: (2408, 17)\n",
            "valid_data size: (601, 17)\n",
            "test_data size: (997, 16)\n",
            "number of features: 16\n"
          ]
        }
      ]
    },
    {
      "cell_type": "code",
      "source": [],
      "metadata": {
        "id": "4q9JRYYgPYFt"
      },
      "execution_count": null,
      "outputs": []
    },
    {
      "cell_type": "markdown",
      "source": [
        "# Start training!"
      ],
      "metadata": {
        "id": "0OBYgjCA-YwD"
      }
    },
    {
      "cell_type": "code",
      "source": [
        "model = My_Model(input_dim=x_train.shape[1]).to(device) # put your model and data on the same computation device.\n",
        "trainer(train_loader, valid_loader, model, config, device)"
      ],
      "metadata": {
        "id": "YdttVRkAfu2t",
        "execution": {
          "iopub.status.busy": "2023-02-12T07:31:18.441083Z",
          "iopub.execute_input": "2023-02-12T07:31:18.441534Z"
        },
        "trusted": true,
        "outputId": "c69f4243-e83d-4e99-fa2b-de6f482d7aff",
        "colab": {
          "base_uri": "https://localhost:8080/"
        }
      },
      "execution_count": null,
      "outputs": [
        {
          "output_type": "stream",
          "name": "stderr",
          "text": [
            "Epoch [1/5000]: 100%|██████████| 10/10 [00:00<00:00, 103.39it/s, loss=391]\n"
          ]
        },
        {
          "output_type": "stream",
          "name": "stdout",
          "text": [
            "Epoch [1/5000]: Train loss: 406.6605, Valid loss: 414.3720\n",
            "Saving model with loss 414.372...\n"
          ]
        },
        {
          "output_type": "stream",
          "name": "stderr",
          "text": [
            "Epoch [2/5000]: 100%|██████████| 10/10 [00:00<00:00, 120.08it/s, loss=440]\n"
          ]
        },
        {
          "output_type": "stream",
          "name": "stdout",
          "text": [
            "Epoch [2/5000]: Train loss: 409.3744, Valid loss: 403.9978\n",
            "Saving model with loss 403.998...\n"
          ]
        },
        {
          "output_type": "stream",
          "name": "stderr",
          "text": [
            "Epoch [3/5000]: 100%|██████████| 10/10 [00:00<00:00, 114.51it/s, loss=413]\n"
          ]
        },
        {
          "output_type": "stream",
          "name": "stdout",
          "text": [
            "Epoch [3/5000]: Train loss: 407.5474, Valid loss: 412.8671\n"
          ]
        },
        {
          "output_type": "stream",
          "name": "stderr",
          "text": [
            "Epoch [4/5000]: 100%|██████████| 10/10 [00:00<00:00, 121.68it/s, loss=329]\n"
          ]
        },
        {
          "output_type": "stream",
          "name": "stdout",
          "text": [
            "Epoch [4/5000]: Train loss: 402.3686, Valid loss: 414.8156\n"
          ]
        },
        {
          "output_type": "stream",
          "name": "stderr",
          "text": [
            "Epoch [5/5000]: 100%|██████████| 10/10 [00:00<00:00, 126.44it/s, loss=521]\n"
          ]
        },
        {
          "output_type": "stream",
          "name": "stdout",
          "text": [
            "Epoch [5/5000]: Train loss: 413.5747, Valid loss: 409.0871\n"
          ]
        },
        {
          "output_type": "stream",
          "name": "stderr",
          "text": [
            "Epoch [6/5000]: 100%|██████████| 10/10 [00:00<00:00, 119.05it/s, loss=437]\n"
          ]
        },
        {
          "output_type": "stream",
          "name": "stdout",
          "text": [
            "Epoch [6/5000]: Train loss: 408.3904, Valid loss: 413.4779\n"
          ]
        },
        {
          "output_type": "stream",
          "name": "stderr",
          "text": [
            "Epoch [7/5000]: 100%|██████████| 10/10 [00:00<00:00, 128.08it/s, loss=441]\n"
          ]
        },
        {
          "output_type": "stream",
          "name": "stdout",
          "text": [
            "Epoch [7/5000]: Train loss: 408.3912, Valid loss: 405.8561\n"
          ]
        },
        {
          "output_type": "stream",
          "name": "stderr",
          "text": [
            "Epoch [8/5000]: 100%|██████████| 10/10 [00:00<00:00, 107.03it/s, loss=397]\n"
          ]
        },
        {
          "output_type": "stream",
          "name": "stdout",
          "text": [
            "Epoch [8/5000]: Train loss: 405.5980, Valid loss: 416.6287\n"
          ]
        },
        {
          "output_type": "stream",
          "name": "stderr",
          "text": [
            "Epoch [9/5000]: 100%|██████████| 10/10 [00:00<00:00, 96.25it/s, loss=401]\n"
          ]
        },
        {
          "output_type": "stream",
          "name": "stdout",
          "text": [
            "Epoch [9/5000]: Train loss: 405.6581, Valid loss: 408.2819\n"
          ]
        },
        {
          "output_type": "stream",
          "name": "stderr",
          "text": [
            "Epoch [10/5000]: 100%|██████████| 10/10 [00:00<00:00, 107.40it/s, loss=366]\n"
          ]
        },
        {
          "output_type": "stream",
          "name": "stdout",
          "text": [
            "Epoch [10/5000]: Train loss: 403.3655, Valid loss: 385.2626\n",
            "Saving model with loss 385.263...\n"
          ]
        },
        {
          "output_type": "stream",
          "name": "stderr",
          "text": [
            "Epoch [11/5000]: 100%|██████████| 10/10 [00:00<00:00, 105.16it/s, loss=389]\n"
          ]
        },
        {
          "output_type": "stream",
          "name": "stdout",
          "text": [
            "Epoch [11/5000]: Train loss: 404.5022, Valid loss: 401.4954\n"
          ]
        },
        {
          "output_type": "stream",
          "name": "stderr",
          "text": [
            "Epoch [12/5000]: 100%|██████████| 10/10 [00:00<00:00, 111.13it/s, loss=399]\n"
          ]
        },
        {
          "output_type": "stream",
          "name": "stdout",
          "text": [
            "Epoch [12/5000]: Train loss: 404.8689, Valid loss: 406.6959\n"
          ]
        },
        {
          "output_type": "stream",
          "name": "stderr",
          "text": [
            "Epoch [13/5000]: 100%|██████████| 10/10 [00:00<00:00, 92.09it/s, loss=405]\n"
          ]
        },
        {
          "output_type": "stream",
          "name": "stdout",
          "text": [
            "Epoch [13/5000]: Train loss: 404.9524, Valid loss: 411.9702\n"
          ]
        },
        {
          "output_type": "stream",
          "name": "stderr",
          "text": [
            "Epoch [14/5000]: 100%|██████████| 10/10 [00:00<00:00, 95.49it/s, loss=439]\n"
          ]
        },
        {
          "output_type": "stream",
          "name": "stdout",
          "text": [
            "Epoch [14/5000]: Train loss: 406.6853, Valid loss: 403.2650\n"
          ]
        },
        {
          "output_type": "stream",
          "name": "stderr",
          "text": [
            "Epoch [15/5000]: 100%|██████████| 10/10 [00:00<00:00, 116.32it/s, loss=376]\n"
          ]
        },
        {
          "output_type": "stream",
          "name": "stdout",
          "text": [
            "Epoch [15/5000]: Train loss: 402.6502, Valid loss: 413.0927\n"
          ]
        },
        {
          "output_type": "stream",
          "name": "stderr",
          "text": [
            "Epoch [16/5000]: 100%|██████████| 10/10 [00:00<00:00, 125.45it/s, loss=424]\n"
          ]
        },
        {
          "output_type": "stream",
          "name": "stdout",
          "text": [
            "Epoch [16/5000]: Train loss: 405.1763, Valid loss: 399.5765\n"
          ]
        },
        {
          "output_type": "stream",
          "name": "stderr",
          "text": [
            "Epoch [17/5000]: 100%|██████████| 10/10 [00:00<00:00, 125.26it/s, loss=428]\n"
          ]
        },
        {
          "output_type": "stream",
          "name": "stdout",
          "text": [
            "Epoch [17/5000]: Train loss: 405.0575, Valid loss: 387.3762\n"
          ]
        },
        {
          "output_type": "stream",
          "name": "stderr",
          "text": [
            "Epoch [18/5000]: 100%|██████████| 10/10 [00:00<00:00, 128.10it/s, loss=384]\n"
          ]
        },
        {
          "output_type": "stream",
          "name": "stdout",
          "text": [
            "Epoch [18/5000]: Train loss: 402.0556, Valid loss: 388.0858\n"
          ]
        },
        {
          "output_type": "stream",
          "name": "stderr",
          "text": [
            "Epoch [19/5000]: 100%|██████████| 10/10 [00:00<00:00, 115.99it/s, loss=396]\n"
          ]
        },
        {
          "output_type": "stream",
          "name": "stdout",
          "text": [
            "Epoch [19/5000]: Train loss: 402.4269, Valid loss: 412.0123\n"
          ]
        },
        {
          "output_type": "stream",
          "name": "stderr",
          "text": [
            "Epoch [20/5000]: 100%|██████████| 10/10 [00:00<00:00, 119.74it/s, loss=390]\n"
          ]
        },
        {
          "output_type": "stream",
          "name": "stdout",
          "text": [
            "Epoch [20/5000]: Train loss: 401.7440, Valid loss: 381.4529\n",
            "Saving model with loss 381.453...\n"
          ]
        },
        {
          "output_type": "stream",
          "name": "stderr",
          "text": [
            "Epoch [21/5000]: 100%|██████████| 10/10 [00:00<00:00, 118.42it/s, loss=398]\n"
          ]
        },
        {
          "output_type": "stream",
          "name": "stdout",
          "text": [
            "Epoch [21/5000]: Train loss: 401.8491, Valid loss: 371.9244\n",
            "Saving model with loss 371.924...\n"
          ]
        },
        {
          "output_type": "stream",
          "name": "stderr",
          "text": [
            "Epoch [22/5000]: 100%|██████████| 10/10 [00:00<00:00, 119.65it/s, loss=385]\n"
          ]
        },
        {
          "output_type": "stream",
          "name": "stdout",
          "text": [
            "Epoch [22/5000]: Train loss: 400.7099, Valid loss: 414.7329\n"
          ]
        },
        {
          "output_type": "stream",
          "name": "stderr",
          "text": [
            "Epoch [23/5000]: 100%|██████████| 10/10 [00:00<00:00, 114.22it/s, loss=352]\n"
          ]
        },
        {
          "output_type": "stream",
          "name": "stdout",
          "text": [
            "Epoch [23/5000]: Train loss: 398.4404, Valid loss: 404.2578\n"
          ]
        },
        {
          "output_type": "stream",
          "name": "stderr",
          "text": [
            "Epoch [24/5000]: 100%|██████████| 10/10 [00:00<00:00, 120.14it/s, loss=418]\n"
          ]
        },
        {
          "output_type": "stream",
          "name": "stdout",
          "text": [
            "Epoch [24/5000]: Train loss: 402.0440, Valid loss: 399.0267\n"
          ]
        },
        {
          "output_type": "stream",
          "name": "stderr",
          "text": [
            "Epoch [25/5000]: 100%|██████████| 10/10 [00:00<00:00, 113.72it/s, loss=411]\n"
          ]
        },
        {
          "output_type": "stream",
          "name": "stdout",
          "text": [
            "Epoch [25/5000]: Train loss: 401.2888, Valid loss: 399.8089\n"
          ]
        },
        {
          "output_type": "stream",
          "name": "stderr",
          "text": [
            "Epoch [26/5000]: 100%|██████████| 10/10 [00:00<00:00, 117.75it/s, loss=377]\n"
          ]
        },
        {
          "output_type": "stream",
          "name": "stdout",
          "text": [
            "Epoch [26/5000]: Train loss: 398.9970, Valid loss: 406.0688\n"
          ]
        },
        {
          "output_type": "stream",
          "name": "stderr",
          "text": [
            "Epoch [27/5000]: 100%|██████████| 10/10 [00:00<00:00, 121.40it/s, loss=438]\n"
          ]
        },
        {
          "output_type": "stream",
          "name": "stdout",
          "text": [
            "Epoch [27/5000]: Train loss: 402.3247, Valid loss: 398.6521\n"
          ]
        },
        {
          "output_type": "stream",
          "name": "stderr",
          "text": [
            "Epoch [28/5000]: 100%|██████████| 10/10 [00:00<00:00, 119.00it/s, loss=490]\n"
          ]
        },
        {
          "output_type": "stream",
          "name": "stdout",
          "text": [
            "Epoch [28/5000]: Train loss: 405.0772, Valid loss: 422.0879\n"
          ]
        },
        {
          "output_type": "stream",
          "name": "stderr",
          "text": [
            "Epoch [29/5000]: 100%|██████████| 10/10 [00:00<00:00, 121.40it/s, loss=355]\n"
          ]
        },
        {
          "output_type": "stream",
          "name": "stdout",
          "text": [
            "Epoch [29/5000]: Train loss: 396.7697, Valid loss: 390.7141\n"
          ]
        },
        {
          "output_type": "stream",
          "name": "stderr",
          "text": [
            "Epoch [30/5000]: 100%|██████████| 10/10 [00:00<00:00, 112.83it/s, loss=430]\n"
          ]
        },
        {
          "output_type": "stream",
          "name": "stdout",
          "text": [
            "Epoch [30/5000]: Train loss: 400.9447, Valid loss: 391.4519\n"
          ]
        },
        {
          "output_type": "stream",
          "name": "stderr",
          "text": [
            "Epoch [31/5000]: 100%|██████████| 10/10 [00:00<00:00, 116.10it/s, loss=460]\n"
          ]
        },
        {
          "output_type": "stream",
          "name": "stdout",
          "text": [
            "Epoch [31/5000]: Train loss: 402.4356, Valid loss: 396.0967\n"
          ]
        },
        {
          "output_type": "stream",
          "name": "stderr",
          "text": [
            "Epoch [32/5000]: 100%|██████████| 10/10 [00:00<00:00, 116.81it/s, loss=369]\n"
          ]
        },
        {
          "output_type": "stream",
          "name": "stdout",
          "text": [
            "Epoch [32/5000]: Train loss: 396.7654, Valid loss: 380.8411\n"
          ]
        },
        {
          "output_type": "stream",
          "name": "stderr",
          "text": [
            "Epoch [33/5000]: 100%|██████████| 10/10 [00:00<00:00, 118.41it/s, loss=361]\n"
          ]
        },
        {
          "output_type": "stream",
          "name": "stdout",
          "text": [
            "Epoch [33/5000]: Train loss: 395.9907, Valid loss: 410.5148\n"
          ]
        },
        {
          "output_type": "stream",
          "name": "stderr",
          "text": [
            "Epoch [34/5000]: 100%|██████████| 10/10 [00:00<00:00, 122.98it/s, loss=372]\n"
          ]
        },
        {
          "output_type": "stream",
          "name": "stdout",
          "text": [
            "Epoch [34/5000]: Train loss: 396.3856, Valid loss: 402.0403\n"
          ]
        },
        {
          "output_type": "stream",
          "name": "stderr",
          "text": [
            "Epoch [35/5000]: 100%|██████████| 10/10 [00:00<00:00, 120.90it/s, loss=468]\n"
          ]
        },
        {
          "output_type": "stream",
          "name": "stdout",
          "text": [
            "Epoch [35/5000]: Train loss: 401.8021, Valid loss: 387.2179\n"
          ]
        },
        {
          "output_type": "stream",
          "name": "stderr",
          "text": [
            "Epoch [36/5000]: 100%|██████████| 10/10 [00:00<00:00, 120.00it/s, loss=350]\n"
          ]
        },
        {
          "output_type": "stream",
          "name": "stdout",
          "text": [
            "Epoch [36/5000]: Train loss: 394.5139, Valid loss: 395.1497\n"
          ]
        },
        {
          "output_type": "stream",
          "name": "stderr",
          "text": [
            "Epoch [37/5000]: 100%|██████████| 10/10 [00:00<00:00, 119.77it/s, loss=351]\n"
          ]
        },
        {
          "output_type": "stream",
          "name": "stdout",
          "text": [
            "Epoch [37/5000]: Train loss: 394.2385, Valid loss: 389.7480\n"
          ]
        },
        {
          "output_type": "stream",
          "name": "stderr",
          "text": [
            "Epoch [38/5000]: 100%|██████████| 10/10 [00:00<00:00, 120.30it/s, loss=415]\n"
          ]
        },
        {
          "output_type": "stream",
          "name": "stdout",
          "text": [
            "Epoch [38/5000]: Train loss: 397.7403, Valid loss: 399.7426\n"
          ]
        },
        {
          "output_type": "stream",
          "name": "stderr",
          "text": [
            "Epoch [39/5000]: 100%|██████████| 10/10 [00:00<00:00, 120.65it/s, loss=425]\n"
          ]
        },
        {
          "output_type": "stream",
          "name": "stdout",
          "text": [
            "Epoch [39/5000]: Train loss: 398.0359, Valid loss: 400.4456\n"
          ]
        },
        {
          "output_type": "stream",
          "name": "stderr",
          "text": [
            "Epoch [40/5000]: 100%|██████████| 10/10 [00:00<00:00, 119.32it/s, loss=403]\n"
          ]
        },
        {
          "output_type": "stream",
          "name": "stdout",
          "text": [
            "Epoch [40/5000]: Train loss: 396.4515, Valid loss: 396.9299\n"
          ]
        },
        {
          "output_type": "stream",
          "name": "stderr",
          "text": [
            "Epoch [41/5000]: 100%|██████████| 10/10 [00:00<00:00, 118.34it/s, loss=323]\n"
          ]
        },
        {
          "output_type": "stream",
          "name": "stdout",
          "text": [
            "Epoch [41/5000]: Train loss: 391.3759, Valid loss: 403.7316\n"
          ]
        },
        {
          "output_type": "stream",
          "name": "stderr",
          "text": [
            "Epoch [42/5000]: 100%|██████████| 10/10 [00:00<00:00, 114.96it/s, loss=447]\n"
          ]
        },
        {
          "output_type": "stream",
          "name": "stdout",
          "text": [
            "Epoch [42/5000]: Train loss: 398.4365, Valid loss: 387.7708\n"
          ]
        },
        {
          "output_type": "stream",
          "name": "stderr",
          "text": [
            "Epoch [43/5000]: 100%|██████████| 10/10 [00:00<00:00, 103.75it/s, loss=441]\n"
          ]
        },
        {
          "output_type": "stream",
          "name": "stdout",
          "text": [
            "Epoch [43/5000]: Train loss: 397.7275, Valid loss: 397.2055\n"
          ]
        },
        {
          "output_type": "stream",
          "name": "stderr",
          "text": [
            "Epoch [44/5000]: 100%|██████████| 10/10 [00:00<00:00, 96.51it/s, loss=369]\n"
          ]
        },
        {
          "output_type": "stream",
          "name": "stdout",
          "text": [
            "Epoch [44/5000]: Train loss: 393.1080, Valid loss: 400.8195\n"
          ]
        },
        {
          "output_type": "stream",
          "name": "stderr",
          "text": [
            "Epoch [45/5000]: 100%|██████████| 10/10 [00:00<00:00, 109.18it/s, loss=350]\n"
          ]
        },
        {
          "output_type": "stream",
          "name": "stdout",
          "text": [
            "Epoch [45/5000]: Train loss: 391.6476, Valid loss: 391.9384\n"
          ]
        },
        {
          "output_type": "stream",
          "name": "stderr",
          "text": [
            "Epoch [46/5000]: 100%|██████████| 10/10 [00:00<00:00, 108.34it/s, loss=317]\n"
          ]
        },
        {
          "output_type": "stream",
          "name": "stdout",
          "text": [
            "Epoch [46/5000]: Train loss: 389.3151, Valid loss: 388.7601\n"
          ]
        },
        {
          "output_type": "stream",
          "name": "stderr",
          "text": [
            "Epoch [47/5000]: 100%|██████████| 10/10 [00:00<00:00, 108.18it/s, loss=380]\n"
          ]
        },
        {
          "output_type": "stream",
          "name": "stdout",
          "text": [
            "Epoch [47/5000]: Train loss: 392.6622, Valid loss: 388.6044\n"
          ]
        },
        {
          "output_type": "stream",
          "name": "stderr",
          "text": [
            "Epoch [48/5000]: 100%|██████████| 10/10 [00:00<00:00, 111.63it/s, loss=404]\n"
          ]
        },
        {
          "output_type": "stream",
          "name": "stdout",
          "text": [
            "Epoch [48/5000]: Train loss: 393.7228, Valid loss: 397.0656\n"
          ]
        },
        {
          "output_type": "stream",
          "name": "stderr",
          "text": [
            "Epoch [49/5000]: 100%|██████████| 10/10 [00:00<00:00, 110.97it/s, loss=446]\n"
          ]
        },
        {
          "output_type": "stream",
          "name": "stdout",
          "text": [
            "Epoch [49/5000]: Train loss: 395.8272, Valid loss: 379.7742\n"
          ]
        },
        {
          "output_type": "stream",
          "name": "stderr",
          "text": [
            "Epoch [50/5000]: 100%|██████████| 10/10 [00:00<00:00, 108.55it/s, loss=422]\n"
          ]
        },
        {
          "output_type": "stream",
          "name": "stdout",
          "text": [
            "Epoch [50/5000]: Train loss: 394.0008, Valid loss: 389.2854\n"
          ]
        },
        {
          "output_type": "stream",
          "name": "stderr",
          "text": [
            "Epoch [51/5000]: 100%|██████████| 10/10 [00:00<00:00, 112.83it/s, loss=415]\n"
          ]
        },
        {
          "output_type": "stream",
          "name": "stdout",
          "text": [
            "Epoch [51/5000]: Train loss: 393.1477, Valid loss: 396.1280\n"
          ]
        },
        {
          "output_type": "stream",
          "name": "stderr",
          "text": [
            "Epoch [52/5000]: 100%|██████████| 10/10 [00:00<00:00, 116.54it/s, loss=387]\n"
          ]
        },
        {
          "output_type": "stream",
          "name": "stdout",
          "text": [
            "Epoch [52/5000]: Train loss: 391.1132, Valid loss: 392.8736\n"
          ]
        },
        {
          "output_type": "stream",
          "name": "stderr",
          "text": [
            "Epoch [53/5000]: 100%|██████████| 10/10 [00:00<00:00, 111.34it/s, loss=379]\n"
          ]
        },
        {
          "output_type": "stream",
          "name": "stdout",
          "text": [
            "Epoch [53/5000]: Train loss: 390.1972, Valid loss: 381.5620\n"
          ]
        },
        {
          "output_type": "stream",
          "name": "stderr",
          "text": [
            "Epoch [54/5000]: 100%|██████████| 10/10 [00:00<00:00, 109.20it/s, loss=448]\n"
          ]
        },
        {
          "output_type": "stream",
          "name": "stdout",
          "text": [
            "Epoch [54/5000]: Train loss: 393.9074, Valid loss: 397.1212\n"
          ]
        },
        {
          "output_type": "stream",
          "name": "stderr",
          "text": [
            "Epoch [55/5000]: 100%|██████████| 10/10 [00:00<00:00, 113.32it/s, loss=464]\n"
          ]
        },
        {
          "output_type": "stream",
          "name": "stdout",
          "text": [
            "Epoch [55/5000]: Train loss: 394.4550, Valid loss: 387.8814\n"
          ]
        },
        {
          "output_type": "stream",
          "name": "stderr",
          "text": [
            "Epoch [56/5000]: 100%|██████████| 10/10 [00:00<00:00, 113.36it/s, loss=347]\n"
          ]
        },
        {
          "output_type": "stream",
          "name": "stdout",
          "text": [
            "Epoch [56/5000]: Train loss: 387.1016, Valid loss: 395.1561\n"
          ]
        },
        {
          "output_type": "stream",
          "name": "stderr",
          "text": [
            "Epoch [57/5000]: 100%|██████████| 10/10 [00:00<00:00, 113.34it/s, loss=379]\n"
          ]
        },
        {
          "output_type": "stream",
          "name": "stdout",
          "text": [
            "Epoch [57/5000]: Train loss: 388.5755, Valid loss: 385.2748\n"
          ]
        },
        {
          "output_type": "stream",
          "name": "stderr",
          "text": [
            "Epoch [58/5000]: 100%|██████████| 10/10 [00:00<00:00, 114.48it/s, loss=353]\n"
          ]
        },
        {
          "output_type": "stream",
          "name": "stdout",
          "text": [
            "Epoch [58/5000]: Train loss: 386.6363, Valid loss: 385.7239\n"
          ]
        },
        {
          "output_type": "stream",
          "name": "stderr",
          "text": [
            "Epoch [59/5000]: 100%|██████████| 10/10 [00:00<00:00, 115.40it/s, loss=337]\n"
          ]
        },
        {
          "output_type": "stream",
          "name": "stdout",
          "text": [
            "Epoch [59/5000]: Train loss: 385.3554, Valid loss: 388.1699\n"
          ]
        },
        {
          "output_type": "stream",
          "name": "stderr",
          "text": [
            "Epoch [60/5000]: 100%|██████████| 10/10 [00:00<00:00, 110.55it/s, loss=438]\n"
          ]
        },
        {
          "output_type": "stream",
          "name": "stdout",
          "text": [
            "Epoch [60/5000]: Train loss: 390.9685, Valid loss: 400.4599\n"
          ]
        },
        {
          "output_type": "stream",
          "name": "stderr",
          "text": [
            "Epoch [61/5000]: 100%|██████████| 10/10 [00:00<00:00, 112.22it/s, loss=314]\n"
          ]
        },
        {
          "output_type": "stream",
          "name": "stdout",
          "text": [
            "Epoch [61/5000]: Train loss: 383.2565, Valid loss: 378.6140\n"
          ]
        },
        {
          "output_type": "stream",
          "name": "stderr",
          "text": [
            "Epoch [62/5000]: 100%|██████████| 10/10 [00:00<00:00, 124.65it/s, loss=354]\n"
          ]
        },
        {
          "output_type": "stream",
          "name": "stdout",
          "text": [
            "Epoch [62/5000]: Train loss: 385.2705, Valid loss: 383.2377\n"
          ]
        },
        {
          "output_type": "stream",
          "name": "stderr",
          "text": [
            "Epoch [63/5000]: 100%|██████████| 10/10 [00:00<00:00, 102.03it/s, loss=383]\n"
          ]
        },
        {
          "output_type": "stream",
          "name": "stdout",
          "text": [
            "Epoch [63/5000]: Train loss: 386.6019, Valid loss: 382.0929\n"
          ]
        },
        {
          "output_type": "stream",
          "name": "stderr",
          "text": [
            "Epoch [64/5000]: 100%|██████████| 10/10 [00:00<00:00, 91.01it/s, loss=298]\n"
          ]
        },
        {
          "output_type": "stream",
          "name": "stdout",
          "text": [
            "Epoch [64/5000]: Train loss: 381.2423, Valid loss: 375.1549\n"
          ]
        },
        {
          "output_type": "stream",
          "name": "stderr",
          "text": [
            "Epoch [65/5000]: 100%|██████████| 10/10 [00:00<00:00, 80.43it/s, loss=323]\n"
          ]
        },
        {
          "output_type": "stream",
          "name": "stdout",
          "text": [
            "Epoch [65/5000]: Train loss: 382.3830, Valid loss: 385.1269\n"
          ]
        },
        {
          "output_type": "stream",
          "name": "stderr",
          "text": [
            "Epoch [66/5000]: 100%|██████████| 10/10 [00:00<00:00, 71.48it/s, loss=408]\n"
          ]
        },
        {
          "output_type": "stream",
          "name": "stdout",
          "text": [
            "Epoch [66/5000]: Train loss: 387.0930, Valid loss: 372.5123\n"
          ]
        },
        {
          "output_type": "stream",
          "name": "stderr",
          "text": [
            "Epoch [67/5000]: 100%|██████████| 10/10 [00:00<00:00, 116.03it/s, loss=445]\n"
          ]
        },
        {
          "output_type": "stream",
          "name": "stdout",
          "text": [
            "Epoch [67/5000]: Train loss: 388.9856, Valid loss: 371.8786\n",
            "Saving model with loss 371.879...\n"
          ]
        },
        {
          "output_type": "stream",
          "name": "stderr",
          "text": [
            "Epoch [68/5000]: 100%|██████████| 10/10 [00:00<00:00, 120.42it/s, loss=386]\n"
          ]
        },
        {
          "output_type": "stream",
          "name": "stdout",
          "text": [
            "Epoch [68/5000]: Train loss: 385.1635, Valid loss: 407.1169\n"
          ]
        },
        {
          "output_type": "stream",
          "name": "stderr",
          "text": [
            "Epoch [69/5000]: 100%|██████████| 10/10 [00:00<00:00, 117.55it/s, loss=345]\n"
          ]
        },
        {
          "output_type": "stream",
          "name": "stdout",
          "text": [
            "Epoch [69/5000]: Train loss: 382.4234, Valid loss: 387.8107\n"
          ]
        },
        {
          "output_type": "stream",
          "name": "stderr",
          "text": [
            "Epoch [70/5000]: 100%|██████████| 10/10 [00:00<00:00, 113.97it/s, loss=344]\n"
          ]
        },
        {
          "output_type": "stream",
          "name": "stdout",
          "text": [
            "Epoch [70/5000]: Train loss: 381.9998, Valid loss: 390.1607\n"
          ]
        },
        {
          "output_type": "stream",
          "name": "stderr",
          "text": [
            "Epoch [71/5000]: 100%|██████████| 10/10 [00:00<00:00, 99.59it/s, loss=416]\n"
          ]
        },
        {
          "output_type": "stream",
          "name": "stdout",
          "text": [
            "Epoch [71/5000]: Train loss: 385.9889, Valid loss: 365.0976\n",
            "Saving model with loss 365.098...\n"
          ]
        },
        {
          "output_type": "stream",
          "name": "stderr",
          "text": [
            "Epoch [72/5000]: 100%|██████████| 10/10 [00:00<00:00, 98.05it/s, loss=405]\n"
          ]
        },
        {
          "output_type": "stream",
          "name": "stdout",
          "text": [
            "Epoch [72/5000]: Train loss: 385.0194, Valid loss: 375.5064\n"
          ]
        },
        {
          "output_type": "stream",
          "name": "stderr",
          "text": [
            "Epoch [73/5000]: 100%|██████████| 10/10 [00:00<00:00, 113.94it/s, loss=408]\n"
          ]
        },
        {
          "output_type": "stream",
          "name": "stdout",
          "text": [
            "Epoch [73/5000]: Train loss: 384.9299, Valid loss: 392.8274\n"
          ]
        },
        {
          "output_type": "stream",
          "name": "stderr",
          "text": [
            "Epoch [74/5000]: 100%|██████████| 10/10 [00:00<00:00, 90.35it/s, loss=367]\n"
          ]
        },
        {
          "output_type": "stream",
          "name": "stdout",
          "text": [
            "Epoch [74/5000]: Train loss: 382.1834, Valid loss: 386.0026\n"
          ]
        },
        {
          "output_type": "stream",
          "name": "stderr",
          "text": [
            "Epoch [75/5000]: 100%|██████████| 10/10 [00:00<00:00, 105.31it/s, loss=373]\n"
          ]
        },
        {
          "output_type": "stream",
          "name": "stdout",
          "text": [
            "Epoch [75/5000]: Train loss: 382.2345, Valid loss: 366.6430\n"
          ]
        },
        {
          "output_type": "stream",
          "name": "stderr",
          "text": [
            "Epoch [76/5000]: 100%|██████████| 10/10 [00:00<00:00, 97.42it/s, loss=299]\n"
          ]
        },
        {
          "output_type": "stream",
          "name": "stdout",
          "text": [
            "Epoch [76/5000]: Train loss: 377.5954, Valid loss: 392.8669\n"
          ]
        },
        {
          "output_type": "stream",
          "name": "stderr",
          "text": [
            "Epoch [77/5000]: 100%|██████████| 10/10 [00:00<00:00, 95.54it/s, loss=384]\n"
          ]
        },
        {
          "output_type": "stream",
          "name": "stdout",
          "text": [
            "Epoch [77/5000]: Train loss: 382.3063, Valid loss: 365.5090\n"
          ]
        },
        {
          "output_type": "stream",
          "name": "stderr",
          "text": [
            "Epoch [78/5000]: 100%|██████████| 10/10 [00:00<00:00, 92.24it/s, loss=337]\n"
          ]
        },
        {
          "output_type": "stream",
          "name": "stdout",
          "text": [
            "Epoch [78/5000]: Train loss: 379.2579, Valid loss: 376.5028\n"
          ]
        },
        {
          "output_type": "stream",
          "name": "stderr",
          "text": [
            "Epoch [79/5000]: 100%|██████████| 10/10 [00:00<00:00, 105.10it/s, loss=440]\n"
          ]
        },
        {
          "output_type": "stream",
          "name": "stdout",
          "text": [
            "Epoch [79/5000]: Train loss: 385.0985, Valid loss: 381.8665\n"
          ]
        },
        {
          "output_type": "stream",
          "name": "stderr",
          "text": [
            "Epoch [80/5000]: 100%|██████████| 10/10 [00:00<00:00, 79.75it/s, loss=370]\n"
          ]
        },
        {
          "output_type": "stream",
          "name": "stdout",
          "text": [
            "Epoch [80/5000]: Train loss: 380.6509, Valid loss: 384.1638\n"
          ]
        },
        {
          "output_type": "stream",
          "name": "stderr",
          "text": [
            "Epoch [81/5000]: 100%|██████████| 10/10 [00:00<00:00, 93.02it/s, loss=417]\n"
          ]
        },
        {
          "output_type": "stream",
          "name": "stdout",
          "text": [
            "Epoch [81/5000]: Train loss: 383.1226, Valid loss: 377.4555\n"
          ]
        },
        {
          "output_type": "stream",
          "name": "stderr",
          "text": [
            "Epoch [82/5000]: 100%|██████████| 10/10 [00:00<00:00, 102.86it/s, loss=380]\n"
          ]
        },
        {
          "output_type": "stream",
          "name": "stdout",
          "text": [
            "Epoch [82/5000]: Train loss: 380.6614, Valid loss: 392.0620\n"
          ]
        },
        {
          "output_type": "stream",
          "name": "stderr",
          "text": [
            "Epoch [83/5000]: 100%|██████████| 10/10 [00:00<00:00, 109.79it/s, loss=342]\n"
          ]
        },
        {
          "output_type": "stream",
          "name": "stdout",
          "text": [
            "Epoch [83/5000]: Train loss: 378.1176, Valid loss: 376.7641\n"
          ]
        },
        {
          "output_type": "stream",
          "name": "stderr",
          "text": [
            "Epoch [84/5000]: 100%|██████████| 10/10 [00:00<00:00, 120.18it/s, loss=388]\n"
          ]
        },
        {
          "output_type": "stream",
          "name": "stdout",
          "text": [
            "Epoch [84/5000]: Train loss: 380.5641, Valid loss: 392.6979\n"
          ]
        },
        {
          "output_type": "stream",
          "name": "stderr",
          "text": [
            "Epoch [85/5000]: 100%|██████████| 10/10 [00:00<00:00, 76.09it/s, loss=453]\n"
          ]
        },
        {
          "output_type": "stream",
          "name": "stdout",
          "text": [
            "Epoch [85/5000]: Train loss: 384.1437, Valid loss: 372.3372\n"
          ]
        },
        {
          "output_type": "stream",
          "name": "stderr",
          "text": [
            "Epoch [86/5000]: 100%|██████████| 10/10 [00:00<00:00, 82.85it/s, loss=342]\n"
          ]
        },
        {
          "output_type": "stream",
          "name": "stdout",
          "text": [
            "Epoch [86/5000]: Train loss: 377.2483, Valid loss: 377.6517\n"
          ]
        },
        {
          "output_type": "stream",
          "name": "stderr",
          "text": [
            "Epoch [87/5000]: 100%|██████████| 10/10 [00:00<00:00, 88.47it/s, loss=392]\n"
          ]
        },
        {
          "output_type": "stream",
          "name": "stdout",
          "text": [
            "Epoch [87/5000]: Train loss: 379.9374, Valid loss: 377.3181\n"
          ]
        },
        {
          "output_type": "stream",
          "name": "stderr",
          "text": [
            "Epoch [88/5000]: 100%|██████████| 10/10 [00:00<00:00, 18.42it/s, loss=361]\n"
          ]
        },
        {
          "output_type": "stream",
          "name": "stdout",
          "text": [
            "Epoch [88/5000]: Train loss: 377.8087, Valid loss: 376.7982\n"
          ]
        },
        {
          "output_type": "stream",
          "name": "stderr",
          "text": [
            "Epoch [89/5000]: 100%|██████████| 10/10 [00:00<00:00, 85.82it/s, loss=318]\n"
          ]
        },
        {
          "output_type": "stream",
          "name": "stdout",
          "text": [
            "Epoch [89/5000]: Train loss: 374.9998, Valid loss: 382.5822\n"
          ]
        },
        {
          "output_type": "stream",
          "name": "stderr",
          "text": [
            "Epoch [90/5000]: 100%|██████████| 10/10 [00:00<00:00, 81.10it/s, loss=404]\n"
          ]
        },
        {
          "output_type": "stream",
          "name": "stdout",
          "text": [
            "Epoch [90/5000]: Train loss: 379.8195, Valid loss: 362.9203\n",
            "Saving model with loss 362.920...\n"
          ]
        },
        {
          "output_type": "stream",
          "name": "stderr",
          "text": [
            "Epoch [91/5000]: 100%|██████████| 10/10 [00:00<00:00, 90.07it/s, loss=367]\n"
          ]
        },
        {
          "output_type": "stream",
          "name": "stdout",
          "text": [
            "Epoch [91/5000]: Train loss: 377.3420, Valid loss: 359.0372\n",
            "Saving model with loss 359.037...\n"
          ]
        },
        {
          "output_type": "stream",
          "name": "stderr",
          "text": [
            "Epoch [92/5000]: 100%|██████████| 10/10 [00:00<00:00, 82.38it/s, loss=337]\n"
          ]
        },
        {
          "output_type": "stream",
          "name": "stdout",
          "text": [
            "Epoch [92/5000]: Train loss: 375.2848, Valid loss: 370.9800\n"
          ]
        },
        {
          "output_type": "stream",
          "name": "stderr",
          "text": [
            "Epoch [93/5000]: 100%|██████████| 10/10 [00:00<00:00, 87.25it/s, loss=382]\n"
          ]
        },
        {
          "output_type": "stream",
          "name": "stdout",
          "text": [
            "Epoch [93/5000]: Train loss: 377.6689, Valid loss: 377.1584\n"
          ]
        },
        {
          "output_type": "stream",
          "name": "stderr",
          "text": [
            "Epoch [94/5000]: 100%|██████████| 10/10 [00:00<00:00, 107.65it/s, loss=327]\n"
          ]
        },
        {
          "output_type": "stream",
          "name": "stdout",
          "text": [
            "Epoch [94/5000]: Train loss: 374.1387, Valid loss: 367.9731\n"
          ]
        },
        {
          "output_type": "stream",
          "name": "stderr",
          "text": [
            "Epoch [95/5000]: 100%|██████████| 10/10 [00:00<00:00, 115.66it/s, loss=359]\n"
          ]
        },
        {
          "output_type": "stream",
          "name": "stdout",
          "text": [
            "Epoch [95/5000]: Train loss: 375.7387, Valid loss: 381.2088\n"
          ]
        },
        {
          "output_type": "stream",
          "name": "stderr",
          "text": [
            "Epoch [96/5000]: 100%|██████████| 10/10 [00:00<00:00, 102.96it/s, loss=496]\n"
          ]
        },
        {
          "output_type": "stream",
          "name": "stdout",
          "text": [
            "Epoch [96/5000]: Train loss: 383.5762, Valid loss: 381.0255\n"
          ]
        },
        {
          "output_type": "stream",
          "name": "stderr",
          "text": [
            "Epoch [97/5000]: 100%|██████████| 10/10 [00:00<00:00, 93.46it/s, loss=412]\n"
          ]
        },
        {
          "output_type": "stream",
          "name": "stdout",
          "text": [
            "Epoch [97/5000]: Train loss: 378.2962, Valid loss: 368.8234\n"
          ]
        },
        {
          "output_type": "stream",
          "name": "stderr",
          "text": [
            "Epoch [98/5000]: 100%|██████████| 10/10 [00:00<00:00, 105.61it/s, loss=315]\n"
          ]
        },
        {
          "output_type": "stream",
          "name": "stdout",
          "text": [
            "Epoch [98/5000]: Train loss: 372.2785, Valid loss: 381.9063\n"
          ]
        },
        {
          "output_type": "stream",
          "name": "stderr",
          "text": [
            "Epoch [99/5000]: 100%|██████████| 10/10 [00:00<00:00, 103.25it/s, loss=367]\n"
          ]
        },
        {
          "output_type": "stream",
          "name": "stdout",
          "text": [
            "Epoch [99/5000]: Train loss: 375.0633, Valid loss: 365.8684\n"
          ]
        },
        {
          "output_type": "stream",
          "name": "stderr",
          "text": [
            "Epoch [100/5000]: 100%|██████████| 10/10 [00:00<00:00, 87.78it/s, loss=361]\n"
          ]
        },
        {
          "output_type": "stream",
          "name": "stdout",
          "text": [
            "Epoch [100/5000]: Train loss: 374.4147, Valid loss: 363.6740\n"
          ]
        },
        {
          "output_type": "stream",
          "name": "stderr",
          "text": [
            "Epoch [101/5000]: 100%|██████████| 10/10 [00:00<00:00, 45.93it/s, loss=309]\n"
          ]
        },
        {
          "output_type": "stream",
          "name": "stdout",
          "text": [
            "Epoch [101/5000]: Train loss: 371.0320, Valid loss: 371.0572\n"
          ]
        },
        {
          "output_type": "stream",
          "name": "stderr",
          "text": [
            "Epoch [102/5000]: 100%|██████████| 10/10 [00:00<00:00, 41.31it/s, loss=350]\n"
          ]
        },
        {
          "output_type": "stream",
          "name": "stdout",
          "text": [
            "Epoch [102/5000]: Train loss: 373.1875, Valid loss: 355.4816\n",
            "Saving model with loss 355.482...\n"
          ]
        },
        {
          "output_type": "stream",
          "name": "stderr",
          "text": [
            "Epoch [103/5000]: 100%|██████████| 10/10 [00:00<00:00, 63.88it/s, loss=360]\n"
          ]
        },
        {
          "output_type": "stream",
          "name": "stdout",
          "text": [
            "Epoch [103/5000]: Train loss: 373.4709, Valid loss: 377.3673\n"
          ]
        },
        {
          "output_type": "stream",
          "name": "stderr",
          "text": [
            "Epoch [104/5000]: 100%|██████████| 10/10 [00:00<00:00, 60.35it/s, loss=353]\n"
          ]
        },
        {
          "output_type": "stream",
          "name": "stdout",
          "text": [
            "Epoch [104/5000]: Train loss: 372.7742, Valid loss: 389.4708\n"
          ]
        },
        {
          "output_type": "stream",
          "name": "stderr",
          "text": [
            "Epoch [105/5000]: 100%|██████████| 10/10 [00:00<00:00, 102.05it/s, loss=436]\n"
          ]
        },
        {
          "output_type": "stream",
          "name": "stdout",
          "text": [
            "Epoch [105/5000]: Train loss: 377.4185, Valid loss: 369.8339\n"
          ]
        },
        {
          "output_type": "stream",
          "name": "stderr",
          "text": [
            "Epoch [106/5000]: 100%|██████████| 10/10 [00:00<00:00, 66.72it/s, loss=360]\n"
          ]
        },
        {
          "output_type": "stream",
          "name": "stdout",
          "text": [
            "Epoch [106/5000]: Train loss: 372.5691, Valid loss: 378.5403\n"
          ]
        },
        {
          "output_type": "stream",
          "name": "stderr",
          "text": [
            "Epoch [107/5000]: 100%|██████████| 10/10 [00:00<00:00, 48.62it/s, loss=382]\n"
          ]
        },
        {
          "output_type": "stream",
          "name": "stdout",
          "text": [
            "Epoch [107/5000]: Train loss: 373.5660, Valid loss: 364.6932\n"
          ]
        },
        {
          "output_type": "stream",
          "name": "stderr",
          "text": [
            "Epoch [108/5000]: 100%|██████████| 10/10 [00:00<00:00, 65.38it/s, loss=371]\n"
          ]
        },
        {
          "output_type": "stream",
          "name": "stdout",
          "text": [
            "Epoch [108/5000]: Train loss: 372.6096, Valid loss: 375.9300\n"
          ]
        },
        {
          "output_type": "stream",
          "name": "stderr",
          "text": [
            "Epoch [109/5000]: 100%|██████████| 10/10 [00:00<00:00, 54.17it/s, loss=421]\n"
          ]
        },
        {
          "output_type": "stream",
          "name": "stdout",
          "text": [
            "Epoch [109/5000]: Train loss: 375.2970, Valid loss: 360.4823\n"
          ]
        },
        {
          "output_type": "stream",
          "name": "stderr",
          "text": [
            "Epoch [110/5000]: 100%|██████████| 10/10 [00:00<00:00, 69.63it/s, loss=352]\n"
          ]
        },
        {
          "output_type": "stream",
          "name": "stdout",
          "text": [
            "Epoch [110/5000]: Train loss: 370.8725, Valid loss: 377.5269\n"
          ]
        },
        {
          "output_type": "stream",
          "name": "stderr",
          "text": [
            "Epoch [111/5000]: 100%|██████████| 10/10 [00:00<00:00, 67.35it/s, loss=424]\n"
          ]
        },
        {
          "output_type": "stream",
          "name": "stdout",
          "text": [
            "Epoch [111/5000]: Train loss: 374.8210, Valid loss: 362.9593\n"
          ]
        },
        {
          "output_type": "stream",
          "name": "stderr",
          "text": [
            "Epoch [112/5000]: 100%|██████████| 10/10 [00:00<00:00, 65.63it/s, loss=422]\n"
          ]
        },
        {
          "output_type": "stream",
          "name": "stdout",
          "text": [
            "Epoch [112/5000]: Train loss: 374.3627, Valid loss: 376.4427\n"
          ]
        },
        {
          "output_type": "stream",
          "name": "stderr",
          "text": [
            "Epoch [113/5000]: 100%|██████████| 10/10 [00:00<00:00, 60.76it/s, loss=406]\n"
          ]
        },
        {
          "output_type": "stream",
          "name": "stdout",
          "text": [
            "Epoch [113/5000]: Train loss: 373.0896, Valid loss: 365.8262\n"
          ]
        },
        {
          "output_type": "stream",
          "name": "stderr",
          "text": [
            "Epoch [114/5000]: 100%|██████████| 10/10 [00:00<00:00, 70.66it/s, loss=348]\n"
          ]
        },
        {
          "output_type": "stream",
          "name": "stdout",
          "text": [
            "Epoch [114/5000]: Train loss: 369.3462, Valid loss: 377.0726\n"
          ]
        },
        {
          "output_type": "stream",
          "name": "stderr",
          "text": [
            "Epoch [115/5000]: 100%|██████████| 10/10 [00:00<00:00, 62.51it/s, loss=337]\n"
          ]
        },
        {
          "output_type": "stream",
          "name": "stdout",
          "text": [
            "Epoch [115/5000]: Train loss: 368.3683, Valid loss: 358.8216\n"
          ]
        },
        {
          "output_type": "stream",
          "name": "stderr",
          "text": [
            "Epoch [116/5000]: 100%|██████████| 10/10 [00:00<00:00, 58.92it/s, loss=423]\n"
          ]
        },
        {
          "output_type": "stream",
          "name": "stdout",
          "text": [
            "Epoch [116/5000]: Train loss: 373.1342, Valid loss: 360.5472\n"
          ]
        },
        {
          "output_type": "stream",
          "name": "stderr",
          "text": [
            "Epoch [117/5000]: 100%|██████████| 10/10 [00:00<00:00, 72.40it/s, loss=321]\n"
          ]
        },
        {
          "output_type": "stream",
          "name": "stdout",
          "text": [
            "Epoch [117/5000]: Train loss: 366.7642, Valid loss: 356.9211\n"
          ]
        },
        {
          "output_type": "stream",
          "name": "stderr",
          "text": [
            "Epoch [118/5000]: 100%|██████████| 10/10 [00:00<00:00, 69.31it/s, loss=333]\n"
          ]
        },
        {
          "output_type": "stream",
          "name": "stdout",
          "text": [
            "Epoch [118/5000]: Train loss: 367.1197, Valid loss: 368.1206\n"
          ]
        },
        {
          "output_type": "stream",
          "name": "stderr",
          "text": [
            "Epoch [119/5000]: 100%|██████████| 10/10 [00:00<00:00, 49.55it/s, loss=409]\n"
          ]
        },
        {
          "output_type": "stream",
          "name": "stdout",
          "text": [
            "Epoch [119/5000]: Train loss: 371.3205, Valid loss: 372.1555\n"
          ]
        },
        {
          "output_type": "stream",
          "name": "stderr",
          "text": [
            "Epoch [120/5000]: 100%|██████████| 10/10 [00:00<00:00, 50.03it/s, loss=391]\n"
          ]
        },
        {
          "output_type": "stream",
          "name": "stdout",
          "text": [
            "Epoch [120/5000]: Train loss: 369.9078, Valid loss: 361.0135\n"
          ]
        },
        {
          "output_type": "stream",
          "name": "stderr",
          "text": [
            "Epoch [121/5000]: 100%|██████████| 10/10 [00:00<00:00, 67.00it/s, loss=303]\n"
          ]
        },
        {
          "output_type": "stream",
          "name": "stdout",
          "text": [
            "Epoch [121/5000]: Train loss: 364.3703, Valid loss: 348.6697\n",
            "Saving model with loss 348.670...\n"
          ]
        },
        {
          "output_type": "stream",
          "name": "stderr",
          "text": [
            "Epoch [122/5000]: 100%|██████████| 10/10 [00:00<00:00, 67.67it/s, loss=357]\n"
          ]
        },
        {
          "output_type": "stream",
          "name": "stdout",
          "text": [
            "Epoch [122/5000]: Train loss: 367.2064, Valid loss: 361.9197\n"
          ]
        },
        {
          "output_type": "stream",
          "name": "stderr",
          "text": [
            "Epoch [123/5000]: 100%|██████████| 10/10 [00:00<00:00, 45.24it/s, loss=321]\n"
          ]
        },
        {
          "output_type": "stream",
          "name": "stdout",
          "text": [
            "Epoch [123/5000]: Train loss: 364.7280, Valid loss: 384.1041\n"
          ]
        },
        {
          "output_type": "stream",
          "name": "stderr",
          "text": [
            "Epoch [124/5000]: 100%|██████████| 10/10 [00:00<00:00, 61.36it/s, loss=370]\n"
          ]
        },
        {
          "output_type": "stream",
          "name": "stdout",
          "text": [
            "Epoch [124/5000]: Train loss: 367.3135, Valid loss: 358.3630\n"
          ]
        },
        {
          "output_type": "stream",
          "name": "stderr",
          "text": [
            "Epoch [125/5000]: 100%|██████████| 10/10 [00:00<00:00, 49.65it/s, loss=396]\n"
          ]
        },
        {
          "output_type": "stream",
          "name": "stdout",
          "text": [
            "Epoch [125/5000]: Train loss: 368.4694, Valid loss: 373.5219\n"
          ]
        },
        {
          "output_type": "stream",
          "name": "stderr",
          "text": [
            "Epoch [126/5000]: 100%|██████████| 10/10 [00:00<00:00, 87.84it/s, loss=335]\n"
          ]
        },
        {
          "output_type": "stream",
          "name": "stdout",
          "text": [
            "Epoch [126/5000]: Train loss: 364.5065, Valid loss: 351.9798\n"
          ]
        },
        {
          "output_type": "stream",
          "name": "stderr",
          "text": [
            "Epoch [127/5000]: 100%|██████████| 10/10 [00:00<00:00, 74.25it/s, loss=375]\n"
          ]
        },
        {
          "output_type": "stream",
          "name": "stdout",
          "text": [
            "Epoch [127/5000]: Train loss: 366.5495, Valid loss: 370.2793\n"
          ]
        },
        {
          "output_type": "stream",
          "name": "stderr",
          "text": [
            "Epoch [128/5000]: 100%|██████████| 10/10 [00:00<00:00, 43.24it/s, loss=392]\n"
          ]
        },
        {
          "output_type": "stream",
          "name": "stdout",
          "text": [
            "Epoch [128/5000]: Train loss: 367.1927, Valid loss: 354.8160\n"
          ]
        },
        {
          "output_type": "stream",
          "name": "stderr",
          "text": [
            "Epoch [129/5000]: 100%|██████████| 10/10 [00:00<00:00, 66.93it/s, loss=465]\n"
          ]
        },
        {
          "output_type": "stream",
          "name": "stdout",
          "text": [
            "Epoch [129/5000]: Train loss: 371.2040, Valid loss: 373.0435\n"
          ]
        },
        {
          "output_type": "stream",
          "name": "stderr",
          "text": [
            "Epoch [130/5000]: 100%|██████████| 10/10 [00:00<00:00, 45.62it/s, loss=292]\n"
          ]
        },
        {
          "output_type": "stream",
          "name": "stdout",
          "text": [
            "Epoch [130/5000]: Train loss: 360.5642, Valid loss: 369.7741\n"
          ]
        },
        {
          "output_type": "stream",
          "name": "stderr",
          "text": [
            "Epoch [131/5000]: 100%|██████████| 10/10 [00:00<00:00, 60.67it/s, loss=291]\n"
          ]
        },
        {
          "output_type": "stream",
          "name": "stdout",
          "text": [
            "Epoch [131/5000]: Train loss: 360.1359, Valid loss: 372.9521\n"
          ]
        },
        {
          "output_type": "stream",
          "name": "stderr",
          "text": [
            "Epoch [132/5000]: 100%|██████████| 10/10 [00:00<00:00, 66.72it/s, loss=435]\n"
          ]
        },
        {
          "output_type": "stream",
          "name": "stdout",
          "text": [
            "Epoch [132/5000]: Train loss: 368.3266, Valid loss: 356.3111\n"
          ]
        },
        {
          "output_type": "stream",
          "name": "stderr",
          "text": [
            "Epoch [133/5000]: 100%|██████████| 10/10 [00:00<00:00, 54.21it/s, loss=394]\n"
          ]
        },
        {
          "output_type": "stream",
          "name": "stdout",
          "text": [
            "Epoch [133/5000]: Train loss: 365.5081, Valid loss: 375.3962\n"
          ]
        },
        {
          "output_type": "stream",
          "name": "stderr",
          "text": [
            "Epoch [134/5000]: 100%|██████████| 10/10 [00:00<00:00, 90.82it/s, loss=409]\n"
          ]
        },
        {
          "output_type": "stream",
          "name": "stdout",
          "text": [
            "Epoch [134/5000]: Train loss: 366.0719, Valid loss: 358.6155\n"
          ]
        },
        {
          "output_type": "stream",
          "name": "stderr",
          "text": [
            "Epoch [135/5000]: 100%|██████████| 10/10 [00:00<00:00, 85.52it/s, loss=285]\n"
          ]
        },
        {
          "output_type": "stream",
          "name": "stdout",
          "text": [
            "Epoch [135/5000]: Train loss: 358.3075, Valid loss: 353.1239\n"
          ]
        },
        {
          "output_type": "stream",
          "name": "stderr",
          "text": [
            "Epoch [136/5000]: 100%|██████████| 10/10 [00:00<00:00, 76.16it/s, loss=376]\n"
          ]
        },
        {
          "output_type": "stream",
          "name": "stdout",
          "text": [
            "Epoch [136/5000]: Train loss: 363.3800, Valid loss: 349.7192\n"
          ]
        },
        {
          "output_type": "stream",
          "name": "stderr",
          "text": [
            "Epoch [137/5000]: 100%|██████████| 10/10 [00:00<00:00, 66.22it/s, loss=371]\n"
          ]
        },
        {
          "output_type": "stream",
          "name": "stdout",
          "text": [
            "Epoch [137/5000]: Train loss: 362.7258, Valid loss: 364.5666\n"
          ]
        },
        {
          "output_type": "stream",
          "name": "stderr",
          "text": [
            "Epoch [138/5000]: 100%|██████████| 10/10 [00:00<00:00, 60.69it/s, loss=360]"
          ]
        },
        {
          "output_type": "stream",
          "name": "stdout",
          "text": [
            "Epoch [138/5000]: Train loss: 361.6803, Valid loss: 359.7398"
          ]
        },
        {
          "output_type": "stream",
          "name": "stderr",
          "text": [
            "\n"
          ]
        },
        {
          "output_type": "stream",
          "name": "stdout",
          "text": [
            "\n"
          ]
        },
        {
          "output_type": "stream",
          "name": "stderr",
          "text": [
            "Epoch [139/5000]: 100%|██████████| 10/10 [00:00<00:00, 52.76it/s, loss=300]\n"
          ]
        },
        {
          "output_type": "stream",
          "name": "stdout",
          "text": [
            "Epoch [139/5000]: Train loss: 357.7665, Valid loss: 349.5083\n"
          ]
        },
        {
          "output_type": "stream",
          "name": "stderr",
          "text": [
            "Epoch [140/5000]: 100%|██████████| 10/10 [00:00<00:00, 46.16it/s, loss=330]\n"
          ]
        },
        {
          "output_type": "stream",
          "name": "stdout",
          "text": [
            "Epoch [140/5000]: Train loss: 359.1309, Valid loss: 373.4279\n"
          ]
        },
        {
          "output_type": "stream",
          "name": "stderr",
          "text": [
            "Epoch [141/5000]: 100%|██████████| 10/10 [00:00<00:00, 51.57it/s, loss=349]\n"
          ]
        },
        {
          "output_type": "stream",
          "name": "stdout",
          "text": [
            "Epoch [141/5000]: Train loss: 359.9247, Valid loss: 359.8594\n"
          ]
        },
        {
          "output_type": "stream",
          "name": "stderr",
          "text": [
            "Epoch [142/5000]: 100%|██████████| 10/10 [00:00<00:00, 54.82it/s, loss=291]\n"
          ]
        },
        {
          "output_type": "stream",
          "name": "stdout",
          "text": [
            "Epoch [142/5000]: Train loss: 356.0837, Valid loss: 353.2726\n"
          ]
        },
        {
          "output_type": "stream",
          "name": "stderr",
          "text": [
            "Epoch [143/5000]: 100%|██████████| 10/10 [00:00<00:00, 56.55it/s, loss=333]\n"
          ]
        },
        {
          "output_type": "stream",
          "name": "stdout",
          "text": [
            "Epoch [143/5000]: Train loss: 358.2181, Valid loss: 363.0962\n"
          ]
        },
        {
          "output_type": "stream",
          "name": "stderr",
          "text": [
            "Epoch [144/5000]: 100%|██████████| 10/10 [00:00<00:00, 59.80it/s, loss=365]\n"
          ]
        },
        {
          "output_type": "stream",
          "name": "stdout",
          "text": [
            "Epoch [144/5000]: Train loss: 359.7630, Valid loss: 358.8700\n"
          ]
        },
        {
          "output_type": "stream",
          "name": "stderr",
          "text": [
            "Epoch [145/5000]: 100%|██████████| 10/10 [00:00<00:00, 65.20it/s, loss=330]\n"
          ]
        },
        {
          "output_type": "stream",
          "name": "stdout",
          "text": [
            "Epoch [145/5000]: Train loss: 357.2913, Valid loss: 354.8162\n"
          ]
        },
        {
          "output_type": "stream",
          "name": "stderr",
          "text": [
            "Epoch [146/5000]: 100%|██████████| 10/10 [00:00<00:00, 53.41it/s, loss=358]\n"
          ]
        },
        {
          "output_type": "stream",
          "name": "stdout",
          "text": [
            "Epoch [146/5000]: Train loss: 358.5452, Valid loss: 358.5880\n"
          ]
        },
        {
          "output_type": "stream",
          "name": "stderr",
          "text": [
            "Epoch [147/5000]: 100%|██████████| 10/10 [00:00<00:00, 46.35it/s, loss=377]\n"
          ]
        },
        {
          "output_type": "stream",
          "name": "stdout",
          "text": [
            "Epoch [147/5000]: Train loss: 359.3275, Valid loss: 353.6403\n"
          ]
        },
        {
          "output_type": "stream",
          "name": "stderr",
          "text": [
            "Epoch [148/5000]: 100%|██████████| 10/10 [00:00<00:00, 47.11it/s, loss=347]\n"
          ]
        },
        {
          "output_type": "stream",
          "name": "stdout",
          "text": [
            "Epoch [148/5000]: Train loss: 357.1682, Valid loss: 334.2725\n",
            "Saving model with loss 334.273...\n"
          ]
        },
        {
          "output_type": "stream",
          "name": "stderr",
          "text": [
            "Epoch [149/5000]: 100%|██████████| 10/10 [00:00<00:00, 62.60it/s, loss=334]\n"
          ]
        },
        {
          "output_type": "stream",
          "name": "stdout",
          "text": [
            "Epoch [149/5000]: Train loss: 355.9741, Valid loss: 350.0014\n"
          ]
        },
        {
          "output_type": "stream",
          "name": "stderr",
          "text": [
            "Epoch [150/5000]: 100%|██████████| 10/10 [00:00<00:00, 50.51it/s, loss=322]\n"
          ]
        },
        {
          "output_type": "stream",
          "name": "stdout",
          "text": [
            "Epoch [150/5000]: Train loss: 354.8607, Valid loss: 355.7362\n"
          ]
        },
        {
          "output_type": "stream",
          "name": "stderr",
          "text": [
            "Epoch [151/5000]: 100%|██████████| 10/10 [00:00<00:00, 68.14it/s, loss=276]\n"
          ]
        },
        {
          "output_type": "stream",
          "name": "stdout",
          "text": [
            "Epoch [151/5000]: Train loss: 351.7494, Valid loss: 340.6015\n"
          ]
        },
        {
          "output_type": "stream",
          "name": "stderr",
          "text": [
            "Epoch [152/5000]: 100%|██████████| 10/10 [00:00<00:00, 43.98it/s, loss=352]\n"
          ]
        },
        {
          "output_type": "stream",
          "name": "stdout",
          "text": [
            "Epoch [152/5000]: Train loss: 355.8848, Valid loss: 349.9107\n"
          ]
        },
        {
          "output_type": "stream",
          "name": "stderr",
          "text": [
            "Epoch [153/5000]: 100%|██████████| 10/10 [00:00<00:00, 44.52it/s, loss=378]\n"
          ]
        },
        {
          "output_type": "stream",
          "name": "stdout",
          "text": [
            "Epoch [153/5000]: Train loss: 357.0440, Valid loss: 355.3212\n"
          ]
        },
        {
          "output_type": "stream",
          "name": "stderr",
          "text": [
            "Epoch [154/5000]: 100%|██████████| 10/10 [00:00<00:00, 54.57it/s, loss=420]\n"
          ]
        },
        {
          "output_type": "stream",
          "name": "stdout",
          "text": [
            "Epoch [154/5000]: Train loss: 359.1292, Valid loss: 347.4749\n"
          ]
        },
        {
          "output_type": "stream",
          "name": "stderr",
          "text": [
            "Epoch [155/5000]: 100%|██████████| 10/10 [00:00<00:00, 46.99it/s, loss=360]\n"
          ]
        },
        {
          "output_type": "stream",
          "name": "stdout",
          "text": [
            "Epoch [155/5000]: Train loss: 355.1875, Valid loss: 341.8172\n"
          ]
        },
        {
          "output_type": "stream",
          "name": "stderr",
          "text": [
            "Epoch [156/5000]: 100%|██████████| 10/10 [00:00<00:00, 50.69it/s, loss=454]\n"
          ]
        },
        {
          "output_type": "stream",
          "name": "stdout",
          "text": [
            "Epoch [156/5000]: Train loss: 360.3607, Valid loss: 358.5440\n"
          ]
        },
        {
          "output_type": "stream",
          "name": "stderr",
          "text": [
            "Epoch [157/5000]: 100%|██████████| 10/10 [00:00<00:00, 50.63it/s, loss=352]\n"
          ]
        },
        {
          "output_type": "stream",
          "name": "stdout",
          "text": [
            "Epoch [157/5000]: Train loss: 353.8576, Valid loss: 373.8725\n"
          ]
        },
        {
          "output_type": "stream",
          "name": "stderr",
          "text": [
            "Epoch [158/5000]: 100%|██████████| 10/10 [00:00<00:00, 57.94it/s, loss=377]\n"
          ]
        },
        {
          "output_type": "stream",
          "name": "stdout",
          "text": [
            "Epoch [158/5000]: Train loss: 354.9855, Valid loss: 338.2670\n"
          ]
        },
        {
          "output_type": "stream",
          "name": "stderr",
          "text": [
            "Epoch [159/5000]: 100%|██████████| 10/10 [00:00<00:00, 54.71it/s, loss=312]\n"
          ]
        },
        {
          "output_type": "stream",
          "name": "stdout",
          "text": [
            "Epoch [159/5000]: Train loss: 350.7093, Valid loss: 339.8308\n"
          ]
        },
        {
          "output_type": "stream",
          "name": "stderr",
          "text": [
            "Epoch [160/5000]: 100%|██████████| 10/10 [00:00<00:00, 51.44it/s, loss=276]\n"
          ]
        },
        {
          "output_type": "stream",
          "name": "stdout",
          "text": [
            "Epoch [160/5000]: Train loss: 348.1259, Valid loss: 339.6297\n"
          ]
        },
        {
          "output_type": "stream",
          "name": "stderr",
          "text": [
            "Epoch [161/5000]: 100%|██████████| 10/10 [00:00<00:00, 52.63it/s, loss=452]\n"
          ]
        },
        {
          "output_type": "stream",
          "name": "stdout",
          "text": [
            "Epoch [161/5000]: Train loss: 358.1731, Valid loss: 352.5961\n"
          ]
        },
        {
          "output_type": "stream",
          "name": "stderr",
          "text": [
            "Epoch [162/5000]: 100%|██████████| 10/10 [00:00<00:00, 42.13it/s, loss=368]\n"
          ]
        },
        {
          "output_type": "stream",
          "name": "stdout",
          "text": [
            "Epoch [162/5000]: Train loss: 352.7835, Valid loss: 356.5876\n"
          ]
        },
        {
          "output_type": "stream",
          "name": "stderr",
          "text": [
            "Epoch [163/5000]: 100%|██████████| 10/10 [00:00<00:00, 53.22it/s, loss=413]\n"
          ]
        },
        {
          "output_type": "stream",
          "name": "stdout",
          "text": [
            "Epoch [163/5000]: Train loss: 355.0449, Valid loss: 353.1914\n"
          ]
        },
        {
          "output_type": "stream",
          "name": "stderr",
          "text": [
            "Epoch [164/5000]: 100%|██████████| 10/10 [00:00<00:00, 42.30it/s, loss=310]\n"
          ]
        },
        {
          "output_type": "stream",
          "name": "stdout",
          "text": [
            "Epoch [164/5000]: Train loss: 348.5162, Valid loss: 349.8506\n"
          ]
        },
        {
          "output_type": "stream",
          "name": "stderr",
          "text": [
            "Epoch [165/5000]: 100%|██████████| 10/10 [00:00<00:00, 54.67it/s, loss=393]\n"
          ]
        },
        {
          "output_type": "stream",
          "name": "stdout",
          "text": [
            "Epoch [165/5000]: Train loss: 353.0284, Valid loss: 341.9562\n"
          ]
        },
        {
          "output_type": "stream",
          "name": "stderr",
          "text": [
            "Epoch [166/5000]: 100%|██████████| 10/10 [00:00<00:00, 44.55it/s, loss=376]\n"
          ]
        },
        {
          "output_type": "stream",
          "name": "stdout",
          "text": [
            "Epoch [166/5000]: Train loss: 351.6051, Valid loss: 351.3243\n"
          ]
        },
        {
          "output_type": "stream",
          "name": "stderr",
          "text": [
            "Epoch [167/5000]: 100%|██████████| 10/10 [00:00<00:00, 52.10it/s, loss=357]\n"
          ]
        },
        {
          "output_type": "stream",
          "name": "stdout",
          "text": [
            "Epoch [167/5000]: Train loss: 350.0478, Valid loss: 354.9351\n"
          ]
        },
        {
          "output_type": "stream",
          "name": "stderr",
          "text": [
            "Epoch [168/5000]: 100%|██████████| 10/10 [00:00<00:00, 44.24it/s, loss=380]\n"
          ]
        },
        {
          "output_type": "stream",
          "name": "stdout",
          "text": [
            "Epoch [168/5000]: Train loss: 350.9879, Valid loss: 338.1736\n"
          ]
        },
        {
          "output_type": "stream",
          "name": "stderr",
          "text": [
            "Epoch [169/5000]: 100%|██████████| 10/10 [00:00<00:00, 67.42it/s, loss=344]\n"
          ]
        },
        {
          "output_type": "stream",
          "name": "stdout",
          "text": [
            "Epoch [169/5000]: Train loss: 348.3974, Valid loss: 339.1614\n"
          ]
        },
        {
          "output_type": "stream",
          "name": "stderr",
          "text": [
            "Epoch [170/5000]: 100%|██████████| 10/10 [00:00<00:00, 56.94it/s, loss=378]\n"
          ]
        },
        {
          "output_type": "stream",
          "name": "stdout",
          "text": [
            "Epoch [170/5000]: Train loss: 350.0459, Valid loss: 352.9483\n"
          ]
        },
        {
          "output_type": "stream",
          "name": "stderr",
          "text": [
            "Epoch [171/5000]: 100%|██████████| 10/10 [00:00<00:00, 51.91it/s, loss=361]\n"
          ]
        },
        {
          "output_type": "stream",
          "name": "stdout",
          "text": [
            "Epoch [171/5000]: Train loss: 348.5984, Valid loss: 348.0517\n"
          ]
        },
        {
          "output_type": "stream",
          "name": "stderr",
          "text": [
            "Epoch [172/5000]: 100%|██████████| 10/10 [00:00<00:00, 46.33it/s, loss=382]\n"
          ]
        },
        {
          "output_type": "stream",
          "name": "stdout",
          "text": [
            "Epoch [172/5000]: Train loss: 349.4069, Valid loss: 337.0097\n"
          ]
        },
        {
          "output_type": "stream",
          "name": "stderr",
          "text": [
            "Epoch [173/5000]: 100%|██████████| 10/10 [00:00<00:00, 46.56it/s, loss=363]\n"
          ]
        },
        {
          "output_type": "stream",
          "name": "stdout",
          "text": [
            "Epoch [173/5000]: Train loss: 347.8368, Valid loss: 349.4729\n"
          ]
        },
        {
          "output_type": "stream",
          "name": "stderr",
          "text": [
            "Epoch [174/5000]: 100%|██████████| 10/10 [00:00<00:00, 51.94it/s, loss=356]\n"
          ]
        },
        {
          "output_type": "stream",
          "name": "stdout",
          "text": [
            "Epoch [174/5000]: Train loss: 346.9645, Valid loss: 344.8477\n"
          ]
        },
        {
          "output_type": "stream",
          "name": "stderr",
          "text": [
            "Epoch [175/5000]: 100%|██████████| 10/10 [00:00<00:00, 64.15it/s, loss=409]\n"
          ]
        },
        {
          "output_type": "stream",
          "name": "stdout",
          "text": [
            "Epoch [175/5000]: Train loss: 349.6673, Valid loss: 344.3965\n"
          ]
        },
        {
          "output_type": "stream",
          "name": "stderr",
          "text": [
            "Epoch [176/5000]: 100%|██████████| 10/10 [00:00<00:00, 54.62it/s, loss=351]\n"
          ]
        },
        {
          "output_type": "stream",
          "name": "stdout",
          "text": [
            "Epoch [176/5000]: Train loss: 345.8156, Valid loss: 345.2477\n"
          ]
        },
        {
          "output_type": "stream",
          "name": "stderr",
          "text": [
            "Epoch [177/5000]: 100%|██████████| 10/10 [00:00<00:00, 37.72it/s, loss=318]\n"
          ]
        },
        {
          "output_type": "stream",
          "name": "stdout",
          "text": [
            "Epoch [177/5000]: Train loss: 343.4076, Valid loss: 344.1761\n"
          ]
        },
        {
          "output_type": "stream",
          "name": "stderr",
          "text": [
            "Epoch [178/5000]: 100%|██████████| 10/10 [00:00<00:00, 37.08it/s, loss=337]\n"
          ]
        },
        {
          "output_type": "stream",
          "name": "stdout",
          "text": [
            "Epoch [178/5000]: Train loss: 344.0890, Valid loss: 338.7078\n"
          ]
        },
        {
          "output_type": "stream",
          "name": "stderr",
          "text": [
            "Epoch [179/5000]: 100%|██████████| 10/10 [00:00<00:00, 69.15it/s, loss=343]\n"
          ]
        },
        {
          "output_type": "stream",
          "name": "stdout",
          "text": [
            "Epoch [179/5000]: Train loss: 344.0249, Valid loss: 337.7372\n"
          ]
        },
        {
          "output_type": "stream",
          "name": "stderr",
          "text": [
            "Epoch [180/5000]: 100%|██████████| 10/10 [00:00<00:00, 54.93it/s, loss=350]\n"
          ]
        },
        {
          "output_type": "stream",
          "name": "stdout",
          "text": [
            "Epoch [180/5000]: Train loss: 344.0057, Valid loss: 351.3411\n"
          ]
        },
        {
          "output_type": "stream",
          "name": "stderr",
          "text": [
            "Epoch [181/5000]: 100%|██████████| 10/10 [00:00<00:00, 69.70it/s, loss=324]\n"
          ]
        },
        {
          "output_type": "stream",
          "name": "stdout",
          "text": [
            "Epoch [181/5000]: Train loss: 341.9658, Valid loss: 344.1502\n"
          ]
        },
        {
          "output_type": "stream",
          "name": "stderr",
          "text": [
            "Epoch [182/5000]: 100%|██████████| 10/10 [00:00<00:00, 53.68it/s, loss=357]\n"
          ]
        },
        {
          "output_type": "stream",
          "name": "stdout",
          "text": [
            "Epoch [182/5000]: Train loss: 343.5140, Valid loss: 338.5578\n"
          ]
        },
        {
          "output_type": "stream",
          "name": "stderr",
          "text": [
            "Epoch [183/5000]: 100%|██████████| 10/10 [00:00<00:00, 55.35it/s, loss=217]\n"
          ]
        },
        {
          "output_type": "stream",
          "name": "stdout",
          "text": [
            "Epoch [183/5000]: Train loss: 334.7779, Valid loss: 355.2663\n"
          ]
        },
        {
          "output_type": "stream",
          "name": "stderr",
          "text": [
            "Epoch [184/5000]: 100%|██████████| 10/10 [00:00<00:00, 46.12it/s, loss=404]\n"
          ]
        },
        {
          "output_type": "stream",
          "name": "stdout",
          "text": [
            "Epoch [184/5000]: Train loss: 345.3971, Valid loss: 336.1086\n"
          ]
        },
        {
          "output_type": "stream",
          "name": "stderr",
          "text": [
            "Epoch [185/5000]: 100%|██████████| 10/10 [00:00<00:00, 54.34it/s, loss=377]\n"
          ]
        },
        {
          "output_type": "stream",
          "name": "stdout",
          "text": [
            "Epoch [185/5000]: Train loss: 343.3190, Valid loss: 339.0697\n"
          ]
        },
        {
          "output_type": "stream",
          "name": "stderr",
          "text": [
            "Epoch [186/5000]: 100%|██████████| 10/10 [00:00<00:00, 40.08it/s, loss=378]\n"
          ]
        },
        {
          "output_type": "stream",
          "name": "stdout",
          "text": [
            "Epoch [186/5000]: Train loss: 342.9599, Valid loss: 334.7260\n"
          ]
        },
        {
          "output_type": "stream",
          "name": "stderr",
          "text": [
            "Epoch [187/5000]: 100%|██████████| 10/10 [00:00<00:00, 37.81it/s, loss=315]\n"
          ]
        },
        {
          "output_type": "stream",
          "name": "stdout",
          "text": [
            "Epoch [187/5000]: Train loss: 338.7180, Valid loss: 333.7801\n",
            "Saving model with loss 333.780...\n"
          ]
        },
        {
          "output_type": "stream",
          "name": "stderr",
          "text": [
            "Epoch [188/5000]: 100%|██████████| 10/10 [00:00<00:00, 40.76it/s, loss=370]\n"
          ]
        },
        {
          "output_type": "stream",
          "name": "stdout",
          "text": [
            "Epoch [188/5000]: Train loss: 341.5507, Valid loss: 332.4421\n",
            "Saving model with loss 332.442...\n"
          ]
        },
        {
          "output_type": "stream",
          "name": "stderr",
          "text": [
            "Epoch [189/5000]: 100%|██████████| 10/10 [00:00<00:00, 37.36it/s, loss=315]\n"
          ]
        },
        {
          "output_type": "stream",
          "name": "stdout",
          "text": [
            "Epoch [189/5000]: Train loss: 337.8306, Valid loss: 318.2144\n",
            "Saving model with loss 318.214...\n"
          ]
        },
        {
          "output_type": "stream",
          "name": "stderr",
          "text": [
            "Epoch [190/5000]: 100%|██████████| 10/10 [00:00<00:00, 47.35it/s, loss=314]\n"
          ]
        },
        {
          "output_type": "stream",
          "name": "stdout",
          "text": [
            "Epoch [190/5000]: Train loss: 337.3249, Valid loss: 343.8705\n"
          ]
        },
        {
          "output_type": "stream",
          "name": "stderr",
          "text": [
            "Epoch [191/5000]: 100%|██████████| 10/10 [00:00<00:00, 47.37it/s, loss=363]\n"
          ]
        },
        {
          "output_type": "stream",
          "name": "stdout",
          "text": [
            "Epoch [191/5000]: Train loss: 339.7301, Valid loss: 335.2430\n"
          ]
        },
        {
          "output_type": "stream",
          "name": "stderr",
          "text": [
            "Epoch [192/5000]: 100%|██████████| 10/10 [00:00<00:00, 43.26it/s, loss=368]\n"
          ]
        },
        {
          "output_type": "stream",
          "name": "stdout",
          "text": [
            "Epoch [192/5000]: Train loss: 339.5609, Valid loss: 337.4693\n"
          ]
        },
        {
          "output_type": "stream",
          "name": "stderr",
          "text": [
            "Epoch [193/5000]: 100%|██████████| 10/10 [00:00<00:00, 58.88it/s, loss=278]\n"
          ]
        },
        {
          "output_type": "stream",
          "name": "stdout",
          "text": [
            "Epoch [193/5000]: Train loss: 333.7683, Valid loss: 331.9312\n"
          ]
        },
        {
          "output_type": "stream",
          "name": "stderr",
          "text": [
            "Epoch [194/5000]: 100%|██████████| 10/10 [00:00<00:00, 66.62it/s, loss=341]\n"
          ]
        },
        {
          "output_type": "stream",
          "name": "stdout",
          "text": [
            "Epoch [194/5000]: Train loss: 337.0651, Valid loss: 334.5626\n"
          ]
        },
        {
          "output_type": "stream",
          "name": "stderr",
          "text": [
            "Epoch [195/5000]: 100%|██████████| 10/10 [00:00<00:00, 51.41it/s, loss=302]\n"
          ]
        },
        {
          "output_type": "stream",
          "name": "stdout",
          "text": [
            "Epoch [195/5000]: Train loss: 334.2428, Valid loss: 332.8862\n"
          ]
        },
        {
          "output_type": "stream",
          "name": "stderr",
          "text": [
            "Epoch [196/5000]: 100%|██████████| 10/10 [00:00<00:00, 44.08it/s, loss=354]\n"
          ]
        },
        {
          "output_type": "stream",
          "name": "stdout",
          "text": [
            "Epoch [196/5000]: Train loss: 336.8353, Valid loss: 328.0129\n"
          ]
        },
        {
          "output_type": "stream",
          "name": "stderr",
          "text": [
            "Epoch [197/5000]: 100%|██████████| 10/10 [00:00<00:00, 44.94it/s, loss=309]\n"
          ]
        },
        {
          "output_type": "stream",
          "name": "stdout",
          "text": [
            "Epoch [197/5000]: Train loss: 333.7156, Valid loss: 345.9407\n"
          ]
        },
        {
          "output_type": "stream",
          "name": "stderr",
          "text": [
            "Epoch [198/5000]: 100%|██████████| 10/10 [00:00<00:00, 68.55it/s, loss=326]\n"
          ]
        },
        {
          "output_type": "stream",
          "name": "stdout",
          "text": [
            "Epoch [198/5000]: Train loss: 334.2716, Valid loss: 328.9256\n"
          ]
        },
        {
          "output_type": "stream",
          "name": "stderr",
          "text": [
            "Epoch [199/5000]: 100%|██████████| 10/10 [00:00<00:00, 44.70it/s, loss=302]\n"
          ]
        },
        {
          "output_type": "stream",
          "name": "stdout",
          "text": [
            "Epoch [199/5000]: Train loss: 332.3286, Valid loss: 338.7121\n"
          ]
        },
        {
          "output_type": "stream",
          "name": "stderr",
          "text": [
            "Epoch [200/5000]: 100%|██████████| 10/10 [00:00<00:00, 53.21it/s, loss=334]\n"
          ]
        },
        {
          "output_type": "stream",
          "name": "stdout",
          "text": [
            "Epoch [200/5000]: Train loss: 333.7527, Valid loss: 329.8959\n"
          ]
        },
        {
          "output_type": "stream",
          "name": "stderr",
          "text": [
            "Epoch [201/5000]: 100%|██████████| 10/10 [00:00<00:00, 56.85it/s, loss=296]\n"
          ]
        },
        {
          "output_type": "stream",
          "name": "stdout",
          "text": [
            "Epoch [201/5000]: Train loss: 331.0331, Valid loss: 339.3259\n"
          ]
        },
        {
          "output_type": "stream",
          "name": "stderr",
          "text": [
            "Epoch [202/5000]: 100%|██████████| 10/10 [00:00<00:00, 55.87it/s, loss=335]\n"
          ]
        },
        {
          "output_type": "stream",
          "name": "stdout",
          "text": [
            "Epoch [202/5000]: Train loss: 332.8431, Valid loss: 331.5444\n"
          ]
        },
        {
          "output_type": "stream",
          "name": "stderr",
          "text": [
            "Epoch [203/5000]: 100%|██████████| 10/10 [00:00<00:00, 44.74it/s, loss=294]\n"
          ]
        },
        {
          "output_type": "stream",
          "name": "stdout",
          "text": [
            "Epoch [203/5000]: Train loss: 329.9262, Valid loss: 321.6558\n"
          ]
        },
        {
          "output_type": "stream",
          "name": "stderr",
          "text": [
            "Epoch [204/5000]: 100%|██████████| 10/10 [00:00<00:00, 46.92it/s, loss=332]\n"
          ]
        },
        {
          "output_type": "stream",
          "name": "stdout",
          "text": [
            "Epoch [204/5000]: Train loss: 331.7298, Valid loss: 323.7625\n"
          ]
        },
        {
          "output_type": "stream",
          "name": "stderr",
          "text": [
            "Epoch [205/5000]: 100%|██████████| 10/10 [00:00<00:00, 55.06it/s, loss=341]\n"
          ]
        },
        {
          "output_type": "stream",
          "name": "stdout",
          "text": [
            "Epoch [205/5000]: Train loss: 331.7229, Valid loss: 330.7090\n"
          ]
        },
        {
          "output_type": "stream",
          "name": "stderr",
          "text": [
            "Epoch [206/5000]: 100%|██████████| 10/10 [00:00<00:00, 60.25it/s, loss=372]\n"
          ]
        },
        {
          "output_type": "stream",
          "name": "stdout",
          "text": [
            "Epoch [206/5000]: Train loss: 333.1063, Valid loss: 331.5839\n"
          ]
        },
        {
          "output_type": "stream",
          "name": "stderr",
          "text": [
            "Epoch [207/5000]: 100%|██████████| 10/10 [00:00<00:00, 72.07it/s, loss=327]\n"
          ]
        },
        {
          "output_type": "stream",
          "name": "stdout",
          "text": [
            "Epoch [207/5000]: Train loss: 329.9066, Valid loss: 334.2346\n"
          ]
        },
        {
          "output_type": "stream",
          "name": "stderr",
          "text": [
            "Epoch [208/5000]: 100%|██████████| 10/10 [00:00<00:00, 62.87it/s, loss=326]\n"
          ]
        },
        {
          "output_type": "stream",
          "name": "stdout",
          "text": [
            "Epoch [208/5000]: Train loss: 329.3569, Valid loss: 333.5365\n"
          ]
        },
        {
          "output_type": "stream",
          "name": "stderr",
          "text": [
            "Epoch [209/5000]: 100%|██████████| 10/10 [00:00<00:00, 56.12it/s, loss=333]\n"
          ]
        },
        {
          "output_type": "stream",
          "name": "stdout",
          "text": [
            "Epoch [209/5000]: Train loss: 329.2691, Valid loss: 318.8230\n"
          ]
        },
        {
          "output_type": "stream",
          "name": "stderr",
          "text": [
            "Epoch [210/5000]: 100%|██████████| 10/10 [00:00<00:00, 46.11it/s, loss=300]\n"
          ]
        },
        {
          "output_type": "stream",
          "name": "stdout",
          "text": [
            "Epoch [210/5000]: Train loss: 326.8311, Valid loss: 316.3078\n",
            "Saving model with loss 316.308...\n"
          ]
        },
        {
          "output_type": "stream",
          "name": "stderr",
          "text": [
            "Epoch [211/5000]: 100%|██████████| 10/10 [00:00<00:00, 52.99it/s, loss=299]\n"
          ]
        },
        {
          "output_type": "stream",
          "name": "stdout",
          "text": [
            "Epoch [211/5000]: Train loss: 326.2798, Valid loss: 320.7769\n"
          ]
        },
        {
          "output_type": "stream",
          "name": "stderr",
          "text": [
            "Epoch [212/5000]: 100%|██████████| 10/10 [00:00<00:00, 42.96it/s, loss=280]\n"
          ]
        },
        {
          "output_type": "stream",
          "name": "stdout",
          "text": [
            "Epoch [212/5000]: Train loss: 324.6462, Valid loss: 327.4723\n"
          ]
        },
        {
          "output_type": "stream",
          "name": "stderr",
          "text": [
            "Epoch [213/5000]: 100%|██████████| 10/10 [00:00<00:00, 55.37it/s, loss=372]\n"
          ]
        },
        {
          "output_type": "stream",
          "name": "stdout",
          "text": [
            "Epoch [213/5000]: Train loss: 329.5642, Valid loss: 336.1351\n"
          ]
        },
        {
          "output_type": "stream",
          "name": "stderr",
          "text": [
            "Epoch [214/5000]: 100%|██████████| 10/10 [00:00<00:00, 55.86it/s, loss=356]\n"
          ]
        },
        {
          "output_type": "stream",
          "name": "stdout",
          "text": [
            "Epoch [214/5000]: Train loss: 328.1340, Valid loss: 325.9486\n"
          ]
        },
        {
          "output_type": "stream",
          "name": "stderr",
          "text": [
            "Epoch [215/5000]: 100%|██████████| 10/10 [00:00<00:00, 63.42it/s, loss=398]\n"
          ]
        },
        {
          "output_type": "stream",
          "name": "stdout",
          "text": [
            "Epoch [215/5000]: Train loss: 330.0773, Valid loss: 321.5950\n"
          ]
        },
        {
          "output_type": "stream",
          "name": "stderr",
          "text": [
            "Epoch [216/5000]: 100%|██████████| 10/10 [00:00<00:00, 40.99it/s, loss=326]\n"
          ]
        },
        {
          "output_type": "stream",
          "name": "stdout",
          "text": [
            "Epoch [216/5000]: Train loss: 325.3383, Valid loss: 330.1943\n"
          ]
        },
        {
          "output_type": "stream",
          "name": "stderr",
          "text": [
            "Epoch [217/5000]: 100%|██████████| 10/10 [00:00<00:00, 51.11it/s, loss=337]\n"
          ]
        },
        {
          "output_type": "stream",
          "name": "stdout",
          "text": [
            "Epoch [217/5000]: Train loss: 325.4235, Valid loss: 320.7290\n"
          ]
        },
        {
          "output_type": "stream",
          "name": "stderr",
          "text": [
            "Epoch [218/5000]: 100%|██████████| 10/10 [00:00<00:00, 62.42it/s, loss=304]\n"
          ]
        },
        {
          "output_type": "stream",
          "name": "stdout",
          "text": [
            "Epoch [218/5000]: Train loss: 322.9489, Valid loss: 317.7161\n"
          ]
        },
        {
          "output_type": "stream",
          "name": "stderr",
          "text": [
            "Epoch [219/5000]: 100%|██████████| 10/10 [00:00<00:00, 60.02it/s, loss=285]\n"
          ]
        },
        {
          "output_type": "stream",
          "name": "stdout",
          "text": [
            "Epoch [219/5000]: Train loss: 321.3218, Valid loss: 323.3077\n"
          ]
        },
        {
          "output_type": "stream",
          "name": "stderr",
          "text": [
            "Epoch [220/5000]: 100%|██████████| 10/10 [00:00<00:00, 54.20it/s, loss=309]\n"
          ]
        },
        {
          "output_type": "stream",
          "name": "stdout",
          "text": [
            "Epoch [220/5000]: Train loss: 322.2566, Valid loss: 322.5208\n"
          ]
        },
        {
          "output_type": "stream",
          "name": "stderr",
          "text": [
            "Epoch [221/5000]: 100%|██████████| 10/10 [00:00<00:00, 54.83it/s, loss=296]\n"
          ]
        },
        {
          "output_type": "stream",
          "name": "stdout",
          "text": [
            "Epoch [221/5000]: Train loss: 320.9636, Valid loss: 315.4773\n",
            "Saving model with loss 315.477...\n"
          ]
        },
        {
          "output_type": "stream",
          "name": "stderr",
          "text": [
            "Epoch [222/5000]: 100%|██████████| 10/10 [00:00<00:00, 58.73it/s, loss=330]\n"
          ]
        },
        {
          "output_type": "stream",
          "name": "stdout",
          "text": [
            "Epoch [222/5000]: Train loss: 322.4582, Valid loss: 318.5129\n"
          ]
        },
        {
          "output_type": "stream",
          "name": "stderr",
          "text": [
            "Epoch [223/5000]: 100%|██████████| 10/10 [00:00<00:00, 55.98it/s, loss=301]\n"
          ]
        },
        {
          "output_type": "stream",
          "name": "stdout",
          "text": [
            "Epoch [223/5000]: Train loss: 320.1788, Valid loss: 321.3952\n"
          ]
        },
        {
          "output_type": "stream",
          "name": "stderr",
          "text": [
            "Epoch [224/5000]: 100%|██████████| 10/10 [00:00<00:00, 44.15it/s, loss=311]\n"
          ]
        },
        {
          "output_type": "stream",
          "name": "stdout",
          "text": [
            "Epoch [224/5000]: Train loss: 320.2474, Valid loss: 311.1340\n",
            "Saving model with loss 311.134...\n"
          ]
        },
        {
          "output_type": "stream",
          "name": "stderr",
          "text": [
            "Epoch [225/5000]: 100%|██████████| 10/10 [00:00<00:00, 58.10it/s, loss=315]\n"
          ]
        },
        {
          "output_type": "stream",
          "name": "stdout",
          "text": [
            "Epoch [225/5000]: Train loss: 319.9614, Valid loss: 312.5162\n"
          ]
        },
        {
          "output_type": "stream",
          "name": "stderr",
          "text": [
            "Epoch [226/5000]: 100%|██████████| 10/10 [00:00<00:00, 59.42it/s, loss=335]\n"
          ]
        },
        {
          "output_type": "stream",
          "name": "stdout",
          "text": [
            "Epoch [226/5000]: Train loss: 320.6267, Valid loss: 328.9646\n"
          ]
        },
        {
          "output_type": "stream",
          "name": "stderr",
          "text": [
            "Epoch [227/5000]: 100%|██████████| 10/10 [00:00<00:00, 50.30it/s, loss=350]\n"
          ]
        },
        {
          "output_type": "stream",
          "name": "stdout",
          "text": [
            "Epoch [227/5000]: Train loss: 320.9661, Valid loss: 316.2522\n"
          ]
        },
        {
          "output_type": "stream",
          "name": "stderr",
          "text": [
            "Epoch [228/5000]: 100%|██████████| 10/10 [00:00<00:00, 53.88it/s, loss=347]\n"
          ]
        },
        {
          "output_type": "stream",
          "name": "stdout",
          "text": [
            "Epoch [228/5000]: Train loss: 320.2624, Valid loss: 327.3275\n"
          ]
        },
        {
          "output_type": "stream",
          "name": "stderr",
          "text": [
            "Epoch [229/5000]: 100%|██████████| 10/10 [00:00<00:00, 50.75it/s, loss=318]\n"
          ]
        },
        {
          "output_type": "stream",
          "name": "stdout",
          "text": [
            "Epoch [229/5000]: Train loss: 317.9873, Valid loss: 313.4100\n"
          ]
        },
        {
          "output_type": "stream",
          "name": "stderr",
          "text": [
            "Epoch [230/5000]: 100%|██████████| 10/10 [00:00<00:00, 40.64it/s, loss=341]\n"
          ]
        },
        {
          "output_type": "stream",
          "name": "stdout",
          "text": [
            "Epoch [230/5000]: Train loss: 318.8189, Valid loss: 323.4411\n"
          ]
        },
        {
          "output_type": "stream",
          "name": "stderr",
          "text": [
            "Epoch [231/5000]: 100%|██████████| 10/10 [00:00<00:00, 53.59it/s, loss=335]\n"
          ]
        },
        {
          "output_type": "stream",
          "name": "stdout",
          "text": [
            "Epoch [231/5000]: Train loss: 317.9192, Valid loss: 299.5598\n",
            "Saving model with loss 299.560...\n"
          ]
        },
        {
          "output_type": "stream",
          "name": "stderr",
          "text": [
            "Epoch [232/5000]: 100%|██████████| 10/10 [00:00<00:00, 38.37it/s, loss=273]\n"
          ]
        },
        {
          "output_type": "stream",
          "name": "stdout",
          "text": [
            "Epoch [232/5000]: Train loss: 313.6763, Valid loss: 330.2921\n"
          ]
        },
        {
          "output_type": "stream",
          "name": "stderr",
          "text": [
            "Epoch [233/5000]: 100%|██████████| 10/10 [00:00<00:00, 55.45it/s, loss=347]\n"
          ]
        },
        {
          "output_type": "stream",
          "name": "stdout",
          "text": [
            "Epoch [233/5000]: Train loss: 317.5519, Valid loss: 315.6559\n"
          ]
        },
        {
          "output_type": "stream",
          "name": "stderr",
          "text": [
            "Epoch [234/5000]: 100%|██████████| 10/10 [00:00<00:00, 40.74it/s, loss=314]\n"
          ]
        },
        {
          "output_type": "stream",
          "name": "stdout",
          "text": [
            "Epoch [234/5000]: Train loss: 315.0269, Valid loss: 302.6855\n"
          ]
        },
        {
          "output_type": "stream",
          "name": "stderr",
          "text": [
            "Epoch [235/5000]: 100%|██████████| 10/10 [00:00<00:00, 66.36it/s, loss=275]\n"
          ]
        },
        {
          "output_type": "stream",
          "name": "stdout",
          "text": [
            "Epoch [235/5000]: Train loss: 312.1448, Valid loss: 300.0205\n"
          ]
        },
        {
          "output_type": "stream",
          "name": "stderr",
          "text": [
            "Epoch [236/5000]: 100%|██████████| 10/10 [00:00<00:00, 48.98it/s, loss=317]\n"
          ]
        },
        {
          "output_type": "stream",
          "name": "stdout",
          "text": [
            "Epoch [236/5000]: Train loss: 314.0904, Valid loss: 319.7314\n"
          ]
        },
        {
          "output_type": "stream",
          "name": "stderr",
          "text": [
            "Epoch [237/5000]: 100%|██████████| 10/10 [00:00<00:00, 29.18it/s, loss=308]\n"
          ]
        },
        {
          "output_type": "stream",
          "name": "stdout",
          "text": [
            "Epoch [237/5000]: Train loss: 313.0263, Valid loss: 314.6506\n"
          ]
        },
        {
          "output_type": "stream",
          "name": "stderr",
          "text": [
            "Epoch [238/5000]: 100%|██████████| 10/10 [00:00<00:00, 38.23it/s, loss=280]\n"
          ]
        },
        {
          "output_type": "stream",
          "name": "stdout",
          "text": [
            "Epoch [238/5000]: Train loss: 310.7956, Valid loss: 312.3254\n"
          ]
        },
        {
          "output_type": "stream",
          "name": "stderr",
          "text": [
            "Epoch [239/5000]: 100%|██████████| 10/10 [00:01<00:00,  8.94it/s, loss=343]\n"
          ]
        },
        {
          "output_type": "stream",
          "name": "stdout",
          "text": [
            "Epoch [239/5000]: Train loss: 313.9354, Valid loss: 296.9910\n",
            "Saving model with loss 296.991...\n"
          ]
        },
        {
          "output_type": "stream",
          "name": "stderr",
          "text": [
            "Epoch [240/5000]: 100%|██████████| 10/10 [00:00<00:00, 45.27it/s, loss=336]\n"
          ]
        },
        {
          "output_type": "stream",
          "name": "stdout",
          "text": [
            "Epoch [240/5000]: Train loss: 313.0204, Valid loss: 303.0285\n"
          ]
        },
        {
          "output_type": "stream",
          "name": "stderr",
          "text": [
            "Epoch [241/5000]: 100%|██████████| 10/10 [00:00<00:00, 46.01it/s, loss=327]\n"
          ]
        },
        {
          "output_type": "stream",
          "name": "stdout",
          "text": [
            "Epoch [241/5000]: Train loss: 311.8859, Valid loss: 318.9974\n"
          ]
        },
        {
          "output_type": "stream",
          "name": "stderr",
          "text": [
            "Epoch [242/5000]: 100%|██████████| 10/10 [00:00<00:00, 53.24it/s, loss=306]\n"
          ]
        },
        {
          "output_type": "stream",
          "name": "stdout",
          "text": [
            "Epoch [242/5000]: Train loss: 310.0916, Valid loss: 313.3171\n"
          ]
        },
        {
          "output_type": "stream",
          "name": "stderr",
          "text": [
            "Epoch [243/5000]: 100%|██████████| 10/10 [00:00<00:00, 35.79it/s, loss=274]\n"
          ]
        },
        {
          "output_type": "stream",
          "name": "stdout",
          "text": [
            "Epoch [243/5000]: Train loss: 307.5810, Valid loss: 311.0102\n"
          ]
        },
        {
          "output_type": "stream",
          "name": "stderr",
          "text": [
            "Epoch [244/5000]: 100%|██████████| 10/10 [00:00<00:00, 82.11it/s, loss=331]\n"
          ]
        },
        {
          "output_type": "stream",
          "name": "stdout",
          "text": [
            "Epoch [244/5000]: Train loss: 310.3993, Valid loss: 308.1134\n"
          ]
        },
        {
          "output_type": "stream",
          "name": "stderr",
          "text": [
            "Epoch [245/5000]: 100%|██████████| 10/10 [00:00<00:00, 82.90it/s, loss=309]\n"
          ]
        },
        {
          "output_type": "stream",
          "name": "stdout",
          "text": [
            "Epoch [245/5000]: Train loss: 308.5703, Valid loss: 304.2753\n"
          ]
        },
        {
          "output_type": "stream",
          "name": "stderr",
          "text": [
            "Epoch [246/5000]: 100%|██████████| 10/10 [00:00<00:00, 90.83it/s, loss=364]\n"
          ]
        },
        {
          "output_type": "stream",
          "name": "stdout",
          "text": [
            "Epoch [246/5000]: Train loss: 311.2286, Valid loss: 304.0818\n"
          ]
        },
        {
          "output_type": "stream",
          "name": "stderr",
          "text": [
            "Epoch [247/5000]: 100%|██████████| 10/10 [00:00<00:00, 94.50it/s, loss=311]\n"
          ]
        },
        {
          "output_type": "stream",
          "name": "stdout",
          "text": [
            "Epoch [247/5000]: Train loss: 307.5012, Valid loss: 301.1350\n"
          ]
        },
        {
          "output_type": "stream",
          "name": "stderr",
          "text": [
            "Epoch [248/5000]: 100%|██████████| 10/10 [00:00<00:00, 90.85it/s, loss=302]\n"
          ]
        },
        {
          "output_type": "stream",
          "name": "stdout",
          "text": [
            "Epoch [248/5000]: Train loss: 306.3900, Valid loss: 302.4582\n"
          ]
        },
        {
          "output_type": "stream",
          "name": "stderr",
          "text": [
            "Epoch [249/5000]: 100%|██████████| 10/10 [00:00<00:00, 90.79it/s, loss=276]\n"
          ]
        },
        {
          "output_type": "stream",
          "name": "stdout",
          "text": [
            "Epoch [249/5000]: Train loss: 304.2639, Valid loss: 312.1931\n"
          ]
        },
        {
          "output_type": "stream",
          "name": "stderr",
          "text": [
            "Epoch [250/5000]: 100%|██████████| 10/10 [00:00<00:00, 107.19it/s, loss=257]\n"
          ]
        },
        {
          "output_type": "stream",
          "name": "stdout",
          "text": [
            "Epoch [250/5000]: Train loss: 302.5833, Valid loss: 311.8761\n"
          ]
        },
        {
          "output_type": "stream",
          "name": "stderr",
          "text": [
            "Epoch [251/5000]: 100%|██████████| 10/10 [00:00<00:00, 94.09it/s, loss=260]\n"
          ]
        },
        {
          "output_type": "stream",
          "name": "stdout",
          "text": [
            "Epoch [251/5000]: Train loss: 302.1788, Valid loss: 315.7263\n"
          ]
        },
        {
          "output_type": "stream",
          "name": "stderr",
          "text": [
            "Epoch [252/5000]: 100%|██████████| 10/10 [00:00<00:00, 102.01it/s, loss=330]\n"
          ]
        },
        {
          "output_type": "stream",
          "name": "stdout",
          "text": [
            "Epoch [252/5000]: Train loss: 305.7412, Valid loss: 286.1295\n",
            "Saving model with loss 286.130...\n"
          ]
        },
        {
          "output_type": "stream",
          "name": "stderr",
          "text": [
            "Epoch [253/5000]: 100%|██████████| 10/10 [00:00<00:00, 90.52it/s, loss=253]\n"
          ]
        },
        {
          "output_type": "stream",
          "name": "stdout",
          "text": [
            "Epoch [253/5000]: Train loss: 300.5789, Valid loss: 302.4756\n"
          ]
        },
        {
          "output_type": "stream",
          "name": "stderr",
          "text": [
            "Epoch [254/5000]: 100%|██████████| 10/10 [00:00<00:00, 82.90it/s, loss=269]\n"
          ]
        },
        {
          "output_type": "stream",
          "name": "stdout",
          "text": [
            "Epoch [254/5000]: Train loss: 300.9686, Valid loss: 301.5970\n"
          ]
        },
        {
          "output_type": "stream",
          "name": "stderr",
          "text": [
            "Epoch [255/5000]: 100%|██████████| 10/10 [00:00<00:00, 100.46it/s, loss=328]\n"
          ]
        },
        {
          "output_type": "stream",
          "name": "stdout",
          "text": [
            "Epoch [255/5000]: Train loss: 303.8686, Valid loss: 296.1511\n"
          ]
        },
        {
          "output_type": "stream",
          "name": "stderr",
          "text": [
            "Epoch [256/5000]: 100%|██████████| 10/10 [00:00<00:00, 91.28it/s, loss=305]\n"
          ]
        },
        {
          "output_type": "stream",
          "name": "stdout",
          "text": [
            "Epoch [256/5000]: Train loss: 301.9165, Valid loss: 303.7959\n"
          ]
        },
        {
          "output_type": "stream",
          "name": "stderr",
          "text": [
            "Epoch [257/5000]: 100%|██████████| 10/10 [00:00<00:00, 100.85it/s, loss=244]\n"
          ]
        },
        {
          "output_type": "stream",
          "name": "stdout",
          "text": [
            "Epoch [257/5000]: Train loss: 297.6761, Valid loss: 291.9274\n"
          ]
        },
        {
          "output_type": "stream",
          "name": "stderr",
          "text": [
            "Epoch [258/5000]: 100%|██████████| 10/10 [00:00<00:00, 101.34it/s, loss=338]\n"
          ]
        },
        {
          "output_type": "stream",
          "name": "stdout",
          "text": [
            "Epoch [258/5000]: Train loss: 302.6844, Valid loss: 304.7936\n"
          ]
        },
        {
          "output_type": "stream",
          "name": "stderr",
          "text": [
            "Epoch [259/5000]: 100%|██████████| 10/10 [00:00<00:00, 84.71it/s, loss=359]\n"
          ]
        },
        {
          "output_type": "stream",
          "name": "stdout",
          "text": [
            "Epoch [259/5000]: Train loss: 303.2858, Valid loss: 295.2666\n"
          ]
        },
        {
          "output_type": "stream",
          "name": "stderr",
          "text": [
            "Epoch [260/5000]: 100%|██████████| 10/10 [00:00<00:00, 84.29it/s, loss=329]\n"
          ]
        },
        {
          "output_type": "stream",
          "name": "stdout",
          "text": [
            "Epoch [260/5000]: Train loss: 300.9473, Valid loss: 294.4781\n"
          ]
        },
        {
          "output_type": "stream",
          "name": "stderr",
          "text": [
            "Epoch [261/5000]: 100%|██████████| 10/10 [00:00<00:00, 77.86it/s, loss=321]\n"
          ]
        },
        {
          "output_type": "stream",
          "name": "stdout",
          "text": [
            "Epoch [261/5000]: Train loss: 299.8471, Valid loss: 294.2698\n"
          ]
        },
        {
          "output_type": "stream",
          "name": "stderr",
          "text": [
            "Epoch [262/5000]: 100%|██████████| 10/10 [00:00<00:00, 101.10it/s, loss=280]\n"
          ]
        },
        {
          "output_type": "stream",
          "name": "stdout",
          "text": [
            "Epoch [262/5000]: Train loss: 296.7804, Valid loss: 299.3777\n"
          ]
        },
        {
          "output_type": "stream",
          "name": "stderr",
          "text": [
            "Epoch [263/5000]: 100%|██████████| 10/10 [00:00<00:00, 100.26it/s, loss=272]\n"
          ]
        },
        {
          "output_type": "stream",
          "name": "stdout",
          "text": [
            "Epoch [263/5000]: Train loss: 295.7284, Valid loss: 292.0593\n"
          ]
        },
        {
          "output_type": "stream",
          "name": "stderr",
          "text": [
            "Epoch [264/5000]: 100%|██████████| 10/10 [00:00<00:00, 86.81it/s, loss=341]\n"
          ]
        },
        {
          "output_type": "stream",
          "name": "stdout",
          "text": [
            "Epoch [264/5000]: Train loss: 299.2179, Valid loss: 296.6581\n"
          ]
        },
        {
          "output_type": "stream",
          "name": "stderr",
          "text": [
            "Epoch [265/5000]: 100%|██████████| 10/10 [00:00<00:00, 87.52it/s, loss=296]\n"
          ]
        },
        {
          "output_type": "stream",
          "name": "stdout",
          "text": [
            "Epoch [265/5000]: Train loss: 295.9463, Valid loss: 287.2366\n"
          ]
        },
        {
          "output_type": "stream",
          "name": "stderr",
          "text": [
            "Epoch [266/5000]: 100%|██████████| 10/10 [00:00<00:00, 94.11it/s, loss=293]\n"
          ]
        },
        {
          "output_type": "stream",
          "name": "stdout",
          "text": [
            "Epoch [266/5000]: Train loss: 295.1437, Valid loss: 290.0512\n"
          ]
        },
        {
          "output_type": "stream",
          "name": "stderr",
          "text": [
            "Epoch [267/5000]: 100%|██████████| 10/10 [00:00<00:00, 82.40it/s, loss=344]\n"
          ]
        },
        {
          "output_type": "stream",
          "name": "stdout",
          "text": [
            "Epoch [267/5000]: Train loss: 297.5321, Valid loss: 268.9663\n",
            "Saving model with loss 268.966...\n"
          ]
        },
        {
          "output_type": "stream",
          "name": "stderr",
          "text": [
            "Epoch [268/5000]: 100%|██████████| 10/10 [00:00<00:00, 97.57it/s, loss=234]\n"
          ]
        },
        {
          "output_type": "stream",
          "name": "stdout",
          "text": [
            "Epoch [268/5000]: Train loss: 290.4024, Valid loss: 294.4457\n"
          ]
        },
        {
          "output_type": "stream",
          "name": "stderr",
          "text": [
            "Epoch [269/5000]: 100%|██████████| 10/10 [00:00<00:00, 92.97it/s, loss=305]\n"
          ]
        },
        {
          "output_type": "stream",
          "name": "stdout",
          "text": [
            "Epoch [269/5000]: Train loss: 293.9595, Valid loss: 292.1387\n"
          ]
        },
        {
          "output_type": "stream",
          "name": "stderr",
          "text": [
            "Epoch [270/5000]: 100%|██████████| 10/10 [00:00<00:00, 84.70it/s, loss=271]\n"
          ]
        },
        {
          "output_type": "stream",
          "name": "stdout",
          "text": [
            "Epoch [270/5000]: Train loss: 291.3519, Valid loss: 287.7827\n"
          ]
        },
        {
          "output_type": "stream",
          "name": "stderr",
          "text": [
            "Epoch [271/5000]: 100%|██████████| 10/10 [00:00<00:00, 102.75it/s, loss=271]\n"
          ]
        },
        {
          "output_type": "stream",
          "name": "stdout",
          "text": [
            "Epoch [271/5000]: Train loss: 290.7237, Valid loss: 294.2991\n"
          ]
        },
        {
          "output_type": "stream",
          "name": "stderr",
          "text": [
            "Epoch [272/5000]: 100%|██████████| 10/10 [00:00<00:00, 83.52it/s, loss=322]\n"
          ]
        },
        {
          "output_type": "stream",
          "name": "stdout",
          "text": [
            "Epoch [272/5000]: Train loss: 293.1358, Valid loss: 286.9015\n"
          ]
        },
        {
          "output_type": "stream",
          "name": "stderr",
          "text": [
            "Epoch [273/5000]: 100%|██████████| 10/10 [00:00<00:00, 103.28it/s, loss=329]\n"
          ]
        },
        {
          "output_type": "stream",
          "name": "stdout",
          "text": [
            "Epoch [273/5000]: Train loss: 292.9055, Valid loss: 293.1875\n"
          ]
        },
        {
          "output_type": "stream",
          "name": "stderr",
          "text": [
            "Epoch [274/5000]: 100%|██████████| 10/10 [00:00<00:00, 85.21it/s, loss=270]\n"
          ]
        },
        {
          "output_type": "stream",
          "name": "stdout",
          "text": [
            "Epoch [274/5000]: Train loss: 288.8002, Valid loss: 280.0738\n"
          ]
        },
        {
          "output_type": "stream",
          "name": "stderr",
          "text": [
            "Epoch [275/5000]: 100%|██████████| 10/10 [00:00<00:00, 85.25it/s, loss=265]\n"
          ]
        },
        {
          "output_type": "stream",
          "name": "stdout",
          "text": [
            "Epoch [275/5000]: Train loss: 287.8374, Valid loss: 279.8667\n"
          ]
        },
        {
          "output_type": "stream",
          "name": "stderr",
          "text": [
            "Epoch [276/5000]: 100%|██████████| 10/10 [00:00<00:00, 102.17it/s, loss=303]\n"
          ]
        },
        {
          "output_type": "stream",
          "name": "stdout",
          "text": [
            "Epoch [276/5000]: Train loss: 289.4669, Valid loss: 293.1465\n"
          ]
        },
        {
          "output_type": "stream",
          "name": "stderr",
          "text": [
            "Epoch [277/5000]: 100%|██████████| 10/10 [00:00<00:00, 89.41it/s, loss=259]\n"
          ]
        },
        {
          "output_type": "stream",
          "name": "stdout",
          "text": [
            "Epoch [277/5000]: Train loss: 286.2185, Valid loss: 289.9229\n"
          ]
        },
        {
          "output_type": "stream",
          "name": "stderr",
          "text": [
            "Epoch [278/5000]: 100%|██████████| 10/10 [00:00<00:00, 85.66it/s, loss=232]\n"
          ]
        },
        {
          "output_type": "stream",
          "name": "stdout",
          "text": [
            "Epoch [278/5000]: Train loss: 283.9528, Valid loss: 275.2808\n"
          ]
        },
        {
          "output_type": "stream",
          "name": "stderr",
          "text": [
            "Epoch [279/5000]: 100%|██████████| 10/10 [00:00<00:00, 85.38it/s, loss=263]\n"
          ]
        },
        {
          "output_type": "stream",
          "name": "stdout",
          "text": [
            "Epoch [279/5000]: Train loss: 285.1978, Valid loss: 282.0297\n"
          ]
        },
        {
          "output_type": "stream",
          "name": "stderr",
          "text": [
            "Epoch [280/5000]: 100%|██████████| 10/10 [00:00<00:00, 92.68it/s, loss=303]\n"
          ]
        },
        {
          "output_type": "stream",
          "name": "stdout",
          "text": [
            "Epoch [280/5000]: Train loss: 286.9020, Valid loss: 274.5284\n"
          ]
        },
        {
          "output_type": "stream",
          "name": "stderr",
          "text": [
            "Epoch [281/5000]: 100%|██████████| 10/10 [00:00<00:00, 92.03it/s, loss=280]\n"
          ]
        },
        {
          "output_type": "stream",
          "name": "stdout",
          "text": [
            "Epoch [281/5000]: Train loss: 284.9045, Valid loss: 280.8952\n"
          ]
        },
        {
          "output_type": "stream",
          "name": "stderr",
          "text": [
            "Epoch [282/5000]: 100%|██████████| 10/10 [00:00<00:00, 92.62it/s, loss=306]\n"
          ]
        },
        {
          "output_type": "stream",
          "name": "stdout",
          "text": [
            "Epoch [282/5000]: Train loss: 285.8180, Valid loss: 290.8823\n"
          ]
        },
        {
          "output_type": "stream",
          "name": "stderr",
          "text": [
            "Epoch [283/5000]: 100%|██████████| 10/10 [00:00<00:00, 87.41it/s, loss=245]\n"
          ]
        },
        {
          "output_type": "stream",
          "name": "stdout",
          "text": [
            "Epoch [283/5000]: Train loss: 281.5687, Valid loss: 273.0100\n"
          ]
        },
        {
          "output_type": "stream",
          "name": "stderr",
          "text": [
            "Epoch [284/5000]: 100%|██████████| 10/10 [00:00<00:00, 91.97it/s, loss=258]\n"
          ]
        },
        {
          "output_type": "stream",
          "name": "stdout",
          "text": [
            "Epoch [284/5000]: Train loss: 281.6847, Valid loss: 298.8876\n"
          ]
        },
        {
          "output_type": "stream",
          "name": "stderr",
          "text": [
            "Epoch [285/5000]: 100%|██████████| 10/10 [00:00<00:00, 110.21it/s, loss=265]\n"
          ]
        },
        {
          "output_type": "stream",
          "name": "stdout",
          "text": [
            "Epoch [285/5000]: Train loss: 281.4426, Valid loss: 284.2255\n"
          ]
        },
        {
          "output_type": "stream",
          "name": "stderr",
          "text": [
            "Epoch [286/5000]: 100%|██████████| 10/10 [00:00<00:00, 94.86it/s, loss=226]\n"
          ]
        },
        {
          "output_type": "stream",
          "name": "stdout",
          "text": [
            "Epoch [286/5000]: Train loss: 278.4459, Valid loss: 291.2739\n"
          ]
        },
        {
          "output_type": "stream",
          "name": "stderr",
          "text": [
            "Epoch [287/5000]: 100%|██████████| 10/10 [00:00<00:00, 90.63it/s, loss=288]\n"
          ]
        },
        {
          "output_type": "stream",
          "name": "stdout",
          "text": [
            "Epoch [287/5000]: Train loss: 281.5016, Valid loss: 275.9526\n"
          ]
        },
        {
          "output_type": "stream",
          "name": "stderr",
          "text": [
            "Epoch [288/5000]: 100%|██████████| 10/10 [00:00<00:00, 100.90it/s, loss=249]\n"
          ]
        },
        {
          "output_type": "stream",
          "name": "stdout",
          "text": [
            "Epoch [288/5000]: Train loss: 278.5281, Valid loss: 277.5070\n"
          ]
        },
        {
          "output_type": "stream",
          "name": "stderr",
          "text": [
            "Epoch [289/5000]: 100%|██████████| 10/10 [00:00<00:00, 95.25it/s, loss=242]\n"
          ]
        },
        {
          "output_type": "stream",
          "name": "stdout",
          "text": [
            "Epoch [289/5000]: Train loss: 277.4644, Valid loss: 258.8429\n",
            "Saving model with loss 258.843...\n"
          ]
        },
        {
          "output_type": "stream",
          "name": "stderr",
          "text": [
            "Epoch [290/5000]: 100%|██████████| 10/10 [00:00<00:00, 107.34it/s, loss=258]\n"
          ]
        },
        {
          "output_type": "stream",
          "name": "stdout",
          "text": [
            "Epoch [290/5000]: Train loss: 277.7411, Valid loss: 284.6211\n"
          ]
        },
        {
          "output_type": "stream",
          "name": "stderr",
          "text": [
            "Epoch [291/5000]: 100%|██████████| 10/10 [00:00<00:00, 89.23it/s, loss=337]\n"
          ]
        },
        {
          "output_type": "stream",
          "name": "stdout",
          "text": [
            "Epoch [291/5000]: Train loss: 281.7994, Valid loss: 277.4251\n"
          ]
        },
        {
          "output_type": "stream",
          "name": "stderr",
          "text": [
            "Epoch [292/5000]: 100%|██████████| 10/10 [00:00<00:00, 82.03it/s, loss=262]\n"
          ]
        },
        {
          "output_type": "stream",
          "name": "stdout",
          "text": [
            "Epoch [292/5000]: Train loss: 276.6733, Valid loss: 279.2715\n"
          ]
        },
        {
          "output_type": "stream",
          "name": "stderr",
          "text": [
            "Epoch [293/5000]: 100%|██████████| 10/10 [00:00<00:00, 87.19it/s, loss=298]\n"
          ]
        },
        {
          "output_type": "stream",
          "name": "stdout",
          "text": [
            "Epoch [293/5000]: Train loss: 278.1130, Valid loss: 264.1614\n"
          ]
        },
        {
          "output_type": "stream",
          "name": "stderr",
          "text": [
            "Epoch [294/5000]: 100%|██████████| 10/10 [00:00<00:00, 106.52it/s, loss=250]\n"
          ]
        },
        {
          "output_type": "stream",
          "name": "stdout",
          "text": [
            "Epoch [294/5000]: Train loss: 274.5956, Valid loss: 269.5070\n"
          ]
        },
        {
          "output_type": "stream",
          "name": "stderr",
          "text": [
            "Epoch [295/5000]: 100%|██████████| 10/10 [00:00<00:00, 113.06it/s, loss=325]\n"
          ]
        },
        {
          "output_type": "stream",
          "name": "stdout",
          "text": [
            "Epoch [295/5000]: Train loss: 278.4027, Valid loss: 273.9920\n"
          ]
        },
        {
          "output_type": "stream",
          "name": "stderr",
          "text": [
            "Epoch [296/5000]: 100%|██████████| 10/10 [00:00<00:00, 101.53it/s, loss=275]\n"
          ]
        },
        {
          "output_type": "stream",
          "name": "stdout",
          "text": [
            "Epoch [296/5000]: Train loss: 274.7446, Valid loss: 275.1156\n"
          ]
        },
        {
          "output_type": "stream",
          "name": "stderr",
          "text": [
            "Epoch [297/5000]: 100%|██████████| 10/10 [00:00<00:00, 111.69it/s, loss=280]\n"
          ]
        },
        {
          "output_type": "stream",
          "name": "stdout",
          "text": [
            "Epoch [297/5000]: Train loss: 274.3679, Valid loss: 273.4244\n"
          ]
        },
        {
          "output_type": "stream",
          "name": "stderr",
          "text": [
            "Epoch [298/5000]: 100%|██████████| 10/10 [00:00<00:00, 90.39it/s, loss=263]\n"
          ]
        },
        {
          "output_type": "stream",
          "name": "stdout",
          "text": [
            "Epoch [298/5000]: Train loss: 272.7158, Valid loss: 270.6786\n"
          ]
        },
        {
          "output_type": "stream",
          "name": "stderr",
          "text": [
            "Epoch [299/5000]: 100%|██████████| 10/10 [00:00<00:00, 83.57it/s, loss=262]\n"
          ]
        },
        {
          "output_type": "stream",
          "name": "stdout",
          "text": [
            "Epoch [299/5000]: Train loss: 271.9944, Valid loss: 269.1413\n"
          ]
        },
        {
          "output_type": "stream",
          "name": "stderr",
          "text": [
            "Epoch [300/5000]: 100%|██████████| 10/10 [00:00<00:00, 84.43it/s, loss=251]\n"
          ]
        },
        {
          "output_type": "stream",
          "name": "stdout",
          "text": [
            "Epoch [300/5000]: Train loss: 270.6638, Valid loss: 267.7564\n"
          ]
        },
        {
          "output_type": "stream",
          "name": "stderr",
          "text": [
            "Epoch [301/5000]: 100%|██████████| 10/10 [00:00<00:00, 88.73it/s, loss=328]\n"
          ]
        },
        {
          "output_type": "stream",
          "name": "stdout",
          "text": [
            "Epoch [301/5000]: Train loss: 274.5554, Valid loss: 277.9915\n"
          ]
        },
        {
          "output_type": "stream",
          "name": "stderr",
          "text": [
            "Epoch [302/5000]: 100%|██████████| 10/10 [00:00<00:00, 84.87it/s, loss=296]\n"
          ]
        },
        {
          "output_type": "stream",
          "name": "stdout",
          "text": [
            "Epoch [302/5000]: Train loss: 271.9580, Valid loss: 269.7593\n"
          ]
        },
        {
          "output_type": "stream",
          "name": "stderr",
          "text": [
            "Epoch [303/5000]: 100%|██████████| 10/10 [00:00<00:00, 86.83it/s, loss=290]\n"
          ]
        },
        {
          "output_type": "stream",
          "name": "stdout",
          "text": [
            "Epoch [303/5000]: Train loss: 270.9094, Valid loss: 263.3882\n"
          ]
        },
        {
          "output_type": "stream",
          "name": "stderr",
          "text": [
            "Epoch [304/5000]: 100%|██████████| 10/10 [00:00<00:00, 92.25it/s, loss=231]\n"
          ]
        },
        {
          "output_type": "stream",
          "name": "stdout",
          "text": [
            "Epoch [304/5000]: Train loss: 266.7171, Valid loss: 269.4252\n"
          ]
        },
        {
          "output_type": "stream",
          "name": "stderr",
          "text": [
            "Epoch [305/5000]: 100%|██████████| 10/10 [00:00<00:00, 83.70it/s, loss=243]\n"
          ]
        },
        {
          "output_type": "stream",
          "name": "stdout",
          "text": [
            "Epoch [305/5000]: Train loss: 266.7865, Valid loss: 259.7706\n"
          ]
        },
        {
          "output_type": "stream",
          "name": "stderr",
          "text": [
            "Epoch [306/5000]: 100%|██████████| 10/10 [00:00<00:00, 102.45it/s, loss=267]\n"
          ]
        },
        {
          "output_type": "stream",
          "name": "stdout",
          "text": [
            "Epoch [306/5000]: Train loss: 267.4996, Valid loss: 260.6595\n"
          ]
        },
        {
          "output_type": "stream",
          "name": "stderr",
          "text": [
            "Epoch [307/5000]: 100%|██████████| 10/10 [00:00<00:00, 88.22it/s, loss=224]\n"
          ]
        },
        {
          "output_type": "stream",
          "name": "stdout",
          "text": [
            "Epoch [307/5000]: Train loss: 264.2702, Valid loss: 261.4861\n"
          ]
        },
        {
          "output_type": "stream",
          "name": "stderr",
          "text": [
            "Epoch [308/5000]: 100%|██████████| 10/10 [00:00<00:00, 98.63it/s, loss=278]\n"
          ]
        },
        {
          "output_type": "stream",
          "name": "stdout",
          "text": [
            "Epoch [308/5000]: Train loss: 266.8029, Valid loss: 263.8543\n"
          ]
        },
        {
          "output_type": "stream",
          "name": "stderr",
          "text": [
            "Epoch [309/5000]: 100%|██████████| 10/10 [00:00<00:00, 84.41it/s, loss=269]\n"
          ]
        },
        {
          "output_type": "stream",
          "name": "stdout",
          "text": [
            "Epoch [309/5000]: Train loss: 265.5525, Valid loss: 263.9398\n"
          ]
        },
        {
          "output_type": "stream",
          "name": "stderr",
          "text": [
            "Epoch [310/5000]: 100%|██████████| 10/10 [00:00<00:00, 97.06it/s, loss=314]\n"
          ]
        },
        {
          "output_type": "stream",
          "name": "stdout",
          "text": [
            "Epoch [310/5000]: Train loss: 267.5273, Valid loss: 271.6273\n"
          ]
        },
        {
          "output_type": "stream",
          "name": "stderr",
          "text": [
            "Epoch [311/5000]: 100%|██████████| 10/10 [00:00<00:00, 101.01it/s, loss=257]\n"
          ]
        },
        {
          "output_type": "stream",
          "name": "stdout",
          "text": [
            "Epoch [311/5000]: Train loss: 263.4459, Valid loss: 266.1895\n"
          ]
        },
        {
          "output_type": "stream",
          "name": "stderr",
          "text": [
            "Epoch [312/5000]: 100%|██████████| 10/10 [00:00<00:00, 92.74it/s, loss=316]\n"
          ]
        },
        {
          "output_type": "stream",
          "name": "stdout",
          "text": [
            "Epoch [312/5000]: Train loss: 266.2676, Valid loss: 265.5064\n"
          ]
        },
        {
          "output_type": "stream",
          "name": "stderr",
          "text": [
            "Epoch [313/5000]: 100%|██████████| 10/10 [00:00<00:00, 91.24it/s, loss=302]\n"
          ]
        },
        {
          "output_type": "stream",
          "name": "stdout",
          "text": [
            "Epoch [313/5000]: Train loss: 264.7603, Valid loss: 254.8497\n",
            "Saving model with loss 254.850...\n"
          ]
        },
        {
          "output_type": "stream",
          "name": "stderr",
          "text": [
            "Epoch [314/5000]: 100%|██████████| 10/10 [00:00<00:00, 92.01it/s, loss=289]\n"
          ]
        },
        {
          "output_type": "stream",
          "name": "stdout",
          "text": [
            "Epoch [314/5000]: Train loss: 263.2481, Valid loss: 256.9951\n"
          ]
        },
        {
          "output_type": "stream",
          "name": "stderr",
          "text": [
            "Epoch [315/5000]: 100%|██████████| 10/10 [00:00<00:00, 84.06it/s, loss=241]\n"
          ]
        },
        {
          "output_type": "stream",
          "name": "stdout",
          "text": [
            "Epoch [315/5000]: Train loss: 259.7076, Valid loss: 259.5933\n"
          ]
        },
        {
          "output_type": "stream",
          "name": "stderr",
          "text": [
            "Epoch [316/5000]: 100%|██████████| 10/10 [00:00<00:00, 93.85it/s, loss=288]\n"
          ]
        },
        {
          "output_type": "stream",
          "name": "stdout",
          "text": [
            "Epoch [316/5000]: Train loss: 261.7762, Valid loss: 252.9526\n",
            "Saving model with loss 252.953...\n"
          ]
        },
        {
          "output_type": "stream",
          "name": "stderr",
          "text": [
            "Epoch [317/5000]: 100%|██████████| 10/10 [00:00<00:00, 90.70it/s, loss=224]\n"
          ]
        },
        {
          "output_type": "stream",
          "name": "stdout",
          "text": [
            "Epoch [317/5000]: Train loss: 257.2971, Valid loss: 258.0365\n"
          ]
        },
        {
          "output_type": "stream",
          "name": "stderr",
          "text": [
            "Epoch [318/5000]: 100%|██████████| 10/10 [00:00<00:00, 87.21it/s, loss=266]\n"
          ]
        },
        {
          "output_type": "stream",
          "name": "stdout",
          "text": [
            "Epoch [318/5000]: Train loss: 259.1064, Valid loss: 264.9949\n"
          ]
        },
        {
          "output_type": "stream",
          "name": "stderr",
          "text": [
            "Epoch [319/5000]: 100%|██████████| 10/10 [00:00<00:00, 94.41it/s, loss=240]\n"
          ]
        },
        {
          "output_type": "stream",
          "name": "stdout",
          "text": [
            "Epoch [319/5000]: Train loss: 256.8398, Valid loss: 252.3025\n",
            "Saving model with loss 252.302...\n"
          ]
        },
        {
          "output_type": "stream",
          "name": "stderr",
          "text": [
            "Epoch [320/5000]: 100%|██████████| 10/10 [00:00<00:00, 93.61it/s, loss=232]\n"
          ]
        },
        {
          "output_type": "stream",
          "name": "stdout",
          "text": [
            "Epoch [320/5000]: Train loss: 255.6649, Valid loss: 271.0938\n"
          ]
        },
        {
          "output_type": "stream",
          "name": "stderr",
          "text": [
            "Epoch [321/5000]: 100%|██████████| 10/10 [00:00<00:00, 94.30it/s, loss=299]\n"
          ]
        },
        {
          "output_type": "stream",
          "name": "stdout",
          "text": [
            "Epoch [321/5000]: Train loss: 258.9601, Valid loss: 250.3651\n",
            "Saving model with loss 250.365...\n"
          ]
        },
        {
          "output_type": "stream",
          "name": "stderr",
          "text": [
            "Epoch [322/5000]: 100%|██████████| 10/10 [00:00<00:00, 90.84it/s, loss=275]\n"
          ]
        },
        {
          "output_type": "stream",
          "name": "stdout",
          "text": [
            "Epoch [322/5000]: Train loss: 256.8118, Valid loss: 252.5798\n"
          ]
        },
        {
          "output_type": "stream",
          "name": "stderr",
          "text": [
            "Epoch [323/5000]: 100%|██████████| 10/10 [00:00<00:00, 86.82it/s, loss=252]\n"
          ]
        },
        {
          "output_type": "stream",
          "name": "stdout",
          "text": [
            "Epoch [323/5000]: Train loss: 254.7273, Valid loss: 251.2438\n"
          ]
        },
        {
          "output_type": "stream",
          "name": "stderr",
          "text": [
            "Epoch [324/5000]: 100%|██████████| 10/10 [00:00<00:00, 87.67it/s, loss=277]\n"
          ]
        },
        {
          "output_type": "stream",
          "name": "stdout",
          "text": [
            "Epoch [324/5000]: Train loss: 255.4756, Valid loss: 249.9542\n",
            "Saving model with loss 249.954...\n"
          ]
        },
        {
          "output_type": "stream",
          "name": "stderr",
          "text": [
            "Epoch [325/5000]: 100%|██████████| 10/10 [00:00<00:00, 118.58it/s, loss=264]\n"
          ]
        },
        {
          "output_type": "stream",
          "name": "stdout",
          "text": [
            "Epoch [325/5000]: Train loss: 254.0316, Valid loss: 252.3012\n"
          ]
        },
        {
          "output_type": "stream",
          "name": "stderr",
          "text": [
            "Epoch [326/5000]: 100%|██████████| 10/10 [00:00<00:00, 112.39it/s, loss=226]\n"
          ]
        },
        {
          "output_type": "stream",
          "name": "stdout",
          "text": [
            "Epoch [326/5000]: Train loss: 251.0522, Valid loss: 239.7671\n",
            "Saving model with loss 239.767...\n"
          ]
        },
        {
          "output_type": "stream",
          "name": "stderr",
          "text": [
            "Epoch [327/5000]: 100%|██████████| 10/10 [00:00<00:00, 95.73it/s, loss=268]\n"
          ]
        },
        {
          "output_type": "stream",
          "name": "stdout",
          "text": [
            "Epoch [327/5000]: Train loss: 252.8135, Valid loss: 250.2007\n"
          ]
        },
        {
          "output_type": "stream",
          "name": "stderr",
          "text": [
            "Epoch [328/5000]: 100%|██████████| 10/10 [00:00<00:00, 104.66it/s, loss=256]\n"
          ]
        },
        {
          "output_type": "stream",
          "name": "stdout",
          "text": [
            "Epoch [328/5000]: Train loss: 251.4333, Valid loss: 250.0738\n"
          ]
        },
        {
          "output_type": "stream",
          "name": "stderr",
          "text": [
            "Epoch [329/5000]: 100%|██████████| 10/10 [00:00<00:00, 104.26it/s, loss=286]\n"
          ]
        },
        {
          "output_type": "stream",
          "name": "stdout",
          "text": [
            "Epoch [329/5000]: Train loss: 252.5068, Valid loss: 250.4402\n"
          ]
        },
        {
          "output_type": "stream",
          "name": "stderr",
          "text": [
            "Epoch [330/5000]: 100%|██████████| 10/10 [00:00<00:00, 103.47it/s, loss=192]\n"
          ]
        },
        {
          "output_type": "stream",
          "name": "stdout",
          "text": [
            "Epoch [330/5000]: Train loss: 246.2040, Valid loss: 233.9954\n",
            "Saving model with loss 233.995...\n"
          ]
        },
        {
          "output_type": "stream",
          "name": "stderr",
          "text": [
            "Epoch [331/5000]: 100%|██████████| 10/10 [00:00<00:00, 109.87it/s, loss=206]\n"
          ]
        },
        {
          "output_type": "stream",
          "name": "stdout",
          "text": [
            "Epoch [331/5000]: Train loss: 246.2748, Valid loss: 246.5463\n"
          ]
        },
        {
          "output_type": "stream",
          "name": "stderr",
          "text": [
            "Epoch [332/5000]: 100%|██████████| 10/10 [00:00<00:00, 105.01it/s, loss=287]\n"
          ]
        },
        {
          "output_type": "stream",
          "name": "stdout",
          "text": [
            "Epoch [332/5000]: Train loss: 250.3562, Valid loss: 237.3815\n"
          ]
        },
        {
          "output_type": "stream",
          "name": "stderr",
          "text": [
            "Epoch [333/5000]: 100%|██████████| 10/10 [00:00<00:00, 95.37it/s, loss=261]\n"
          ]
        },
        {
          "output_type": "stream",
          "name": "stdout",
          "text": [
            "Epoch [333/5000]: Train loss: 248.1090, Valid loss: 246.3101\n"
          ]
        },
        {
          "output_type": "stream",
          "name": "stderr",
          "text": [
            "Epoch [334/5000]: 100%|██████████| 10/10 [00:00<00:00, 100.00it/s, loss=210]\n"
          ]
        },
        {
          "output_type": "stream",
          "name": "stdout",
          "text": [
            "Epoch [334/5000]: Train loss: 244.3684, Valid loss: 248.9436\n"
          ]
        },
        {
          "output_type": "stream",
          "name": "stderr",
          "text": [
            "Epoch [335/5000]: 100%|██████████| 10/10 [00:00<00:00, 104.02it/s, loss=296]\n"
          ]
        },
        {
          "output_type": "stream",
          "name": "stdout",
          "text": [
            "Epoch [335/5000]: Train loss: 248.7832, Valid loss: 241.5924\n"
          ]
        },
        {
          "output_type": "stream",
          "name": "stderr",
          "text": [
            "Epoch [336/5000]: 100%|██████████| 10/10 [00:00<00:00, 100.05it/s, loss=252]\n"
          ]
        },
        {
          "output_type": "stream",
          "name": "stdout",
          "text": [
            "Epoch [336/5000]: Train loss: 245.4035, Valid loss: 232.6661\n",
            "Saving model with loss 232.666...\n"
          ]
        },
        {
          "output_type": "stream",
          "name": "stderr",
          "text": [
            "Epoch [337/5000]: 100%|██████████| 10/10 [00:00<00:00, 95.24it/s, loss=214]\n"
          ]
        },
        {
          "output_type": "stream",
          "name": "stdout",
          "text": [
            "Epoch [337/5000]: Train loss: 242.4125, Valid loss: 233.1983\n"
          ]
        },
        {
          "output_type": "stream",
          "name": "stderr",
          "text": [
            "Epoch [338/5000]: 100%|██████████| 10/10 [00:00<00:00, 96.25it/s, loss=200]\n"
          ]
        },
        {
          "output_type": "stream",
          "name": "stdout",
          "text": [
            "Epoch [338/5000]: Train loss: 240.8773, Valid loss: 232.5727\n",
            "Saving model with loss 232.573...\n"
          ]
        },
        {
          "output_type": "stream",
          "name": "stderr",
          "text": [
            "Epoch [339/5000]: 100%|██████████| 10/10 [00:00<00:00, 105.38it/s, loss=251]\n"
          ]
        },
        {
          "output_type": "stream",
          "name": "stdout",
          "text": [
            "Epoch [339/5000]: Train loss: 243.2055, Valid loss: 239.6541\n"
          ]
        },
        {
          "output_type": "stream",
          "name": "stderr",
          "text": [
            "Epoch [340/5000]: 100%|██████████| 10/10 [00:00<00:00, 95.15it/s, loss=289]\n"
          ]
        },
        {
          "output_type": "stream",
          "name": "stdout",
          "text": [
            "Epoch [340/5000]: Train loss: 244.6955, Valid loss: 236.7587\n"
          ]
        },
        {
          "output_type": "stream",
          "name": "stderr",
          "text": [
            "Epoch [341/5000]: 100%|██████████| 10/10 [00:00<00:00, 89.05it/s, loss=226]\n"
          ]
        },
        {
          "output_type": "stream",
          "name": "stdout",
          "text": [
            "Epoch [341/5000]: Train loss: 240.2538, Valid loss: 251.2311\n"
          ]
        },
        {
          "output_type": "stream",
          "name": "stderr",
          "text": [
            "Epoch [342/5000]: 100%|██████████| 10/10 [00:00<00:00, 99.85it/s, loss=222]\n"
          ]
        },
        {
          "output_type": "stream",
          "name": "stdout",
          "text": [
            "Epoch [342/5000]: Train loss: 239.2614, Valid loss: 241.3480\n"
          ]
        },
        {
          "output_type": "stream",
          "name": "stderr",
          "text": [
            "Epoch [343/5000]: 100%|██████████| 10/10 [00:00<00:00, 107.22it/s, loss=236]\n"
          ]
        },
        {
          "output_type": "stream",
          "name": "stdout",
          "text": [
            "Epoch [343/5000]: Train loss: 239.3833, Valid loss: 232.2782\n",
            "Saving model with loss 232.278...\n"
          ]
        },
        {
          "output_type": "stream",
          "name": "stderr",
          "text": [
            "Epoch [344/5000]: 100%|██████████| 10/10 [00:00<00:00, 95.83it/s, loss=249]\n"
          ]
        },
        {
          "output_type": "stream",
          "name": "stdout",
          "text": [
            "Epoch [344/5000]: Train loss: 239.4262, Valid loss: 232.3392\n"
          ]
        },
        {
          "output_type": "stream",
          "name": "stderr",
          "text": [
            "Epoch [345/5000]: 100%|██████████| 10/10 [00:00<00:00, 102.25it/s, loss=187]\n"
          ]
        },
        {
          "output_type": "stream",
          "name": "stdout",
          "text": [
            "Epoch [345/5000]: Train loss: 234.9955, Valid loss: 238.7820\n"
          ]
        },
        {
          "output_type": "stream",
          "name": "stderr",
          "text": [
            "Epoch [346/5000]: 100%|██████████| 10/10 [00:00<00:00, 103.18it/s, loss=265]\n"
          ]
        },
        {
          "output_type": "stream",
          "name": "stdout",
          "text": [
            "Epoch [346/5000]: Train loss: 238.9175, Valid loss: 237.2504\n"
          ]
        },
        {
          "output_type": "stream",
          "name": "stderr",
          "text": [
            "Epoch [347/5000]: 100%|██████████| 10/10 [00:00<00:00, 92.04it/s, loss=239]\n"
          ]
        },
        {
          "output_type": "stream",
          "name": "stdout",
          "text": [
            "Epoch [347/5000]: Train loss: 236.6470, Valid loss: 237.8028\n"
          ]
        },
        {
          "output_type": "stream",
          "name": "stderr",
          "text": [
            "Epoch [348/5000]: 100%|██████████| 10/10 [00:00<00:00, 95.35it/s, loss=236]\n"
          ]
        },
        {
          "output_type": "stream",
          "name": "stdout",
          "text": [
            "Epoch [348/5000]: Train loss: 235.7557, Valid loss: 236.8245\n"
          ]
        },
        {
          "output_type": "stream",
          "name": "stderr",
          "text": [
            "Epoch [349/5000]: 100%|██████████| 10/10 [00:00<00:00, 95.49it/s, loss=219]\n"
          ]
        },
        {
          "output_type": "stream",
          "name": "stdout",
          "text": [
            "Epoch [349/5000]: Train loss: 233.9904, Valid loss: 239.9330\n"
          ]
        },
        {
          "output_type": "stream",
          "name": "stderr",
          "text": [
            "Epoch [350/5000]: 100%|██████████| 10/10 [00:00<00:00, 93.18it/s, loss=256]\n"
          ]
        },
        {
          "output_type": "stream",
          "name": "stdout",
          "text": [
            "Epoch [350/5000]: Train loss: 235.4302, Valid loss: 231.6390\n",
            "Saving model with loss 231.639...\n"
          ]
        },
        {
          "output_type": "stream",
          "name": "stderr",
          "text": [
            "Epoch [351/5000]: 100%|██████████| 10/10 [00:00<00:00, 99.71it/s, loss=194]\n"
          ]
        },
        {
          "output_type": "stream",
          "name": "stdout",
          "text": [
            "Epoch [351/5000]: Train loss: 231.0357, Valid loss: 225.2204\n",
            "Saving model with loss 225.220...\n"
          ]
        },
        {
          "output_type": "stream",
          "name": "stderr",
          "text": [
            "Epoch [352/5000]: 100%|██████████| 10/10 [00:00<00:00, 99.95it/s, loss=220]\n"
          ]
        },
        {
          "output_type": "stream",
          "name": "stdout",
          "text": [
            "Epoch [352/5000]: Train loss: 231.8315, Valid loss: 228.4745\n"
          ]
        },
        {
          "output_type": "stream",
          "name": "stderr",
          "text": [
            "Epoch [353/5000]: 100%|██████████| 10/10 [00:00<00:00, 97.06it/s, loss=238]\n"
          ]
        },
        {
          "output_type": "stream",
          "name": "stdout",
          "text": [
            "Epoch [353/5000]: Train loss: 232.1857, Valid loss: 229.8441\n"
          ]
        },
        {
          "output_type": "stream",
          "name": "stderr",
          "text": [
            "Epoch [354/5000]: 100%|██████████| 10/10 [00:00<00:00, 95.05it/s, loss=289]\n"
          ]
        },
        {
          "output_type": "stream",
          "name": "stdout",
          "text": [
            "Epoch [354/5000]: Train loss: 234.4504, Valid loss: 230.7157\n"
          ]
        },
        {
          "output_type": "stream",
          "name": "stderr",
          "text": [
            "Epoch [355/5000]: 100%|██████████| 10/10 [00:00<00:00, 91.92it/s, loss=190]\n"
          ]
        },
        {
          "output_type": "stream",
          "name": "stdout",
          "text": [
            "Epoch [355/5000]: Train loss: 227.8652, Valid loss: 222.4893\n",
            "Saving model with loss 222.489...\n"
          ]
        },
        {
          "output_type": "stream",
          "name": "stderr",
          "text": [
            "Epoch [356/5000]: 100%|██████████| 10/10 [00:00<00:00, 93.69it/s, loss=213]\n"
          ]
        },
        {
          "output_type": "stream",
          "name": "stdout",
          "text": [
            "Epoch [356/5000]: Train loss: 228.4947, Valid loss: 220.1824\n",
            "Saving model with loss 220.182...\n"
          ]
        },
        {
          "output_type": "stream",
          "name": "stderr",
          "text": [
            "Epoch [357/5000]: 100%|██████████| 10/10 [00:00<00:00, 88.43it/s, loss=224]\n"
          ]
        },
        {
          "output_type": "stream",
          "name": "stdout",
          "text": [
            "Epoch [357/5000]: Train loss: 228.4125, Valid loss: 222.1290\n"
          ]
        },
        {
          "output_type": "stream",
          "name": "stderr",
          "text": [
            "Epoch [358/5000]: 100%|██████████| 10/10 [00:00<00:00, 90.94it/s, loss=216]\n"
          ]
        },
        {
          "output_type": "stream",
          "name": "stdout",
          "text": [
            "Epoch [358/5000]: Train loss: 227.1545, Valid loss: 233.5912\n"
          ]
        },
        {
          "output_type": "stream",
          "name": "stderr",
          "text": [
            "Epoch [359/5000]: 100%|██████████| 10/10 [00:00<00:00, 107.51it/s, loss=219]\n"
          ]
        },
        {
          "output_type": "stream",
          "name": "stdout",
          "text": [
            "Epoch [359/5000]: Train loss: 226.5835, Valid loss: 239.0640\n"
          ]
        },
        {
          "output_type": "stream",
          "name": "stderr",
          "text": [
            "Epoch [360/5000]: 100%|██████████| 10/10 [00:00<00:00, 78.50it/s, loss=209]\n"
          ]
        },
        {
          "output_type": "stream",
          "name": "stdout",
          "text": [
            "Epoch [360/5000]: Train loss: 225.2876, Valid loss: 219.0688\n",
            "Saving model with loss 219.069...\n"
          ]
        },
        {
          "output_type": "stream",
          "name": "stderr",
          "text": [
            "Epoch [361/5000]: 100%|██████████| 10/10 [00:00<00:00, 102.85it/s, loss=225]\n"
          ]
        },
        {
          "output_type": "stream",
          "name": "stdout",
          "text": [
            "Epoch [361/5000]: Train loss: 225.5036, Valid loss: 219.9433\n"
          ]
        },
        {
          "output_type": "stream",
          "name": "stderr",
          "text": [
            "Epoch [362/5000]: 100%|██████████| 10/10 [00:00<00:00, 112.40it/s, loss=216]\n"
          ]
        },
        {
          "output_type": "stream",
          "name": "stdout",
          "text": [
            "Epoch [362/5000]: Train loss: 224.1858, Valid loss: 216.7324\n",
            "Saving model with loss 216.732...\n"
          ]
        },
        {
          "output_type": "stream",
          "name": "stderr",
          "text": [
            "Epoch [363/5000]: 100%|██████████| 10/10 [00:00<00:00, 114.13it/s, loss=217]\n"
          ]
        },
        {
          "output_type": "stream",
          "name": "stdout",
          "text": [
            "Epoch [363/5000]: Train loss: 223.5205, Valid loss: 227.1814\n"
          ]
        },
        {
          "output_type": "stream",
          "name": "stderr",
          "text": [
            "Epoch [364/5000]: 100%|██████████| 10/10 [00:00<00:00, 81.17it/s, loss=291]\n"
          ]
        },
        {
          "output_type": "stream",
          "name": "stdout",
          "text": [
            "Epoch [364/5000]: Train loss: 227.2004, Valid loss: 230.4705\n"
          ]
        },
        {
          "output_type": "stream",
          "name": "stderr",
          "text": [
            "Epoch [365/5000]: 100%|██████████| 10/10 [00:00<00:00, 104.27it/s, loss=237]\n"
          ]
        },
        {
          "output_type": "stream",
          "name": "stdout",
          "text": [
            "Epoch [365/5000]: Train loss: 223.2213, Valid loss: 209.4859\n",
            "Saving model with loss 209.486...\n"
          ]
        },
        {
          "output_type": "stream",
          "name": "stderr",
          "text": [
            "Epoch [366/5000]: 100%|██████████| 10/10 [00:00<00:00, 100.50it/s, loss=197]\n"
          ]
        },
        {
          "output_type": "stream",
          "name": "stdout",
          "text": [
            "Epoch [366/5000]: Train loss: 220.1198, Valid loss: 229.4947\n"
          ]
        },
        {
          "output_type": "stream",
          "name": "stderr",
          "text": [
            "Epoch [367/5000]: 100%|██████████| 10/10 [00:00<00:00, 103.38it/s, loss=247]\n"
          ]
        },
        {
          "output_type": "stream",
          "name": "stdout",
          "text": [
            "Epoch [367/5000]: Train loss: 222.3401, Valid loss: 221.2213\n"
          ]
        },
        {
          "output_type": "stream",
          "name": "stderr",
          "text": [
            "Epoch [368/5000]: 100%|██████████| 10/10 [00:00<00:00, 109.96it/s, loss=217]\n"
          ]
        },
        {
          "output_type": "stream",
          "name": "stdout",
          "text": [
            "Epoch [368/5000]: Train loss: 219.7888, Valid loss: 220.9212\n"
          ]
        },
        {
          "output_type": "stream",
          "name": "stderr",
          "text": [
            "Epoch [369/5000]: 100%|██████████| 10/10 [00:00<00:00, 91.62it/s, loss=212]\n"
          ]
        },
        {
          "output_type": "stream",
          "name": "stdout",
          "text": [
            "Epoch [369/5000]: Train loss: 218.7425, Valid loss: 222.1086\n"
          ]
        },
        {
          "output_type": "stream",
          "name": "stderr",
          "text": [
            "Epoch [370/5000]: 100%|██████████| 10/10 [00:00<00:00, 106.45it/s, loss=222]\n"
          ]
        },
        {
          "output_type": "stream",
          "name": "stdout",
          "text": [
            "Epoch [370/5000]: Train loss: 218.5786, Valid loss: 213.5645\n"
          ]
        },
        {
          "output_type": "stream",
          "name": "stderr",
          "text": [
            "Epoch [371/5000]: 100%|██████████| 10/10 [00:00<00:00, 117.13it/s, loss=215]\n"
          ]
        },
        {
          "output_type": "stream",
          "name": "stdout",
          "text": [
            "Epoch [371/5000]: Train loss: 217.4307, Valid loss: 218.4498\n"
          ]
        },
        {
          "output_type": "stream",
          "name": "stderr",
          "text": [
            "Epoch [372/5000]: 100%|██████████| 10/10 [00:00<00:00, 110.73it/s, loss=239]\n"
          ]
        },
        {
          "output_type": "stream",
          "name": "stdout",
          "text": [
            "Epoch [372/5000]: Train loss: 218.1336, Valid loss: 211.7118\n"
          ]
        },
        {
          "output_type": "stream",
          "name": "stderr",
          "text": [
            "Epoch [373/5000]: 100%|██████████| 10/10 [00:00<00:00, 113.03it/s, loss=220]\n"
          ]
        },
        {
          "output_type": "stream",
          "name": "stdout",
          "text": [
            "Epoch [373/5000]: Train loss: 216.1945, Valid loss: 216.3171\n"
          ]
        },
        {
          "output_type": "stream",
          "name": "stderr",
          "text": [
            "Epoch [374/5000]: 100%|██████████| 10/10 [00:00<00:00, 106.74it/s, loss=211]\n"
          ]
        },
        {
          "output_type": "stream",
          "name": "stdout",
          "text": [
            "Epoch [374/5000]: Train loss: 214.9204, Valid loss: 210.0450\n"
          ]
        },
        {
          "output_type": "stream",
          "name": "stderr",
          "text": [
            "Epoch [375/5000]: 100%|██████████| 10/10 [00:00<00:00, 105.33it/s, loss=221]\n"
          ]
        },
        {
          "output_type": "stream",
          "name": "stdout",
          "text": [
            "Epoch [375/5000]: Train loss: 214.7858, Valid loss: 208.0406\n",
            "Saving model with loss 208.041...\n"
          ]
        },
        {
          "output_type": "stream",
          "name": "stderr",
          "text": [
            "Epoch [376/5000]: 100%|██████████| 10/10 [00:00<00:00, 104.17it/s, loss=235]\n"
          ]
        },
        {
          "output_type": "stream",
          "name": "stdout",
          "text": [
            "Epoch [376/5000]: Train loss: 214.8636, Valid loss: 209.5578\n"
          ]
        },
        {
          "output_type": "stream",
          "name": "stderr",
          "text": [
            "Epoch [377/5000]: 100%|██████████| 10/10 [00:00<00:00, 115.11it/s, loss=190]\n"
          ]
        },
        {
          "output_type": "stream",
          "name": "stdout",
          "text": [
            "Epoch [377/5000]: Train loss: 211.4207, Valid loss: 213.3737\n"
          ]
        },
        {
          "output_type": "stream",
          "name": "stderr",
          "text": [
            "Epoch [378/5000]: 100%|██████████| 10/10 [00:00<00:00, 99.60it/s, loss=226]\n"
          ]
        },
        {
          "output_type": "stream",
          "name": "stdout",
          "text": [
            "Epoch [378/5000]: Train loss: 212.8472, Valid loss: 200.6627\n",
            "Saving model with loss 200.663...\n"
          ]
        },
        {
          "output_type": "stream",
          "name": "stderr",
          "text": [
            "Epoch [379/5000]: 100%|██████████| 10/10 [00:00<00:00, 102.29it/s, loss=217]\n"
          ]
        },
        {
          "output_type": "stream",
          "name": "stdout",
          "text": [
            "Epoch [379/5000]: Train loss: 211.5126, Valid loss: 207.9591\n"
          ]
        },
        {
          "output_type": "stream",
          "name": "stderr",
          "text": [
            "Epoch [380/5000]: 100%|██████████| 10/10 [00:00<00:00, 111.14it/s, loss=193]\n"
          ]
        },
        {
          "output_type": "stream",
          "name": "stdout",
          "text": [
            "Epoch [380/5000]: Train loss: 209.3615, Valid loss: 200.5029\n",
            "Saving model with loss 200.503...\n"
          ]
        },
        {
          "output_type": "stream",
          "name": "stderr",
          "text": [
            "Epoch [381/5000]: 100%|██████████| 10/10 [00:00<00:00, 113.80it/s, loss=195]\n"
          ]
        },
        {
          "output_type": "stream",
          "name": "stdout",
          "text": [
            "Epoch [381/5000]: Train loss: 208.7437, Valid loss: 218.5529\n"
          ]
        },
        {
          "output_type": "stream",
          "name": "stderr",
          "text": [
            "Epoch [382/5000]: 100%|██████████| 10/10 [00:00<00:00, 95.15it/s, loss=206]\n"
          ]
        },
        {
          "output_type": "stream",
          "name": "stdout",
          "text": [
            "Epoch [382/5000]: Train loss: 208.6261, Valid loss: 205.3828\n"
          ]
        },
        {
          "output_type": "stream",
          "name": "stderr",
          "text": [
            "Epoch [383/5000]: 100%|██████████| 10/10 [00:00<00:00, 93.70it/s, loss=199]\n"
          ]
        },
        {
          "output_type": "stream",
          "name": "stdout",
          "text": [
            "Epoch [383/5000]: Train loss: 207.4443, Valid loss: 200.1478\n",
            "Saving model with loss 200.148...\n"
          ]
        },
        {
          "output_type": "stream",
          "name": "stderr",
          "text": [
            "Epoch [384/5000]: 100%|██████████| 10/10 [00:00<00:00, 99.87it/s, loss=207]\n"
          ]
        },
        {
          "output_type": "stream",
          "name": "stdout",
          "text": [
            "Epoch [384/5000]: Train loss: 207.1761, Valid loss: 194.3616\n",
            "Saving model with loss 194.362...\n"
          ]
        },
        {
          "output_type": "stream",
          "name": "stderr",
          "text": [
            "Epoch [385/5000]: 100%|██████████| 10/10 [00:00<00:00, 103.25it/s, loss=212]\n"
          ]
        },
        {
          "output_type": "stream",
          "name": "stdout",
          "text": [
            "Epoch [385/5000]: Train loss: 206.7514, Valid loss: 203.4259\n"
          ]
        },
        {
          "output_type": "stream",
          "name": "stderr",
          "text": [
            "Epoch [386/5000]: 100%|██████████| 10/10 [00:00<00:00, 99.97it/s, loss=206]\n"
          ]
        },
        {
          "output_type": "stream",
          "name": "stdout",
          "text": [
            "Epoch [386/5000]: Train loss: 205.6063, Valid loss: 205.3862\n"
          ]
        },
        {
          "output_type": "stream",
          "name": "stderr",
          "text": [
            "Epoch [387/5000]: 100%|██████████| 10/10 [00:00<00:00, 101.31it/s, loss=220]\n"
          ]
        },
        {
          "output_type": "stream",
          "name": "stdout",
          "text": [
            "Epoch [387/5000]: Train loss: 205.6649, Valid loss: 197.5299\n"
          ]
        },
        {
          "output_type": "stream",
          "name": "stderr",
          "text": [
            "Epoch [388/5000]: 100%|██████████| 10/10 [00:00<00:00, 21.56it/s, loss=177]\n"
          ]
        },
        {
          "output_type": "stream",
          "name": "stdout",
          "text": [
            "Epoch [388/5000]: Train loss: 202.3750, Valid loss: 214.5372\n"
          ]
        },
        {
          "output_type": "stream",
          "name": "stderr",
          "text": [
            "Epoch [389/5000]: 100%|██████████| 10/10 [00:00<00:00, 78.98it/s, loss=230]\n"
          ]
        },
        {
          "output_type": "stream",
          "name": "stdout",
          "text": [
            "Epoch [389/5000]: Train loss: 204.7459, Valid loss: 202.5574\n"
          ]
        },
        {
          "output_type": "stream",
          "name": "stderr",
          "text": [
            "Epoch [390/5000]: 100%|██████████| 10/10 [00:00<00:00, 91.56it/s, loss=156]\n"
          ]
        },
        {
          "output_type": "stream",
          "name": "stdout",
          "text": [
            "Epoch [390/5000]: Train loss: 199.6516, Valid loss: 196.5769\n"
          ]
        },
        {
          "output_type": "stream",
          "name": "stderr",
          "text": [
            "Epoch [391/5000]: 100%|██████████| 10/10 [00:00<00:00, 95.36it/s, loss=177]\n"
          ]
        },
        {
          "output_type": "stream",
          "name": "stdout",
          "text": [
            "Epoch [391/5000]: Train loss: 200.1253, Valid loss: 206.6196\n"
          ]
        },
        {
          "output_type": "stream",
          "name": "stderr",
          "text": [
            "Epoch [392/5000]: 100%|██████████| 10/10 [00:00<00:00, 82.51it/s, loss=186]\n"
          ]
        },
        {
          "output_type": "stream",
          "name": "stdout",
          "text": [
            "Epoch [392/5000]: Train loss: 199.8942, Valid loss: 185.4738\n",
            "Saving model with loss 185.474...\n"
          ]
        },
        {
          "output_type": "stream",
          "name": "stderr",
          "text": [
            "Epoch [393/5000]: 100%|██████████| 10/10 [00:00<00:00, 103.74it/s, loss=176]\n"
          ]
        },
        {
          "output_type": "stream",
          "name": "stdout",
          "text": [
            "Epoch [393/5000]: Train loss: 198.5383, Valid loss: 189.1369\n"
          ]
        },
        {
          "output_type": "stream",
          "name": "stderr",
          "text": [
            "Epoch [394/5000]: 100%|██████████| 10/10 [00:00<00:00, 101.14it/s, loss=195]\n"
          ]
        },
        {
          "output_type": "stream",
          "name": "stdout",
          "text": [
            "Epoch [394/5000]: Train loss: 198.9494, Valid loss: 198.4014\n"
          ]
        },
        {
          "output_type": "stream",
          "name": "stderr",
          "text": [
            "Epoch [395/5000]: 100%|██████████| 10/10 [00:00<00:00, 88.64it/s, loss=183]\n"
          ]
        },
        {
          "output_type": "stream",
          "name": "stdout",
          "text": [
            "Epoch [395/5000]: Train loss: 197.4557, Valid loss: 198.8757\n"
          ]
        },
        {
          "output_type": "stream",
          "name": "stderr",
          "text": [
            "Epoch [396/5000]: 100%|██████████| 10/10 [00:00<00:00, 92.53it/s, loss=168]\n"
          ]
        },
        {
          "output_type": "stream",
          "name": "stdout",
          "text": [
            "Epoch [396/5000]: Train loss: 195.8407, Valid loss: 191.2780\n"
          ]
        },
        {
          "output_type": "stream",
          "name": "stderr",
          "text": [
            "Epoch [397/5000]: 100%|██████████| 10/10 [00:00<00:00, 83.64it/s, loss=171]\n"
          ]
        },
        {
          "output_type": "stream",
          "name": "stdout",
          "text": [
            "Epoch [397/5000]: Train loss: 195.2634, Valid loss: 196.4427\n"
          ]
        },
        {
          "output_type": "stream",
          "name": "stderr",
          "text": [
            "Epoch [398/5000]: 100%|██████████| 10/10 [00:00<00:00, 100.27it/s, loss=193]\n"
          ]
        },
        {
          "output_type": "stream",
          "name": "stdout",
          "text": [
            "Epoch [398/5000]: Train loss: 195.8315, Valid loss: 203.4949\n"
          ]
        },
        {
          "output_type": "stream",
          "name": "stderr",
          "text": [
            "Epoch [399/5000]: 100%|██████████| 10/10 [00:00<00:00, 82.98it/s, loss=164]\n"
          ]
        },
        {
          "output_type": "stream",
          "name": "stdout",
          "text": [
            "Epoch [399/5000]: Train loss: 193.3081, Valid loss: 199.5208\n"
          ]
        },
        {
          "output_type": "stream",
          "name": "stderr",
          "text": [
            "Epoch [400/5000]: 100%|██████████| 10/10 [00:00<00:00, 95.86it/s, loss=204]\n"
          ]
        },
        {
          "output_type": "stream",
          "name": "stdout",
          "text": [
            "Epoch [400/5000]: Train loss: 194.9669, Valid loss: 186.3920\n"
          ]
        },
        {
          "output_type": "stream",
          "name": "stderr",
          "text": [
            "Epoch [401/5000]: 100%|██████████| 10/10 [00:00<00:00, 102.52it/s, loss=177]\n"
          ]
        },
        {
          "output_type": "stream",
          "name": "stdout",
          "text": [
            "Epoch [401/5000]: Train loss: 192.6045, Valid loss: 181.5334\n",
            "Saving model with loss 181.533...\n"
          ]
        },
        {
          "output_type": "stream",
          "name": "stderr",
          "text": [
            "Epoch [402/5000]: 100%|██████████| 10/10 [00:00<00:00, 100.53it/s, loss=199]\n"
          ]
        },
        {
          "output_type": "stream",
          "name": "stdout",
          "text": [
            "Epoch [402/5000]: Train loss: 193.1635, Valid loss: 195.1238\n"
          ]
        },
        {
          "output_type": "stream",
          "name": "stderr",
          "text": [
            "Epoch [403/5000]: 100%|██████████| 10/10 [00:00<00:00, 106.14it/s, loss=196]\n"
          ]
        },
        {
          "output_type": "stream",
          "name": "stdout",
          "text": [
            "Epoch [403/5000]: Train loss: 192.2337, Valid loss: 197.3705\n"
          ]
        },
        {
          "output_type": "stream",
          "name": "stderr",
          "text": [
            "Epoch [404/5000]: 100%|██████████| 10/10 [00:00<00:00, 113.24it/s, loss=207]\n"
          ]
        },
        {
          "output_type": "stream",
          "name": "stdout",
          "text": [
            "Epoch [404/5000]: Train loss: 192.0952, Valid loss: 182.5329\n"
          ]
        },
        {
          "output_type": "stream",
          "name": "stderr",
          "text": [
            "Epoch [405/5000]: 100%|██████████| 10/10 [00:00<00:00, 107.46it/s, loss=181]\n"
          ]
        },
        {
          "output_type": "stream",
          "name": "stdout",
          "text": [
            "Epoch [405/5000]: Train loss: 189.7911, Valid loss: 187.0870\n"
          ]
        },
        {
          "output_type": "stream",
          "name": "stderr",
          "text": [
            "Epoch [406/5000]: 100%|██████████| 10/10 [00:00<00:00, 92.70it/s, loss=184]\n"
          ]
        },
        {
          "output_type": "stream",
          "name": "stdout",
          "text": [
            "Epoch [406/5000]: Train loss: 189.2094, Valid loss: 184.4717\n"
          ]
        },
        {
          "output_type": "stream",
          "name": "stderr",
          "text": [
            "Epoch [407/5000]: 100%|██████████| 10/10 [00:00<00:00, 112.54it/s, loss=169]\n"
          ]
        },
        {
          "output_type": "stream",
          "name": "stdout",
          "text": [
            "Epoch [407/5000]: Train loss: 187.5588, Valid loss: 189.6677\n"
          ]
        },
        {
          "output_type": "stream",
          "name": "stderr",
          "text": [
            "Epoch [408/5000]: 100%|██████████| 10/10 [00:00<00:00, 100.24it/s, loss=179]\n"
          ]
        },
        {
          "output_type": "stream",
          "name": "stdout",
          "text": [
            "Epoch [408/5000]: Train loss: 187.4092, Valid loss: 184.0505\n"
          ]
        },
        {
          "output_type": "stream",
          "name": "stderr",
          "text": [
            "Epoch [409/5000]: 100%|██████████| 10/10 [00:00<00:00, 116.29it/s, loss=173]\n"
          ]
        },
        {
          "output_type": "stream",
          "name": "stdout",
          "text": [
            "Epoch [409/5000]: Train loss: 186.3194, Valid loss: 187.6311\n"
          ]
        },
        {
          "output_type": "stream",
          "name": "stderr",
          "text": [
            "Epoch [410/5000]: 100%|██████████| 10/10 [00:00<00:00, 116.58it/s, loss=160]\n"
          ]
        },
        {
          "output_type": "stream",
          "name": "stdout",
          "text": [
            "Epoch [410/5000]: Train loss: 184.8042, Valid loss: 183.2159\n"
          ]
        },
        {
          "output_type": "stream",
          "name": "stderr",
          "text": [
            "Epoch [411/5000]: 100%|██████████| 10/10 [00:00<00:00, 114.75it/s, loss=162]\n"
          ]
        },
        {
          "output_type": "stream",
          "name": "stdout",
          "text": [
            "Epoch [411/5000]: Train loss: 184.1704, Valid loss: 178.6386\n",
            "Saving model with loss 178.639...\n"
          ]
        },
        {
          "output_type": "stream",
          "name": "stderr",
          "text": [
            "Epoch [412/5000]: 100%|██████████| 10/10 [00:00<00:00, 117.53it/s, loss=219]\n"
          ]
        },
        {
          "output_type": "stream",
          "name": "stdout",
          "text": [
            "Epoch [412/5000]: Train loss: 186.7771, Valid loss: 182.8411\n"
          ]
        },
        {
          "output_type": "stream",
          "name": "stderr",
          "text": [
            "Epoch [413/5000]: 100%|██████████| 10/10 [00:00<00:00, 106.17it/s, loss=178]\n"
          ]
        },
        {
          "output_type": "stream",
          "name": "stdout",
          "text": [
            "Epoch [413/5000]: Train loss: 183.5705, Valid loss: 183.5788\n"
          ]
        },
        {
          "output_type": "stream",
          "name": "stderr",
          "text": [
            "Epoch [414/5000]: 100%|██████████| 10/10 [00:00<00:00, 102.23it/s, loss=216]\n"
          ]
        },
        {
          "output_type": "stream",
          "name": "stdout",
          "text": [
            "Epoch [414/5000]: Train loss: 185.0859, Valid loss: 177.4320\n",
            "Saving model with loss 177.432...\n"
          ]
        },
        {
          "output_type": "stream",
          "name": "stderr",
          "text": [
            "Epoch [415/5000]: 100%|██████████| 10/10 [00:00<00:00, 95.85it/s, loss=193]\n"
          ]
        },
        {
          "output_type": "stream",
          "name": "stdout",
          "text": [
            "Epoch [415/5000]: Train loss: 182.9829, Valid loss: 180.7014\n"
          ]
        },
        {
          "output_type": "stream",
          "name": "stderr",
          "text": [
            "Epoch [416/5000]: 100%|██████████| 10/10 [00:00<00:00, 93.19it/s, loss=134]\n"
          ]
        },
        {
          "output_type": "stream",
          "name": "stdout",
          "text": [
            "Epoch [416/5000]: Train loss: 178.7165, Valid loss: 186.5734\n"
          ]
        },
        {
          "output_type": "stream",
          "name": "stderr",
          "text": [
            "Epoch [417/5000]: 100%|██████████| 10/10 [00:00<00:00, 111.70it/s, loss=165]\n"
          ]
        },
        {
          "output_type": "stream",
          "name": "stdout",
          "text": [
            "Epoch [417/5000]: Train loss: 179.8030, Valid loss: 174.6072\n",
            "Saving model with loss 174.607...\n"
          ]
        },
        {
          "output_type": "stream",
          "name": "stderr",
          "text": [
            "Epoch [418/5000]: 100%|██████████| 10/10 [00:00<00:00, 96.45it/s, loss=167]\n"
          ]
        },
        {
          "output_type": "stream",
          "name": "stdout",
          "text": [
            "Epoch [418/5000]: Train loss: 179.1804, Valid loss: 173.1749\n",
            "Saving model with loss 173.175...\n"
          ]
        },
        {
          "output_type": "stream",
          "name": "stderr",
          "text": [
            "Epoch [419/5000]: 100%|██████████| 10/10 [00:00<00:00, 95.05it/s, loss=213]\n"
          ]
        },
        {
          "output_type": "stream",
          "name": "stdout",
          "text": [
            "Epoch [419/5000]: Train loss: 181.1454, Valid loss: 176.9331\n"
          ]
        },
        {
          "output_type": "stream",
          "name": "stderr",
          "text": [
            "Epoch [420/5000]: 100%|██████████| 10/10 [00:00<00:00, 110.45it/s, loss=192]\n"
          ]
        },
        {
          "output_type": "stream",
          "name": "stdout",
          "text": [
            "Epoch [420/5000]: Train loss: 179.1647, Valid loss: 189.7496\n"
          ]
        },
        {
          "output_type": "stream",
          "name": "stderr",
          "text": [
            "Epoch [421/5000]: 100%|██████████| 10/10 [00:00<00:00, 107.90it/s, loss=149]\n"
          ]
        },
        {
          "output_type": "stream",
          "name": "stdout",
          "text": [
            "Epoch [421/5000]: Train loss: 175.8489, Valid loss: 187.1812\n"
          ]
        },
        {
          "output_type": "stream",
          "name": "stderr",
          "text": [
            "Epoch [422/5000]: 100%|██████████| 10/10 [00:00<00:00, 94.11it/s, loss=173]\n"
          ]
        },
        {
          "output_type": "stream",
          "name": "stdout",
          "text": [
            "Epoch [422/5000]: Train loss: 176.5107, Valid loss: 177.9074\n"
          ]
        },
        {
          "output_type": "stream",
          "name": "stderr",
          "text": [
            "Epoch [423/5000]: 100%|██████████| 10/10 [00:00<00:00, 104.28it/s, loss=172]\n"
          ]
        },
        {
          "output_type": "stream",
          "name": "stdout",
          "text": [
            "Epoch [423/5000]: Train loss: 175.6995, Valid loss: 178.3190\n"
          ]
        },
        {
          "output_type": "stream",
          "name": "stderr",
          "text": [
            "Epoch [424/5000]: 100%|██████████| 10/10 [00:00<00:00, 107.40it/s, loss=185]\n"
          ]
        },
        {
          "output_type": "stream",
          "name": "stdout",
          "text": [
            "Epoch [424/5000]: Train loss: 175.7372, Valid loss: 172.7807\n",
            "Saving model with loss 172.781...\n"
          ]
        },
        {
          "output_type": "stream",
          "name": "stderr",
          "text": [
            "Epoch [425/5000]: 100%|██████████| 10/10 [00:00<00:00, 99.53it/s, loss=188]\n"
          ]
        },
        {
          "output_type": "stream",
          "name": "stdout",
          "text": [
            "Epoch [425/5000]: Train loss: 175.1263, Valid loss: 178.1255\n"
          ]
        },
        {
          "output_type": "stream",
          "name": "stderr",
          "text": [
            "Epoch [426/5000]: 100%|██████████| 10/10 [00:00<00:00, 107.38it/s, loss=187]\n"
          ]
        },
        {
          "output_type": "stream",
          "name": "stdout",
          "text": [
            "Epoch [426/5000]: Train loss: 174.3582, Valid loss: 170.2389\n",
            "Saving model with loss 170.239...\n"
          ]
        },
        {
          "output_type": "stream",
          "name": "stderr",
          "text": [
            "Epoch [427/5000]: 100%|██████████| 10/10 [00:00<00:00, 111.73it/s, loss=184]\n"
          ]
        },
        {
          "output_type": "stream",
          "name": "stdout",
          "text": [
            "Epoch [427/5000]: Train loss: 173.4004, Valid loss: 169.2046\n",
            "Saving model with loss 169.205...\n"
          ]
        },
        {
          "output_type": "stream",
          "name": "stderr",
          "text": [
            "Epoch [428/5000]: 100%|██████████| 10/10 [00:00<00:00, 105.44it/s, loss=172]\n"
          ]
        },
        {
          "output_type": "stream",
          "name": "stdout",
          "text": [
            "Epoch [428/5000]: Train loss: 171.9323, Valid loss: 174.2668\n"
          ]
        },
        {
          "output_type": "stream",
          "name": "stderr",
          "text": [
            "Epoch [429/5000]: 100%|██████████| 10/10 [00:00<00:00, 105.31it/s, loss=169]\n"
          ]
        },
        {
          "output_type": "stream",
          "name": "stdout",
          "text": [
            "Epoch [429/5000]: Train loss: 170.9999, Valid loss: 167.1182\n",
            "Saving model with loss 167.118...\n"
          ]
        },
        {
          "output_type": "stream",
          "name": "stderr",
          "text": [
            "Epoch [430/5000]: 100%|██████████| 10/10 [00:00<00:00, 105.31it/s, loss=167]\n"
          ]
        },
        {
          "output_type": "stream",
          "name": "stdout",
          "text": [
            "Epoch [430/5000]: Train loss: 170.1065, Valid loss: 174.6640\n"
          ]
        },
        {
          "output_type": "stream",
          "name": "stderr",
          "text": [
            "Epoch [431/5000]: 100%|██████████| 10/10 [00:00<00:00, 91.19it/s, loss=142]\n"
          ]
        },
        {
          "output_type": "stream",
          "name": "stdout",
          "text": [
            "Epoch [431/5000]: Train loss: 167.9115, Valid loss: 173.9627\n"
          ]
        },
        {
          "output_type": "stream",
          "name": "stderr",
          "text": [
            "Epoch [432/5000]: 100%|██████████| 10/10 [00:00<00:00, 96.70it/s, loss=160]\n"
          ]
        },
        {
          "output_type": "stream",
          "name": "stdout",
          "text": [
            "Epoch [432/5000]: Train loss: 168.2134, Valid loss: 171.2312\n"
          ]
        },
        {
          "output_type": "stream",
          "name": "stderr",
          "text": [
            "Epoch [433/5000]: 100%|██████████| 10/10 [00:00<00:00, 100.32it/s, loss=187]\n"
          ]
        },
        {
          "output_type": "stream",
          "name": "stdout",
          "text": [
            "Epoch [433/5000]: Train loss: 169.0754, Valid loss: 161.5686\n",
            "Saving model with loss 161.569...\n"
          ]
        },
        {
          "output_type": "stream",
          "name": "stderr",
          "text": [
            "Epoch [434/5000]: 100%|██████████| 10/10 [00:00<00:00, 100.46it/s, loss=169]\n"
          ]
        },
        {
          "output_type": "stream",
          "name": "stdout",
          "text": [
            "Epoch [434/5000]: Train loss: 167.2603, Valid loss: 164.7374\n"
          ]
        },
        {
          "output_type": "stream",
          "name": "stderr",
          "text": [
            "Epoch [435/5000]: 100%|██████████| 10/10 [00:00<00:00, 92.33it/s, loss=134]\n"
          ]
        },
        {
          "output_type": "stream",
          "name": "stdout",
          "text": [
            "Epoch [435/5000]: Train loss: 164.4568, Valid loss: 168.9268\n"
          ]
        },
        {
          "output_type": "stream",
          "name": "stderr",
          "text": [
            "Epoch [436/5000]: 100%|██████████| 10/10 [00:00<00:00, 97.19it/s, loss=205]\n"
          ]
        },
        {
          "output_type": "stream",
          "name": "stdout",
          "text": [
            "Epoch [436/5000]: Train loss: 167.8915, Valid loss: 162.8644\n"
          ]
        },
        {
          "output_type": "stream",
          "name": "stderr",
          "text": [
            "Epoch [437/5000]: 100%|██████████| 10/10 [00:00<00:00, 92.54it/s, loss=170]\n"
          ]
        },
        {
          "output_type": "stream",
          "name": "stdout",
          "text": [
            "Epoch [437/5000]: Train loss: 165.0740, Valid loss: 170.0055\n"
          ]
        },
        {
          "output_type": "stream",
          "name": "stderr",
          "text": [
            "Epoch [438/5000]: 100%|██████████| 10/10 [00:00<00:00, 97.82it/s, loss=176]\n"
          ]
        },
        {
          "output_type": "stream",
          "name": "stdout",
          "text": [
            "Epoch [438/5000]: Train loss: 164.7029, Valid loss: 168.9098\n"
          ]
        },
        {
          "output_type": "stream",
          "name": "stderr",
          "text": [
            "Epoch [439/5000]: 100%|██████████| 10/10 [00:00<00:00, 94.91it/s, loss=160]\n"
          ]
        },
        {
          "output_type": "stream",
          "name": "stdout",
          "text": [
            "Epoch [439/5000]: Train loss: 162.9779, Valid loss: 161.9709\n"
          ]
        },
        {
          "output_type": "stream",
          "name": "stderr",
          "text": [
            "Epoch [440/5000]: 100%|██████████| 10/10 [00:00<00:00, 95.70it/s, loss=131]\n"
          ]
        },
        {
          "output_type": "stream",
          "name": "stdout",
          "text": [
            "Epoch [440/5000]: Train loss: 160.5073, Valid loss: 155.3754\n",
            "Saving model with loss 155.375...\n"
          ]
        },
        {
          "output_type": "stream",
          "name": "stderr",
          "text": [
            "Epoch [441/5000]: 100%|██████████| 10/10 [00:00<00:00, 106.88it/s, loss=166]\n"
          ]
        },
        {
          "output_type": "stream",
          "name": "stdout",
          "text": [
            "Epoch [441/5000]: Train loss: 161.8805, Valid loss: 163.6906\n"
          ]
        },
        {
          "output_type": "stream",
          "name": "stderr",
          "text": [
            "Epoch [442/5000]: 100%|██████████| 10/10 [00:00<00:00, 89.71it/s, loss=155]\n"
          ]
        },
        {
          "output_type": "stream",
          "name": "stdout",
          "text": [
            "Epoch [442/5000]: Train loss: 160.4654, Valid loss: 160.0202\n"
          ]
        },
        {
          "output_type": "stream",
          "name": "stderr",
          "text": [
            "Epoch [443/5000]: 100%|██████████| 10/10 [00:00<00:00, 96.37it/s, loss=135]\n"
          ]
        },
        {
          "output_type": "stream",
          "name": "stdout",
          "text": [
            "Epoch [443/5000]: Train loss: 158.5549, Valid loss: 154.9702\n",
            "Saving model with loss 154.970...\n"
          ]
        },
        {
          "output_type": "stream",
          "name": "stderr",
          "text": [
            "Epoch [444/5000]: 100%|██████████| 10/10 [00:00<00:00, 85.33it/s, loss=137]\n"
          ]
        },
        {
          "output_type": "stream",
          "name": "stdout",
          "text": [
            "Epoch [444/5000]: Train loss: 157.9328, Valid loss: 156.7871\n"
          ]
        },
        {
          "output_type": "stream",
          "name": "stderr",
          "text": [
            "Epoch [445/5000]: 100%|██████████| 10/10 [00:00<00:00, 100.11it/s, loss=133]\n"
          ]
        },
        {
          "output_type": "stream",
          "name": "stdout",
          "text": [
            "Epoch [445/5000]: Train loss: 156.9218, Valid loss: 165.3192\n"
          ]
        },
        {
          "output_type": "stream",
          "name": "stderr",
          "text": [
            "Epoch [446/5000]: 100%|██████████| 10/10 [00:00<00:00, 104.27it/s, loss=169]\n"
          ]
        },
        {
          "output_type": "stream",
          "name": "stdout",
          "text": [
            "Epoch [446/5000]: Train loss: 158.3280, Valid loss: 159.0799\n"
          ]
        },
        {
          "output_type": "stream",
          "name": "stderr",
          "text": [
            "Epoch [447/5000]: 100%|██████████| 10/10 [00:00<00:00, 96.64it/s, loss=164]\n"
          ]
        },
        {
          "output_type": "stream",
          "name": "stdout",
          "text": [
            "Epoch [447/5000]: Train loss: 157.2829, Valid loss: 159.8758\n"
          ]
        },
        {
          "output_type": "stream",
          "name": "stderr",
          "text": [
            "Epoch [448/5000]: 100%|██████████| 10/10 [00:00<00:00, 104.19it/s, loss=162]\n"
          ]
        },
        {
          "output_type": "stream",
          "name": "stdout",
          "text": [
            "Epoch [448/5000]: Train loss: 156.4490, Valid loss: 155.7651\n"
          ]
        },
        {
          "output_type": "stream",
          "name": "stderr",
          "text": [
            "Epoch [449/5000]: 100%|██████████| 10/10 [00:00<00:00, 100.09it/s, loss=133]\n"
          ]
        },
        {
          "output_type": "stream",
          "name": "stdout",
          "text": [
            "Epoch [449/5000]: Train loss: 154.0114, Valid loss: 151.5685\n",
            "Saving model with loss 151.569...\n"
          ]
        },
        {
          "output_type": "stream",
          "name": "stderr",
          "text": [
            "Epoch [450/5000]: 100%|██████████| 10/10 [00:00<00:00, 104.20it/s, loss=125]\n"
          ]
        },
        {
          "output_type": "stream",
          "name": "stdout",
          "text": [
            "Epoch [450/5000]: Train loss: 152.7407, Valid loss: 155.0489\n"
          ]
        },
        {
          "output_type": "stream",
          "name": "stderr",
          "text": [
            "Epoch [451/5000]: 100%|██████████| 10/10 [00:00<00:00, 108.31it/s, loss=165]\n"
          ]
        },
        {
          "output_type": "stream",
          "name": "stdout",
          "text": [
            "Epoch [451/5000]: Train loss: 154.4375, Valid loss: 156.7085\n"
          ]
        },
        {
          "output_type": "stream",
          "name": "stderr",
          "text": [
            "Epoch [452/5000]: 100%|██████████| 10/10 [00:00<00:00, 97.52it/s, loss=171]\n"
          ]
        },
        {
          "output_type": "stream",
          "name": "stdout",
          "text": [
            "Epoch [452/5000]: Train loss: 154.0152, Valid loss: 156.9079\n"
          ]
        },
        {
          "output_type": "stream",
          "name": "stderr",
          "text": [
            "Epoch [453/5000]: 100%|██████████| 10/10 [00:00<00:00, 106.06it/s, loss=148]\n"
          ]
        },
        {
          "output_type": "stream",
          "name": "stdout",
          "text": [
            "Epoch [453/5000]: Train loss: 151.9297, Valid loss: 148.1416\n",
            "Saving model with loss 148.142...\n"
          ]
        },
        {
          "output_type": "stream",
          "name": "stderr",
          "text": [
            "Epoch [454/5000]: 100%|██████████| 10/10 [00:00<00:00, 87.18it/s, loss=146]\n"
          ]
        },
        {
          "output_type": "stream",
          "name": "stdout",
          "text": [
            "Epoch [454/5000]: Train loss: 151.0520, Valid loss: 151.1191\n"
          ]
        },
        {
          "output_type": "stream",
          "name": "stderr",
          "text": [
            "Epoch [455/5000]: 100%|██████████| 10/10 [00:00<00:00, 107.09it/s, loss=148]\n"
          ]
        },
        {
          "output_type": "stream",
          "name": "stdout",
          "text": [
            "Epoch [455/5000]: Train loss: 150.4684, Valid loss: 148.9590\n"
          ]
        },
        {
          "output_type": "stream",
          "name": "stderr",
          "text": [
            "Epoch [456/5000]: 100%|██████████| 10/10 [00:00<00:00, 78.37it/s, loss=118]\n"
          ]
        },
        {
          "output_type": "stream",
          "name": "stdout",
          "text": [
            "Epoch [456/5000]: Train loss: 147.9335, Valid loss: 145.5244\n",
            "Saving model with loss 145.524...\n"
          ]
        },
        {
          "output_type": "stream",
          "name": "stderr",
          "text": [
            "Epoch [457/5000]: 100%|██████████| 10/10 [00:00<00:00, 82.99it/s, loss=138]\n"
          ]
        },
        {
          "output_type": "stream",
          "name": "stdout",
          "text": [
            "Epoch [457/5000]: Train loss: 148.3781, Valid loss: 150.3925\n"
          ]
        },
        {
          "output_type": "stream",
          "name": "stderr",
          "text": [
            "Epoch [458/5000]: 100%|██████████| 10/10 [00:00<00:00, 85.54it/s, loss=183]\n"
          ]
        },
        {
          "output_type": "stream",
          "name": "stdout",
          "text": [
            "Epoch [458/5000]: Train loss: 150.3364, Valid loss: 145.4398\n",
            "Saving model with loss 145.440...\n"
          ]
        },
        {
          "output_type": "stream",
          "name": "stderr",
          "text": [
            "Epoch [459/5000]: 100%|██████████| 10/10 [00:00<00:00, 103.77it/s, loss=145]\n"
          ]
        },
        {
          "output_type": "stream",
          "name": "stdout",
          "text": [
            "Epoch [459/5000]: Train loss: 147.3312, Valid loss: 145.7986\n"
          ]
        },
        {
          "output_type": "stream",
          "name": "stderr",
          "text": [
            "Epoch [460/5000]: 100%|██████████| 10/10 [00:00<00:00, 105.68it/s, loss=175]\n"
          ]
        },
        {
          "output_type": "stream",
          "name": "stdout",
          "text": [
            "Epoch [460/5000]: Train loss: 148.3987, Valid loss: 139.1898\n",
            "Saving model with loss 139.190...\n"
          ]
        },
        {
          "output_type": "stream",
          "name": "stderr",
          "text": [
            "Epoch [461/5000]: 100%|██████████| 10/10 [00:00<00:00, 101.74it/s, loss=147]\n"
          ]
        },
        {
          "output_type": "stream",
          "name": "stdout",
          "text": [
            "Epoch [461/5000]: Train loss: 146.0395, Valid loss: 144.4925\n"
          ]
        },
        {
          "output_type": "stream",
          "name": "stderr",
          "text": [
            "Epoch [462/5000]: 100%|██████████| 10/10 [00:00<00:00, 106.82it/s, loss=136]\n"
          ]
        },
        {
          "output_type": "stream",
          "name": "stdout",
          "text": [
            "Epoch [462/5000]: Train loss: 144.6351, Valid loss: 143.3340\n"
          ]
        },
        {
          "output_type": "stream",
          "name": "stderr",
          "text": [
            "Epoch [463/5000]: 100%|██████████| 10/10 [00:00<00:00, 93.68it/s, loss=130]\n"
          ]
        },
        {
          "output_type": "stream",
          "name": "stdout",
          "text": [
            "Epoch [463/5000]: Train loss: 143.5574, Valid loss: 142.6958\n"
          ]
        },
        {
          "output_type": "stream",
          "name": "stderr",
          "text": [
            "Epoch [464/5000]: 100%|██████████| 10/10 [00:00<00:00, 84.41it/s, loss=148]\n"
          ]
        },
        {
          "output_type": "stream",
          "name": "stdout",
          "text": [
            "Epoch [464/5000]: Train loss: 143.9125, Valid loss: 139.6009\n"
          ]
        },
        {
          "output_type": "stream",
          "name": "stderr",
          "text": [
            "Epoch [465/5000]: 100%|██████████| 10/10 [00:00<00:00, 104.06it/s, loss=165]\n"
          ]
        },
        {
          "output_type": "stream",
          "name": "stdout",
          "text": [
            "Epoch [465/5000]: Train loss: 144.1579, Valid loss: 137.7939\n",
            "Saving model with loss 137.794...\n"
          ]
        },
        {
          "output_type": "stream",
          "name": "stderr",
          "text": [
            "Epoch [466/5000]: 100%|██████████| 10/10 [00:00<00:00, 103.31it/s, loss=147]\n"
          ]
        },
        {
          "output_type": "stream",
          "name": "stdout",
          "text": [
            "Epoch [466/5000]: Train loss: 142.3509, Valid loss: 137.9335\n"
          ]
        },
        {
          "output_type": "stream",
          "name": "stderr",
          "text": [
            "Epoch [467/5000]: 100%|██████████| 10/10 [00:00<00:00, 88.22it/s, loss=156]\n"
          ]
        },
        {
          "output_type": "stream",
          "name": "stdout",
          "text": [
            "Epoch [467/5000]: Train loss: 142.1580, Valid loss: 139.7038\n"
          ]
        },
        {
          "output_type": "stream",
          "name": "stderr",
          "text": [
            "Epoch [468/5000]: 100%|██████████| 10/10 [00:00<00:00, 85.93it/s, loss=155]\n"
          ]
        },
        {
          "output_type": "stream",
          "name": "stdout",
          "text": [
            "Epoch [468/5000]: Train loss: 141.4197, Valid loss: 137.0892\n",
            "Saving model with loss 137.089...\n"
          ]
        },
        {
          "output_type": "stream",
          "name": "stderr",
          "text": [
            "Epoch [469/5000]: 100%|██████████| 10/10 [00:00<00:00, 74.37it/s, loss=152]\n"
          ]
        },
        {
          "output_type": "stream",
          "name": "stdout",
          "text": [
            "Epoch [469/5000]: Train loss: 140.4967, Valid loss: 140.3755\n"
          ]
        },
        {
          "output_type": "stream",
          "name": "stderr",
          "text": [
            "Epoch [470/5000]: 100%|██████████| 10/10 [00:00<00:00, 96.07it/s, loss=155]\n"
          ]
        },
        {
          "output_type": "stream",
          "name": "stdout",
          "text": [
            "Epoch [470/5000]: Train loss: 139.9655, Valid loss: 133.7770\n",
            "Saving model with loss 133.777...\n"
          ]
        },
        {
          "output_type": "stream",
          "name": "stderr",
          "text": [
            "Epoch [471/5000]: 100%|██████████| 10/10 [00:00<00:00, 73.60it/s, loss=176]\n"
          ]
        },
        {
          "output_type": "stream",
          "name": "stdout",
          "text": [
            "Epoch [471/5000]: Train loss: 140.5071, Valid loss: 139.8638\n"
          ]
        },
        {
          "output_type": "stream",
          "name": "stderr",
          "text": [
            "Epoch [472/5000]: 100%|██████████| 10/10 [00:00<00:00, 74.18it/s, loss=147]\n"
          ]
        },
        {
          "output_type": "stream",
          "name": "stdout",
          "text": [
            "Epoch [472/5000]: Train loss: 138.0396, Valid loss: 135.6578\n"
          ]
        },
        {
          "output_type": "stream",
          "name": "stderr",
          "text": [
            "Epoch [473/5000]: 100%|██████████| 10/10 [00:00<00:00, 99.42it/s, loss=99.1]\n"
          ]
        },
        {
          "output_type": "stream",
          "name": "stdout",
          "text": [
            "Epoch [473/5000]: Train loss: 134.4783, Valid loss: 127.9343\n",
            "Saving model with loss 127.934...\n"
          ]
        },
        {
          "output_type": "stream",
          "name": "stderr",
          "text": [
            "Epoch [474/5000]: 100%|██████████| 10/10 [00:00<00:00, 94.56it/s, loss=142]\n"
          ]
        },
        {
          "output_type": "stream",
          "name": "stdout",
          "text": [
            "Epoch [474/5000]: Train loss: 136.3291, Valid loss: 135.7810\n"
          ]
        },
        {
          "output_type": "stream",
          "name": "stderr",
          "text": [
            "Epoch [475/5000]: 100%|██████████| 10/10 [00:00<00:00, 89.69it/s, loss=132]\n"
          ]
        },
        {
          "output_type": "stream",
          "name": "stdout",
          "text": [
            "Epoch [475/5000]: Train loss: 134.9865, Valid loss: 130.1412\n"
          ]
        },
        {
          "output_type": "stream",
          "name": "stderr",
          "text": [
            "Epoch [476/5000]: 100%|██████████| 10/10 [00:00<00:00, 112.69it/s, loss=105]\n"
          ]
        },
        {
          "output_type": "stream",
          "name": "stdout",
          "text": [
            "Epoch [476/5000]: Train loss: 132.7090, Valid loss: 130.9907\n"
          ]
        },
        {
          "output_type": "stream",
          "name": "stderr",
          "text": [
            "Epoch [477/5000]: 100%|██████████| 10/10 [00:00<00:00, 104.07it/s, loss=131]\n"
          ]
        },
        {
          "output_type": "stream",
          "name": "stdout",
          "text": [
            "Epoch [477/5000]: Train loss: 133.5617, Valid loss: 138.3205\n"
          ]
        },
        {
          "output_type": "stream",
          "name": "stderr",
          "text": [
            "Epoch [478/5000]: 100%|██████████| 10/10 [00:00<00:00, 85.02it/s, loss=144]\n"
          ]
        },
        {
          "output_type": "stream",
          "name": "stdout",
          "text": [
            "Epoch [478/5000]: Train loss: 133.5973, Valid loss: 138.4430\n"
          ]
        },
        {
          "output_type": "stream",
          "name": "stderr",
          "text": [
            "Epoch [479/5000]: 100%|██████████| 10/10 [00:00<00:00, 91.68it/s, loss=115]\n"
          ]
        },
        {
          "output_type": "stream",
          "name": "stdout",
          "text": [
            "Epoch [479/5000]: Train loss: 131.1604, Valid loss: 129.4335\n"
          ]
        },
        {
          "output_type": "stream",
          "name": "stderr",
          "text": [
            "Epoch [480/5000]: 100%|██████████| 10/10 [00:00<00:00, 88.11it/s, loss=142]\n"
          ]
        },
        {
          "output_type": "stream",
          "name": "stdout",
          "text": [
            "Epoch [480/5000]: Train loss: 132.0796, Valid loss: 131.1123\n"
          ]
        },
        {
          "output_type": "stream",
          "name": "stderr",
          "text": [
            "Epoch [481/5000]: 100%|██████████| 10/10 [00:00<00:00, 101.03it/s, loss=142]\n"
          ]
        },
        {
          "output_type": "stream",
          "name": "stdout",
          "text": [
            "Epoch [481/5000]: Train loss: 131.3533, Valid loss: 129.0755\n"
          ]
        },
        {
          "output_type": "stream",
          "name": "stderr",
          "text": [
            "Epoch [482/5000]: 100%|██████████| 10/10 [00:00<00:00, 89.43it/s, loss=137]\n"
          ]
        },
        {
          "output_type": "stream",
          "name": "stdout",
          "text": [
            "Epoch [482/5000]: Train loss: 130.3626, Valid loss: 129.4523\n"
          ]
        },
        {
          "output_type": "stream",
          "name": "stderr",
          "text": [
            "Epoch [483/5000]: 100%|██████████| 10/10 [00:00<00:00, 93.88it/s, loss=110]\n"
          ]
        },
        {
          "output_type": "stream",
          "name": "stdout",
          "text": [
            "Epoch [483/5000]: Train loss: 128.1019, Valid loss: 126.2821\n",
            "Saving model with loss 126.282...\n"
          ]
        },
        {
          "output_type": "stream",
          "name": "stderr",
          "text": [
            "Epoch [484/5000]: 100%|██████████| 10/10 [00:00<00:00, 99.90it/s, loss=118]\n"
          ]
        },
        {
          "output_type": "stream",
          "name": "stdout",
          "text": [
            "Epoch [484/5000]: Train loss: 127.8364, Valid loss: 129.2902\n"
          ]
        },
        {
          "output_type": "stream",
          "name": "stderr",
          "text": [
            "Epoch [485/5000]: 100%|██████████| 10/10 [00:00<00:00, 94.16it/s, loss=110]\n"
          ]
        },
        {
          "output_type": "stream",
          "name": "stdout",
          "text": [
            "Epoch [485/5000]: Train loss: 126.6794, Valid loss: 127.2785\n"
          ]
        },
        {
          "output_type": "stream",
          "name": "stderr",
          "text": [
            "Epoch [486/5000]: 100%|██████████| 10/10 [00:00<00:00, 90.84it/s, loss=130]\n"
          ]
        },
        {
          "output_type": "stream",
          "name": "stdout",
          "text": [
            "Epoch [486/5000]: Train loss: 127.1695, Valid loss: 120.5792\n",
            "Saving model with loss 120.579...\n"
          ]
        },
        {
          "output_type": "stream",
          "name": "stderr",
          "text": [
            "Epoch [487/5000]: 100%|██████████| 10/10 [00:00<00:00, 93.46it/s, loss=125]\n"
          ]
        },
        {
          "output_type": "stream",
          "name": "stdout",
          "text": [
            "Epoch [487/5000]: Train loss: 126.1922, Valid loss: 120.0450\n",
            "Saving model with loss 120.045...\n"
          ]
        },
        {
          "output_type": "stream",
          "name": "stderr",
          "text": [
            "Epoch [488/5000]: 100%|██████████| 10/10 [00:00<00:00, 104.43it/s, loss=95.9]\n"
          ]
        },
        {
          "output_type": "stream",
          "name": "stdout",
          "text": [
            "Epoch [488/5000]: Train loss: 123.7868, Valid loss: 125.9464\n"
          ]
        },
        {
          "output_type": "stream",
          "name": "stderr",
          "text": [
            "Epoch [489/5000]: 100%|██████████| 10/10 [00:00<00:00, 90.02it/s, loss=134]\n"
          ]
        },
        {
          "output_type": "stream",
          "name": "stdout",
          "text": [
            "Epoch [489/5000]: Train loss: 125.3717, Valid loss: 115.8144\n",
            "Saving model with loss 115.814...\n"
          ]
        },
        {
          "output_type": "stream",
          "name": "stderr",
          "text": [
            "Epoch [490/5000]: 100%|██████████| 10/10 [00:00<00:00, 91.10it/s, loss=148]\n"
          ]
        },
        {
          "output_type": "stream",
          "name": "stdout",
          "text": [
            "Epoch [490/5000]: Train loss: 125.5276, Valid loss: 124.4512\n"
          ]
        },
        {
          "output_type": "stream",
          "name": "stderr",
          "text": [
            "Epoch [491/5000]: 100%|██████████| 10/10 [00:00<00:00, 78.39it/s, loss=151]\n"
          ]
        },
        {
          "output_type": "stream",
          "name": "stdout",
          "text": [
            "Epoch [491/5000]: Train loss: 124.9844, Valid loss: 127.8538\n"
          ]
        },
        {
          "output_type": "stream",
          "name": "stderr",
          "text": [
            "Epoch [492/5000]: 100%|██████████| 10/10 [00:00<00:00, 102.59it/s, loss=125]\n"
          ]
        },
        {
          "output_type": "stream",
          "name": "stdout",
          "text": [
            "Epoch [492/5000]: Train loss: 122.7384, Valid loss: 122.8571\n"
          ]
        },
        {
          "output_type": "stream",
          "name": "stderr",
          "text": [
            "Epoch [493/5000]: 100%|██████████| 10/10 [00:00<00:00, 93.48it/s, loss=103]\n"
          ]
        },
        {
          "output_type": "stream",
          "name": "stdout",
          "text": [
            "Epoch [493/5000]: Train loss: 120.7393, Valid loss: 127.7737\n"
          ]
        },
        {
          "output_type": "stream",
          "name": "stderr",
          "text": [
            "Epoch [494/5000]: 100%|██████████| 10/10 [00:00<00:00, 91.58it/s, loss=109]\n"
          ]
        },
        {
          "output_type": "stream",
          "name": "stdout",
          "text": [
            "Epoch [494/5000]: Train loss: 120.4623, Valid loss: 123.2957\n"
          ]
        },
        {
          "output_type": "stream",
          "name": "stderr",
          "text": [
            "Epoch [495/5000]: 100%|██████████| 10/10 [00:00<00:00, 100.01it/s, loss=115]\n"
          ]
        },
        {
          "output_type": "stream",
          "name": "stdout",
          "text": [
            "Epoch [495/5000]: Train loss: 120.1292, Valid loss: 121.2350\n"
          ]
        },
        {
          "output_type": "stream",
          "name": "stderr",
          "text": [
            "Epoch [496/5000]: 100%|██████████| 10/10 [00:00<00:00, 102.96it/s, loss=132]\n"
          ]
        },
        {
          "output_type": "stream",
          "name": "stdout",
          "text": [
            "Epoch [496/5000]: Train loss: 120.4411, Valid loss: 118.7856\n"
          ]
        },
        {
          "output_type": "stream",
          "name": "stderr",
          "text": [
            "Epoch [497/5000]: 100%|██████████| 10/10 [00:00<00:00, 107.89it/s, loss=121]\n"
          ]
        },
        {
          "output_type": "stream",
          "name": "stdout",
          "text": [
            "Epoch [497/5000]: Train loss: 119.1480, Valid loss: 114.2022\n",
            "Saving model with loss 114.202...\n"
          ]
        },
        {
          "output_type": "stream",
          "name": "stderr",
          "text": [
            "Epoch [498/5000]: 100%|██████████| 10/10 [00:00<00:00, 115.46it/s, loss=117]\n"
          ]
        },
        {
          "output_type": "stream",
          "name": "stdout",
          "text": [
            "Epoch [498/5000]: Train loss: 118.1867, Valid loss: 112.1818\n",
            "Saving model with loss 112.182...\n"
          ]
        },
        {
          "output_type": "stream",
          "name": "stderr",
          "text": [
            "Epoch [499/5000]: 100%|██████████| 10/10 [00:00<00:00, 113.14it/s, loss=88.3]\n"
          ]
        },
        {
          "output_type": "stream",
          "name": "stdout",
          "text": [
            "Epoch [499/5000]: Train loss: 115.8399, Valid loss: 121.6744\n"
          ]
        },
        {
          "output_type": "stream",
          "name": "stderr",
          "text": [
            "Epoch [500/5000]: 100%|██████████| 10/10 [00:00<00:00, 101.02it/s, loss=138]\n"
          ]
        },
        {
          "output_type": "stream",
          "name": "stdout",
          "text": [
            "Epoch [500/5000]: Train loss: 118.0933, Valid loss: 112.3854\n"
          ]
        },
        {
          "output_type": "stream",
          "name": "stderr",
          "text": [
            "Epoch [501/5000]: 100%|██████████| 10/10 [00:00<00:00, 104.87it/s, loss=102]\n"
          ]
        },
        {
          "output_type": "stream",
          "name": "stdout",
          "text": [
            "Epoch [501/5000]: Train loss: 115.3433, Valid loss: 116.3224\n"
          ]
        },
        {
          "output_type": "stream",
          "name": "stderr",
          "text": [
            "Epoch [502/5000]: 100%|██████████| 10/10 [00:00<00:00, 112.44it/s, loss=140]\n"
          ]
        },
        {
          "output_type": "stream",
          "name": "stdout",
          "text": [
            "Epoch [502/5000]: Train loss: 116.8848, Valid loss: 114.0145\n"
          ]
        },
        {
          "output_type": "stream",
          "name": "stderr",
          "text": [
            "Epoch [503/5000]: 100%|██████████| 10/10 [00:00<00:00, 104.73it/s, loss=122]\n"
          ]
        },
        {
          "output_type": "stream",
          "name": "stdout",
          "text": [
            "Epoch [503/5000]: Train loss: 115.1644, Valid loss: 118.9090\n"
          ]
        },
        {
          "output_type": "stream",
          "name": "stderr",
          "text": [
            "Epoch [504/5000]: 100%|██████████| 10/10 [00:00<00:00, 90.52it/s, loss=134]\n"
          ]
        },
        {
          "output_type": "stream",
          "name": "stdout",
          "text": [
            "Epoch [504/5000]: Train loss: 115.2083, Valid loss: 105.4143\n",
            "Saving model with loss 105.414...\n"
          ]
        },
        {
          "output_type": "stream",
          "name": "stderr",
          "text": [
            "Epoch [505/5000]: 100%|██████████| 10/10 [00:00<00:00, 110.09it/s, loss=97.7]\n"
          ]
        },
        {
          "output_type": "stream",
          "name": "stdout",
          "text": [
            "Epoch [505/5000]: Train loss: 112.3885, Valid loss: 112.6463\n"
          ]
        },
        {
          "output_type": "stream",
          "name": "stderr",
          "text": [
            "Epoch [506/5000]: 100%|██████████| 10/10 [00:00<00:00, 108.27it/s, loss=106]\n"
          ]
        },
        {
          "output_type": "stream",
          "name": "stdout",
          "text": [
            "Epoch [506/5000]: Train loss: 112.2155, Valid loss: 110.2348\n"
          ]
        },
        {
          "output_type": "stream",
          "name": "stderr",
          "text": [
            "Epoch [507/5000]: 100%|██████████| 10/10 [00:00<00:00, 104.85it/s, loss=122]\n"
          ]
        },
        {
          "output_type": "stream",
          "name": "stdout",
          "text": [
            "Epoch [507/5000]: Train loss: 112.4898, Valid loss: 112.2178\n"
          ]
        },
        {
          "output_type": "stream",
          "name": "stderr",
          "text": [
            "Epoch [508/5000]: 100%|██████████| 10/10 [00:00<00:00, 108.70it/s, loss=114]\n"
          ]
        },
        {
          "output_type": "stream",
          "name": "stdout",
          "text": [
            "Epoch [508/5000]: Train loss: 111.3403, Valid loss: 113.4113\n"
          ]
        },
        {
          "output_type": "stream",
          "name": "stderr",
          "text": [
            "Epoch [509/5000]: 100%|██████████| 10/10 [00:00<00:00, 94.78it/s, loss=120]\n"
          ]
        },
        {
          "output_type": "stream",
          "name": "stdout",
          "text": [
            "Epoch [509/5000]: Train loss: 111.0855, Valid loss: 111.6317\n"
          ]
        },
        {
          "output_type": "stream",
          "name": "stderr",
          "text": [
            "Epoch [510/5000]: 100%|██████████| 10/10 [00:00<00:00, 95.44it/s, loss=128]\n"
          ]
        },
        {
          "output_type": "stream",
          "name": "stdout",
          "text": [
            "Epoch [510/5000]: Train loss: 110.8705, Valid loss: 107.7982\n"
          ]
        },
        {
          "output_type": "stream",
          "name": "stderr",
          "text": [
            "Epoch [511/5000]: 100%|██████████| 10/10 [00:00<00:00, 111.46it/s, loss=112]\n"
          ]
        },
        {
          "output_type": "stream",
          "name": "stdout",
          "text": [
            "Epoch [511/5000]: Train loss: 109.2911, Valid loss: 112.0615\n"
          ]
        },
        {
          "output_type": "stream",
          "name": "stderr",
          "text": [
            "Epoch [512/5000]: 100%|██████████| 10/10 [00:00<00:00, 105.26it/s, loss=91.3]\n"
          ]
        },
        {
          "output_type": "stream",
          "name": "stdout",
          "text": [
            "Epoch [512/5000]: Train loss: 107.3936, Valid loss: 107.2222\n"
          ]
        },
        {
          "output_type": "stream",
          "name": "stderr",
          "text": [
            "Epoch [513/5000]: 100%|██████████| 10/10 [00:00<00:00, 111.70it/s, loss=114]\n"
          ]
        },
        {
          "output_type": "stream",
          "name": "stdout",
          "text": [
            "Epoch [513/5000]: Train loss: 108.1005, Valid loss: 106.2776\n"
          ]
        },
        {
          "output_type": "stream",
          "name": "stderr",
          "text": [
            "Epoch [514/5000]: 100%|██████████| 10/10 [00:00<00:00, 119.18it/s, loss=118]\n"
          ]
        },
        {
          "output_type": "stream",
          "name": "stdout",
          "text": [
            "Epoch [514/5000]: Train loss: 107.6757, Valid loss: 108.4950\n"
          ]
        },
        {
          "output_type": "stream",
          "name": "stderr",
          "text": [
            "Epoch [515/5000]: 100%|██████████| 10/10 [00:00<00:00, 104.67it/s, loss=114]\n"
          ]
        },
        {
          "output_type": "stream",
          "name": "stdout",
          "text": [
            "Epoch [515/5000]: Train loss: 106.7644, Valid loss: 105.3892\n",
            "Saving model with loss 105.389...\n"
          ]
        },
        {
          "output_type": "stream",
          "name": "stderr",
          "text": [
            "Epoch [516/5000]: 100%|██████████| 10/10 [00:00<00:00, 101.89it/s, loss=118]\n"
          ]
        },
        {
          "output_type": "stream",
          "name": "stdout",
          "text": [
            "Epoch [516/5000]: Train loss: 106.3682, Valid loss: 102.0845\n",
            "Saving model with loss 102.085...\n"
          ]
        },
        {
          "output_type": "stream",
          "name": "stderr",
          "text": [
            "Epoch [517/5000]: 100%|██████████| 10/10 [00:00<00:00, 102.82it/s, loss=136]\n"
          ]
        },
        {
          "output_type": "stream",
          "name": "stdout",
          "text": [
            "Epoch [517/5000]: Train loss: 106.8171, Valid loss: 104.0607\n"
          ]
        },
        {
          "output_type": "stream",
          "name": "stderr",
          "text": [
            "Epoch [518/5000]: 100%|██████████| 10/10 [00:00<00:00, 104.00it/s, loss=97.2]\n"
          ]
        },
        {
          "output_type": "stream",
          "name": "stdout",
          "text": [
            "Epoch [518/5000]: Train loss: 103.8531, Valid loss: 103.4996\n"
          ]
        },
        {
          "output_type": "stream",
          "name": "stderr",
          "text": [
            "Epoch [519/5000]: 100%|██████████| 10/10 [00:00<00:00, 113.04it/s, loss=102]\n"
          ]
        },
        {
          "output_type": "stream",
          "name": "stdout",
          "text": [
            "Epoch [519/5000]: Train loss: 103.4733, Valid loss: 101.6606\n",
            "Saving model with loss 101.661...\n"
          ]
        },
        {
          "output_type": "stream",
          "name": "stderr",
          "text": [
            "Epoch [520/5000]: 100%|██████████| 10/10 [00:00<00:00, 92.10it/s, loss=112]\n"
          ]
        },
        {
          "output_type": "stream",
          "name": "stdout",
          "text": [
            "Epoch [520/5000]: Train loss: 103.4532, Valid loss: 101.2422\n",
            "Saving model with loss 101.242...\n"
          ]
        },
        {
          "output_type": "stream",
          "name": "stderr",
          "text": [
            "Epoch [521/5000]: 100%|██████████| 10/10 [00:00<00:00, 109.89it/s, loss=103]\n"
          ]
        },
        {
          "output_type": "stream",
          "name": "stdout",
          "text": [
            "Epoch [521/5000]: Train loss: 102.2966, Valid loss: 98.9892\n",
            "Saving model with loss 98.989...\n"
          ]
        },
        {
          "output_type": "stream",
          "name": "stderr",
          "text": [
            "Epoch [522/5000]: 100%|██████████| 10/10 [00:00<00:00, 104.31it/s, loss=95.7]\n"
          ]
        },
        {
          "output_type": "stream",
          "name": "stdout",
          "text": [
            "Epoch [522/5000]: Train loss: 101.2035, Valid loss: 99.2996\n"
          ]
        },
        {
          "output_type": "stream",
          "name": "stderr",
          "text": [
            "Epoch [523/5000]: 100%|██████████| 10/10 [00:00<00:00, 111.19it/s, loss=89.3]\n"
          ]
        },
        {
          "output_type": "stream",
          "name": "stdout",
          "text": [
            "Epoch [523/5000]: Train loss: 100.1932, Valid loss: 98.4645\n",
            "Saving model with loss 98.465...\n"
          ]
        },
        {
          "output_type": "stream",
          "name": "stderr",
          "text": [
            "Epoch [524/5000]: 100%|██████████| 10/10 [00:00<00:00, 113.25it/s, loss=97.3]\n"
          ]
        },
        {
          "output_type": "stream",
          "name": "stdout",
          "text": [
            "Epoch [524/5000]: Train loss: 100.0354, Valid loss: 106.8581\n"
          ]
        },
        {
          "output_type": "stream",
          "name": "stderr",
          "text": [
            "Epoch [525/5000]: 100%|██████████| 10/10 [00:00<00:00, 102.43it/s, loss=119]\n"
          ]
        },
        {
          "output_type": "stream",
          "name": "stdout",
          "text": [
            "Epoch [525/5000]: Train loss: 100.6677, Valid loss: 99.8175\n"
          ]
        },
        {
          "output_type": "stream",
          "name": "stderr",
          "text": [
            "Epoch [526/5000]: 100%|██████████| 10/10 [00:00<00:00, 114.04it/s, loss=121]\n"
          ]
        },
        {
          "output_type": "stream",
          "name": "stdout",
          "text": [
            "Epoch [526/5000]: Train loss: 100.1548, Valid loss: 99.7820\n"
          ]
        },
        {
          "output_type": "stream",
          "name": "stderr",
          "text": [
            "Epoch [527/5000]: 100%|██████████| 10/10 [00:00<00:00, 101.47it/s, loss=87.3]\n"
          ]
        },
        {
          "output_type": "stream",
          "name": "stdout",
          "text": [
            "Epoch [527/5000]: Train loss: 97.5509, Valid loss: 97.2690\n",
            "Saving model with loss 97.269...\n"
          ]
        },
        {
          "output_type": "stream",
          "name": "stderr",
          "text": [
            "Epoch [528/5000]: 100%|██████████| 10/10 [00:00<00:00, 113.19it/s, loss=90.7]\n"
          ]
        },
        {
          "output_type": "stream",
          "name": "stdout",
          "text": [
            "Epoch [528/5000]: Train loss: 97.1249, Valid loss: 96.8282\n",
            "Saving model with loss 96.828...\n"
          ]
        },
        {
          "output_type": "stream",
          "name": "stderr",
          "text": [
            "Epoch [529/5000]: 100%|██████████| 10/10 [00:00<00:00, 94.27it/s, loss=104]\n"
          ]
        },
        {
          "output_type": "stream",
          "name": "stdout",
          "text": [
            "Epoch [529/5000]: Train loss: 97.3121, Valid loss: 91.8258\n",
            "Saving model with loss 91.826...\n"
          ]
        },
        {
          "output_type": "stream",
          "name": "stderr",
          "text": [
            "Epoch [530/5000]: 100%|██████████| 10/10 [00:00<00:00, 99.63it/s, loss=86.7]\n"
          ]
        },
        {
          "output_type": "stream",
          "name": "stdout",
          "text": [
            "Epoch [530/5000]: Train loss: 95.6316, Valid loss: 96.1316\n"
          ]
        },
        {
          "output_type": "stream",
          "name": "stderr",
          "text": [
            "Epoch [531/5000]: 100%|██████████| 10/10 [00:00<00:00, 106.70it/s, loss=87.6]\n"
          ]
        },
        {
          "output_type": "stream",
          "name": "stdout",
          "text": [
            "Epoch [531/5000]: Train loss: 95.0477, Valid loss: 95.2564\n"
          ]
        },
        {
          "output_type": "stream",
          "name": "stderr",
          "text": [
            "Epoch [532/5000]: 100%|██████████| 10/10 [00:00<00:00, 103.26it/s, loss=118]\n"
          ]
        },
        {
          "output_type": "stream",
          "name": "stdout",
          "text": [
            "Epoch [532/5000]: Train loss: 96.2418, Valid loss: 96.0714\n"
          ]
        },
        {
          "output_type": "stream",
          "name": "stderr",
          "text": [
            "Epoch [533/5000]: 100%|██████████| 10/10 [00:00<00:00, 104.65it/s, loss=89.5]\n"
          ]
        },
        {
          "output_type": "stream",
          "name": "stdout",
          "text": [
            "Epoch [533/5000]: Train loss: 93.8905, Valid loss: 99.8424\n"
          ]
        },
        {
          "output_type": "stream",
          "name": "stderr",
          "text": [
            "Epoch [534/5000]: 100%|██████████| 10/10 [00:00<00:00, 104.88it/s, loss=86.9]\n"
          ]
        },
        {
          "output_type": "stream",
          "name": "stdout",
          "text": [
            "Epoch [534/5000]: Train loss: 93.1025, Valid loss: 87.7787\n",
            "Saving model with loss 87.779...\n"
          ]
        },
        {
          "output_type": "stream",
          "name": "stderr",
          "text": [
            "Epoch [535/5000]: 100%|██████████| 10/10 [00:00<00:00, 103.89it/s, loss=96.7]\n"
          ]
        },
        {
          "output_type": "stream",
          "name": "stdout",
          "text": [
            "Epoch [535/5000]: Train loss: 93.0512, Valid loss: 94.8059\n"
          ]
        },
        {
          "output_type": "stream",
          "name": "stderr",
          "text": [
            "Epoch [536/5000]: 100%|██████████| 10/10 [00:00<00:00, 95.72it/s, loss=89.5]\n"
          ]
        },
        {
          "output_type": "stream",
          "name": "stdout",
          "text": [
            "Epoch [536/5000]: Train loss: 91.9888, Valid loss: 91.9527\n"
          ]
        },
        {
          "output_type": "stream",
          "name": "stderr",
          "text": [
            "Epoch [537/5000]:   0%|          | 0/10 [00:00<?, ?it/s, loss=89]  Exception ignored in: <function _xla_gc_callback at 0x7982995413f0>\n",
            "Traceback (most recent call last):\n",
            "  File \"/usr/local/lib/python3.10/dist-packages/jax/_src/lib/__init__.py\", line 97, in _xla_gc_callback\n",
            "    def _xla_gc_callback(*args):\n",
            "KeyboardInterrupt: \n",
            "Epoch [537/5000]: 100%|██████████| 10/10 [00:00<00:00, 21.89it/s, loss=89.7]\n"
          ]
        },
        {
          "output_type": "stream",
          "name": "stdout",
          "text": [
            "Epoch [537/5000]: Train loss: 91.3678, Valid loss: 94.2844\n"
          ]
        },
        {
          "output_type": "stream",
          "name": "stderr",
          "text": [
            "Epoch [538/5000]: 100%|██████████| 10/10 [00:00<00:00, 104.49it/s, loss=97.4]\n"
          ]
        },
        {
          "output_type": "stream",
          "name": "stdout",
          "text": [
            "Epoch [538/5000]: Train loss: 91.1942, Valid loss: 91.5547\n"
          ]
        },
        {
          "output_type": "stream",
          "name": "stderr",
          "text": [
            "Epoch [539/5000]: 100%|██████████| 10/10 [00:00<00:00, 96.91it/s, loss=89.7]\n"
          ]
        },
        {
          "output_type": "stream",
          "name": "stdout",
          "text": [
            "Epoch [539/5000]: Train loss: 90.1088, Valid loss: 88.5423\n"
          ]
        },
        {
          "output_type": "stream",
          "name": "stderr",
          "text": [
            "Epoch [540/5000]: 100%|██████████| 10/10 [00:00<00:00, 114.82it/s, loss=95.3]\n"
          ]
        },
        {
          "output_type": "stream",
          "name": "stdout",
          "text": [
            "Epoch [540/5000]: Train loss: 89.8181, Valid loss: 88.9659\n"
          ]
        },
        {
          "output_type": "stream",
          "name": "stderr",
          "text": [
            "Epoch [541/5000]: 100%|██████████| 10/10 [00:00<00:00, 99.96it/s, loss=71.3]\n"
          ]
        },
        {
          "output_type": "stream",
          "name": "stdout",
          "text": [
            "Epoch [541/5000]: Train loss: 87.7664, Valid loss: 87.7588\n",
            "Saving model with loss 87.759...\n"
          ]
        },
        {
          "output_type": "stream",
          "name": "stderr",
          "text": [
            "Epoch [542/5000]: 100%|██████████| 10/10 [00:00<00:00, 108.02it/s, loss=99.1]\n"
          ]
        },
        {
          "output_type": "stream",
          "name": "stdout",
          "text": [
            "Epoch [542/5000]: Train loss: 88.7972, Valid loss: 87.2572\n",
            "Saving model with loss 87.257...\n"
          ]
        },
        {
          "output_type": "stream",
          "name": "stderr",
          "text": [
            "Epoch [543/5000]: 100%|██████████| 10/10 [00:00<00:00, 114.36it/s, loss=79.5]\n"
          ]
        },
        {
          "output_type": "stream",
          "name": "stdout",
          "text": [
            "Epoch [543/5000]: Train loss: 87.0126, Valid loss: 88.7334\n"
          ]
        },
        {
          "output_type": "stream",
          "name": "stderr",
          "text": [
            "Epoch [544/5000]: 100%|██████████| 10/10 [00:00<00:00, 111.75it/s, loss=75.9]\n"
          ]
        },
        {
          "output_type": "stream",
          "name": "stdout",
          "text": [
            "Epoch [544/5000]: Train loss: 86.1804, Valid loss: 90.8777\n"
          ]
        },
        {
          "output_type": "stream",
          "name": "stderr",
          "text": [
            "Epoch [545/5000]: 100%|██████████| 10/10 [00:00<00:00, 118.57it/s, loss=76.9]\n"
          ]
        },
        {
          "output_type": "stream",
          "name": "stdout",
          "text": [
            "Epoch [545/5000]: Train loss: 85.6325, Valid loss: 85.5931\n",
            "Saving model with loss 85.593...\n"
          ]
        },
        {
          "output_type": "stream",
          "name": "stderr",
          "text": [
            "Epoch [546/5000]: 100%|██████████| 10/10 [00:00<00:00, 124.94it/s, loss=77]\n"
          ]
        },
        {
          "output_type": "stream",
          "name": "stdout",
          "text": [
            "Epoch [546/5000]: Train loss: 85.0260, Valid loss: 87.1011\n"
          ]
        },
        {
          "output_type": "stream",
          "name": "stderr",
          "text": [
            "Epoch [547/5000]: 100%|██████████| 10/10 [00:00<00:00, 112.13it/s, loss=70.1]\n"
          ]
        },
        {
          "output_type": "stream",
          "name": "stdout",
          "text": [
            "Epoch [547/5000]: Train loss: 84.0171, Valid loss: 83.5906\n",
            "Saving model with loss 83.591...\n"
          ]
        },
        {
          "output_type": "stream",
          "name": "stderr",
          "text": [
            "Epoch [548/5000]: 100%|██████████| 10/10 [00:00<00:00, 91.34it/s, loss=79.3]\n"
          ]
        },
        {
          "output_type": "stream",
          "name": "stdout",
          "text": [
            "Epoch [548/5000]: Train loss: 83.9515, Valid loss: 87.4569\n"
          ]
        },
        {
          "output_type": "stream",
          "name": "stderr",
          "text": [
            "Epoch [549/5000]: 100%|██████████| 10/10 [00:00<00:00, 93.00it/s, loss=83]\n"
          ]
        },
        {
          "output_type": "stream",
          "name": "stdout",
          "text": [
            "Epoch [549/5000]: Train loss: 83.5741, Valid loss: 81.8532\n",
            "Saving model with loss 81.853...\n"
          ]
        },
        {
          "output_type": "stream",
          "name": "stderr",
          "text": [
            "Epoch [550/5000]: 100%|██████████| 10/10 [00:00<00:00, 93.66it/s, loss=70.1]\n"
          ]
        },
        {
          "output_type": "stream",
          "name": "stdout",
          "text": [
            "Epoch [550/5000]: Train loss: 82.2129, Valid loss: 82.7385\n"
          ]
        },
        {
          "output_type": "stream",
          "name": "stderr",
          "text": [
            "Epoch [551/5000]: 100%|██████████| 10/10 [00:00<00:00, 109.68it/s, loss=89.2]\n"
          ]
        },
        {
          "output_type": "stream",
          "name": "stdout",
          "text": [
            "Epoch [551/5000]: Train loss: 82.7423, Valid loss: 81.2490\n",
            "Saving model with loss 81.249...\n"
          ]
        },
        {
          "output_type": "stream",
          "name": "stderr",
          "text": [
            "Epoch [552/5000]: 100%|██████████| 10/10 [00:00<00:00, 106.70it/s, loss=74]\n"
          ]
        },
        {
          "output_type": "stream",
          "name": "stdout",
          "text": [
            "Epoch [552/5000]: Train loss: 81.2563, Valid loss: 79.2440\n",
            "Saving model with loss 79.244...\n"
          ]
        },
        {
          "output_type": "stream",
          "name": "stderr",
          "text": [
            "Epoch [553/5000]: 100%|██████████| 10/10 [00:00<00:00, 106.99it/s, loss=76.8]\n"
          ]
        },
        {
          "output_type": "stream",
          "name": "stdout",
          "text": [
            "Epoch [553/5000]: Train loss: 80.8289, Valid loss: 84.3007\n"
          ]
        },
        {
          "output_type": "stream",
          "name": "stderr",
          "text": [
            "Epoch [554/5000]: 100%|██████████| 10/10 [00:00<00:00, 111.53it/s, loss=86.4]\n"
          ]
        },
        {
          "output_type": "stream",
          "name": "stdout",
          "text": [
            "Epoch [554/5000]: Train loss: 80.8121, Valid loss: 83.6758\n"
          ]
        },
        {
          "output_type": "stream",
          "name": "stderr",
          "text": [
            "Epoch [555/5000]: 100%|██████████| 10/10 [00:00<00:00, 109.48it/s, loss=81.1]\n"
          ]
        },
        {
          "output_type": "stream",
          "name": "stdout",
          "text": [
            "Epoch [555/5000]: Train loss: 79.8997, Valid loss: 81.3356\n"
          ]
        },
        {
          "output_type": "stream",
          "name": "stderr",
          "text": [
            "Epoch [556/5000]: 100%|██████████| 10/10 [00:00<00:00, 104.76it/s, loss=102]\n"
          ]
        },
        {
          "output_type": "stream",
          "name": "stdout",
          "text": [
            "Epoch [556/5000]: Train loss: 80.5894, Valid loss: 76.3504\n",
            "Saving model with loss 76.350...\n"
          ]
        },
        {
          "output_type": "stream",
          "name": "stderr",
          "text": [
            "Epoch [557/5000]: 100%|██████████| 10/10 [00:00<00:00, 108.40it/s, loss=53.6]\n"
          ]
        },
        {
          "output_type": "stream",
          "name": "stdout",
          "text": [
            "Epoch [557/5000]: Train loss: 77.1096, Valid loss: 75.5695\n",
            "Saving model with loss 75.570...\n"
          ]
        },
        {
          "output_type": "stream",
          "name": "stderr",
          "text": [
            "Epoch [558/5000]: 100%|██████████| 10/10 [00:00<00:00, 99.70it/s, loss=79.8]\n"
          ]
        },
        {
          "output_type": "stream",
          "name": "stdout",
          "text": [
            "Epoch [558/5000]: Train loss: 78.0733, Valid loss: 78.6958\n"
          ]
        },
        {
          "output_type": "stream",
          "name": "stderr",
          "text": [
            "Epoch [559/5000]: 100%|██████████| 10/10 [00:00<00:00, 101.17it/s, loss=64.6]\n"
          ]
        },
        {
          "output_type": "stream",
          "name": "stdout",
          "text": [
            "Epoch [559/5000]: Train loss: 76.6022, Valid loss: 76.0646\n"
          ]
        },
        {
          "output_type": "stream",
          "name": "stderr",
          "text": [
            "Epoch [560/5000]: 100%|██████████| 10/10 [00:00<00:00, 100.72it/s, loss=84.9]\n"
          ]
        },
        {
          "output_type": "stream",
          "name": "stdout",
          "text": [
            "Epoch [560/5000]: Train loss: 77.2372, Valid loss: 77.3291\n"
          ]
        },
        {
          "output_type": "stream",
          "name": "stderr",
          "text": [
            "Epoch [561/5000]: 100%|██████████| 10/10 [00:00<00:00, 108.44it/s, loss=74.7]\n"
          ]
        },
        {
          "output_type": "stream",
          "name": "stdout",
          "text": [
            "Epoch [561/5000]: Train loss: 76.0614, Valid loss: 76.1823\n"
          ]
        },
        {
          "output_type": "stream",
          "name": "stderr",
          "text": [
            "Epoch [562/5000]: 100%|██████████| 10/10 [00:00<00:00, 105.28it/s, loss=63.3]\n"
          ]
        },
        {
          "output_type": "stream",
          "name": "stdout",
          "text": [
            "Epoch [562/5000]: Train loss: 74.8158, Valid loss: 77.3167\n"
          ]
        },
        {
          "output_type": "stream",
          "name": "stderr",
          "text": [
            "Epoch [563/5000]: 100%|██████████| 10/10 [00:00<00:00, 108.73it/s, loss=75.4]\n"
          ]
        },
        {
          "output_type": "stream",
          "name": "stdout",
          "text": [
            "Epoch [563/5000]: Train loss: 74.9706, Valid loss: 79.2584\n"
          ]
        },
        {
          "output_type": "stream",
          "name": "stderr",
          "text": [
            "Epoch [564/5000]: 100%|██████████| 10/10 [00:00<00:00, 91.59it/s, loss=63.1]\n"
          ]
        },
        {
          "output_type": "stream",
          "name": "stdout",
          "text": [
            "Epoch [564/5000]: Train loss: 73.6807, Valid loss: 75.7271\n"
          ]
        },
        {
          "output_type": "stream",
          "name": "stderr",
          "text": [
            "Epoch [565/5000]: 100%|██████████| 10/10 [00:00<00:00, 100.50it/s, loss=86.8]\n"
          ]
        },
        {
          "output_type": "stream",
          "name": "stdout",
          "text": [
            "Epoch [565/5000]: Train loss: 74.5263, Valid loss: 73.1024\n",
            "Saving model with loss 73.102...\n"
          ]
        },
        {
          "output_type": "stream",
          "name": "stderr",
          "text": [
            "Epoch [566/5000]: 100%|██████████| 10/10 [00:00<00:00, 105.77it/s, loss=63.8]\n"
          ]
        },
        {
          "output_type": "stream",
          "name": "stdout",
          "text": [
            "Epoch [566/5000]: Train loss: 72.6058, Valid loss: 73.3724\n"
          ]
        },
        {
          "output_type": "stream",
          "name": "stderr",
          "text": [
            "Epoch [567/5000]: 100%|██████████| 10/10 [00:00<00:00, 103.60it/s, loss=60.8]\n"
          ]
        },
        {
          "output_type": "stream",
          "name": "stdout",
          "text": [
            "Epoch [567/5000]: Train loss: 71.8693, Valid loss: 69.7165\n",
            "Saving model with loss 69.717...\n"
          ]
        },
        {
          "output_type": "stream",
          "name": "stderr",
          "text": [
            "Epoch [568/5000]: 100%|██████████| 10/10 [00:00<00:00, 106.67it/s, loss=69.1]\n"
          ]
        },
        {
          "output_type": "stream",
          "name": "stdout",
          "text": [
            "Epoch [568/5000]: Train loss: 71.8170, Valid loss: 71.3105\n"
          ]
        },
        {
          "output_type": "stream",
          "name": "stderr",
          "text": [
            "Epoch [569/5000]: 100%|██████████| 10/10 [00:00<00:00, 100.37it/s, loss=63.8]\n"
          ]
        },
        {
          "output_type": "stream",
          "name": "stdout",
          "text": [
            "Epoch [569/5000]: Train loss: 70.9564, Valid loss: 71.5564\n"
          ]
        },
        {
          "output_type": "stream",
          "name": "stderr",
          "text": [
            "Epoch [570/5000]: 100%|██████████| 10/10 [00:00<00:00, 100.18it/s, loss=71.9]\n"
          ]
        },
        {
          "output_type": "stream",
          "name": "stdout",
          "text": [
            "Epoch [570/5000]: Train loss: 70.8962, Valid loss: 70.1600\n"
          ]
        },
        {
          "output_type": "stream",
          "name": "stderr",
          "text": [
            "Epoch [571/5000]: 100%|██████████| 10/10 [00:00<00:00, 107.16it/s, loss=64.5]\n"
          ]
        },
        {
          "output_type": "stream",
          "name": "stdout",
          "text": [
            "Epoch [571/5000]: Train loss: 69.9025, Valid loss: 71.8816\n"
          ]
        },
        {
          "output_type": "stream",
          "name": "stderr",
          "text": [
            "Epoch [572/5000]: 100%|██████████| 10/10 [00:00<00:00, 105.82it/s, loss=81.4]\n"
          ]
        },
        {
          "output_type": "stream",
          "name": "stdout",
          "text": [
            "Epoch [572/5000]: Train loss: 70.3634, Valid loss: 67.8004\n",
            "Saving model with loss 67.800...\n"
          ]
        },
        {
          "output_type": "stream",
          "name": "stderr",
          "text": [
            "Epoch [573/5000]: 100%|██████████| 10/10 [00:00<00:00, 94.95it/s, loss=66.5]\n"
          ]
        },
        {
          "output_type": "stream",
          "name": "stdout",
          "text": [
            "Epoch [573/5000]: Train loss: 68.9470, Valid loss: 72.7303\n"
          ]
        },
        {
          "output_type": "stream",
          "name": "stderr",
          "text": [
            "Epoch [574/5000]: 100%|██████████| 10/10 [00:00<00:00, 95.25it/s, loss=63.5]\n"
          ]
        },
        {
          "output_type": "stream",
          "name": "stdout",
          "text": [
            "Epoch [574/5000]: Train loss: 68.2324, Valid loss: 65.7534\n",
            "Saving model with loss 65.753...\n"
          ]
        },
        {
          "output_type": "stream",
          "name": "stderr",
          "text": [
            "Epoch [575/5000]: 100%|██████████| 10/10 [00:00<00:00, 97.10it/s, loss=60.1]\n"
          ]
        },
        {
          "output_type": "stream",
          "name": "stdout",
          "text": [
            "Epoch [575/5000]: Train loss: 67.5052, Valid loss: 69.0306\n"
          ]
        },
        {
          "output_type": "stream",
          "name": "stderr",
          "text": [
            "Epoch [576/5000]: 100%|██████████| 10/10 [00:00<00:00, 93.78it/s, loss=48.1]\n"
          ]
        },
        {
          "output_type": "stream",
          "name": "stdout",
          "text": [
            "Epoch [576/5000]: Train loss: 66.2642, Valid loss: 64.4264\n",
            "Saving model with loss 64.426...\n"
          ]
        },
        {
          "output_type": "stream",
          "name": "stderr",
          "text": [
            "Epoch [577/5000]: 100%|██████████| 10/10 [00:00<00:00, 92.67it/s, loss=74.7]\n"
          ]
        },
        {
          "output_type": "stream",
          "name": "stdout",
          "text": [
            "Epoch [577/5000]: Train loss: 67.3177, Valid loss: 69.1634\n"
          ]
        },
        {
          "output_type": "stream",
          "name": "stderr",
          "text": [
            "Epoch [578/5000]: 100%|██████████| 10/10 [00:00<00:00, 89.86it/s, loss=56.2]\n"
          ]
        },
        {
          "output_type": "stream",
          "name": "stdout",
          "text": [
            "Epoch [578/5000]: Train loss: 65.6969, Valid loss: 68.4379\n"
          ]
        },
        {
          "output_type": "stream",
          "name": "stderr",
          "text": [
            "Epoch [579/5000]: 100%|██████████| 10/10 [00:00<00:00, 93.30it/s, loss=54.7]\n"
          ]
        },
        {
          "output_type": "stream",
          "name": "stdout",
          "text": [
            "Epoch [579/5000]: Train loss: 65.0892, Valid loss: 66.0790\n"
          ]
        },
        {
          "output_type": "stream",
          "name": "stderr",
          "text": [
            "Epoch [580/5000]: 100%|██████████| 10/10 [00:00<00:00, 100.56it/s, loss=80.6]\n"
          ]
        },
        {
          "output_type": "stream",
          "name": "stdout",
          "text": [
            "Epoch [580/5000]: Train loss: 66.1049, Valid loss: 67.1330\n"
          ]
        },
        {
          "output_type": "stream",
          "name": "stderr",
          "text": [
            "Epoch [581/5000]: 100%|██████████| 10/10 [00:00<00:00, 101.63it/s, loss=57.1]\n"
          ]
        },
        {
          "output_type": "stream",
          "name": "stdout",
          "text": [
            "Epoch [581/5000]: Train loss: 64.1968, Valid loss: 64.7699\n"
          ]
        },
        {
          "output_type": "stream",
          "name": "stderr",
          "text": [
            "Epoch [582/5000]: 100%|██████████| 10/10 [00:00<00:00, 92.30it/s, loss=52.4]\n"
          ]
        },
        {
          "output_type": "stream",
          "name": "stdout",
          "text": [
            "Epoch [582/5000]: Train loss: 63.4091, Valid loss: 64.1201\n",
            "Saving model with loss 64.120...\n"
          ]
        },
        {
          "output_type": "stream",
          "name": "stderr",
          "text": [
            "Epoch [583/5000]: 100%|██████████| 10/10 [00:00<00:00, 86.87it/s, loss=66.4]\n"
          ]
        },
        {
          "output_type": "stream",
          "name": "stdout",
          "text": [
            "Epoch [583/5000]: Train loss: 63.7243, Valid loss: 62.3875\n",
            "Saving model with loss 62.388...\n"
          ]
        },
        {
          "output_type": "stream",
          "name": "stderr",
          "text": [
            "Epoch [584/5000]: 100%|██████████| 10/10 [00:00<00:00, 86.18it/s, loss=48.6]\n"
          ]
        },
        {
          "output_type": "stream",
          "name": "stdout",
          "text": [
            "Epoch [584/5000]: Train loss: 62.1618, Valid loss: 61.9027\n",
            "Saving model with loss 61.903...\n"
          ]
        },
        {
          "output_type": "stream",
          "name": "stderr",
          "text": [
            "Epoch [585/5000]: 100%|██████████| 10/10 [00:00<00:00, 90.47it/s, loss=90.6]\n"
          ]
        },
        {
          "output_type": "stream",
          "name": "stdout",
          "text": [
            "Epoch [585/5000]: Train loss: 64.1532, Valid loss: 65.4555\n"
          ]
        },
        {
          "output_type": "stream",
          "name": "stderr",
          "text": [
            "Epoch [586/5000]: 100%|██████████| 10/10 [00:00<00:00, 94.70it/s, loss=56.1]\n"
          ]
        },
        {
          "output_type": "stream",
          "name": "stdout",
          "text": [
            "Epoch [586/5000]: Train loss: 61.6055, Valid loss: 60.3951\n",
            "Saving model with loss 60.395...\n"
          ]
        },
        {
          "output_type": "stream",
          "name": "stderr",
          "text": [
            "Epoch [587/5000]: 100%|██████████| 10/10 [00:00<00:00, 95.72it/s, loss=51.5]\n"
          ]
        },
        {
          "output_type": "stream",
          "name": "stdout",
          "text": [
            "Epoch [587/5000]: Train loss: 60.8262, Valid loss: 59.3223\n",
            "Saving model with loss 59.322...\n"
          ]
        },
        {
          "output_type": "stream",
          "name": "stderr",
          "text": [
            "Epoch [588/5000]: 100%|██████████| 10/10 [00:00<00:00, 72.58it/s, loss=64.1]\n"
          ]
        },
        {
          "output_type": "stream",
          "name": "stdout",
          "text": [
            "Epoch [588/5000]: Train loss: 61.0715, Valid loss: 60.5137\n"
          ]
        },
        {
          "output_type": "stream",
          "name": "stderr",
          "text": [
            "Epoch [589/5000]: 100%|██████████| 10/10 [00:00<00:00, 59.29it/s, loss=76.3]\n"
          ]
        },
        {
          "output_type": "stream",
          "name": "stdout",
          "text": [
            "Epoch [589/5000]: Train loss: 61.3112, Valid loss: 62.7173\n"
          ]
        },
        {
          "output_type": "stream",
          "name": "stderr",
          "text": [
            "Epoch [590/5000]: 100%|██████████| 10/10 [00:00<00:00, 52.32it/s, loss=71.9]\n"
          ]
        },
        {
          "output_type": "stream",
          "name": "stdout",
          "text": [
            "Epoch [590/5000]: Train loss: 60.5575, Valid loss: 59.5084\n"
          ]
        },
        {
          "output_type": "stream",
          "name": "stderr",
          "text": [
            "Epoch [591/5000]: 100%|██████████| 10/10 [00:00<00:00, 54.52it/s, loss=55.1]\n"
          ]
        },
        {
          "output_type": "stream",
          "name": "stdout",
          "text": [
            "Epoch [591/5000]: Train loss: 59.0716, Valid loss: 58.7587\n",
            "Saving model with loss 58.759...\n"
          ]
        },
        {
          "output_type": "stream",
          "name": "stderr",
          "text": [
            "Epoch [592/5000]: 100%|██████████| 10/10 [00:00<00:00, 52.87it/s, loss=71]\n"
          ]
        },
        {
          "output_type": "stream",
          "name": "stdout",
          "text": [
            "Epoch [592/5000]: Train loss: 59.5294, Valid loss: 58.7390\n",
            "Saving model with loss 58.739...\n"
          ]
        },
        {
          "output_type": "stream",
          "name": "stderr",
          "text": [
            "Epoch [593/5000]: 100%|██████████| 10/10 [00:00<00:00, 77.99it/s, loss=47.7]\n"
          ]
        },
        {
          "output_type": "stream",
          "name": "stdout",
          "text": [
            "Epoch [593/5000]: Train loss: 57.6607, Valid loss: 61.3029\n"
          ]
        },
        {
          "output_type": "stream",
          "name": "stderr",
          "text": [
            "Epoch [594/5000]: 100%|██████████| 10/10 [00:00<00:00, 59.16it/s, loss=64.8]\n"
          ]
        },
        {
          "output_type": "stream",
          "name": "stdout",
          "text": [
            "Epoch [594/5000]: Train loss: 58.1963, Valid loss: 58.6233\n",
            "Saving model with loss 58.623...\n"
          ]
        },
        {
          "output_type": "stream",
          "name": "stderr",
          "text": [
            "Epoch [595/5000]: 100%|██████████| 10/10 [00:00<00:00, 55.65it/s, loss=50.4]\n"
          ]
        },
        {
          "output_type": "stream",
          "name": "stdout",
          "text": [
            "Epoch [595/5000]: Train loss: 56.8648, Valid loss: 54.6867\n",
            "Saving model with loss 54.687...\n"
          ]
        },
        {
          "output_type": "stream",
          "name": "stderr",
          "text": [
            "Epoch [596/5000]: 100%|██████████| 10/10 [00:00<00:00, 53.60it/s, loss=64.8]\n"
          ]
        },
        {
          "output_type": "stream",
          "name": "stdout",
          "text": [
            "Epoch [596/5000]: Train loss: 57.2463, Valid loss: 55.2490\n"
          ]
        },
        {
          "output_type": "stream",
          "name": "stderr",
          "text": [
            "Epoch [597/5000]: 100%|██████████| 10/10 [00:00<00:00, 35.86it/s, loss=50]\n"
          ]
        },
        {
          "output_type": "stream",
          "name": "stdout",
          "text": [
            "Epoch [597/5000]: Train loss: 55.8991, Valid loss: 54.8791\n"
          ]
        },
        {
          "output_type": "stream",
          "name": "stderr",
          "text": [
            "Epoch [598/5000]: 100%|██████████| 10/10 [00:00<00:00, 61.50it/s, loss=71.2]\n"
          ]
        },
        {
          "output_type": "stream",
          "name": "stdout",
          "text": [
            "Epoch [598/5000]: Train loss: 56.6901, Valid loss: 55.7667\n"
          ]
        },
        {
          "output_type": "stream",
          "name": "stderr",
          "text": [
            "Epoch [599/5000]: 100%|██████████| 10/10 [00:00<00:00, 47.50it/s, loss=58.8]\n"
          ]
        },
        {
          "output_type": "stream",
          "name": "stdout",
          "text": [
            "Epoch [599/5000]: Train loss: 55.4871, Valid loss: 55.0717\n"
          ]
        },
        {
          "output_type": "stream",
          "name": "stderr",
          "text": [
            "Epoch [600/5000]: 100%|██████████| 10/10 [00:00<00:00, 60.20it/s, loss=46]\n"
          ]
        },
        {
          "output_type": "stream",
          "name": "stdout",
          "text": [
            "Epoch [600/5000]: Train loss: 54.2691, Valid loss: 52.6253\n",
            "Saving model with loss 52.625...\n"
          ]
        },
        {
          "output_type": "stream",
          "name": "stderr",
          "text": [
            "Epoch [601/5000]: 100%|██████████| 10/10 [00:00<00:00, 85.13it/s, loss=61.9]\n"
          ]
        },
        {
          "output_type": "stream",
          "name": "stdout",
          "text": [
            "Epoch [601/5000]: Train loss: 54.7465, Valid loss: 54.9518\n"
          ]
        },
        {
          "output_type": "stream",
          "name": "stderr",
          "text": [
            "Epoch [602/5000]: 100%|██████████| 10/10 [00:00<00:00, 93.41it/s, loss=51.6]\n"
          ]
        },
        {
          "output_type": "stream",
          "name": "stdout",
          "text": [
            "Epoch [602/5000]: Train loss: 53.6859, Valid loss: 53.3185\n"
          ]
        },
        {
          "output_type": "stream",
          "name": "stderr",
          "text": [
            "Epoch [603/5000]: 100%|██████████| 10/10 [00:00<00:00, 75.66it/s, loss=58.5]\n"
          ]
        },
        {
          "output_type": "stream",
          "name": "stdout",
          "text": [
            "Epoch [603/5000]: Train loss: 53.6404, Valid loss: 49.8456\n",
            "Saving model with loss 49.846...\n"
          ]
        },
        {
          "output_type": "stream",
          "name": "stderr",
          "text": [
            "Epoch [604/5000]: 100%|██████████| 10/10 [00:00<00:00, 88.51it/s, loss=61.9]\n"
          ]
        },
        {
          "output_type": "stream",
          "name": "stdout",
          "text": [
            "Epoch [604/5000]: Train loss: 53.3891, Valid loss: 53.2857\n"
          ]
        },
        {
          "output_type": "stream",
          "name": "stderr",
          "text": [
            "Epoch [605/5000]: 100%|██████████| 10/10 [00:00<00:00, 93.24it/s, loss=66.2]\n"
          ]
        },
        {
          "output_type": "stream",
          "name": "stdout",
          "text": [
            "Epoch [605/5000]: Train loss: 53.1986, Valid loss: 52.3632\n"
          ]
        },
        {
          "output_type": "stream",
          "name": "stderr",
          "text": [
            "Epoch [606/5000]: 100%|██████████| 10/10 [00:00<00:00, 90.15it/s, loss=58.6]\n"
          ]
        },
        {
          "output_type": "stream",
          "name": "stdout",
          "text": [
            "Epoch [606/5000]: Train loss: 52.3005, Valid loss: 51.2601\n"
          ]
        },
        {
          "output_type": "stream",
          "name": "stderr",
          "text": [
            "Epoch [607/5000]: 100%|██████████| 10/10 [00:00<00:00, 96.59it/s, loss=55]\n"
          ]
        },
        {
          "output_type": "stream",
          "name": "stdout",
          "text": [
            "Epoch [607/5000]: Train loss: 51.6461, Valid loss: 51.9484\n"
          ]
        },
        {
          "output_type": "stream",
          "name": "stderr",
          "text": [
            "Epoch [608/5000]: 100%|██████████| 10/10 [00:00<00:00, 87.92it/s, loss=43.8]\n"
          ]
        },
        {
          "output_type": "stream",
          "name": "stdout",
          "text": [
            "Epoch [608/5000]: Train loss: 50.5367, Valid loss: 51.5194\n"
          ]
        },
        {
          "output_type": "stream",
          "name": "stderr",
          "text": [
            "Epoch [609/5000]: 100%|██████████| 10/10 [00:00<00:00, 106.47it/s, loss=61.1]\n"
          ]
        },
        {
          "output_type": "stream",
          "name": "stdout",
          "text": [
            "Epoch [609/5000]: Train loss: 51.1269, Valid loss: 51.3286\n"
          ]
        },
        {
          "output_type": "stream",
          "name": "stderr",
          "text": [
            "Epoch [610/5000]: 100%|██████████| 10/10 [00:00<00:00, 96.03it/s, loss=54.4]\n"
          ]
        },
        {
          "output_type": "stream",
          "name": "stdout",
          "text": [
            "Epoch [610/5000]: Train loss: 50.2967, Valid loss: 49.0931\n",
            "Saving model with loss 49.093...\n"
          ]
        },
        {
          "output_type": "stream",
          "name": "stderr",
          "text": [
            "Epoch [611/5000]: 100%|██████████| 10/10 [00:00<00:00, 110.27it/s, loss=60.1]\n"
          ]
        },
        {
          "output_type": "stream",
          "name": "stdout",
          "text": [
            "Epoch [611/5000]: Train loss: 50.2119, Valid loss: 48.5738\n",
            "Saving model with loss 48.574...\n"
          ]
        },
        {
          "output_type": "stream",
          "name": "stderr",
          "text": [
            "Epoch [612/5000]: 100%|██████████| 10/10 [00:00<00:00, 106.95it/s, loss=44.7]\n"
          ]
        },
        {
          "output_type": "stream",
          "name": "stdout",
          "text": [
            "Epoch [612/5000]: Train loss: 48.8673, Valid loss: 45.1783\n",
            "Saving model with loss 45.178...\n"
          ]
        },
        {
          "output_type": "stream",
          "name": "stderr",
          "text": [
            "Epoch [613/5000]: 100%|██████████| 10/10 [00:00<00:00, 108.83it/s, loss=41.7]\n"
          ]
        },
        {
          "output_type": "stream",
          "name": "stdout",
          "text": [
            "Epoch [613/5000]: Train loss: 48.2709, Valid loss: 47.9161\n"
          ]
        },
        {
          "output_type": "stream",
          "name": "stderr",
          "text": [
            "Epoch [614/5000]: 100%|██████████| 10/10 [00:00<00:00, 104.60it/s, loss=51.5]\n"
          ]
        },
        {
          "output_type": "stream",
          "name": "stdout",
          "text": [
            "Epoch [614/5000]: Train loss: 48.4266, Valid loss: 46.8269\n"
          ]
        },
        {
          "output_type": "stream",
          "name": "stderr",
          "text": [
            "Epoch [615/5000]: 100%|██████████| 10/10 [00:00<00:00, 105.61it/s, loss=54.4]\n"
          ]
        },
        {
          "output_type": "stream",
          "name": "stdout",
          "text": [
            "Epoch [615/5000]: Train loss: 48.1817, Valid loss: 46.7195\n"
          ]
        },
        {
          "output_type": "stream",
          "name": "stderr",
          "text": [
            "Epoch [616/5000]: 100%|██████████| 10/10 [00:00<00:00, 100.36it/s, loss=51.8]\n"
          ]
        },
        {
          "output_type": "stream",
          "name": "stdout",
          "text": [
            "Epoch [616/5000]: Train loss: 47.6190, Valid loss: 47.9369\n"
          ]
        },
        {
          "output_type": "stream",
          "name": "stderr",
          "text": [
            "Epoch [617/5000]: 100%|██████████| 10/10 [00:00<00:00, 114.17it/s, loss=43.1]\n"
          ]
        },
        {
          "output_type": "stream",
          "name": "stdout",
          "text": [
            "Epoch [617/5000]: Train loss: 46.6878, Valid loss: 44.4478\n",
            "Saving model with loss 44.448...\n"
          ]
        },
        {
          "output_type": "stream",
          "name": "stderr",
          "text": [
            "Epoch [618/5000]: 100%|██████████| 10/10 [00:00<00:00, 109.07it/s, loss=36.1]\n"
          ]
        },
        {
          "output_type": "stream",
          "name": "stdout",
          "text": [
            "Epoch [618/5000]: Train loss: 45.8649, Valid loss: 46.8785\n"
          ]
        },
        {
          "output_type": "stream",
          "name": "stderr",
          "text": [
            "Epoch [619/5000]: 100%|██████████| 10/10 [00:00<00:00, 83.88it/s, loss=46.6]\n"
          ]
        },
        {
          "output_type": "stream",
          "name": "stdout",
          "text": [
            "Epoch [619/5000]: Train loss: 46.0852, Valid loss: 45.9940\n"
          ]
        },
        {
          "output_type": "stream",
          "name": "stderr",
          "text": [
            "Epoch [620/5000]: 100%|██████████| 10/10 [00:00<00:00, 112.11it/s, loss=50]\n"
          ]
        },
        {
          "output_type": "stream",
          "name": "stdout",
          "text": [
            "Epoch [620/5000]: Train loss: 45.8855, Valid loss: 46.5074\n"
          ]
        },
        {
          "output_type": "stream",
          "name": "stderr",
          "text": [
            "Epoch [621/5000]: 100%|██████████| 10/10 [00:00<00:00, 54.75it/s, loss=48.1]\n"
          ]
        },
        {
          "output_type": "stream",
          "name": "stdout",
          "text": [
            "Epoch [621/5000]: Train loss: 45.3746, Valid loss: 44.2518\n",
            "Saving model with loss 44.252...\n"
          ]
        },
        {
          "output_type": "stream",
          "name": "stderr",
          "text": [
            "Epoch [622/5000]: 100%|██████████| 10/10 [00:00<00:00, 62.39it/s, loss=51.4]\n"
          ]
        },
        {
          "output_type": "stream",
          "name": "stdout",
          "text": [
            "Epoch [622/5000]: Train loss: 45.1742, Valid loss: 44.4701\n"
          ]
        },
        {
          "output_type": "stream",
          "name": "stderr",
          "text": [
            "Epoch [623/5000]: 100%|██████████| 10/10 [00:00<00:00, 55.32it/s, loss=41.8]\n"
          ]
        },
        {
          "output_type": "stream",
          "name": "stdout",
          "text": [
            "Epoch [623/5000]: Train loss: 44.2124, Valid loss: 44.0135\n",
            "Saving model with loss 44.013...\n"
          ]
        },
        {
          "output_type": "stream",
          "name": "stderr",
          "text": [
            "Epoch [624/5000]: 100%|██████████| 10/10 [00:00<00:00, 71.23it/s, loss=39.1]\n"
          ]
        },
        {
          "output_type": "stream",
          "name": "stdout",
          "text": [
            "Epoch [624/5000]: Train loss: 43.6575, Valid loss: 44.1141\n"
          ]
        },
        {
          "output_type": "stream",
          "name": "stderr",
          "text": [
            "Epoch [625/5000]: 100%|██████████| 10/10 [00:00<00:00, 66.23it/s, loss=47.1]\n"
          ]
        },
        {
          "output_type": "stream",
          "name": "stdout",
          "text": [
            "Epoch [625/5000]: Train loss: 43.7500, Valid loss: 42.9283\n",
            "Saving model with loss 42.928...\n"
          ]
        },
        {
          "output_type": "stream",
          "name": "stderr",
          "text": [
            "Epoch [626/5000]: 100%|██████████| 10/10 [00:00<00:00, 54.10it/s, loss=32]\n"
          ]
        },
        {
          "output_type": "stream",
          "name": "stdout",
          "text": [
            "Epoch [626/5000]: Train loss: 42.4747, Valid loss: 42.3603\n",
            "Saving model with loss 42.360...\n"
          ]
        },
        {
          "output_type": "stream",
          "name": "stderr",
          "text": [
            "Epoch [627/5000]: 100%|██████████| 10/10 [00:00<00:00, 45.74it/s, loss=45.6]\n"
          ]
        },
        {
          "output_type": "stream",
          "name": "stdout",
          "text": [
            "Epoch [627/5000]: Train loss: 42.9038, Valid loss: 44.6583\n"
          ]
        },
        {
          "output_type": "stream",
          "name": "stderr",
          "text": [
            "Epoch [628/5000]: 100%|██████████| 10/10 [00:00<00:00, 47.58it/s, loss=33.7]\n"
          ]
        },
        {
          "output_type": "stream",
          "name": "stdout",
          "text": [
            "Epoch [628/5000]: Train loss: 41.8203, Valid loss: 41.0711\n",
            "Saving model with loss 41.071...\n"
          ]
        },
        {
          "output_type": "stream",
          "name": "stderr",
          "text": [
            "Epoch [629/5000]: 100%|██████████| 10/10 [00:00<00:00, 58.44it/s, loss=53.3]\n"
          ]
        },
        {
          "output_type": "stream",
          "name": "stdout",
          "text": [
            "Epoch [629/5000]: Train loss: 42.6124, Valid loss: 39.9675\n",
            "Saving model with loss 39.968...\n"
          ]
        },
        {
          "output_type": "stream",
          "name": "stderr",
          "text": [
            "Epoch [630/5000]: 100%|██████████| 10/10 [00:00<00:00, 36.31it/s, loss=33.7]\n"
          ]
        },
        {
          "output_type": "stream",
          "name": "stdout",
          "text": [
            "Epoch [630/5000]: Train loss: 41.0808, Valid loss: 40.1851\n"
          ]
        },
        {
          "output_type": "stream",
          "name": "stderr",
          "text": [
            "Epoch [631/5000]: 100%|██████████| 10/10 [00:00<00:00, 45.82it/s, loss=39.6]\n"
          ]
        },
        {
          "output_type": "stream",
          "name": "stdout",
          "text": [
            "Epoch [631/5000]: Train loss: 41.0617, Valid loss: 43.5275\n"
          ]
        },
        {
          "output_type": "stream",
          "name": "stderr",
          "text": [
            "Epoch [632/5000]: 100%|██████████| 10/10 [00:00<00:00, 55.46it/s, loss=36.4]\n"
          ]
        },
        {
          "output_type": "stream",
          "name": "stdout",
          "text": [
            "Epoch [632/5000]: Train loss: 40.5057, Valid loss: 43.5294\n"
          ]
        },
        {
          "output_type": "stream",
          "name": "stderr",
          "text": [
            "Epoch [633/5000]: 100%|██████████| 10/10 [00:00<00:00, 57.74it/s, loss=34.2]\n"
          ]
        },
        {
          "output_type": "stream",
          "name": "stdout",
          "text": [
            "Epoch [633/5000]: Train loss: 40.0194, Valid loss: 41.2054\n"
          ]
        },
        {
          "output_type": "stream",
          "name": "stderr",
          "text": [
            "Epoch [634/5000]: 100%|██████████| 10/10 [00:00<00:00, 47.28it/s, loss=33.4]\n"
          ]
        },
        {
          "output_type": "stream",
          "name": "stdout",
          "text": [
            "Epoch [634/5000]: Train loss: 39.6171, Valid loss: 38.8731\n",
            "Saving model with loss 38.873...\n"
          ]
        },
        {
          "output_type": "stream",
          "name": "stderr",
          "text": [
            "Epoch [635/5000]: 100%|██████████| 10/10 [00:00<00:00, 57.40it/s, loss=28.3]\n"
          ]
        },
        {
          "output_type": "stream",
          "name": "stdout",
          "text": [
            "Epoch [635/5000]: Train loss: 38.9562, Valid loss: 39.6784\n"
          ]
        },
        {
          "output_type": "stream",
          "name": "stderr",
          "text": [
            "Epoch [636/5000]: 100%|██████████| 10/10 [00:00<00:00, 89.95it/s, loss=39.9]\n"
          ]
        },
        {
          "output_type": "stream",
          "name": "stdout",
          "text": [
            "Epoch [636/5000]: Train loss: 39.2995, Valid loss: 37.7923\n",
            "Saving model with loss 37.792...\n"
          ]
        },
        {
          "output_type": "stream",
          "name": "stderr",
          "text": [
            "Epoch [637/5000]: 100%|██████████| 10/10 [00:00<00:00, 116.01it/s, loss=35]\n"
          ]
        },
        {
          "output_type": "stream",
          "name": "stdout",
          "text": [
            "Epoch [637/5000]: Train loss: 38.6584, Valid loss: 36.6128\n",
            "Saving model with loss 36.613...\n"
          ]
        },
        {
          "output_type": "stream",
          "name": "stderr",
          "text": [
            "Epoch [638/5000]: 100%|██████████| 10/10 [00:00<00:00, 107.84it/s, loss=39.7]\n"
          ]
        },
        {
          "output_type": "stream",
          "name": "stdout",
          "text": [
            "Epoch [638/5000]: Train loss: 38.5931, Valid loss: 37.1312\n"
          ]
        },
        {
          "output_type": "stream",
          "name": "stderr",
          "text": [
            "Epoch [639/5000]: 100%|██████████| 10/10 [00:00<00:00, 112.30it/s, loss=31.7]\n"
          ]
        },
        {
          "output_type": "stream",
          "name": "stdout",
          "text": [
            "Epoch [639/5000]: Train loss: 37.7744, Valid loss: 37.2851\n"
          ]
        },
        {
          "output_type": "stream",
          "name": "stderr",
          "text": [
            "Epoch [640/5000]: 100%|██████████| 10/10 [00:00<00:00, 114.03it/s, loss=40]\n"
          ]
        },
        {
          "output_type": "stream",
          "name": "stdout",
          "text": [
            "Epoch [640/5000]: Train loss: 37.9264, Valid loss: 38.3774\n"
          ]
        },
        {
          "output_type": "stream",
          "name": "stderr",
          "text": [
            "Epoch [641/5000]: 100%|██████████| 10/10 [00:00<00:00, 103.85it/s, loss=39.7]\n"
          ]
        },
        {
          "output_type": "stream",
          "name": "stdout",
          "text": [
            "Epoch [641/5000]: Train loss: 37.5687, Valid loss: 34.9349\n",
            "Saving model with loss 34.935...\n"
          ]
        },
        {
          "output_type": "stream",
          "name": "stderr",
          "text": [
            "Epoch [642/5000]: 100%|██████████| 10/10 [00:00<00:00, 102.40it/s, loss=34.4]\n"
          ]
        },
        {
          "output_type": "stream",
          "name": "stdout",
          "text": [
            "Epoch [642/5000]: Train loss: 36.9253, Valid loss: 35.8135\n"
          ]
        },
        {
          "output_type": "stream",
          "name": "stderr",
          "text": [
            "Epoch [643/5000]: 100%|██████████| 10/10 [00:00<00:00, 104.35it/s, loss=42.5]\n"
          ]
        },
        {
          "output_type": "stream",
          "name": "stdout",
          "text": [
            "Epoch [643/5000]: Train loss: 37.0748, Valid loss: 36.6645\n"
          ]
        },
        {
          "output_type": "stream",
          "name": "stderr",
          "text": [
            "Epoch [644/5000]: 100%|██████████| 10/10 [00:00<00:00, 91.61it/s, loss=40]\n"
          ]
        },
        {
          "output_type": "stream",
          "name": "stdout",
          "text": [
            "Epoch [644/5000]: Train loss: 36.5968, Valid loss: 37.9301\n"
          ]
        },
        {
          "output_type": "stream",
          "name": "stderr",
          "text": [
            "Epoch [645/5000]: 100%|██████████| 10/10 [00:00<00:00, 86.52it/s, loss=42]\n"
          ]
        },
        {
          "output_type": "stream",
          "name": "stdout",
          "text": [
            "Epoch [645/5000]: Train loss: 36.3861, Valid loss: 33.9942\n",
            "Saving model with loss 33.994...\n"
          ]
        },
        {
          "output_type": "stream",
          "name": "stderr",
          "text": [
            "Epoch [646/5000]: 100%|██████████| 10/10 [00:00<00:00, 103.74it/s, loss=38.9]\n"
          ]
        },
        {
          "output_type": "stream",
          "name": "stdout",
          "text": [
            "Epoch [646/5000]: Train loss: 35.8763, Valid loss: 35.3106\n"
          ]
        },
        {
          "output_type": "stream",
          "name": "stderr",
          "text": [
            "Epoch [647/5000]: 100%|██████████| 10/10 [00:00<00:00, 93.27it/s, loss=30.3]\n"
          ]
        },
        {
          "output_type": "stream",
          "name": "stdout",
          "text": [
            "Epoch [647/5000]: Train loss: 35.0476, Valid loss: 37.5441\n"
          ]
        },
        {
          "output_type": "stream",
          "name": "stderr",
          "text": [
            "Epoch [648/5000]: 100%|██████████| 10/10 [00:00<00:00, 104.53it/s, loss=38.4]\n"
          ]
        },
        {
          "output_type": "stream",
          "name": "stdout",
          "text": [
            "Epoch [648/5000]: Train loss: 35.2110, Valid loss: 34.6263\n"
          ]
        },
        {
          "output_type": "stream",
          "name": "stderr",
          "text": [
            "Epoch [649/5000]: 100%|██████████| 10/10 [00:00<00:00, 103.77it/s, loss=34.9]\n"
          ]
        },
        {
          "output_type": "stream",
          "name": "stdout",
          "text": [
            "Epoch [649/5000]: Train loss: 34.6902, Valid loss: 33.5252\n",
            "Saving model with loss 33.525...\n"
          ]
        },
        {
          "output_type": "stream",
          "name": "stderr",
          "text": [
            "Epoch [650/5000]: 100%|██████████| 10/10 [00:00<00:00, 90.33it/s, loss=33.5]\n"
          ]
        },
        {
          "output_type": "stream",
          "name": "stdout",
          "text": [
            "Epoch [650/5000]: Train loss: 34.2955, Valid loss: 33.9596\n"
          ]
        },
        {
          "output_type": "stream",
          "name": "stderr",
          "text": [
            "Epoch [651/5000]: 100%|██████████| 10/10 [00:00<00:00, 82.07it/s, loss=29.8]\n"
          ]
        },
        {
          "output_type": "stream",
          "name": "stdout",
          "text": [
            "Epoch [651/5000]: Train loss: 33.7669, Valid loss: 37.2160\n"
          ]
        },
        {
          "output_type": "stream",
          "name": "stderr",
          "text": [
            "Epoch [652/5000]: 100%|██████████| 10/10 [00:00<00:00, 96.33it/s, loss=35.6]\n"
          ]
        },
        {
          "output_type": "stream",
          "name": "stdout",
          "text": [
            "Epoch [652/5000]: Train loss: 33.8084, Valid loss: 31.0864\n",
            "Saving model with loss 31.086...\n"
          ]
        },
        {
          "output_type": "stream",
          "name": "stderr",
          "text": [
            "Epoch [653/5000]: 100%|██████████| 10/10 [00:00<00:00, 89.60it/s, loss=33.3]\n"
          ]
        },
        {
          "output_type": "stream",
          "name": "stdout",
          "text": [
            "Epoch [653/5000]: Train loss: 33.3672, Valid loss: 32.8012\n"
          ]
        },
        {
          "output_type": "stream",
          "name": "stderr",
          "text": [
            "Epoch [654/5000]: 100%|██████████| 10/10 [00:00<00:00, 95.13it/s, loss=30.5]\n"
          ]
        },
        {
          "output_type": "stream",
          "name": "stdout",
          "text": [
            "Epoch [654/5000]: Train loss: 32.9029, Valid loss: 33.7828\n"
          ]
        },
        {
          "output_type": "stream",
          "name": "stderr",
          "text": [
            "Epoch [655/5000]: 100%|██████████| 10/10 [00:00<00:00, 91.99it/s, loss=36.1]\n"
          ]
        },
        {
          "output_type": "stream",
          "name": "stdout",
          "text": [
            "Epoch [655/5000]: Train loss: 32.9366, Valid loss: 30.6178\n",
            "Saving model with loss 30.618...\n"
          ]
        },
        {
          "output_type": "stream",
          "name": "stderr",
          "text": [
            "Epoch [656/5000]: 100%|██████████| 10/10 [00:00<00:00, 93.60it/s, loss=36.6]\n"
          ]
        },
        {
          "output_type": "stream",
          "name": "stdout",
          "text": [
            "Epoch [656/5000]: Train loss: 32.6763, Valid loss: 32.9185\n"
          ]
        },
        {
          "output_type": "stream",
          "name": "stderr",
          "text": [
            "Epoch [657/5000]: 100%|██████████| 10/10 [00:00<00:00, 91.74it/s, loss=40.7]\n"
          ]
        },
        {
          "output_type": "stream",
          "name": "stdout",
          "text": [
            "Epoch [657/5000]: Train loss: 32.6219, Valid loss: 33.7688\n"
          ]
        },
        {
          "output_type": "stream",
          "name": "stderr",
          "text": [
            "Epoch [658/5000]: 100%|██████████| 10/10 [00:00<00:00, 100.05it/s, loss=39.6]\n"
          ]
        },
        {
          "output_type": "stream",
          "name": "stdout",
          "text": [
            "Epoch [658/5000]: Train loss: 32.2672, Valid loss: 30.8536\n"
          ]
        },
        {
          "output_type": "stream",
          "name": "stderr",
          "text": [
            "Epoch [659/5000]: 100%|██████████| 10/10 [00:00<00:00, 94.11it/s, loss=30]\n"
          ]
        },
        {
          "output_type": "stream",
          "name": "stdout",
          "text": [
            "Epoch [659/5000]: Train loss: 31.4161, Valid loss: 31.7464\n"
          ]
        },
        {
          "output_type": "stream",
          "name": "stderr",
          "text": [
            "Epoch [660/5000]: 100%|██████████| 10/10 [00:00<00:00, 89.49it/s, loss=42.1]\n"
          ]
        },
        {
          "output_type": "stream",
          "name": "stdout",
          "text": [
            "Epoch [660/5000]: Train loss: 31.8448, Valid loss: 31.5290\n"
          ]
        },
        {
          "output_type": "stream",
          "name": "stderr",
          "text": [
            "Epoch [661/5000]: 100%|██████████| 10/10 [00:00<00:00, 89.35it/s, loss=39.5]\n"
          ]
        },
        {
          "output_type": "stream",
          "name": "stdout",
          "text": [
            "Epoch [661/5000]: Train loss: 31.4100, Valid loss: 29.0862\n",
            "Saving model with loss 29.086...\n"
          ]
        },
        {
          "output_type": "stream",
          "name": "stderr",
          "text": [
            "Epoch [662/5000]: 100%|██████████| 10/10 [00:00<00:00, 79.78it/s, loss=32.3]\n"
          ]
        },
        {
          "output_type": "stream",
          "name": "stdout",
          "text": [
            "Epoch [662/5000]: Train loss: 30.7042, Valid loss: 30.5314\n"
          ]
        },
        {
          "output_type": "stream",
          "name": "stderr",
          "text": [
            "Epoch [663/5000]: 100%|██████████| 10/10 [00:00<00:00, 91.86it/s, loss=38.4]\n"
          ]
        },
        {
          "output_type": "stream",
          "name": "stdout",
          "text": [
            "Epoch [663/5000]: Train loss: 30.7927, Valid loss: 30.4986\n"
          ]
        },
        {
          "output_type": "stream",
          "name": "stderr",
          "text": [
            "Epoch [664/5000]: 100%|██████████| 10/10 [00:00<00:00, 91.20it/s, loss=34.7]\n"
          ]
        },
        {
          "output_type": "stream",
          "name": "stdout",
          "text": [
            "Epoch [664/5000]: Train loss: 30.2904, Valid loss: 30.9295\n"
          ]
        },
        {
          "output_type": "stream",
          "name": "stderr",
          "text": [
            "Epoch [665/5000]: 100%|██████████| 10/10 [00:00<00:00, 103.86it/s, loss=28.2]\n"
          ]
        },
        {
          "output_type": "stream",
          "name": "stdout",
          "text": [
            "Epoch [665/5000]: Train loss: 29.6443, Valid loss: 29.0496\n",
            "Saving model with loss 29.050...\n"
          ]
        },
        {
          "output_type": "stream",
          "name": "stderr",
          "text": [
            "Epoch [666/5000]: 100%|██████████| 10/10 [00:00<00:00, 100.27it/s, loss=30.7]\n"
          ]
        },
        {
          "output_type": "stream",
          "name": "stdout",
          "text": [
            "Epoch [666/5000]: Train loss: 29.5210, Valid loss: 29.5193\n"
          ]
        },
        {
          "output_type": "stream",
          "name": "stderr",
          "text": [
            "Epoch [667/5000]: 100%|██████████| 10/10 [00:00<00:00, 85.75it/s, loss=31.9]\n"
          ]
        },
        {
          "output_type": "stream",
          "name": "stdout",
          "text": [
            "Epoch [667/5000]: Train loss: 29.3313, Valid loss: 30.8088\n"
          ]
        },
        {
          "output_type": "stream",
          "name": "stderr",
          "text": [
            "Epoch [668/5000]: 100%|██████████| 10/10 [00:00<00:00, 81.27it/s, loss=21.4]\n"
          ]
        },
        {
          "output_type": "stream",
          "name": "stdout",
          "text": [
            "Epoch [668/5000]: Train loss: 28.4474, Valid loss: 26.9576\n",
            "Saving model with loss 26.958...\n"
          ]
        },
        {
          "output_type": "stream",
          "name": "stderr",
          "text": [
            "Epoch [669/5000]: 100%|██████████| 10/10 [00:00<00:00, 87.80it/s, loss=25.4]\n"
          ]
        },
        {
          "output_type": "stream",
          "name": "stdout",
          "text": [
            "Epoch [669/5000]: Train loss: 28.4256, Valid loss: 30.5088\n"
          ]
        },
        {
          "output_type": "stream",
          "name": "stderr",
          "text": [
            "Epoch [670/5000]: 100%|██████████| 10/10 [00:00<00:00, 90.13it/s, loss=29.8]\n"
          ]
        },
        {
          "output_type": "stream",
          "name": "stdout",
          "text": [
            "Epoch [670/5000]: Train loss: 28.4341, Valid loss: 26.9269\n",
            "Saving model with loss 26.927...\n"
          ]
        },
        {
          "output_type": "stream",
          "name": "stderr",
          "text": [
            "Epoch [671/5000]: 100%|██████████| 10/10 [00:00<00:00, 96.52it/s, loss=24.7]\n"
          ]
        },
        {
          "output_type": "stream",
          "name": "stdout",
          "text": [
            "Epoch [671/5000]: Train loss: 27.8810, Valid loss: 28.0876\n"
          ]
        },
        {
          "output_type": "stream",
          "name": "stderr",
          "text": [
            "Epoch [672/5000]: 100%|██████████| 10/10 [00:00<00:00, 96.82it/s, loss=24.9]\n"
          ]
        },
        {
          "output_type": "stream",
          "name": "stdout",
          "text": [
            "Epoch [672/5000]: Train loss: 27.6473, Valid loss: 25.9329\n",
            "Saving model with loss 25.933...\n"
          ]
        },
        {
          "output_type": "stream",
          "name": "stderr",
          "text": [
            "Epoch [673/5000]: 100%|██████████| 10/10 [00:00<00:00, 87.11it/s, loss=22.4]\n"
          ]
        },
        {
          "output_type": "stream",
          "name": "stdout",
          "text": [
            "Epoch [673/5000]: Train loss: 27.2581, Valid loss: 27.5282\n"
          ]
        },
        {
          "output_type": "stream",
          "name": "stderr",
          "text": [
            "Epoch [674/5000]: 100%|██████████| 10/10 [00:00<00:00, 89.08it/s, loss=29.1]\n"
          ]
        },
        {
          "output_type": "stream",
          "name": "stdout",
          "text": [
            "Epoch [674/5000]: Train loss: 27.4045, Valid loss: 27.8083\n"
          ]
        },
        {
          "output_type": "stream",
          "name": "stderr",
          "text": [
            "Epoch [675/5000]: 100%|██████████| 10/10 [00:00<00:00, 84.09it/s, loss=30.4]\n"
          ]
        },
        {
          "output_type": "stream",
          "name": "stdout",
          "text": [
            "Epoch [675/5000]: Train loss: 27.2491, Valid loss: 27.5117\n"
          ]
        },
        {
          "output_type": "stream",
          "name": "stderr",
          "text": [
            "Epoch [676/5000]: 100%|██████████| 10/10 [00:00<00:00, 112.53it/s, loss=31.1]\n"
          ]
        },
        {
          "output_type": "stream",
          "name": "stdout",
          "text": [
            "Epoch [676/5000]: Train loss: 27.0530, Valid loss: 27.5728\n"
          ]
        },
        {
          "output_type": "stream",
          "name": "stderr",
          "text": [
            "Epoch [677/5000]: 100%|██████████| 10/10 [00:00<00:00, 106.21it/s, loss=25.6]\n"
          ]
        },
        {
          "output_type": "stream",
          "name": "stdout",
          "text": [
            "Epoch [677/5000]: Train loss: 26.4911, Valid loss: 25.7559\n",
            "Saving model with loss 25.756...\n"
          ]
        },
        {
          "output_type": "stream",
          "name": "stderr",
          "text": [
            "Epoch [678/5000]: 100%|██████████| 10/10 [00:00<00:00, 100.00it/s, loss=38]\n"
          ]
        },
        {
          "output_type": "stream",
          "name": "stdout",
          "text": [
            "Epoch [678/5000]: Train loss: 26.9942, Valid loss: 27.9393\n"
          ]
        },
        {
          "output_type": "stream",
          "name": "stderr",
          "text": [
            "Epoch [679/5000]: 100%|██████████| 10/10 [00:00<00:00, 110.31it/s, loss=29.9]\n"
          ]
        },
        {
          "output_type": "stream",
          "name": "stdout",
          "text": [
            "Epoch [679/5000]: Train loss: 26.2877, Valid loss: 27.1562\n"
          ]
        },
        {
          "output_type": "stream",
          "name": "stderr",
          "text": [
            "Epoch [680/5000]: 100%|██████████| 10/10 [00:00<00:00, 102.59it/s, loss=22.2]\n"
          ]
        },
        {
          "output_type": "stream",
          "name": "stdout",
          "text": [
            "Epoch [680/5000]: Train loss: 25.6019, Valid loss: 25.3693\n",
            "Saving model with loss 25.369...\n"
          ]
        },
        {
          "output_type": "stream",
          "name": "stderr",
          "text": [
            "Epoch [681/5000]: 100%|██████████| 10/10 [00:00<00:00, 105.80it/s, loss=20.3]\n"
          ]
        },
        {
          "output_type": "stream",
          "name": "stdout",
          "text": [
            "Epoch [681/5000]: Train loss: 25.2595, Valid loss: 25.9152\n"
          ]
        },
        {
          "output_type": "stream",
          "name": "stderr",
          "text": [
            "Epoch [682/5000]: 100%|██████████| 10/10 [00:00<00:00, 110.11it/s, loss=30.6]\n"
          ]
        },
        {
          "output_type": "stream",
          "name": "stdout",
          "text": [
            "Epoch [682/5000]: Train loss: 25.6540, Valid loss: 24.8382\n",
            "Saving model with loss 24.838...\n"
          ]
        },
        {
          "output_type": "stream",
          "name": "stderr",
          "text": [
            "Epoch [683/5000]: 100%|██████████| 10/10 [00:00<00:00, 106.12it/s, loss=27.9]\n"
          ]
        },
        {
          "output_type": "stream",
          "name": "stdout",
          "text": [
            "Epoch [683/5000]: Train loss: 25.2781, Valid loss: 25.0289\n"
          ]
        },
        {
          "output_type": "stream",
          "name": "stderr",
          "text": [
            "Epoch [684/5000]: 100%|██████████| 10/10 [00:00<00:00, 95.82it/s, loss=33]\n"
          ]
        },
        {
          "output_type": "stream",
          "name": "stdout",
          "text": [
            "Epoch [684/5000]: Train loss: 25.3631, Valid loss: 23.8476\n",
            "Saving model with loss 23.848...\n"
          ]
        },
        {
          "output_type": "stream",
          "name": "stderr",
          "text": [
            "Epoch [685/5000]: 100%|██████████| 10/10 [00:00<00:00, 99.85it/s, loss=29.2]\n"
          ]
        },
        {
          "output_type": "stream",
          "name": "stdout",
          "text": [
            "Epoch [685/5000]: Train loss: 24.9225, Valid loss: 24.0035\n"
          ]
        },
        {
          "output_type": "stream",
          "name": "stderr",
          "text": [
            "Epoch [686/5000]: 100%|██████████| 10/10 [00:00<00:00, 21.27it/s, loss=22.5]\n"
          ]
        },
        {
          "output_type": "stream",
          "name": "stdout",
          "text": [
            "Epoch [686/5000]: Train loss: 24.3145, Valid loss: 24.8213\n"
          ]
        },
        {
          "output_type": "stream",
          "name": "stderr",
          "text": [
            "Epoch [687/5000]: 100%|██████████| 10/10 [00:00<00:00, 109.97it/s, loss=33.4]\n"
          ]
        },
        {
          "output_type": "stream",
          "name": "stdout",
          "text": [
            "Epoch [687/5000]: Train loss: 24.7468, Valid loss: 23.8479\n"
          ]
        },
        {
          "output_type": "stream",
          "name": "stderr",
          "text": [
            "Epoch [688/5000]: 100%|██████████| 10/10 [00:00<00:00, 104.40it/s, loss=25.3]\n"
          ]
        },
        {
          "output_type": "stream",
          "name": "stdout",
          "text": [
            "Epoch [688/5000]: Train loss: 24.0590, Valid loss: 24.6565\n"
          ]
        },
        {
          "output_type": "stream",
          "name": "stderr",
          "text": [
            "Epoch [689/5000]: 100%|██████████| 10/10 [00:00<00:00, 86.52it/s, loss=24.7]\n"
          ]
        },
        {
          "output_type": "stream",
          "name": "stdout",
          "text": [
            "Epoch [689/5000]: Train loss: 23.8227, Valid loss: 22.5534\n",
            "Saving model with loss 22.553...\n"
          ]
        },
        {
          "output_type": "stream",
          "name": "stderr",
          "text": [
            "Epoch [690/5000]: 100%|██████████| 10/10 [00:00<00:00, 114.05it/s, loss=23.9]\n"
          ]
        },
        {
          "output_type": "stream",
          "name": "stdout",
          "text": [
            "Epoch [690/5000]: Train loss: 23.5697, Valid loss: 21.1619\n",
            "Saving model with loss 21.162...\n"
          ]
        },
        {
          "output_type": "stream",
          "name": "stderr",
          "text": [
            "Epoch [691/5000]: 100%|██████████| 10/10 [00:00<00:00, 121.70it/s, loss=27.2]\n"
          ]
        },
        {
          "output_type": "stream",
          "name": "stdout",
          "text": [
            "Epoch [691/5000]: Train loss: 23.5724, Valid loss: 23.1771\n"
          ]
        },
        {
          "output_type": "stream",
          "name": "stderr",
          "text": [
            "Epoch [692/5000]: 100%|██████████| 10/10 [00:00<00:00, 111.88it/s, loss=26]\n"
          ]
        },
        {
          "output_type": "stream",
          "name": "stdout",
          "text": [
            "Epoch [692/5000]: Train loss: 23.3076, Valid loss: 23.1945\n"
          ]
        },
        {
          "output_type": "stream",
          "name": "stderr",
          "text": [
            "Epoch [693/5000]: 100%|██████████| 10/10 [00:00<00:00, 119.46it/s, loss=19]\n"
          ]
        },
        {
          "output_type": "stream",
          "name": "stdout",
          "text": [
            "Epoch [693/5000]: Train loss: 22.7008, Valid loss: 23.2261\n"
          ]
        },
        {
          "output_type": "stream",
          "name": "stderr",
          "text": [
            "Epoch [694/5000]: 100%|██████████| 10/10 [00:00<00:00, 105.65it/s, loss=19.7]\n"
          ]
        },
        {
          "output_type": "stream",
          "name": "stdout",
          "text": [
            "Epoch [694/5000]: Train loss: 22.5498, Valid loss: 21.8685\n"
          ]
        },
        {
          "output_type": "stream",
          "name": "stderr",
          "text": [
            "Epoch [695/5000]: 100%|██████████| 10/10 [00:00<00:00, 114.53it/s, loss=22.7]\n"
          ]
        },
        {
          "output_type": "stream",
          "name": "stdout",
          "text": [
            "Epoch [695/5000]: Train loss: 22.5446, Valid loss: 22.3048\n"
          ]
        },
        {
          "output_type": "stream",
          "name": "stderr",
          "text": [
            "Epoch [696/5000]: 100%|██████████| 10/10 [00:00<00:00, 115.11it/s, loss=18.9]\n"
          ]
        },
        {
          "output_type": "stream",
          "name": "stdout",
          "text": [
            "Epoch [696/5000]: Train loss: 22.1321, Valid loss: 21.2458\n"
          ]
        },
        {
          "output_type": "stream",
          "name": "stderr",
          "text": [
            "Epoch [697/5000]: 100%|██████████| 10/10 [00:00<00:00, 103.46it/s, loss=20.4]\n"
          ]
        },
        {
          "output_type": "stream",
          "name": "stdout",
          "text": [
            "Epoch [697/5000]: Train loss: 22.0390, Valid loss: 20.6333\n",
            "Saving model with loss 20.633...\n"
          ]
        },
        {
          "output_type": "stream",
          "name": "stderr",
          "text": [
            "Epoch [698/5000]: 100%|██████████| 10/10 [00:00<00:00, 73.22it/s, loss=28.5]\n"
          ]
        },
        {
          "output_type": "stream",
          "name": "stdout",
          "text": [
            "Epoch [698/5000]: Train loss: 22.3407, Valid loss: 21.2506\n"
          ]
        },
        {
          "output_type": "stream",
          "name": "stderr",
          "text": [
            "Epoch [699/5000]: 100%|██████████| 10/10 [00:00<00:00, 83.21it/s, loss=21.5]\n"
          ]
        },
        {
          "output_type": "stream",
          "name": "stdout",
          "text": [
            "Epoch [699/5000]: Train loss: 21.7514, Valid loss: 21.0911\n"
          ]
        },
        {
          "output_type": "stream",
          "name": "stderr",
          "text": [
            "Epoch [700/5000]: 100%|██████████| 10/10 [00:00<00:00, 85.06it/s, loss=27.7]\n"
          ]
        },
        {
          "output_type": "stream",
          "name": "stdout",
          "text": [
            "Epoch [700/5000]: Train loss: 21.9430, Valid loss: 21.3535\n"
          ]
        },
        {
          "output_type": "stream",
          "name": "stderr",
          "text": [
            "Epoch [701/5000]: 100%|██████████| 10/10 [00:00<00:00, 109.77it/s, loss=22]\n"
          ]
        },
        {
          "output_type": "stream",
          "name": "stdout",
          "text": [
            "Epoch [701/5000]: Train loss: 21.4310, Valid loss: 22.2614\n"
          ]
        },
        {
          "output_type": "stream",
          "name": "stderr",
          "text": [
            "Epoch [702/5000]: 100%|██████████| 10/10 [00:00<00:00, 107.74it/s, loss=19.8]\n"
          ]
        },
        {
          "output_type": "stream",
          "name": "stdout",
          "text": [
            "Epoch [702/5000]: Train loss: 21.1325, Valid loss: 21.6704\n"
          ]
        },
        {
          "output_type": "stream",
          "name": "stderr",
          "text": [
            "Epoch [703/5000]: 100%|██████████| 10/10 [00:00<00:00, 100.07it/s, loss=18.6]\n"
          ]
        },
        {
          "output_type": "stream",
          "name": "stdout",
          "text": [
            "Epoch [703/5000]: Train loss: 20.8915, Valid loss: 21.3325\n"
          ]
        },
        {
          "output_type": "stream",
          "name": "stderr",
          "text": [
            "Epoch [704/5000]: 100%|██████████| 10/10 [00:00<00:00, 100.56it/s, loss=21.6]\n"
          ]
        },
        {
          "output_type": "stream",
          "name": "stdout",
          "text": [
            "Epoch [704/5000]: Train loss: 20.9086, Valid loss: 21.1036\n"
          ]
        },
        {
          "output_type": "stream",
          "name": "stderr",
          "text": [
            "Epoch [705/5000]: 100%|██████████| 10/10 [00:00<00:00, 93.98it/s, loss=19.2]\n"
          ]
        },
        {
          "output_type": "stream",
          "name": "stdout",
          "text": [
            "Epoch [705/5000]: Train loss: 20.6041, Valid loss: 20.6898\n"
          ]
        },
        {
          "output_type": "stream",
          "name": "stderr",
          "text": [
            "Epoch [706/5000]: 100%|██████████| 10/10 [00:00<00:00, 80.51it/s, loss=27.2]\n"
          ]
        },
        {
          "output_type": "stream",
          "name": "stdout",
          "text": [
            "Epoch [706/5000]: Train loss: 20.9168, Valid loss: 21.1888\n"
          ]
        },
        {
          "output_type": "stream",
          "name": "stderr",
          "text": [
            "Epoch [707/5000]: 100%|██████████| 10/10 [00:00<00:00, 94.72it/s, loss=18.2]\n"
          ]
        },
        {
          "output_type": "stream",
          "name": "stdout",
          "text": [
            "Epoch [707/5000]: Train loss: 20.2258, Valid loss: 20.2549\n",
            "Saving model with loss 20.255...\n"
          ]
        },
        {
          "output_type": "stream",
          "name": "stderr",
          "text": [
            "Epoch [708/5000]: 100%|██████████| 10/10 [00:00<00:00, 115.25it/s, loss=21.4]\n"
          ]
        },
        {
          "output_type": "stream",
          "name": "stdout",
          "text": [
            "Epoch [708/5000]: Train loss: 20.2568, Valid loss: 20.9726\n"
          ]
        },
        {
          "output_type": "stream",
          "name": "stderr",
          "text": [
            "Epoch [709/5000]: 100%|██████████| 10/10 [00:00<00:00, 112.45it/s, loss=15.2]\n"
          ]
        },
        {
          "output_type": "stream",
          "name": "stdout",
          "text": [
            "Epoch [709/5000]: Train loss: 19.7364, Valid loss: 21.2779\n"
          ]
        },
        {
          "output_type": "stream",
          "name": "stderr",
          "text": [
            "Epoch [710/5000]: 100%|██████████| 10/10 [00:00<00:00, 110.98it/s, loss=24.4]\n"
          ]
        },
        {
          "output_type": "stream",
          "name": "stdout",
          "text": [
            "Epoch [710/5000]: Train loss: 20.1318, Valid loss: 21.3680\n"
          ]
        },
        {
          "output_type": "stream",
          "name": "stderr",
          "text": [
            "Epoch [711/5000]: 100%|██████████| 10/10 [00:00<00:00, 108.31it/s, loss=19.8]\n"
          ]
        },
        {
          "output_type": "stream",
          "name": "stdout",
          "text": [
            "Epoch [711/5000]: Train loss: 19.7133, Valid loss: 19.9754\n",
            "Saving model with loss 19.975...\n"
          ]
        },
        {
          "output_type": "stream",
          "name": "stderr",
          "text": [
            "Epoch [712/5000]: 100%|██████████| 10/10 [00:00<00:00, 103.29it/s, loss=16.2]\n"
          ]
        },
        {
          "output_type": "stream",
          "name": "stdout",
          "text": [
            "Epoch [712/5000]: Train loss: 19.3552, Valid loss: 19.3167\n",
            "Saving model with loss 19.317...\n"
          ]
        },
        {
          "output_type": "stream",
          "name": "stderr",
          "text": [
            "Epoch [713/5000]: 100%|██████████| 10/10 [00:00<00:00, 108.87it/s, loss=16.1]\n"
          ]
        },
        {
          "output_type": "stream",
          "name": "stdout",
          "text": [
            "Epoch [713/5000]: Train loss: 19.2000, Valid loss: 19.5153\n"
          ]
        },
        {
          "output_type": "stream",
          "name": "stderr",
          "text": [
            "Epoch [714/5000]: 100%|██████████| 10/10 [00:00<00:00, 106.11it/s, loss=14.2]\n"
          ]
        },
        {
          "output_type": "stream",
          "name": "stdout",
          "text": [
            "Epoch [714/5000]: Train loss: 18.9508, Valid loss: 19.6388\n"
          ]
        },
        {
          "output_type": "stream",
          "name": "stderr",
          "text": [
            "Epoch [715/5000]: 100%|██████████| 10/10 [00:00<00:00, 103.26it/s, loss=20.2]\n"
          ]
        },
        {
          "output_type": "stream",
          "name": "stdout",
          "text": [
            "Epoch [715/5000]: Train loss: 19.1668, Valid loss: 18.8382\n",
            "Saving model with loss 18.838...\n"
          ]
        },
        {
          "output_type": "stream",
          "name": "stderr",
          "text": [
            "Epoch [716/5000]: 100%|██████████| 10/10 [00:00<00:00, 87.03it/s, loss=22.2]\n"
          ]
        },
        {
          "output_type": "stream",
          "name": "stdout",
          "text": [
            "Epoch [716/5000]: Train loss: 19.1509, Valid loss: 18.5583\n",
            "Saving model with loss 18.558...\n"
          ]
        },
        {
          "output_type": "stream",
          "name": "stderr",
          "text": [
            "Epoch [717/5000]: 100%|██████████| 10/10 [00:00<00:00, 71.25it/s, loss=18.3]\n"
          ]
        },
        {
          "output_type": "stream",
          "name": "stdout",
          "text": [
            "Epoch [717/5000]: Train loss: 18.7848, Valid loss: 18.9561\n"
          ]
        },
        {
          "output_type": "stream",
          "name": "stderr",
          "text": [
            "Epoch [718/5000]: 100%|██████████| 10/10 [00:00<00:00, 49.08it/s, loss=15.5]\n"
          ]
        },
        {
          "output_type": "stream",
          "name": "stdout",
          "text": [
            "Epoch [718/5000]: Train loss: 18.4845, Valid loss: 18.6666\n"
          ]
        },
        {
          "output_type": "stream",
          "name": "stderr",
          "text": [
            "Epoch [719/5000]: 100%|██████████| 10/10 [00:00<00:00, 47.74it/s, loss=16.6]\n"
          ]
        },
        {
          "output_type": "stream",
          "name": "stdout",
          "text": [
            "Epoch [719/5000]: Train loss: 18.4167, Valid loss: 18.6730\n"
          ]
        },
        {
          "output_type": "stream",
          "name": "stderr",
          "text": [
            "Epoch [720/5000]: 100%|██████████| 10/10 [00:00<00:00, 58.16it/s, loss=19.5]\n"
          ]
        },
        {
          "output_type": "stream",
          "name": "stdout",
          "text": [
            "Epoch [720/5000]: Train loss: 18.4623, Valid loss: 17.9249\n",
            "Saving model with loss 17.925...\n"
          ]
        },
        {
          "output_type": "stream",
          "name": "stderr",
          "text": [
            "Epoch [721/5000]: 100%|██████████| 10/10 [00:00<00:00, 47.40it/s, loss=17.5]\n"
          ]
        },
        {
          "output_type": "stream",
          "name": "stdout",
          "text": [
            "Epoch [721/5000]: Train loss: 18.2189, Valid loss: 18.1825\n"
          ]
        },
        {
          "output_type": "stream",
          "name": "stderr",
          "text": [
            "Epoch [722/5000]: 100%|██████████| 10/10 [00:00<00:00, 67.44it/s, loss=19.3]\n"
          ]
        },
        {
          "output_type": "stream",
          "name": "stdout",
          "text": [
            "Epoch [722/5000]: Train loss: 18.2010, Valid loss: 17.8335\n",
            "Saving model with loss 17.834...\n"
          ]
        },
        {
          "output_type": "stream",
          "name": "stderr",
          "text": [
            "Epoch [723/5000]: 100%|██████████| 10/10 [00:00<00:00, 43.13it/s, loss=20.1]\n"
          ]
        },
        {
          "output_type": "stream",
          "name": "stdout",
          "text": [
            "Epoch [723/5000]: Train loss: 18.1205, Valid loss: 18.2630\n"
          ]
        },
        {
          "output_type": "stream",
          "name": "stderr",
          "text": [
            "Epoch [724/5000]: 100%|██████████| 10/10 [00:00<00:00, 43.00it/s, loss=20.1]\n"
          ]
        },
        {
          "output_type": "stream",
          "name": "stdout",
          "text": [
            "Epoch [724/5000]: Train loss: 18.0027, Valid loss: 16.7371\n",
            "Saving model with loss 16.737...\n"
          ]
        },
        {
          "output_type": "stream",
          "name": "stderr",
          "text": [
            "Epoch [725/5000]: 100%|██████████| 10/10 [00:00<00:00, 40.25it/s, loss=17.6]\n"
          ]
        },
        {
          "output_type": "stream",
          "name": "stdout",
          "text": [
            "Epoch [725/5000]: Train loss: 17.7337, Valid loss: 18.3729\n"
          ]
        },
        {
          "output_type": "stream",
          "name": "stderr",
          "text": [
            "Epoch [726/5000]: 100%|██████████| 10/10 [00:00<00:00, 45.66it/s, loss=23]\n"
          ]
        },
        {
          "output_type": "stream",
          "name": "stdout",
          "text": [
            "Epoch [726/5000]: Train loss: 17.9337, Valid loss: 17.1411\n"
          ]
        },
        {
          "output_type": "stream",
          "name": "stderr",
          "text": [
            "Epoch [727/5000]: 100%|██████████| 10/10 [00:00<00:00, 34.11it/s, loss=17.4]\n"
          ]
        },
        {
          "output_type": "stream",
          "name": "stdout",
          "text": [
            "Epoch [727/5000]: Train loss: 17.4894, Valid loss: 17.6758\n"
          ]
        },
        {
          "output_type": "stream",
          "name": "stderr",
          "text": [
            "Epoch [728/5000]: 100%|██████████| 10/10 [00:00<00:00, 62.34it/s, loss=19.8]\n"
          ]
        },
        {
          "output_type": "stream",
          "name": "stdout",
          "text": [
            "Epoch [728/5000]: Train loss: 17.5152, Valid loss: 18.3704\n"
          ]
        },
        {
          "output_type": "stream",
          "name": "stderr",
          "text": [
            "Epoch [729/5000]: 100%|██████████| 10/10 [00:00<00:00, 34.54it/s, loss=12.8]\n"
          ]
        },
        {
          "output_type": "stream",
          "name": "stdout",
          "text": [
            "Epoch [729/5000]: Train loss: 16.9884, Valid loss: 16.8007\n"
          ]
        },
        {
          "output_type": "stream",
          "name": "stderr",
          "text": [
            "Epoch [730/5000]: 100%|██████████| 10/10 [00:00<00:00, 51.73it/s, loss=15.2]\n"
          ]
        },
        {
          "output_type": "stream",
          "name": "stdout",
          "text": [
            "Epoch [730/5000]: Train loss: 17.0234, Valid loss: 16.4868\n",
            "Saving model with loss 16.487...\n"
          ]
        },
        {
          "output_type": "stream",
          "name": "stderr",
          "text": [
            "Epoch [731/5000]: 100%|██████████| 10/10 [00:00<00:00, 57.02it/s, loss=17.4]\n"
          ]
        },
        {
          "output_type": "stream",
          "name": "stdout",
          "text": [
            "Epoch [731/5000]: Train loss: 17.0474, Valid loss: 18.9111\n"
          ]
        },
        {
          "output_type": "stream",
          "name": "stderr",
          "text": [
            "Epoch [732/5000]: 100%|██████████| 10/10 [00:00<00:00, 40.93it/s, loss=18.7]\n"
          ]
        },
        {
          "output_type": "stream",
          "name": "stdout",
          "text": [
            "Epoch [732/5000]: Train loss: 17.0119, Valid loss: 16.1324\n",
            "Saving model with loss 16.132...\n"
          ]
        },
        {
          "output_type": "stream",
          "name": "stderr",
          "text": [
            "Epoch [733/5000]: 100%|██████████| 10/10 [00:00<00:00, 71.26it/s, loss=11.1]\n"
          ]
        },
        {
          "output_type": "stream",
          "name": "stdout",
          "text": [
            "Epoch [733/5000]: Train loss: 16.4631, Valid loss: 16.4485\n"
          ]
        },
        {
          "output_type": "stream",
          "name": "stderr",
          "text": [
            "Epoch [734/5000]: 100%|██████████| 10/10 [00:00<00:00, 50.17it/s, loss=9.57]\n"
          ]
        },
        {
          "output_type": "stream",
          "name": "stdout",
          "text": [
            "Epoch [734/5000]: Train loss: 16.2669, Valid loss: 16.1599\n"
          ]
        },
        {
          "output_type": "stream",
          "name": "stderr",
          "text": [
            "Epoch [735/5000]: 100%|██████████| 10/10 [00:00<00:00, 56.23it/s, loss=16.5]\n"
          ]
        },
        {
          "output_type": "stream",
          "name": "stdout",
          "text": [
            "Epoch [735/5000]: Train loss: 16.5805, Valid loss: 15.9972\n",
            "Saving model with loss 15.997...\n"
          ]
        },
        {
          "output_type": "stream",
          "name": "stderr",
          "text": [
            "Epoch [736/5000]: 100%|██████████| 10/10 [00:00<00:00, 42.34it/s, loss=18.7]\n"
          ]
        },
        {
          "output_type": "stream",
          "name": "stdout",
          "text": [
            "Epoch [736/5000]: Train loss: 16.6143, Valid loss: 16.6296\n"
          ]
        },
        {
          "output_type": "stream",
          "name": "stderr",
          "text": [
            "Epoch [737/5000]: 100%|██████████| 10/10 [00:00<00:00, 57.32it/s, loss=17.6]\n"
          ]
        },
        {
          "output_type": "stream",
          "name": "stdout",
          "text": [
            "Epoch [737/5000]: Train loss: 16.4523, Valid loss: 16.5886\n"
          ]
        },
        {
          "output_type": "stream",
          "name": "stderr",
          "text": [
            "Epoch [738/5000]: 100%|██████████| 10/10 [00:00<00:00, 67.07it/s, loss=13.6]\n"
          ]
        },
        {
          "output_type": "stream",
          "name": "stdout",
          "text": [
            "Epoch [738/5000]: Train loss: 16.1183, Valid loss: 17.2049\n"
          ]
        },
        {
          "output_type": "stream",
          "name": "stderr",
          "text": [
            "Epoch [739/5000]: 100%|██████████| 10/10 [00:00<00:00, 55.80it/s, loss=17]\n"
          ]
        },
        {
          "output_type": "stream",
          "name": "stdout",
          "text": [
            "Epoch [739/5000]: Train loss: 16.2277, Valid loss: 16.4835\n"
          ]
        },
        {
          "output_type": "stream",
          "name": "stderr",
          "text": [
            "Epoch [740/5000]: 100%|██████████| 10/10 [00:00<00:00, 62.89it/s, loss=16.8]\n"
          ]
        },
        {
          "output_type": "stream",
          "name": "stdout",
          "text": [
            "Epoch [740/5000]: Train loss: 16.1220, Valid loss: 16.7353\n"
          ]
        },
        {
          "output_type": "stream",
          "name": "stderr",
          "text": [
            "Epoch [741/5000]: 100%|██████████| 10/10 [00:00<00:00, 47.12it/s, loss=12.8]\n"
          ]
        },
        {
          "output_type": "stream",
          "name": "stdout",
          "text": [
            "Epoch [741/5000]: Train loss: 15.7944, Valid loss: 16.0549\n"
          ]
        },
        {
          "output_type": "stream",
          "name": "stderr",
          "text": [
            "Epoch [742/5000]: 100%|██████████| 10/10 [00:00<00:00, 58.05it/s, loss=13.8]\n"
          ]
        },
        {
          "output_type": "stream",
          "name": "stdout",
          "text": [
            "Epoch [742/5000]: Train loss: 15.7634, Valid loss: 16.6156\n"
          ]
        },
        {
          "output_type": "stream",
          "name": "stderr",
          "text": [
            "Epoch [743/5000]: 100%|██████████| 10/10 [00:00<00:00, 50.23it/s, loss=14]\n"
          ]
        },
        {
          "output_type": "stream",
          "name": "stdout",
          "text": [
            "Epoch [743/5000]: Train loss: 15.6929, Valid loss: 15.8358\n",
            "Saving model with loss 15.836...\n"
          ]
        },
        {
          "output_type": "stream",
          "name": "stderr",
          "text": [
            "Epoch [744/5000]: 100%|██████████| 10/10 [00:00<00:00, 24.16it/s, loss=15.9]\n"
          ]
        },
        {
          "output_type": "stream",
          "name": "stdout",
          "text": [
            "Epoch [744/5000]: Train loss: 15.7168, Valid loss: 16.2224\n"
          ]
        },
        {
          "output_type": "stream",
          "name": "stderr",
          "text": [
            "Epoch [745/5000]: 100%|██████████| 10/10 [00:00<00:00, 47.28it/s, loss=16.2]\n"
          ]
        },
        {
          "output_type": "stream",
          "name": "stdout",
          "text": [
            "Epoch [745/5000]: Train loss: 15.6556, Valid loss: 15.2110\n",
            "Saving model with loss 15.211...\n"
          ]
        },
        {
          "output_type": "stream",
          "name": "stderr",
          "text": [
            "Epoch [746/5000]: 100%|██████████| 10/10 [00:00<00:00, 52.15it/s, loss=13.4]\n"
          ]
        },
        {
          "output_type": "stream",
          "name": "stdout",
          "text": [
            "Epoch [746/5000]: Train loss: 15.4058, Valid loss: 15.6366\n"
          ]
        },
        {
          "output_type": "stream",
          "name": "stderr",
          "text": [
            "Epoch [747/5000]: 100%|██████████| 10/10 [00:00<00:00, 50.14it/s, loss=12.4]\n"
          ]
        },
        {
          "output_type": "stream",
          "name": "stdout",
          "text": [
            "Epoch [747/5000]: Train loss: 15.2652, Valid loss: 16.4263\n"
          ]
        },
        {
          "output_type": "stream",
          "name": "stderr",
          "text": [
            "Epoch [748/5000]: 100%|██████████| 10/10 [00:00<00:00, 61.07it/s, loss=15.3]\n"
          ]
        },
        {
          "output_type": "stream",
          "name": "stdout",
          "text": [
            "Epoch [748/5000]: Train loss: 15.3545, Valid loss: 15.6752\n"
          ]
        },
        {
          "output_type": "stream",
          "name": "stderr",
          "text": [
            "Epoch [749/5000]: 100%|██████████| 10/10 [00:00<00:00, 52.87it/s, loss=19.8]\n"
          ]
        },
        {
          "output_type": "stream",
          "name": "stdout",
          "text": [
            "Epoch [749/5000]: Train loss: 15.5445, Valid loss: 14.6377\n",
            "Saving model with loss 14.638...\n"
          ]
        },
        {
          "output_type": "stream",
          "name": "stderr",
          "text": [
            "Epoch [750/5000]: 100%|██████████| 10/10 [00:00<00:00, 57.35it/s, loss=19.2]\n"
          ]
        },
        {
          "output_type": "stream",
          "name": "stdout",
          "text": [
            "Epoch [750/5000]: Train loss: 15.4340, Valid loss: 15.5702\n"
          ]
        },
        {
          "output_type": "stream",
          "name": "stderr",
          "text": [
            "Epoch [751/5000]: 100%|██████████| 10/10 [00:00<00:00, 58.05it/s, loss=15.4]"
          ]
        },
        {
          "output_type": "stream",
          "name": "stdout",
          "text": [
            "Epoch [751/5000]: Train loss: 15.1307, Valid loss: 15.4879"
          ]
        },
        {
          "output_type": "stream",
          "name": "stderr",
          "text": [
            "\n"
          ]
        },
        {
          "output_type": "stream",
          "name": "stdout",
          "text": [
            "\n"
          ]
        },
        {
          "output_type": "stream",
          "name": "stderr",
          "text": [
            "Epoch [752/5000]: 100%|██████████| 10/10 [00:00<00:00, 32.30it/s, loss=18.5]\n"
          ]
        },
        {
          "output_type": "stream",
          "name": "stdout",
          "text": [
            "Epoch [752/5000]: Train loss: 15.2363, Valid loss: 15.2117\n"
          ]
        },
        {
          "output_type": "stream",
          "name": "stderr",
          "text": [
            "Epoch [753/5000]: 100%|██████████| 10/10 [00:00<00:00, 42.00it/s, loss=13.1]\n"
          ]
        },
        {
          "output_type": "stream",
          "name": "stdout",
          "text": [
            "Epoch [753/5000]: Train loss: 14.8495, Valid loss: 15.7619\n"
          ]
        },
        {
          "output_type": "stream",
          "name": "stderr",
          "text": [
            "Epoch [754/5000]: 100%|██████████| 10/10 [00:00<00:00, 62.33it/s, loss=16.2]\n"
          ]
        },
        {
          "output_type": "stream",
          "name": "stdout",
          "text": [
            "Epoch [754/5000]: Train loss: 14.9568, Valid loss: 15.0771\n"
          ]
        },
        {
          "output_type": "stream",
          "name": "stderr",
          "text": [
            "Epoch [755/5000]: 100%|██████████| 10/10 [00:00<00:00, 46.10it/s, loss=18.3]\n"
          ]
        },
        {
          "output_type": "stream",
          "name": "stdout",
          "text": [
            "Epoch [755/5000]: Train loss: 15.0152, Valid loss: 14.3028\n",
            "Saving model with loss 14.303...\n"
          ]
        },
        {
          "output_type": "stream",
          "name": "stderr",
          "text": [
            "Epoch [756/5000]: 100%|██████████| 10/10 [00:00<00:00, 43.54it/s, loss=11.2]\n"
          ]
        },
        {
          "output_type": "stream",
          "name": "stdout",
          "text": [
            "Epoch [756/5000]: Train loss: 14.5270, Valid loss: 14.8098\n"
          ]
        },
        {
          "output_type": "stream",
          "name": "stderr",
          "text": [
            "Epoch [757/5000]: 100%|██████████| 10/10 [00:00<00:00, 69.70it/s, loss=13.7]\n"
          ]
        },
        {
          "output_type": "stream",
          "name": "stdout",
          "text": [
            "Epoch [757/5000]: Train loss: 14.6030, Valid loss: 14.9459\n"
          ]
        },
        {
          "output_type": "stream",
          "name": "stderr",
          "text": [
            "Epoch [758/5000]: 100%|██████████| 10/10 [00:00<00:00, 62.69it/s, loss=17.3]\n"
          ]
        },
        {
          "output_type": "stream",
          "name": "stdout",
          "text": [
            "Epoch [758/5000]: Train loss: 14.7520, Valid loss: 15.1783\n"
          ]
        },
        {
          "output_type": "stream",
          "name": "stderr",
          "text": [
            "Epoch [759/5000]: 100%|██████████| 10/10 [00:00<00:00, 59.25it/s, loss=11.9]\n"
          ]
        },
        {
          "output_type": "stream",
          "name": "stdout",
          "text": [
            "Epoch [759/5000]: Train loss: 14.3667, Valid loss: 14.4117\n"
          ]
        },
        {
          "output_type": "stream",
          "name": "stderr",
          "text": [
            "Epoch [760/5000]: 100%|██████████| 10/10 [00:00<00:00, 70.93it/s, loss=9.65]\n"
          ]
        },
        {
          "output_type": "stream",
          "name": "stdout",
          "text": [
            "Epoch [760/5000]: Train loss: 14.1723, Valid loss: 14.6790\n"
          ]
        },
        {
          "output_type": "stream",
          "name": "stderr",
          "text": [
            "Epoch [761/5000]: 100%|██████████| 10/10 [00:00<00:00, 58.43it/s, loss=17.7]\n"
          ]
        },
        {
          "output_type": "stream",
          "name": "stdout",
          "text": [
            "Epoch [761/5000]: Train loss: 14.5911, Valid loss: 14.6545\n"
          ]
        },
        {
          "output_type": "stream",
          "name": "stderr",
          "text": [
            "Epoch [762/5000]: 100%|██████████| 10/10 [00:00<00:00, 61.37it/s, loss=13.4]\n"
          ]
        },
        {
          "output_type": "stream",
          "name": "stdout",
          "text": [
            "Epoch [762/5000]: Train loss: 14.2743, Valid loss: 14.7923\n"
          ]
        },
        {
          "output_type": "stream",
          "name": "stderr",
          "text": [
            "Epoch [763/5000]: 100%|██████████| 10/10 [00:00<00:00, 64.70it/s, loss=18.3]\n"
          ]
        },
        {
          "output_type": "stream",
          "name": "stdout",
          "text": [
            "Epoch [763/5000]: Train loss: 14.5068, Valid loss: 14.0738\n",
            "Saving model with loss 14.074...\n"
          ]
        },
        {
          "output_type": "stream",
          "name": "stderr",
          "text": [
            "Epoch [764/5000]: 100%|██████████| 10/10 [00:00<00:00, 32.73it/s, loss=14.1]\n"
          ]
        },
        {
          "output_type": "stream",
          "name": "stdout",
          "text": [
            "Epoch [764/5000]: Train loss: 14.1973, Valid loss: 15.7325\n"
          ]
        },
        {
          "output_type": "stream",
          "name": "stderr",
          "text": [
            "Epoch [765/5000]: 100%|██████████| 10/10 [00:00<00:00, 40.38it/s, loss=14.6]\n"
          ]
        },
        {
          "output_type": "stream",
          "name": "stdout",
          "text": [
            "Epoch [765/5000]: Train loss: 14.1704, Valid loss: 13.6816\n",
            "Saving model with loss 13.682...\n"
          ]
        },
        {
          "output_type": "stream",
          "name": "stderr",
          "text": [
            "Epoch [766/5000]: 100%|██████████| 10/10 [00:00<00:00, 48.56it/s, loss=15.1]\n"
          ]
        },
        {
          "output_type": "stream",
          "name": "stdout",
          "text": [
            "Epoch [766/5000]: Train loss: 14.1428, Valid loss: 13.6989\n"
          ]
        },
        {
          "output_type": "stream",
          "name": "stderr",
          "text": [
            "Epoch [767/5000]: 100%|██████████| 10/10 [00:00<00:00, 44.21it/s, loss=11.8]\n"
          ]
        },
        {
          "output_type": "stream",
          "name": "stdout",
          "text": [
            "Epoch [767/5000]: Train loss: 13.8973, Valid loss: 13.6202\n",
            "Saving model with loss 13.620...\n"
          ]
        },
        {
          "output_type": "stream",
          "name": "stderr",
          "text": [
            "Epoch [768/5000]: 100%|██████████| 10/10 [00:00<00:00, 38.84it/s, loss=11.8]\n"
          ]
        },
        {
          "output_type": "stream",
          "name": "stdout",
          "text": [
            "Epoch [768/5000]: Train loss: 13.8389, Valid loss: 14.7540\n"
          ]
        },
        {
          "output_type": "stream",
          "name": "stderr",
          "text": [
            "Epoch [769/5000]: 100%|██████████| 10/10 [00:00<00:00, 61.02it/s, loss=16.2]\n"
          ]
        },
        {
          "output_type": "stream",
          "name": "stdout",
          "text": [
            "Epoch [769/5000]: Train loss: 14.0525, Valid loss: 14.5402\n"
          ]
        },
        {
          "output_type": "stream",
          "name": "stderr",
          "text": [
            "Epoch [770/5000]: 100%|██████████| 10/10 [00:00<00:00, 48.39it/s, loss=10.3]\n"
          ]
        },
        {
          "output_type": "stream",
          "name": "stdout",
          "text": [
            "Epoch [770/5000]: Train loss: 13.6527, Valid loss: 14.6831\n"
          ]
        },
        {
          "output_type": "stream",
          "name": "stderr",
          "text": [
            "Epoch [771/5000]: 100%|██████████| 10/10 [00:00<00:00, 63.57it/s, loss=14.4]\n"
          ]
        },
        {
          "output_type": "stream",
          "name": "stdout",
          "text": [
            "Epoch [771/5000]: Train loss: 13.8429, Valid loss: 14.0380\n"
          ]
        },
        {
          "output_type": "stream",
          "name": "stderr",
          "text": [
            "Epoch [772/5000]: 100%|██████████| 10/10 [00:00<00:00, 43.22it/s, loss=17.9]\n"
          ]
        },
        {
          "output_type": "stream",
          "name": "stdout",
          "text": [
            "Epoch [772/5000]: Train loss: 13.9974, Valid loss: 12.9975\n",
            "Saving model with loss 12.997...\n"
          ]
        },
        {
          "output_type": "stream",
          "name": "stderr",
          "text": [
            "Epoch [773/5000]: 100%|██████████| 10/10 [00:00<00:00, 32.92it/s, loss=12.1]\n"
          ]
        },
        {
          "output_type": "stream",
          "name": "stdout",
          "text": [
            "Epoch [773/5000]: Train loss: 13.6097, Valid loss: 13.6173\n"
          ]
        },
        {
          "output_type": "stream",
          "name": "stderr",
          "text": [
            "Epoch [774/5000]: 100%|██████████| 10/10 [00:00<00:00, 63.37it/s, loss=16.9]\n"
          ]
        },
        {
          "output_type": "stream",
          "name": "stdout",
          "text": [
            "Epoch [774/5000]: Train loss: 13.8429, Valid loss: 15.2204\n"
          ]
        },
        {
          "output_type": "stream",
          "name": "stderr",
          "text": [
            "Epoch [775/5000]: 100%|██████████| 10/10 [00:00<00:00, 45.88it/s, loss=10.7]\n"
          ]
        },
        {
          "output_type": "stream",
          "name": "stdout",
          "text": [
            "Epoch [775/5000]: Train loss: 13.4290, Valid loss: 14.3218\n"
          ]
        },
        {
          "output_type": "stream",
          "name": "stderr",
          "text": [
            "Epoch [776/5000]: 100%|██████████| 10/10 [00:00<00:00, 46.29it/s, loss=12.1]\n"
          ]
        },
        {
          "output_type": "stream",
          "name": "stdout",
          "text": [
            "Epoch [776/5000]: Train loss: 13.4653, Valid loss: 13.7554\n"
          ]
        },
        {
          "output_type": "stream",
          "name": "stderr",
          "text": [
            "Epoch [777/5000]: 100%|██████████| 10/10 [00:00<00:00, 47.33it/s, loss=10.5]\n"
          ]
        },
        {
          "output_type": "stream",
          "name": "stdout",
          "text": [
            "Epoch [777/5000]: Train loss: 13.3261, Valid loss: 13.5478\n"
          ]
        },
        {
          "output_type": "stream",
          "name": "stderr",
          "text": [
            "Epoch [778/5000]: 100%|██████████| 10/10 [00:00<00:00, 49.79it/s, loss=14.1]\n"
          ]
        },
        {
          "output_type": "stream",
          "name": "stdout",
          "text": [
            "Epoch [778/5000]: Train loss: 13.5034, Valid loss: 13.9364\n"
          ]
        },
        {
          "output_type": "stream",
          "name": "stderr",
          "text": [
            "Epoch [779/5000]: 100%|██████████| 10/10 [00:00<00:00, 36.84it/s, loss=13.6]\n"
          ]
        },
        {
          "output_type": "stream",
          "name": "stdout",
          "text": [
            "Epoch [779/5000]: Train loss: 13.4258, Valid loss: 15.0938\n"
          ]
        },
        {
          "output_type": "stream",
          "name": "stderr",
          "text": [
            "Epoch [780/5000]: 100%|██████████| 10/10 [00:00<00:00, 47.82it/s, loss=10.3]\n"
          ]
        },
        {
          "output_type": "stream",
          "name": "stdout",
          "text": [
            "Epoch [780/5000]: Train loss: 13.1928, Valid loss: 13.3836\n"
          ]
        },
        {
          "output_type": "stream",
          "name": "stderr",
          "text": [
            "Epoch [781/5000]: 100%|██████████| 10/10 [00:00<00:00, 60.65it/s, loss=10.7]"
          ]
        },
        {
          "output_type": "stream",
          "name": "stdout",
          "text": [
            "Epoch [781/5000]: Train loss: 13.1720, Valid loss: 14.6969"
          ]
        },
        {
          "output_type": "stream",
          "name": "stderr",
          "text": [
            "\n"
          ]
        },
        {
          "output_type": "stream",
          "name": "stdout",
          "text": [
            "\n"
          ]
        },
        {
          "output_type": "stream",
          "name": "stderr",
          "text": [
            "Epoch [782/5000]: 100%|██████████| 10/10 [00:00<00:00, 46.81it/s, loss=16]\n"
          ]
        },
        {
          "output_type": "stream",
          "name": "stdout",
          "text": [
            "Epoch [782/5000]: Train loss: 13.4513, Valid loss: 13.5590\n"
          ]
        },
        {
          "output_type": "stream",
          "name": "stderr",
          "text": [
            "Epoch [783/5000]: 100%|██████████| 10/10 [00:00<00:00, 53.56it/s, loss=15.6]\n"
          ]
        },
        {
          "output_type": "stream",
          "name": "stdout",
          "text": [
            "Epoch [783/5000]: Train loss: 13.3889, Valid loss: 15.0500\n"
          ]
        },
        {
          "output_type": "stream",
          "name": "stderr",
          "text": [
            "Epoch [784/5000]: 100%|██████████| 10/10 [00:00<00:00, 30.57it/s, loss=17.1]\n"
          ]
        },
        {
          "output_type": "stream",
          "name": "stdout",
          "text": [
            "Epoch [784/5000]: Train loss: 13.4339, Valid loss: 14.4521\n"
          ]
        },
        {
          "output_type": "stream",
          "name": "stderr",
          "text": [
            "Epoch [785/5000]: 100%|██████████| 10/10 [00:00<00:00, 36.47it/s, loss=11.5]\n"
          ]
        },
        {
          "output_type": "stream",
          "name": "stdout",
          "text": [
            "Epoch [785/5000]: Train loss: 13.0666, Valid loss: 13.3450\n"
          ]
        },
        {
          "output_type": "stream",
          "name": "stderr",
          "text": [
            "Epoch [786/5000]: 100%|██████████| 10/10 [00:00<00:00, 59.07it/s, loss=12.1]\n"
          ]
        },
        {
          "output_type": "stream",
          "name": "stdout",
          "text": [
            "Epoch [786/5000]: Train loss: 13.0651, Valid loss: 12.9864\n",
            "Saving model with loss 12.986...\n"
          ]
        },
        {
          "output_type": "stream",
          "name": "stderr",
          "text": [
            "Epoch [787/5000]: 100%|██████████| 10/10 [00:00<00:00, 35.13it/s, loss=15.6]\n"
          ]
        },
        {
          "output_type": "stream",
          "name": "stdout",
          "text": [
            "Epoch [787/5000]: Train loss: 13.2396, Valid loss: 13.8400\n"
          ]
        },
        {
          "output_type": "stream",
          "name": "stderr",
          "text": [
            "Epoch [788/5000]: 100%|██████████| 10/10 [00:00<00:00, 54.76it/s, loss=13.9]\n"
          ]
        },
        {
          "output_type": "stream",
          "name": "stdout",
          "text": [
            "Epoch [788/5000]: Train loss: 13.1031, Valid loss: 13.7243\n"
          ]
        },
        {
          "output_type": "stream",
          "name": "stderr",
          "text": [
            "Epoch [789/5000]: 100%|██████████| 10/10 [00:00<00:00, 52.19it/s, loss=10.5]\n"
          ]
        },
        {
          "output_type": "stream",
          "name": "stdout",
          "text": [
            "Epoch [789/5000]: Train loss: 12.8689, Valid loss: 13.2027\n"
          ]
        },
        {
          "output_type": "stream",
          "name": "stderr",
          "text": [
            "Epoch [790/5000]: 100%|██████████| 10/10 [00:00<00:00, 62.42it/s, loss=15.9]\n"
          ]
        },
        {
          "output_type": "stream",
          "name": "stdout",
          "text": [
            "Epoch [790/5000]: Train loss: 13.1526, Valid loss: 13.1182\n"
          ]
        },
        {
          "output_type": "stream",
          "name": "stderr",
          "text": [
            "Epoch [791/5000]: 100%|██████████| 10/10 [00:00<00:00, 38.52it/s, loss=13.6]\n"
          ]
        },
        {
          "output_type": "stream",
          "name": "stdout",
          "text": [
            "Epoch [791/5000]: Train loss: 12.9807, Valid loss: 13.0579\n"
          ]
        },
        {
          "output_type": "stream",
          "name": "stderr",
          "text": [
            "Epoch [792/5000]: 100%|██████████| 10/10 [00:00<00:00, 20.52it/s, loss=10.2]\n"
          ]
        },
        {
          "output_type": "stream",
          "name": "stdout",
          "text": [
            "Epoch [792/5000]: Train loss: 12.7504, Valid loss: 12.6394\n",
            "Saving model with loss 12.639...\n"
          ]
        },
        {
          "output_type": "stream",
          "name": "stderr",
          "text": [
            "Epoch [793/5000]: 100%|██████████| 10/10 [00:00<00:00, 23.99it/s, loss=14.9]\n"
          ]
        },
        {
          "output_type": "stream",
          "name": "stdout",
          "text": [
            "Epoch [793/5000]: Train loss: 12.9982, Valid loss: 13.0977\n"
          ]
        },
        {
          "output_type": "stream",
          "name": "stderr",
          "text": [
            "Epoch [794/5000]: 100%|██████████| 10/10 [00:00<00:00, 31.91it/s, loss=11.7]\n"
          ]
        },
        {
          "output_type": "stream",
          "name": "stdout",
          "text": [
            "Epoch [794/5000]: Train loss: 12.7741, Valid loss: 12.2547\n",
            "Saving model with loss 12.255...\n"
          ]
        },
        {
          "output_type": "stream",
          "name": "stderr",
          "text": [
            "Epoch [795/5000]: 100%|██████████| 10/10 [00:00<00:00, 43.23it/s, loss=12.2]\n"
          ]
        },
        {
          "output_type": "stream",
          "name": "stdout",
          "text": [
            "Epoch [795/5000]: Train loss: 12.7775, Valid loss: 13.5128\n"
          ]
        },
        {
          "output_type": "stream",
          "name": "stderr",
          "text": [
            "Epoch [796/5000]: 100%|██████████| 10/10 [00:00<00:00, 42.11it/s, loss=12.5]\n"
          ]
        },
        {
          "output_type": "stream",
          "name": "stdout",
          "text": [
            "Epoch [796/5000]: Train loss: 12.7618, Valid loss: 12.4996\n"
          ]
        },
        {
          "output_type": "stream",
          "name": "stderr",
          "text": [
            "Epoch [797/5000]: 100%|██████████| 10/10 [00:00<00:00, 43.61it/s, loss=11.8]\n"
          ]
        },
        {
          "output_type": "stream",
          "name": "stdout",
          "text": [
            "Epoch [797/5000]: Train loss: 12.6914, Valid loss: 12.6792\n"
          ]
        },
        {
          "output_type": "stream",
          "name": "stderr",
          "text": [
            "Epoch [798/5000]: 100%|██████████| 10/10 [00:00<00:00, 45.78it/s, loss=8.55]\n"
          ]
        },
        {
          "output_type": "stream",
          "name": "stdout",
          "text": [
            "Epoch [798/5000]: Train loss: 12.4735, Valid loss: 12.5506\n"
          ]
        },
        {
          "output_type": "stream",
          "name": "stderr",
          "text": [
            "Epoch [799/5000]: 100%|██████████| 10/10 [00:00<00:00, 50.97it/s, loss=12.4]\n"
          ]
        },
        {
          "output_type": "stream",
          "name": "stdout",
          "text": [
            "Epoch [799/5000]: Train loss: 12.6761, Valid loss: 13.2042\n"
          ]
        },
        {
          "output_type": "stream",
          "name": "stderr",
          "text": [
            "Epoch [800/5000]: 100%|██████████| 10/10 [00:00<00:00, 57.07it/s, loss=11.6]\n"
          ]
        },
        {
          "output_type": "stream",
          "name": "stdout",
          "text": [
            "Epoch [800/5000]: Train loss: 12.6023, Valid loss: 12.3571\n"
          ]
        },
        {
          "output_type": "stream",
          "name": "stderr",
          "text": [
            "Epoch [801/5000]: 100%|██████████| 10/10 [00:00<00:00, 69.87it/s, loss=12.2]\n"
          ]
        },
        {
          "output_type": "stream",
          "name": "stdout",
          "text": [
            "Epoch [801/5000]: Train loss: 12.6088, Valid loss: 13.4667\n"
          ]
        },
        {
          "output_type": "stream",
          "name": "stderr",
          "text": [
            "Epoch [802/5000]: 100%|██████████| 10/10 [00:00<00:00, 67.33it/s, loss=13]\n"
          ]
        },
        {
          "output_type": "stream",
          "name": "stdout",
          "text": [
            "Epoch [802/5000]: Train loss: 12.6332, Valid loss: 13.0820\n"
          ]
        },
        {
          "output_type": "stream",
          "name": "stderr",
          "text": [
            "Epoch [803/5000]: 100%|██████████| 10/10 [00:00<00:00, 43.07it/s, loss=9.94]\n"
          ]
        },
        {
          "output_type": "stream",
          "name": "stdout",
          "text": [
            "Epoch [803/5000]: Train loss: 12.4254, Valid loss: 13.2666\n"
          ]
        },
        {
          "output_type": "stream",
          "name": "stderr",
          "text": [
            "Epoch [804/5000]: 100%|██████████| 10/10 [00:00<00:00, 33.95it/s, loss=14.8]\n"
          ]
        },
        {
          "output_type": "stream",
          "name": "stdout",
          "text": [
            "Epoch [804/5000]: Train loss: 12.6876, Valid loss: 13.2131\n"
          ]
        },
        {
          "output_type": "stream",
          "name": "stderr",
          "text": [
            "Epoch [805/5000]: 100%|██████████| 10/10 [00:00<00:00, 55.09it/s, loss=11]\n"
          ]
        },
        {
          "output_type": "stream",
          "name": "stdout",
          "text": [
            "Epoch [805/5000]: Train loss: 12.4392, Valid loss: 13.6787\n"
          ]
        },
        {
          "output_type": "stream",
          "name": "stderr",
          "text": [
            "Epoch [806/5000]: 100%|██████████| 10/10 [00:00<00:00, 55.88it/s, loss=10.6]\n"
          ]
        },
        {
          "output_type": "stream",
          "name": "stdout",
          "text": [
            "Epoch [806/5000]: Train loss: 12.3947, Valid loss: 12.7964\n"
          ]
        },
        {
          "output_type": "stream",
          "name": "stderr",
          "text": [
            "Epoch [807/5000]: 100%|██████████| 10/10 [00:00<00:00, 65.88it/s, loss=12.8]\n"
          ]
        },
        {
          "output_type": "stream",
          "name": "stdout",
          "text": [
            "Epoch [807/5000]: Train loss: 12.5014, Valid loss: 12.4037\n"
          ]
        },
        {
          "output_type": "stream",
          "name": "stderr",
          "text": [
            "Epoch [808/5000]: 100%|██████████| 10/10 [00:00<00:00, 49.15it/s, loss=8.71]\n"
          ]
        },
        {
          "output_type": "stream",
          "name": "stdout",
          "text": [
            "Epoch [808/5000]: Train loss: 12.2355, Valid loss: 13.6979\n"
          ]
        },
        {
          "output_type": "stream",
          "name": "stderr",
          "text": [
            "Epoch [809/5000]: 100%|██████████| 10/10 [00:00<00:00, 63.84it/s, loss=13.7]\n"
          ]
        },
        {
          "output_type": "stream",
          "name": "stdout",
          "text": [
            "Epoch [809/5000]: Train loss: 12.5082, Valid loss: 12.9083\n"
          ]
        },
        {
          "output_type": "stream",
          "name": "stderr",
          "text": [
            "Epoch [810/5000]: 100%|██████████| 10/10 [00:00<00:00, 42.46it/s, loss=12]\n"
          ]
        },
        {
          "output_type": "stream",
          "name": "stdout",
          "text": [
            "Epoch [810/5000]: Train loss: 12.3846, Valid loss: 12.6285\n"
          ]
        },
        {
          "output_type": "stream",
          "name": "stderr",
          "text": [
            "Epoch [811/5000]: 100%|██████████| 10/10 [00:00<00:00, 69.03it/s, loss=12.7]\n"
          ]
        },
        {
          "output_type": "stream",
          "name": "stdout",
          "text": [
            "Epoch [811/5000]: Train loss: 12.4076, Valid loss: 13.6544\n"
          ]
        },
        {
          "output_type": "stream",
          "name": "stderr",
          "text": [
            "Epoch [812/5000]: 100%|██████████| 10/10 [00:00<00:00, 73.86it/s, loss=10.5]\n"
          ]
        },
        {
          "output_type": "stream",
          "name": "stdout",
          "text": [
            "Epoch [812/5000]: Train loss: 12.2582, Valid loss: 11.7299\n",
            "Saving model with loss 11.730...\n"
          ]
        },
        {
          "output_type": "stream",
          "name": "stderr",
          "text": [
            "Epoch [813/5000]: 100%|██████████| 10/10 [00:00<00:00, 49.88it/s, loss=13.8]\n"
          ]
        },
        {
          "output_type": "stream",
          "name": "stdout",
          "text": [
            "Epoch [813/5000]: Train loss: 12.4297, Valid loss: 12.7283\n"
          ]
        },
        {
          "output_type": "stream",
          "name": "stderr",
          "text": [
            "Epoch [814/5000]: 100%|██████████| 10/10 [00:00<00:00, 52.09it/s, loss=14.2]\n"
          ]
        },
        {
          "output_type": "stream",
          "name": "stdout",
          "text": [
            "Epoch [814/5000]: Train loss: 12.4334, Valid loss: 12.1685\n"
          ]
        },
        {
          "output_type": "stream",
          "name": "stderr",
          "text": [
            "Epoch [815/5000]: 100%|██████████| 10/10 [00:00<00:00, 54.74it/s, loss=14.4]\n"
          ]
        },
        {
          "output_type": "stream",
          "name": "stdout",
          "text": [
            "Epoch [815/5000]: Train loss: 12.4259, Valid loss: 12.9093\n"
          ]
        },
        {
          "output_type": "stream",
          "name": "stderr",
          "text": [
            "Epoch [816/5000]: 100%|██████████| 10/10 [00:00<00:00, 67.10it/s, loss=9.43]\n"
          ]
        },
        {
          "output_type": "stream",
          "name": "stdout",
          "text": [
            "Epoch [816/5000]: Train loss: 12.1140, Valid loss: 13.3252\n"
          ]
        },
        {
          "output_type": "stream",
          "name": "stderr",
          "text": [
            "Epoch [817/5000]: 100%|██████████| 10/10 [00:00<00:00, 76.14it/s, loss=12.7]\n"
          ]
        },
        {
          "output_type": "stream",
          "name": "stdout",
          "text": [
            "Epoch [817/5000]: Train loss: 12.2923, Valid loss: 12.6614\n"
          ]
        },
        {
          "output_type": "stream",
          "name": "stderr",
          "text": [
            "Epoch [818/5000]: 100%|██████████| 10/10 [00:00<00:00, 35.75it/s, loss=12.2]\n"
          ]
        },
        {
          "output_type": "stream",
          "name": "stdout",
          "text": [
            "Epoch [818/5000]: Train loss: 12.2446, Valid loss: 12.8216\n"
          ]
        },
        {
          "output_type": "stream",
          "name": "stderr",
          "text": [
            "Epoch [819/5000]: 100%|██████████| 10/10 [00:00<00:00, 50.75it/s, loss=13]\n"
          ]
        },
        {
          "output_type": "stream",
          "name": "stdout",
          "text": [
            "Epoch [819/5000]: Train loss: 12.2686, Valid loss: 12.8519\n"
          ]
        },
        {
          "output_type": "stream",
          "name": "stderr",
          "text": [
            "Epoch [820/5000]: 100%|██████████| 10/10 [00:00<00:00, 72.99it/s, loss=11.1]\n"
          ]
        },
        {
          "output_type": "stream",
          "name": "stdout",
          "text": [
            "Epoch [820/5000]: Train loss: 12.1388, Valid loss: 13.0062\n"
          ]
        },
        {
          "output_type": "stream",
          "name": "stderr",
          "text": [
            "Epoch [821/5000]: 100%|██████████| 10/10 [00:00<00:00, 45.16it/s, loss=13.2]\n"
          ]
        },
        {
          "output_type": "stream",
          "name": "stdout",
          "text": [
            "Epoch [821/5000]: Train loss: 12.2483, Valid loss: 12.3742\n"
          ]
        },
        {
          "output_type": "stream",
          "name": "stderr",
          "text": [
            "Epoch [822/5000]: 100%|██████████| 10/10 [00:00<00:00, 44.19it/s, loss=11.4]\n"
          ]
        },
        {
          "output_type": "stream",
          "name": "stdout",
          "text": [
            "Epoch [822/5000]: Train loss: 12.1237, Valid loss: 12.5498\n"
          ]
        },
        {
          "output_type": "stream",
          "name": "stderr",
          "text": [
            "Epoch [823/5000]: 100%|██████████| 10/10 [00:00<00:00, 48.17it/s, loss=11.8]\n"
          ]
        },
        {
          "output_type": "stream",
          "name": "stdout",
          "text": [
            "Epoch [823/5000]: Train loss: 12.1325, Valid loss: 12.2740\n"
          ]
        },
        {
          "output_type": "stream",
          "name": "stderr",
          "text": [
            "Epoch [824/5000]: 100%|██████████| 10/10 [00:00<00:00, 53.78it/s, loss=12]\n"
          ]
        },
        {
          "output_type": "stream",
          "name": "stdout",
          "text": [
            "Epoch [824/5000]: Train loss: 12.1281, Valid loss: 11.9973\n"
          ]
        },
        {
          "output_type": "stream",
          "name": "stderr",
          "text": [
            "Epoch [825/5000]: 100%|██████████| 10/10 [00:00<00:00, 62.98it/s, loss=13.4]\n"
          ]
        },
        {
          "output_type": "stream",
          "name": "stdout",
          "text": [
            "Epoch [825/5000]: Train loss: 12.1976, Valid loss: 12.8007\n"
          ]
        },
        {
          "output_type": "stream",
          "name": "stderr",
          "text": [
            "Epoch [826/5000]: 100%|██████████| 10/10 [00:00<00:00, 58.54it/s, loss=13.2]\n"
          ]
        },
        {
          "output_type": "stream",
          "name": "stdout",
          "text": [
            "Epoch [826/5000]: Train loss: 12.1671, Valid loss: 12.6348\n"
          ]
        },
        {
          "output_type": "stream",
          "name": "stderr",
          "text": [
            "Epoch [827/5000]: 100%|██████████| 10/10 [00:00<00:00, 53.90it/s, loss=9.82]\n"
          ]
        },
        {
          "output_type": "stream",
          "name": "stdout",
          "text": [
            "Epoch [827/5000]: Train loss: 11.9544, Valid loss: 12.8098\n"
          ]
        },
        {
          "output_type": "stream",
          "name": "stderr",
          "text": [
            "Epoch [828/5000]: 100%|██████████| 10/10 [00:00<00:00, 48.34it/s, loss=12.1]\n"
          ]
        },
        {
          "output_type": "stream",
          "name": "stdout",
          "text": [
            "Epoch [828/5000]: Train loss: 12.0749, Valid loss: 12.6839\n"
          ]
        },
        {
          "output_type": "stream",
          "name": "stderr",
          "text": [
            "Epoch [829/5000]: 100%|██████████| 10/10 [00:00<00:00, 42.64it/s, loss=12.6]\n"
          ]
        },
        {
          "output_type": "stream",
          "name": "stdout",
          "text": [
            "Epoch [829/5000]: Train loss: 12.0930, Valid loss: 12.6289\n"
          ]
        },
        {
          "output_type": "stream",
          "name": "stderr",
          "text": [
            "Epoch [830/5000]: 100%|██████████| 10/10 [00:00<00:00, 43.03it/s, loss=11.8]\n"
          ]
        },
        {
          "output_type": "stream",
          "name": "stdout",
          "text": [
            "Epoch [830/5000]: Train loss: 12.0314, Valid loss: 12.0540\n"
          ]
        },
        {
          "output_type": "stream",
          "name": "stderr",
          "text": [
            "Epoch [831/5000]: 100%|██████████| 10/10 [00:00<00:00, 53.58it/s, loss=11.7]\n"
          ]
        },
        {
          "output_type": "stream",
          "name": "stdout",
          "text": [
            "Epoch [831/5000]: Train loss: 12.0070, Valid loss: 12.4368\n"
          ]
        },
        {
          "output_type": "stream",
          "name": "stderr",
          "text": [
            "Epoch [832/5000]: 100%|██████████| 10/10 [00:00<00:00, 104.14it/s, loss=12]\n"
          ]
        },
        {
          "output_type": "stream",
          "name": "stdout",
          "text": [
            "Epoch [832/5000]: Train loss: 12.0119, Valid loss: 12.1926\n"
          ]
        },
        {
          "output_type": "stream",
          "name": "stderr",
          "text": [
            "Epoch [833/5000]: 100%|██████████| 10/10 [00:00<00:00, 110.62it/s, loss=11.6]\n"
          ]
        },
        {
          "output_type": "stream",
          "name": "stdout",
          "text": [
            "Epoch [833/5000]: Train loss: 11.9738, Valid loss: 12.6964\n"
          ]
        },
        {
          "output_type": "stream",
          "name": "stderr",
          "text": [
            "Epoch [834/5000]: 100%|██████████| 10/10 [00:00<00:00, 111.00it/s, loss=10.3]\n"
          ]
        },
        {
          "output_type": "stream",
          "name": "stdout",
          "text": [
            "Epoch [834/5000]: Train loss: 11.8843, Valid loss: 12.1436\n"
          ]
        },
        {
          "output_type": "stream",
          "name": "stderr",
          "text": [
            "Epoch [835/5000]: 100%|██████████| 10/10 [00:00<00:00, 102.44it/s, loss=12]\n"
          ]
        },
        {
          "output_type": "stream",
          "name": "stdout",
          "text": [
            "Epoch [835/5000]: Train loss: 11.9718, Valid loss: 12.7437\n"
          ]
        },
        {
          "output_type": "stream",
          "name": "stderr",
          "text": [
            "Epoch [836/5000]: 100%|██████████| 10/10 [00:00<00:00, 114.42it/s, loss=9.43]\n"
          ]
        },
        {
          "output_type": "stream",
          "name": "stdout",
          "text": [
            "Epoch [836/5000]: Train loss: 11.8080, Valid loss: 12.5222\n"
          ]
        },
        {
          "output_type": "stream",
          "name": "stderr",
          "text": [
            "Epoch [837/5000]: 100%|██████████| 10/10 [00:00<00:00, 114.63it/s, loss=8.84]\n"
          ]
        },
        {
          "output_type": "stream",
          "name": "stdout",
          "text": [
            "Epoch [837/5000]: Train loss: 11.7606, Valid loss: 12.0376\n"
          ]
        },
        {
          "output_type": "stream",
          "name": "stderr",
          "text": [
            "Epoch [838/5000]: 100%|██████████| 10/10 [00:00<00:00, 20.92it/s, loss=10.1]\n"
          ]
        },
        {
          "output_type": "stream",
          "name": "stdout",
          "text": [
            "Epoch [838/5000]: Train loss: 11.8219, Valid loss: 11.9456\n"
          ]
        },
        {
          "output_type": "stream",
          "name": "stderr",
          "text": [
            "Epoch [839/5000]: 100%|██████████| 10/10 [00:00<00:00, 99.19it/s, loss=12.1]\n"
          ]
        },
        {
          "output_type": "stream",
          "name": "stdout",
          "text": [
            "Epoch [839/5000]: Train loss: 11.9279, Valid loss: 11.9940\n"
          ]
        },
        {
          "output_type": "stream",
          "name": "stderr",
          "text": [
            "Epoch [840/5000]: 100%|██████████| 10/10 [00:00<00:00, 101.42it/s, loss=10.7]\n"
          ]
        },
        {
          "output_type": "stream",
          "name": "stdout",
          "text": [
            "Epoch [840/5000]: Train loss: 11.8392, Valid loss: 11.9663\n"
          ]
        },
        {
          "output_type": "stream",
          "name": "stderr",
          "text": [
            "Epoch [841/5000]: 100%|██████████| 10/10 [00:00<00:00, 91.75it/s, loss=10.6]\n"
          ]
        },
        {
          "output_type": "stream",
          "name": "stdout",
          "text": [
            "Epoch [841/5000]: Train loss: 11.8169, Valid loss: 12.5228\n"
          ]
        },
        {
          "output_type": "stream",
          "name": "stderr",
          "text": [
            "Epoch [842/5000]: 100%|██████████| 10/10 [00:00<00:00, 106.36it/s, loss=11.3]\n"
          ]
        },
        {
          "output_type": "stream",
          "name": "stdout",
          "text": [
            "Epoch [842/5000]: Train loss: 11.8495, Valid loss: 12.6422\n"
          ]
        },
        {
          "output_type": "stream",
          "name": "stderr",
          "text": [
            "Epoch [843/5000]: 100%|██████████| 10/10 [00:00<00:00, 92.64it/s, loss=13.9]\n"
          ]
        },
        {
          "output_type": "stream",
          "name": "stdout",
          "text": [
            "Epoch [843/5000]: Train loss: 11.9918, Valid loss: 12.7432\n"
          ]
        },
        {
          "output_type": "stream",
          "name": "stderr",
          "text": [
            "Epoch [844/5000]: 100%|██████████| 10/10 [00:00<00:00, 92.84it/s, loss=11.5]\n"
          ]
        },
        {
          "output_type": "stream",
          "name": "stdout",
          "text": [
            "Epoch [844/5000]: Train loss: 11.8373, Valid loss: 12.0394\n"
          ]
        },
        {
          "output_type": "stream",
          "name": "stderr",
          "text": [
            "Epoch [845/5000]: 100%|██████████| 10/10 [00:00<00:00, 88.83it/s, loss=14.4]\n"
          ]
        },
        {
          "output_type": "stream",
          "name": "stdout",
          "text": [
            "Epoch [845/5000]: Train loss: 11.9987, Valid loss: 12.0246\n"
          ]
        },
        {
          "output_type": "stream",
          "name": "stderr",
          "text": [
            "Epoch [846/5000]: 100%|██████████| 10/10 [00:00<00:00, 102.98it/s, loss=11.8]\n"
          ]
        },
        {
          "output_type": "stream",
          "name": "stdout",
          "text": [
            "Epoch [846/5000]: Train loss: 11.8341, Valid loss: 12.9721\n"
          ]
        },
        {
          "output_type": "stream",
          "name": "stderr",
          "text": [
            "Epoch [847/5000]: 100%|██████████| 10/10 [00:00<00:00, 106.15it/s, loss=11.2]\n"
          ]
        },
        {
          "output_type": "stream",
          "name": "stdout",
          "text": [
            "Epoch [847/5000]: Train loss: 11.7918, Valid loss: 12.6894\n"
          ]
        },
        {
          "output_type": "stream",
          "name": "stderr",
          "text": [
            "Epoch [848/5000]: 100%|██████████| 10/10 [00:00<00:00, 100.64it/s, loss=12]\n"
          ]
        },
        {
          "output_type": "stream",
          "name": "stdout",
          "text": [
            "Epoch [848/5000]: Train loss: 11.8300, Valid loss: 12.5255\n"
          ]
        },
        {
          "output_type": "stream",
          "name": "stderr",
          "text": [
            "Epoch [849/5000]: 100%|██████████| 10/10 [00:00<00:00, 117.54it/s, loss=11.7]\n"
          ]
        },
        {
          "output_type": "stream",
          "name": "stdout",
          "text": [
            "Epoch [849/5000]: Train loss: 11.7977, Valid loss: 11.3464\n",
            "Saving model with loss 11.346...\n"
          ]
        },
        {
          "output_type": "stream",
          "name": "stderr",
          "text": [
            "Epoch [850/5000]: 100%|██████████| 10/10 [00:00<00:00, 111.22it/s, loss=14.8]\n"
          ]
        },
        {
          "output_type": "stream",
          "name": "stdout",
          "text": [
            "Epoch [850/5000]: Train loss: 11.9764, Valid loss: 11.7881\n"
          ]
        },
        {
          "output_type": "stream",
          "name": "stderr",
          "text": [
            "Epoch [851/5000]: 100%|██████████| 10/10 [00:00<00:00, 112.93it/s, loss=13.3]\n"
          ]
        },
        {
          "output_type": "stream",
          "name": "stdout",
          "text": [
            "Epoch [851/5000]: Train loss: 11.8756, Valid loss: 11.9685\n"
          ]
        },
        {
          "output_type": "stream",
          "name": "stderr",
          "text": [
            "Epoch [852/5000]: 100%|██████████| 10/10 [00:00<00:00, 115.86it/s, loss=12.3]\n"
          ]
        },
        {
          "output_type": "stream",
          "name": "stdout",
          "text": [
            "Epoch [852/5000]: Train loss: 11.8060, Valid loss: 12.4344\n"
          ]
        },
        {
          "output_type": "stream",
          "name": "stderr",
          "text": [
            "Epoch [853/5000]: 100%|██████████| 10/10 [00:00<00:00, 90.00it/s, loss=9.22]\n"
          ]
        },
        {
          "output_type": "stream",
          "name": "stdout",
          "text": [
            "Epoch [853/5000]: Train loss: 11.6143, Valid loss: 11.9379\n"
          ]
        },
        {
          "output_type": "stream",
          "name": "stderr",
          "text": [
            "Epoch [854/5000]: 100%|██████████| 10/10 [00:00<00:00, 116.27it/s, loss=9.59]\n"
          ]
        },
        {
          "output_type": "stream",
          "name": "stdout",
          "text": [
            "Epoch [854/5000]: Train loss: 11.6274, Valid loss: 12.1325\n"
          ]
        },
        {
          "output_type": "stream",
          "name": "stderr",
          "text": [
            "Epoch [855/5000]: 100%|██████████| 10/10 [00:00<00:00, 115.35it/s, loss=11.7]\n"
          ]
        },
        {
          "output_type": "stream",
          "name": "stdout",
          "text": [
            "Epoch [855/5000]: Train loss: 11.7432, Valid loss: 12.2042\n"
          ]
        },
        {
          "output_type": "stream",
          "name": "stderr",
          "text": [
            "Epoch [856/5000]: 100%|██████████| 10/10 [00:00<00:00, 93.82it/s, loss=11.8]\n"
          ]
        },
        {
          "output_type": "stream",
          "name": "stdout",
          "text": [
            "Epoch [856/5000]: Train loss: 11.7386, Valid loss: 11.7505\n"
          ]
        },
        {
          "output_type": "stream",
          "name": "stderr",
          "text": [
            "Epoch [857/5000]: 100%|██████████| 10/10 [00:00<00:00, 95.49it/s, loss=12.7]\n"
          ]
        },
        {
          "output_type": "stream",
          "name": "stdout",
          "text": [
            "Epoch [857/5000]: Train loss: 11.7857, Valid loss: 12.3283\n"
          ]
        },
        {
          "output_type": "stream",
          "name": "stderr",
          "text": [
            "Epoch [858/5000]: 100%|██████████| 10/10 [00:00<00:00, 88.47it/s, loss=13.9]\n"
          ]
        },
        {
          "output_type": "stream",
          "name": "stdout",
          "text": [
            "Epoch [858/5000]: Train loss: 11.8485, Valid loss: 12.0630\n"
          ]
        },
        {
          "output_type": "stream",
          "name": "stderr",
          "text": [
            "Epoch [859/5000]: 100%|██████████| 10/10 [00:00<00:00, 92.82it/s, loss=10.9]\n"
          ]
        },
        {
          "output_type": "stream",
          "name": "stdout",
          "text": [
            "Epoch [859/5000]: Train loss: 11.6612, Valid loss: 12.5766\n"
          ]
        },
        {
          "output_type": "stream",
          "name": "stderr",
          "text": [
            "Epoch [860/5000]: 100%|██████████| 10/10 [00:00<00:00, 89.36it/s, loss=9.58]\n"
          ]
        },
        {
          "output_type": "stream",
          "name": "stdout",
          "text": [
            "Epoch [860/5000]: Train loss: 11.5766, Valid loss: 11.5887\n"
          ]
        },
        {
          "output_type": "stream",
          "name": "stderr",
          "text": [
            "Epoch [861/5000]: 100%|██████████| 10/10 [00:00<00:00, 86.09it/s, loss=9.38]\n"
          ]
        },
        {
          "output_type": "stream",
          "name": "stdout",
          "text": [
            "Epoch [861/5000]: Train loss: 11.5568, Valid loss: 12.8111\n"
          ]
        },
        {
          "output_type": "stream",
          "name": "stderr",
          "text": [
            "Epoch [862/5000]: 100%|██████████| 10/10 [00:00<00:00, 89.58it/s, loss=11.5]\n"
          ]
        },
        {
          "output_type": "stream",
          "name": "stdout",
          "text": [
            "Epoch [862/5000]: Train loss: 11.6722, Valid loss: 12.5381\n"
          ]
        },
        {
          "output_type": "stream",
          "name": "stderr",
          "text": [
            "Epoch [863/5000]: 100%|██████████| 10/10 [00:00<00:00, 74.78it/s, loss=11.2]\n"
          ]
        },
        {
          "output_type": "stream",
          "name": "stdout",
          "text": [
            "Epoch [863/5000]: Train loss: 11.6501, Valid loss: 11.8045\n"
          ]
        },
        {
          "output_type": "stream",
          "name": "stderr",
          "text": [
            "Epoch [864/5000]: 100%|██████████| 10/10 [00:00<00:00, 88.10it/s, loss=12.9]\n"
          ]
        },
        {
          "output_type": "stream",
          "name": "stdout",
          "text": [
            "Epoch [864/5000]: Train loss: 11.7440, Valid loss: 11.9737\n"
          ]
        },
        {
          "output_type": "stream",
          "name": "stderr",
          "text": [
            "Epoch [865/5000]: 100%|██████████| 10/10 [00:00<00:00, 82.71it/s, loss=12.6]\n"
          ]
        },
        {
          "output_type": "stream",
          "name": "stdout",
          "text": [
            "Epoch [865/5000]: Train loss: 11.7165, Valid loss: 11.4929\n"
          ]
        },
        {
          "output_type": "stream",
          "name": "stderr",
          "text": [
            "Epoch [866/5000]: 100%|██████████| 10/10 [00:00<00:00, 113.52it/s, loss=10.8]\n"
          ]
        },
        {
          "output_type": "stream",
          "name": "stdout",
          "text": [
            "Epoch [866/5000]: Train loss: 11.6009, Valid loss: 12.2172\n"
          ]
        },
        {
          "output_type": "stream",
          "name": "stderr",
          "text": [
            "Epoch [867/5000]: 100%|██████████| 10/10 [00:00<00:00, 101.79it/s, loss=11.4]\n"
          ]
        },
        {
          "output_type": "stream",
          "name": "stdout",
          "text": [
            "Epoch [867/5000]: Train loss: 11.6288, Valid loss: 11.8946\n"
          ]
        },
        {
          "output_type": "stream",
          "name": "stderr",
          "text": [
            "Epoch [868/5000]: 100%|██████████| 10/10 [00:00<00:00, 85.87it/s, loss=14.1]\n"
          ]
        },
        {
          "output_type": "stream",
          "name": "stdout",
          "text": [
            "Epoch [868/5000]: Train loss: 11.7843, Valid loss: 11.9583\n"
          ]
        },
        {
          "output_type": "stream",
          "name": "stderr",
          "text": [
            "Epoch [869/5000]: 100%|██████████| 10/10 [00:00<00:00, 95.76it/s, loss=13.6]\n"
          ]
        },
        {
          "output_type": "stream",
          "name": "stdout",
          "text": [
            "Epoch [869/5000]: Train loss: 11.7445, Valid loss: 12.2002\n"
          ]
        },
        {
          "output_type": "stream",
          "name": "stderr",
          "text": [
            "Epoch [870/5000]: 100%|██████████| 10/10 [00:00<00:00, 100.19it/s, loss=11.1]\n"
          ]
        },
        {
          "output_type": "stream",
          "name": "stdout",
          "text": [
            "Epoch [870/5000]: Train loss: 11.5931, Valid loss: 11.6789\n"
          ]
        },
        {
          "output_type": "stream",
          "name": "stderr",
          "text": [
            "Epoch [871/5000]: 100%|██████████| 10/10 [00:00<00:00, 109.68it/s, loss=11]\n"
          ]
        },
        {
          "output_type": "stream",
          "name": "stdout",
          "text": [
            "Epoch [871/5000]: Train loss: 11.5787, Valid loss: 11.7341\n"
          ]
        },
        {
          "output_type": "stream",
          "name": "stderr",
          "text": [
            "Epoch [872/5000]: 100%|██████████| 10/10 [00:00<00:00, 108.56it/s, loss=9.68]\n"
          ]
        },
        {
          "output_type": "stream",
          "name": "stdout",
          "text": [
            "Epoch [872/5000]: Train loss: 11.4930, Valid loss: 11.6686\n"
          ]
        },
        {
          "output_type": "stream",
          "name": "stderr",
          "text": [
            "Epoch [873/5000]: 100%|██████████| 10/10 [00:00<00:00, 102.44it/s, loss=12.4]\n"
          ]
        },
        {
          "output_type": "stream",
          "name": "stdout",
          "text": [
            "Epoch [873/5000]: Train loss: 11.6454, Valid loss: 11.6267\n"
          ]
        },
        {
          "output_type": "stream",
          "name": "stderr",
          "text": [
            "Epoch [874/5000]: 100%|██████████| 10/10 [00:00<00:00, 115.65it/s, loss=11.4]\n"
          ]
        },
        {
          "output_type": "stream",
          "name": "stdout",
          "text": [
            "Epoch [874/5000]: Train loss: 11.5802, Valid loss: 12.1561\n"
          ]
        },
        {
          "output_type": "stream",
          "name": "stderr",
          "text": [
            "Epoch [875/5000]: 100%|██████████| 10/10 [00:00<00:00, 97.37it/s, loss=11.8]\n"
          ]
        },
        {
          "output_type": "stream",
          "name": "stdout",
          "text": [
            "Epoch [875/5000]: Train loss: 11.6019, Valid loss: 11.5846\n"
          ]
        },
        {
          "output_type": "stream",
          "name": "stderr",
          "text": [
            "Epoch [876/5000]: 100%|██████████| 10/10 [00:00<00:00, 107.02it/s, loss=14.6]\n"
          ]
        },
        {
          "output_type": "stream",
          "name": "stdout",
          "text": [
            "Epoch [876/5000]: Train loss: 11.7608, Valid loss: 11.9082\n"
          ]
        },
        {
          "output_type": "stream",
          "name": "stderr",
          "text": [
            "Epoch [877/5000]: 100%|██████████| 10/10 [00:00<00:00, 102.22it/s, loss=8.43]\n"
          ]
        },
        {
          "output_type": "stream",
          "name": "stdout",
          "text": [
            "Epoch [877/5000]: Train loss: 11.3855, Valid loss: 11.9457\n"
          ]
        },
        {
          "output_type": "stream",
          "name": "stderr",
          "text": [
            "Epoch [878/5000]: 100%|██████████| 10/10 [00:00<00:00, 108.94it/s, loss=13]\n"
          ]
        },
        {
          "output_type": "stream",
          "name": "stdout",
          "text": [
            "Epoch [878/5000]: Train loss: 11.6480, Valid loss: 12.3853\n"
          ]
        },
        {
          "output_type": "stream",
          "name": "stderr",
          "text": [
            "Epoch [879/5000]: 100%|██████████| 10/10 [00:00<00:00, 119.73it/s, loss=10.2]\n"
          ]
        },
        {
          "output_type": "stream",
          "name": "stdout",
          "text": [
            "Epoch [879/5000]: Train loss: 11.4775, Valid loss: 11.8532\n"
          ]
        },
        {
          "output_type": "stream",
          "name": "stderr",
          "text": [
            "Epoch [880/5000]: 100%|██████████| 10/10 [00:00<00:00, 106.63it/s, loss=11.9]\n"
          ]
        },
        {
          "output_type": "stream",
          "name": "stdout",
          "text": [
            "Epoch [880/5000]: Train loss: 11.5702, Valid loss: 11.6107\n"
          ]
        },
        {
          "output_type": "stream",
          "name": "stderr",
          "text": [
            "Epoch [881/5000]: 100%|██████████| 10/10 [00:00<00:00, 103.26it/s, loss=11.2]\n"
          ]
        },
        {
          "output_type": "stream",
          "name": "stdout",
          "text": [
            "Epoch [881/5000]: Train loss: 11.5240, Valid loss: 11.4870\n"
          ]
        },
        {
          "output_type": "stream",
          "name": "stderr",
          "text": [
            "Epoch [882/5000]: 100%|██████████| 10/10 [00:00<00:00, 107.27it/s, loss=10.5]\n"
          ]
        },
        {
          "output_type": "stream",
          "name": "stdout",
          "text": [
            "Epoch [882/5000]: Train loss: 11.4779, Valid loss: 11.7445\n"
          ]
        },
        {
          "output_type": "stream",
          "name": "stderr",
          "text": [
            "Epoch [883/5000]: 100%|██████████| 10/10 [00:00<00:00, 112.36it/s, loss=11.2]\n"
          ]
        },
        {
          "output_type": "stream",
          "name": "stdout",
          "text": [
            "Epoch [883/5000]: Train loss: 11.5125, Valid loss: 12.3016\n"
          ]
        },
        {
          "output_type": "stream",
          "name": "stderr",
          "text": [
            "Epoch [884/5000]: 100%|██████████| 10/10 [00:00<00:00, 103.66it/s, loss=12]\n"
          ]
        },
        {
          "output_type": "stream",
          "name": "stdout",
          "text": [
            "Epoch [884/5000]: Train loss: 11.5552, Valid loss: 11.4224\n"
          ]
        },
        {
          "output_type": "stream",
          "name": "stderr",
          "text": [
            "Epoch [885/5000]: 100%|██████████| 10/10 [00:00<00:00, 114.00it/s, loss=14.9]\n"
          ]
        },
        {
          "output_type": "stream",
          "name": "stdout",
          "text": [
            "Epoch [885/5000]: Train loss: 11.7178, Valid loss: 11.2270\n",
            "Saving model with loss 11.227...\n"
          ]
        },
        {
          "output_type": "stream",
          "name": "stderr",
          "text": [
            "Epoch [886/5000]: 100%|██████████| 10/10 [00:00<00:00, 112.55it/s, loss=12.7]\n"
          ]
        },
        {
          "output_type": "stream",
          "name": "stdout",
          "text": [
            "Epoch [886/5000]: Train loss: 11.5838, Valid loss: 12.0593\n"
          ]
        },
        {
          "output_type": "stream",
          "name": "stderr",
          "text": [
            "Epoch [887/5000]: 100%|██████████| 10/10 [00:00<00:00, 113.66it/s, loss=10.5]\n"
          ]
        },
        {
          "output_type": "stream",
          "name": "stdout",
          "text": [
            "Epoch [887/5000]: Train loss: 11.4480, Valid loss: 11.9742\n"
          ]
        },
        {
          "output_type": "stream",
          "name": "stderr",
          "text": [
            "Epoch [888/5000]: 100%|██████████| 10/10 [00:00<00:00, 117.18it/s, loss=11.1]\n"
          ]
        },
        {
          "output_type": "stream",
          "name": "stdout",
          "text": [
            "Epoch [888/5000]: Train loss: 11.4730, Valid loss: 11.4482\n"
          ]
        },
        {
          "output_type": "stream",
          "name": "stderr",
          "text": [
            "Epoch [889/5000]: 100%|██████████| 10/10 [00:00<00:00, 110.13it/s, loss=12.5]\n"
          ]
        },
        {
          "output_type": "stream",
          "name": "stdout",
          "text": [
            "Epoch [889/5000]: Train loss: 11.5545, Valid loss: 11.6957\n"
          ]
        },
        {
          "output_type": "stream",
          "name": "stderr",
          "text": [
            "Epoch [890/5000]: 100%|██████████| 10/10 [00:00<00:00, 104.66it/s, loss=13.4]\n"
          ]
        },
        {
          "output_type": "stream",
          "name": "stdout",
          "text": [
            "Epoch [890/5000]: Train loss: 11.5975, Valid loss: 11.3365\n"
          ]
        },
        {
          "output_type": "stream",
          "name": "stderr",
          "text": [
            "Epoch [891/5000]: 100%|██████████| 10/10 [00:00<00:00, 106.89it/s, loss=11.9]\n"
          ]
        },
        {
          "output_type": "stream",
          "name": "stdout",
          "text": [
            "Epoch [891/5000]: Train loss: 11.5033, Valid loss: 11.7813\n"
          ]
        },
        {
          "output_type": "stream",
          "name": "stderr",
          "text": [
            "Epoch [892/5000]: 100%|██████████| 10/10 [00:00<00:00, 96.97it/s, loss=12.9]\n"
          ]
        },
        {
          "output_type": "stream",
          "name": "stdout",
          "text": [
            "Epoch [892/5000]: Train loss: 11.5589, Valid loss: 11.8582\n"
          ]
        },
        {
          "output_type": "stream",
          "name": "stderr",
          "text": [
            "Epoch [893/5000]: 100%|██████████| 10/10 [00:00<00:00, 104.31it/s, loss=11.6]\n"
          ]
        },
        {
          "output_type": "stream",
          "name": "stdout",
          "text": [
            "Epoch [893/5000]: Train loss: 11.4773, Valid loss: 11.5667\n"
          ]
        },
        {
          "output_type": "stream",
          "name": "stderr",
          "text": [
            "Epoch [894/5000]: 100%|██████████| 10/10 [00:00<00:00, 111.18it/s, loss=13.8]\n"
          ]
        },
        {
          "output_type": "stream",
          "name": "stdout",
          "text": [
            "Epoch [894/5000]: Train loss: 11.5984, Valid loss: 11.9281\n"
          ]
        },
        {
          "output_type": "stream",
          "name": "stderr",
          "text": [
            "Epoch [895/5000]: 100%|██████████| 10/10 [00:00<00:00, 89.95it/s, loss=11.8]\n"
          ]
        },
        {
          "output_type": "stream",
          "name": "stdout",
          "text": [
            "Epoch [895/5000]: Train loss: 11.4772, Valid loss: 11.8269\n"
          ]
        },
        {
          "output_type": "stream",
          "name": "stderr",
          "text": [
            "Epoch [896/5000]: 100%|██████████| 10/10 [00:00<00:00, 93.10it/s, loss=13.6]\n"
          ]
        },
        {
          "output_type": "stream",
          "name": "stdout",
          "text": [
            "Epoch [896/5000]: Train loss: 11.5787, Valid loss: 11.9996\n"
          ]
        },
        {
          "output_type": "stream",
          "name": "stderr",
          "text": [
            "Epoch [897/5000]: 100%|██████████| 10/10 [00:00<00:00, 91.95it/s, loss=12]\n"
          ]
        },
        {
          "output_type": "stream",
          "name": "stdout",
          "text": [
            "Epoch [897/5000]: Train loss: 11.4783, Valid loss: 11.9188\n"
          ]
        },
        {
          "output_type": "stream",
          "name": "stderr",
          "text": [
            "Epoch [898/5000]: 100%|██████████| 10/10 [00:00<00:00, 108.26it/s, loss=13.6]\n"
          ]
        },
        {
          "output_type": "stream",
          "name": "stdout",
          "text": [
            "Epoch [898/5000]: Train loss: 11.5649, Valid loss: 11.2357\n"
          ]
        },
        {
          "output_type": "stream",
          "name": "stderr",
          "text": [
            "Epoch [899/5000]: 100%|██████████| 10/10 [00:00<00:00, 108.54it/s, loss=11.8]\n"
          ]
        },
        {
          "output_type": "stream",
          "name": "stdout",
          "text": [
            "Epoch [899/5000]: Train loss: 11.4509, Valid loss: 12.3736\n"
          ]
        },
        {
          "output_type": "stream",
          "name": "stderr",
          "text": [
            "Epoch [900/5000]: 100%|██████████| 10/10 [00:00<00:00, 112.49it/s, loss=9.63]\n"
          ]
        },
        {
          "output_type": "stream",
          "name": "stdout",
          "text": [
            "Epoch [900/5000]: Train loss: 11.3195, Valid loss: 12.0093\n"
          ]
        },
        {
          "output_type": "stream",
          "name": "stderr",
          "text": [
            "Epoch [901/5000]: 100%|██████████| 10/10 [00:00<00:00, 93.90it/s, loss=11.2]\n"
          ]
        },
        {
          "output_type": "stream",
          "name": "stdout",
          "text": [
            "Epoch [901/5000]: Train loss: 11.4051, Valid loss: 11.8513\n"
          ]
        },
        {
          "output_type": "stream",
          "name": "stderr",
          "text": [
            "Epoch [902/5000]: 100%|██████████| 10/10 [00:00<00:00, 99.89it/s, loss=16]\n"
          ]
        },
        {
          "output_type": "stream",
          "name": "stdout",
          "text": [
            "Epoch [902/5000]: Train loss: 11.6883, Valid loss: 12.0365\n"
          ]
        },
        {
          "output_type": "stream",
          "name": "stderr",
          "text": [
            "Epoch [903/5000]: 100%|██████████| 10/10 [00:00<00:00, 101.68it/s, loss=14]\n"
          ]
        },
        {
          "output_type": "stream",
          "name": "stdout",
          "text": [
            "Epoch [903/5000]: Train loss: 11.5652, Valid loss: 11.6875\n"
          ]
        },
        {
          "output_type": "stream",
          "name": "stderr",
          "text": [
            "Epoch [904/5000]: 100%|██████████| 10/10 [00:00<00:00, 95.76it/s, loss=9.54]\n"
          ]
        },
        {
          "output_type": "stream",
          "name": "stdout",
          "text": [
            "Epoch [904/5000]: Train loss: 11.2925, Valid loss: 12.2400\n"
          ]
        },
        {
          "output_type": "stream",
          "name": "stderr",
          "text": [
            "Epoch [905/5000]: 100%|██████████| 10/10 [00:00<00:00, 100.94it/s, loss=12.1]\n"
          ]
        },
        {
          "output_type": "stream",
          "name": "stdout",
          "text": [
            "Epoch [905/5000]: Train loss: 11.4367, Valid loss: 11.1238\n",
            "Saving model with loss 11.124...\n"
          ]
        },
        {
          "output_type": "stream",
          "name": "stderr",
          "text": [
            "Epoch [906/5000]: 100%|██████████| 10/10 [00:00<00:00, 97.47it/s, loss=10.7]\n"
          ]
        },
        {
          "output_type": "stream",
          "name": "stdout",
          "text": [
            "Epoch [906/5000]: Train loss: 11.3480, Valid loss: 11.5117\n"
          ]
        },
        {
          "output_type": "stream",
          "name": "stderr",
          "text": [
            "Epoch [907/5000]: 100%|██████████| 10/10 [00:00<00:00, 99.67it/s, loss=12.8]\n"
          ]
        },
        {
          "output_type": "stream",
          "name": "stdout",
          "text": [
            "Epoch [907/5000]: Train loss: 11.4706, Valid loss: 10.9186\n",
            "Saving model with loss 10.919...\n"
          ]
        },
        {
          "output_type": "stream",
          "name": "stderr",
          "text": [
            "Epoch [908/5000]: 100%|██████████| 10/10 [00:00<00:00, 95.93it/s, loss=11.7]\n"
          ]
        },
        {
          "output_type": "stream",
          "name": "stdout",
          "text": [
            "Epoch [908/5000]: Train loss: 11.4017, Valid loss: 11.6412\n"
          ]
        },
        {
          "output_type": "stream",
          "name": "stderr",
          "text": [
            "Epoch [909/5000]: 100%|██████████| 10/10 [00:00<00:00, 97.50it/s, loss=10.4]\n"
          ]
        },
        {
          "output_type": "stream",
          "name": "stdout",
          "text": [
            "Epoch [909/5000]: Train loss: 11.3192, Valid loss: 11.8741\n"
          ]
        },
        {
          "output_type": "stream",
          "name": "stderr",
          "text": [
            "Epoch [910/5000]: 100%|██████████| 10/10 [00:00<00:00, 93.17it/s, loss=8.29]\n"
          ]
        },
        {
          "output_type": "stream",
          "name": "stdout",
          "text": [
            "Epoch [910/5000]: Train loss: 11.1868, Valid loss: 11.6838\n"
          ]
        },
        {
          "output_type": "stream",
          "name": "stderr",
          "text": [
            "Epoch [911/5000]: 100%|██████████| 10/10 [00:00<00:00, 51.73it/s, loss=9.03]\n"
          ]
        },
        {
          "output_type": "stream",
          "name": "stdout",
          "text": [
            "Epoch [911/5000]: Train loss: 11.2255, Valid loss: 11.2139\n"
          ]
        },
        {
          "output_type": "stream",
          "name": "stderr",
          "text": [
            "Epoch [912/5000]: 100%|██████████| 10/10 [00:00<00:00, 69.01it/s, loss=10.6]\n"
          ]
        },
        {
          "output_type": "stream",
          "name": "stdout",
          "text": [
            "Epoch [912/5000]: Train loss: 11.3129, Valid loss: 11.5434\n"
          ]
        },
        {
          "output_type": "stream",
          "name": "stderr",
          "text": [
            "Epoch [913/5000]: 100%|██████████| 10/10 [00:00<00:00, 54.72it/s, loss=10.9]\n"
          ]
        },
        {
          "output_type": "stream",
          "name": "stdout",
          "text": [
            "Epoch [913/5000]: Train loss: 11.3278, Valid loss: 11.5278\n"
          ]
        },
        {
          "output_type": "stream",
          "name": "stderr",
          "text": [
            "Epoch [914/5000]: 100%|██████████| 10/10 [00:00<00:00, 88.88it/s, loss=9.68]\n"
          ]
        },
        {
          "output_type": "stream",
          "name": "stdout",
          "text": [
            "Epoch [914/5000]: Train loss: 11.2491, Valid loss: 11.3664\n"
          ]
        },
        {
          "output_type": "stream",
          "name": "stderr",
          "text": [
            "Epoch [915/5000]: 100%|██████████| 10/10 [00:00<00:00, 113.31it/s, loss=11.3]\n"
          ]
        },
        {
          "output_type": "stream",
          "name": "stdout",
          "text": [
            "Epoch [915/5000]: Train loss: 11.3377, Valid loss: 11.5468\n"
          ]
        },
        {
          "output_type": "stream",
          "name": "stderr",
          "text": [
            "Epoch [916/5000]: 100%|██████████| 10/10 [00:00<00:00, 90.52it/s, loss=12.2]\n"
          ]
        },
        {
          "output_type": "stream",
          "name": "stdout",
          "text": [
            "Epoch [916/5000]: Train loss: 11.3885, Valid loss: 11.5407\n"
          ]
        },
        {
          "output_type": "stream",
          "name": "stderr",
          "text": [
            "Epoch [917/5000]: 100%|██████████| 10/10 [00:00<00:00, 105.70it/s, loss=10.1]\n"
          ]
        },
        {
          "output_type": "stream",
          "name": "stdout",
          "text": [
            "Epoch [917/5000]: Train loss: 11.2605, Valid loss: 11.7564\n"
          ]
        },
        {
          "output_type": "stream",
          "name": "stderr",
          "text": [
            "Epoch [918/5000]: 100%|██████████| 10/10 [00:00<00:00, 109.47it/s, loss=11.5]\n"
          ]
        },
        {
          "output_type": "stream",
          "name": "stdout",
          "text": [
            "Epoch [918/5000]: Train loss: 11.3392, Valid loss: 11.6361\n"
          ]
        },
        {
          "output_type": "stream",
          "name": "stderr",
          "text": [
            "Epoch [919/5000]: 100%|██████████| 10/10 [00:00<00:00, 104.52it/s, loss=12.1]\n"
          ]
        },
        {
          "output_type": "stream",
          "name": "stdout",
          "text": [
            "Epoch [919/5000]: Train loss: 11.3706, Valid loss: 11.5824\n"
          ]
        },
        {
          "output_type": "stream",
          "name": "stderr",
          "text": [
            "Epoch [920/5000]: 100%|██████████| 10/10 [00:00<00:00, 118.03it/s, loss=10.1]\n"
          ]
        },
        {
          "output_type": "stream",
          "name": "stdout",
          "text": [
            "Epoch [920/5000]: Train loss: 11.2469, Valid loss: 11.8100\n"
          ]
        },
        {
          "output_type": "stream",
          "name": "stderr",
          "text": [
            "Epoch [921/5000]: 100%|██████████| 10/10 [00:00<00:00, 108.06it/s, loss=11.6]\n"
          ]
        },
        {
          "output_type": "stream",
          "name": "stdout",
          "text": [
            "Epoch [921/5000]: Train loss: 11.3275, Valid loss: 11.7560\n"
          ]
        },
        {
          "output_type": "stream",
          "name": "stderr",
          "text": [
            "Epoch [922/5000]: 100%|██████████| 10/10 [00:00<00:00, 110.02it/s, loss=11.9]\n"
          ]
        },
        {
          "output_type": "stream",
          "name": "stdout",
          "text": [
            "Epoch [922/5000]: Train loss: 11.3436, Valid loss: 11.7979\n"
          ]
        },
        {
          "output_type": "stream",
          "name": "stderr",
          "text": [
            "Epoch [923/5000]: 100%|██████████| 10/10 [00:00<00:00, 103.83it/s, loss=12]\n"
          ]
        },
        {
          "output_type": "stream",
          "name": "stdout",
          "text": [
            "Epoch [923/5000]: Train loss: 11.3404, Valid loss: 11.5920\n"
          ]
        },
        {
          "output_type": "stream",
          "name": "stderr",
          "text": [
            "Epoch [924/5000]: 100%|██████████| 10/10 [00:00<00:00, 100.69it/s, loss=13.3]\n"
          ]
        },
        {
          "output_type": "stream",
          "name": "stdout",
          "text": [
            "Epoch [924/5000]: Train loss: 11.4138, Valid loss: 11.6239\n"
          ]
        },
        {
          "output_type": "stream",
          "name": "stderr",
          "text": [
            "Epoch [925/5000]: 100%|██████████| 10/10 [00:00<00:00, 92.34it/s, loss=13.8]\n"
          ]
        },
        {
          "output_type": "stream",
          "name": "stdout",
          "text": [
            "Epoch [925/5000]: Train loss: 11.4415, Valid loss: 11.5507\n"
          ]
        },
        {
          "output_type": "stream",
          "name": "stderr",
          "text": [
            "Epoch [926/5000]: 100%|██████████| 10/10 [00:00<00:00, 90.15it/s, loss=13.7]\n"
          ]
        },
        {
          "output_type": "stream",
          "name": "stdout",
          "text": [
            "Epoch [926/5000]: Train loss: 11.4301, Valid loss: 12.0036\n"
          ]
        },
        {
          "output_type": "stream",
          "name": "stderr",
          "text": [
            "Epoch [927/5000]: 100%|██████████| 10/10 [00:00<00:00, 82.00it/s, loss=10.3]\n"
          ]
        },
        {
          "output_type": "stream",
          "name": "stdout",
          "text": [
            "Epoch [927/5000]: Train loss: 11.2191, Valid loss: 11.6614\n"
          ]
        },
        {
          "output_type": "stream",
          "name": "stderr",
          "text": [
            "Epoch [928/5000]: 100%|██████████| 10/10 [00:00<00:00, 93.98it/s, loss=13.2]\n"
          ]
        },
        {
          "output_type": "stream",
          "name": "stdout",
          "text": [
            "Epoch [928/5000]: Train loss: 11.3885, Valid loss: 12.0082\n"
          ]
        },
        {
          "output_type": "stream",
          "name": "stderr",
          "text": [
            "Epoch [929/5000]: 100%|██████████| 10/10 [00:00<00:00, 107.30it/s, loss=7.82]\n"
          ]
        },
        {
          "output_type": "stream",
          "name": "stdout",
          "text": [
            "Epoch [929/5000]: Train loss: 11.0638, Valid loss: 11.6131\n"
          ]
        },
        {
          "output_type": "stream",
          "name": "stderr",
          "text": [
            "Epoch [930/5000]: 100%|██████████| 10/10 [00:00<00:00, 114.09it/s, loss=14.9]\n"
          ]
        },
        {
          "output_type": "stream",
          "name": "stdout",
          "text": [
            "Epoch [930/5000]: Train loss: 11.4815, Valid loss: 11.9307\n"
          ]
        },
        {
          "output_type": "stream",
          "name": "stderr",
          "text": [
            "Epoch [931/5000]: 100%|██████████| 10/10 [00:00<00:00, 118.31it/s, loss=9.97]\n"
          ]
        },
        {
          "output_type": "stream",
          "name": "stdout",
          "text": [
            "Epoch [931/5000]: Train loss: 11.1820, Valid loss: 11.4645\n"
          ]
        },
        {
          "output_type": "stream",
          "name": "stderr",
          "text": [
            "Epoch [932/5000]: 100%|██████████| 10/10 [00:00<00:00, 104.79it/s, loss=10.6]\n"
          ]
        },
        {
          "output_type": "stream",
          "name": "stdout",
          "text": [
            "Epoch [932/5000]: Train loss: 11.2156, Valid loss: 11.7196\n"
          ]
        },
        {
          "output_type": "stream",
          "name": "stderr",
          "text": [
            "Epoch [933/5000]: 100%|██████████| 10/10 [00:00<00:00, 95.92it/s, loss=9.89]\n"
          ]
        },
        {
          "output_type": "stream",
          "name": "stdout",
          "text": [
            "Epoch [933/5000]: Train loss: 11.1675, Valid loss: 11.7445\n"
          ]
        },
        {
          "output_type": "stream",
          "name": "stderr",
          "text": [
            "Epoch [934/5000]: 100%|██████████| 10/10 [00:00<00:00, 90.64it/s, loss=10.8]\n"
          ]
        },
        {
          "output_type": "stream",
          "name": "stdout",
          "text": [
            "Epoch [934/5000]: Train loss: 11.2189, Valid loss: 11.4708\n"
          ]
        },
        {
          "output_type": "stream",
          "name": "stderr",
          "text": [
            "Epoch [935/5000]: 100%|██████████| 10/10 [00:00<00:00, 96.10it/s, loss=15.7]\n"
          ]
        },
        {
          "output_type": "stream",
          "name": "stdout",
          "text": [
            "Epoch [935/5000]: Train loss: 11.5029, Valid loss: 11.7939\n"
          ]
        },
        {
          "output_type": "stream",
          "name": "stderr",
          "text": [
            "Epoch [936/5000]: 100%|██████████| 10/10 [00:00<00:00, 79.94it/s, loss=13.9]\n"
          ]
        },
        {
          "output_type": "stream",
          "name": "stdout",
          "text": [
            "Epoch [936/5000]: Train loss: 11.3891, Valid loss: 11.3367\n"
          ]
        },
        {
          "output_type": "stream",
          "name": "stderr",
          "text": [
            "Epoch [937/5000]: 100%|██████████| 10/10 [00:00<00:00, 105.03it/s, loss=8.57]\n"
          ]
        },
        {
          "output_type": "stream",
          "name": "stdout",
          "text": [
            "Epoch [937/5000]: Train loss: 11.0698, Valid loss: 11.7269\n"
          ]
        },
        {
          "output_type": "stream",
          "name": "stderr",
          "text": [
            "Epoch [938/5000]: 100%|██████████| 10/10 [00:00<00:00, 106.99it/s, loss=12.3]\n"
          ]
        },
        {
          "output_type": "stream",
          "name": "stdout",
          "text": [
            "Epoch [938/5000]: Train loss: 11.2879, Valid loss: 11.6545\n"
          ]
        },
        {
          "output_type": "stream",
          "name": "stderr",
          "text": [
            "Epoch [939/5000]: 100%|██████████| 10/10 [00:00<00:00, 105.18it/s, loss=11.6]\n"
          ]
        },
        {
          "output_type": "stream",
          "name": "stdout",
          "text": [
            "Epoch [939/5000]: Train loss: 11.2369, Valid loss: 11.4865\n"
          ]
        },
        {
          "output_type": "stream",
          "name": "stderr",
          "text": [
            "Epoch [940/5000]: 100%|██████████| 10/10 [00:00<00:00, 82.69it/s, loss=11.6]\n"
          ]
        },
        {
          "output_type": "stream",
          "name": "stdout",
          "text": [
            "Epoch [940/5000]: Train loss: 11.2344, Valid loss: 12.5605\n"
          ]
        },
        {
          "output_type": "stream",
          "name": "stderr",
          "text": [
            "Epoch [941/5000]: 100%|██████████| 10/10 [00:00<00:00, 78.49it/s, loss=11.6]\n"
          ]
        },
        {
          "output_type": "stream",
          "name": "stdout",
          "text": [
            "Epoch [941/5000]: Train loss: 11.2293, Valid loss: 11.7349\n"
          ]
        },
        {
          "output_type": "stream",
          "name": "stderr",
          "text": [
            "Epoch [942/5000]: 100%|██████████| 10/10 [00:00<00:00, 90.24it/s, loss=9.9]\n"
          ]
        },
        {
          "output_type": "stream",
          "name": "stdout",
          "text": [
            "Epoch [942/5000]: Train loss: 11.1240, Valid loss: 11.5058\n"
          ]
        },
        {
          "output_type": "stream",
          "name": "stderr",
          "text": [
            "Epoch [943/5000]: 100%|██████████| 10/10 [00:00<00:00, 104.99it/s, loss=11.5]\n"
          ]
        },
        {
          "output_type": "stream",
          "name": "stdout",
          "text": [
            "Epoch [943/5000]: Train loss: 11.2142, Valid loss: 11.8120\n"
          ]
        },
        {
          "output_type": "stream",
          "name": "stderr",
          "text": [
            "Epoch [944/5000]: 100%|██████████| 10/10 [00:00<00:00, 110.94it/s, loss=10.6]\n"
          ]
        },
        {
          "output_type": "stream",
          "name": "stdout",
          "text": [
            "Epoch [944/5000]: Train loss: 11.1553, Valid loss: 11.2093\n"
          ]
        },
        {
          "output_type": "stream",
          "name": "stderr",
          "text": [
            "Epoch [945/5000]: 100%|██████████| 10/10 [00:00<00:00, 116.25it/s, loss=12.3]\n"
          ]
        },
        {
          "output_type": "stream",
          "name": "stdout",
          "text": [
            "Epoch [945/5000]: Train loss: 11.2518, Valid loss: 12.3738\n"
          ]
        },
        {
          "output_type": "stream",
          "name": "stderr",
          "text": [
            "Epoch [946/5000]: 100%|██████████| 10/10 [00:00<00:00, 100.95it/s, loss=9.67]\n"
          ]
        },
        {
          "output_type": "stream",
          "name": "stdout",
          "text": [
            "Epoch [946/5000]: Train loss: 11.0908, Valid loss: 11.5134\n"
          ]
        },
        {
          "output_type": "stream",
          "name": "stderr",
          "text": [
            "Epoch [947/5000]: 100%|██████████| 10/10 [00:00<00:00, 111.78it/s, loss=11.8]\n"
          ]
        },
        {
          "output_type": "stream",
          "name": "stdout",
          "text": [
            "Epoch [947/5000]: Train loss: 11.2121, Valid loss: 11.5115\n"
          ]
        },
        {
          "output_type": "stream",
          "name": "stderr",
          "text": [
            "Epoch [948/5000]: 100%|██████████| 10/10 [00:00<00:00, 111.24it/s, loss=12.7]\n"
          ]
        },
        {
          "output_type": "stream",
          "name": "stdout",
          "text": [
            "Epoch [948/5000]: Train loss: 11.2591, Valid loss: 11.0526\n"
          ]
        },
        {
          "output_type": "stream",
          "name": "stderr",
          "text": [
            "Epoch [949/5000]: 100%|██████████| 10/10 [00:00<00:00, 111.04it/s, loss=11.5]\n"
          ]
        },
        {
          "output_type": "stream",
          "name": "stdout",
          "text": [
            "Epoch [949/5000]: Train loss: 11.1877, Valid loss: 11.2776\n"
          ]
        },
        {
          "output_type": "stream",
          "name": "stderr",
          "text": [
            "Epoch [950/5000]: 100%|██████████| 10/10 [00:00<00:00, 106.88it/s, loss=14.6]\n"
          ]
        },
        {
          "output_type": "stream",
          "name": "stdout",
          "text": [
            "Epoch [950/5000]: Train loss: 11.3662, Valid loss: 11.3557\n"
          ]
        },
        {
          "output_type": "stream",
          "name": "stderr",
          "text": [
            "Epoch [951/5000]: 100%|██████████| 10/10 [00:00<00:00, 85.82it/s, loss=12.1]\n"
          ]
        },
        {
          "output_type": "stream",
          "name": "stdout",
          "text": [
            "Epoch [951/5000]: Train loss: 11.2132, Valid loss: 11.9168\n"
          ]
        },
        {
          "output_type": "stream",
          "name": "stderr",
          "text": [
            "Epoch [952/5000]: 100%|██████████| 10/10 [00:00<00:00, 94.07it/s, loss=10.8]\n"
          ]
        },
        {
          "output_type": "stream",
          "name": "stdout",
          "text": [
            "Epoch [952/5000]: Train loss: 11.1312, Valid loss: 11.8828\n"
          ]
        },
        {
          "output_type": "stream",
          "name": "stderr",
          "text": [
            "Epoch [953/5000]: 100%|██████████| 10/10 [00:00<00:00, 74.97it/s, loss=10.5]\n"
          ]
        },
        {
          "output_type": "stream",
          "name": "stdout",
          "text": [
            "Epoch [953/5000]: Train loss: 11.1067, Valid loss: 11.6698\n"
          ]
        },
        {
          "output_type": "stream",
          "name": "stderr",
          "text": [
            "Epoch [954/5000]: 100%|██████████| 10/10 [00:00<00:00, 93.40it/s, loss=12.1]\n"
          ]
        },
        {
          "output_type": "stream",
          "name": "stdout",
          "text": [
            "Epoch [954/5000]: Train loss: 11.1978, Valid loss: 11.3934\n"
          ]
        },
        {
          "output_type": "stream",
          "name": "stderr",
          "text": [
            "Epoch [955/5000]: 100%|██████████| 10/10 [00:00<00:00, 99.53it/s, loss=11]\n"
          ]
        },
        {
          "output_type": "stream",
          "name": "stdout",
          "text": [
            "Epoch [955/5000]: Train loss: 11.1246, Valid loss: 11.4283\n"
          ]
        },
        {
          "output_type": "stream",
          "name": "stderr",
          "text": [
            "Epoch [956/5000]: 100%|██████████| 10/10 [00:00<00:00, 106.27it/s, loss=11.6]\n"
          ]
        },
        {
          "output_type": "stream",
          "name": "stdout",
          "text": [
            "Epoch [956/5000]: Train loss: 11.1543, Valid loss: 11.6032\n"
          ]
        },
        {
          "output_type": "stream",
          "name": "stderr",
          "text": [
            "Epoch [957/5000]: 100%|██████████| 10/10 [00:00<00:00, 102.09it/s, loss=12.1]\n"
          ]
        },
        {
          "output_type": "stream",
          "name": "stdout",
          "text": [
            "Epoch [957/5000]: Train loss: 11.1790, Valid loss: 11.8852\n"
          ]
        },
        {
          "output_type": "stream",
          "name": "stderr",
          "text": [
            "Epoch [958/5000]: 100%|██████████| 10/10 [00:00<00:00, 94.03it/s, loss=11.6]\n"
          ]
        },
        {
          "output_type": "stream",
          "name": "stdout",
          "text": [
            "Epoch [958/5000]: Train loss: 11.1456, Valid loss: 11.9279\n"
          ]
        },
        {
          "output_type": "stream",
          "name": "stderr",
          "text": [
            "Epoch [959/5000]: 100%|██████████| 10/10 [00:00<00:00, 95.97it/s, loss=10.8]\n"
          ]
        },
        {
          "output_type": "stream",
          "name": "stdout",
          "text": [
            "Epoch [959/5000]: Train loss: 11.0950, Valid loss: 10.9113\n",
            "Saving model with loss 10.911...\n"
          ]
        },
        {
          "output_type": "stream",
          "name": "stderr",
          "text": [
            "Epoch [960/5000]: 100%|██████████| 10/10 [00:00<00:00, 85.71it/s, loss=11.3]\n"
          ]
        },
        {
          "output_type": "stream",
          "name": "stdout",
          "text": [
            "Epoch [960/5000]: Train loss: 11.1189, Valid loss: 11.2498\n"
          ]
        },
        {
          "output_type": "stream",
          "name": "stderr",
          "text": [
            "Epoch [961/5000]: 100%|██████████| 10/10 [00:00<00:00, 101.58it/s, loss=10.7]\n"
          ]
        },
        {
          "output_type": "stream",
          "name": "stdout",
          "text": [
            "Epoch [961/5000]: Train loss: 11.0798, Valid loss: 11.4618\n"
          ]
        },
        {
          "output_type": "stream",
          "name": "stderr",
          "text": [
            "Epoch [962/5000]: 100%|██████████| 10/10 [00:00<00:00, 104.22it/s, loss=9.39]\n"
          ]
        },
        {
          "output_type": "stream",
          "name": "stdout",
          "text": [
            "Epoch [962/5000]: Train loss: 10.9956, Valid loss: 11.1653\n"
          ]
        },
        {
          "output_type": "stream",
          "name": "stderr",
          "text": [
            "Epoch [963/5000]: 100%|██████████| 10/10 [00:00<00:00, 104.95it/s, loss=11.6]\n"
          ]
        },
        {
          "output_type": "stream",
          "name": "stdout",
          "text": [
            "Epoch [963/5000]: Train loss: 11.1234, Valid loss: 11.5694\n"
          ]
        },
        {
          "output_type": "stream",
          "name": "stderr",
          "text": [
            "Epoch [964/5000]: 100%|██████████| 10/10 [00:00<00:00, 105.97it/s, loss=9.2]\n"
          ]
        },
        {
          "output_type": "stream",
          "name": "stdout",
          "text": [
            "Epoch [964/5000]: Train loss: 10.9746, Valid loss: 11.7281\n"
          ]
        },
        {
          "output_type": "stream",
          "name": "stderr",
          "text": [
            "Epoch [965/5000]: 100%|██████████| 10/10 [00:00<00:00, 87.38it/s, loss=9.87]\n"
          ]
        },
        {
          "output_type": "stream",
          "name": "stdout",
          "text": [
            "Epoch [965/5000]: Train loss: 11.0091, Valid loss: 11.4208\n"
          ]
        },
        {
          "output_type": "stream",
          "name": "stderr",
          "text": [
            "Epoch [966/5000]: 100%|██████████| 10/10 [00:00<00:00, 117.58it/s, loss=11.3]\n"
          ]
        },
        {
          "output_type": "stream",
          "name": "stdout",
          "text": [
            "Epoch [966/5000]: Train loss: 11.0915, Valid loss: 11.4811\n"
          ]
        },
        {
          "output_type": "stream",
          "name": "stderr",
          "text": [
            "Epoch [967/5000]: 100%|██████████| 10/10 [00:00<00:00, 112.33it/s, loss=12.2]\n"
          ]
        },
        {
          "output_type": "stream",
          "name": "stdout",
          "text": [
            "Epoch [967/5000]: Train loss: 11.1399, Valid loss: 11.1400\n"
          ]
        },
        {
          "output_type": "stream",
          "name": "stderr",
          "text": [
            "Epoch [968/5000]: 100%|██████████| 10/10 [00:00<00:00, 110.14it/s, loss=9.3]\n"
          ]
        },
        {
          "output_type": "stream",
          "name": "stdout",
          "text": [
            "Epoch [968/5000]: Train loss: 10.9605, Valid loss: 11.0842\n"
          ]
        },
        {
          "output_type": "stream",
          "name": "stderr",
          "text": [
            "Epoch [969/5000]: 100%|██████████| 10/10 [00:00<00:00, 103.67it/s, loss=10.3]\n"
          ]
        },
        {
          "output_type": "stream",
          "name": "stdout",
          "text": [
            "Epoch [969/5000]: Train loss: 11.0148, Valid loss: 11.3677\n"
          ]
        },
        {
          "output_type": "stream",
          "name": "stderr",
          "text": [
            "Epoch [970/5000]: 100%|██████████| 10/10 [00:00<00:00, 121.12it/s, loss=11.1]\n"
          ]
        },
        {
          "output_type": "stream",
          "name": "stdout",
          "text": [
            "Epoch [970/5000]: Train loss: 11.0576, Valid loss: 11.5180\n"
          ]
        },
        {
          "output_type": "stream",
          "name": "stderr",
          "text": [
            "Epoch [971/5000]: 100%|██████████| 10/10 [00:00<00:00, 115.79it/s, loss=10.9]\n"
          ]
        },
        {
          "output_type": "stream",
          "name": "stdout",
          "text": [
            "Epoch [971/5000]: Train loss: 11.0406, Valid loss: 11.0663\n"
          ]
        },
        {
          "output_type": "stream",
          "name": "stderr",
          "text": [
            "Epoch [972/5000]: 100%|██████████| 10/10 [00:00<00:00, 118.12it/s, loss=10.8]\n"
          ]
        },
        {
          "output_type": "stream",
          "name": "stdout",
          "text": [
            "Epoch [972/5000]: Train loss: 11.0321, Valid loss: 11.5918\n"
          ]
        },
        {
          "output_type": "stream",
          "name": "stderr",
          "text": [
            "Epoch [973/5000]: 100%|██████████| 10/10 [00:00<00:00, 116.96it/s, loss=13.4]"
          ]
        },
        {
          "output_type": "stream",
          "name": "stdout",
          "text": [
            "Epoch [973/5000]: Train loss: 11.1792, Valid loss: 11.0689"
          ]
        },
        {
          "output_type": "stream",
          "name": "stderr",
          "text": [
            "\n"
          ]
        },
        {
          "output_type": "stream",
          "name": "stdout",
          "text": [
            "\n"
          ]
        },
        {
          "output_type": "stream",
          "name": "stderr",
          "text": [
            "Epoch [974/5000]: 100%|██████████| 10/10 [00:00<00:00, 106.68it/s, loss=9.89]\n"
          ]
        },
        {
          "output_type": "stream",
          "name": "stdout",
          "text": [
            "Epoch [974/5000]: Train loss: 10.9659, Valid loss: 11.1814\n"
          ]
        },
        {
          "output_type": "stream",
          "name": "stderr",
          "text": [
            "Epoch [975/5000]: 100%|██████████| 10/10 [00:00<00:00, 99.93it/s, loss=12.4]\n"
          ]
        },
        {
          "output_type": "stream",
          "name": "stdout",
          "text": [
            "Epoch [975/5000]: Train loss: 11.1089, Valid loss: 11.7905\n"
          ]
        },
        {
          "output_type": "stream",
          "name": "stderr",
          "text": [
            "Epoch [976/5000]: 100%|██████████| 10/10 [00:00<00:00, 92.61it/s, loss=13.4]\n"
          ]
        },
        {
          "output_type": "stream",
          "name": "stdout",
          "text": [
            "Epoch [976/5000]: Train loss: 11.1628, Valid loss: 11.1875\n"
          ]
        },
        {
          "output_type": "stream",
          "name": "stderr",
          "text": [
            "Epoch [977/5000]: 100%|██████████| 10/10 [00:00<00:00, 121.00it/s, loss=10.5]\n"
          ]
        },
        {
          "output_type": "stream",
          "name": "stdout",
          "text": [
            "Epoch [977/5000]: Train loss: 10.9857, Valid loss: 11.3364\n"
          ]
        },
        {
          "output_type": "stream",
          "name": "stderr",
          "text": [
            "Epoch [978/5000]: 100%|██████████| 10/10 [00:00<00:00, 108.78it/s, loss=9.77]\n"
          ]
        },
        {
          "output_type": "stream",
          "name": "stdout",
          "text": [
            "Epoch [978/5000]: Train loss: 10.9392, Valid loss: 11.5433\n"
          ]
        },
        {
          "output_type": "stream",
          "name": "stderr",
          "text": [
            "Epoch [979/5000]: 100%|██████████| 10/10 [00:00<00:00, 96.61it/s, loss=12.5]\n"
          ]
        },
        {
          "output_type": "stream",
          "name": "stdout",
          "text": [
            "Epoch [979/5000]: Train loss: 11.0967, Valid loss: 11.3765\n"
          ]
        },
        {
          "output_type": "stream",
          "name": "stderr",
          "text": [
            "Epoch [980/5000]: 100%|██████████| 10/10 [00:00<00:00, 99.57it/s, loss=13.7]\n"
          ]
        },
        {
          "output_type": "stream",
          "name": "stdout",
          "text": [
            "Epoch [980/5000]: Train loss: 11.1597, Valid loss: 11.8611\n"
          ]
        },
        {
          "output_type": "stream",
          "name": "stderr",
          "text": [
            "Epoch [981/5000]: 100%|██████████| 10/10 [00:00<00:00, 119.53it/s, loss=9.84]\n"
          ]
        },
        {
          "output_type": "stream",
          "name": "stdout",
          "text": [
            "Epoch [981/5000]: Train loss: 10.9282, Valid loss: 11.4623\n"
          ]
        },
        {
          "output_type": "stream",
          "name": "stderr",
          "text": [
            "Epoch [982/5000]: 100%|██████████| 10/10 [00:00<00:00, 117.73it/s, loss=10.3]\n"
          ]
        },
        {
          "output_type": "stream",
          "name": "stdout",
          "text": [
            "Epoch [982/5000]: Train loss: 10.9516, Valid loss: 11.5084\n"
          ]
        },
        {
          "output_type": "stream",
          "name": "stderr",
          "text": [
            "Epoch [983/5000]: 100%|██████████| 10/10 [00:00<00:00, 120.18it/s, loss=13.5]\n"
          ]
        },
        {
          "output_type": "stream",
          "name": "stdout",
          "text": [
            "Epoch [983/5000]: Train loss: 11.1382, Valid loss: 11.4060\n"
          ]
        },
        {
          "output_type": "stream",
          "name": "stderr",
          "text": [
            "Epoch [984/5000]: 100%|██████████| 10/10 [00:00<00:00, 122.81it/s, loss=9.25]\n"
          ]
        },
        {
          "output_type": "stream",
          "name": "stdout",
          "text": [
            "Epoch [984/5000]: Train loss: 10.8778, Valid loss: 11.4342\n"
          ]
        },
        {
          "output_type": "stream",
          "name": "stderr",
          "text": [
            "Epoch [985/5000]: 100%|██████████| 10/10 [00:00<00:00, 89.45it/s, loss=10.5]\n"
          ]
        },
        {
          "output_type": "stream",
          "name": "stdout",
          "text": [
            "Epoch [985/5000]: Train loss: 10.9495, Valid loss: 11.6643\n"
          ]
        },
        {
          "output_type": "stream",
          "name": "stderr",
          "text": [
            "Epoch [986/5000]: 100%|██████████| 10/10 [00:00<00:00, 115.42it/s, loss=9.78]\n"
          ]
        },
        {
          "output_type": "stream",
          "name": "stdout",
          "text": [
            "Epoch [986/5000]: Train loss: 10.8995, Valid loss: 11.2581\n"
          ]
        },
        {
          "output_type": "stream",
          "name": "stderr",
          "text": [
            "Epoch [987/5000]: 100%|██████████| 10/10 [00:00<00:00, 87.64it/s, loss=12]\n"
          ]
        },
        {
          "output_type": "stream",
          "name": "stdout",
          "text": [
            "Epoch [987/5000]: Train loss: 11.0277, Valid loss: 11.7421\n"
          ]
        },
        {
          "output_type": "stream",
          "name": "stderr",
          "text": [
            "Epoch [988/5000]: 100%|██████████| 10/10 [00:00<00:00, 104.07it/s, loss=11.4]\n"
          ]
        },
        {
          "output_type": "stream",
          "name": "stdout",
          "text": [
            "Epoch [988/5000]: Train loss: 10.9876, Valid loss: 11.5906\n"
          ]
        },
        {
          "output_type": "stream",
          "name": "stderr",
          "text": [
            "Epoch [989/5000]: 100%|██████████| 10/10 [00:00<00:00, 106.60it/s, loss=11]\n"
          ]
        },
        {
          "output_type": "stream",
          "name": "stdout",
          "text": [
            "Epoch [989/5000]: Train loss: 10.9572, Valid loss: 11.2502\n"
          ]
        },
        {
          "output_type": "stream",
          "name": "stderr",
          "text": [
            "Epoch [990/5000]: 100%|██████████| 10/10 [00:00<00:00, 108.52it/s, loss=11.4]\n"
          ]
        },
        {
          "output_type": "stream",
          "name": "stdout",
          "text": [
            "Epoch [990/5000]: Train loss: 10.9762, Valid loss: 11.3400\n"
          ]
        },
        {
          "output_type": "stream",
          "name": "stderr",
          "text": [
            "Epoch [991/5000]: 100%|██████████| 10/10 [00:00<00:00, 107.46it/s, loss=12.9]\n"
          ]
        },
        {
          "output_type": "stream",
          "name": "stdout",
          "text": [
            "Epoch [991/5000]: Train loss: 11.0568, Valid loss: 11.7479\n"
          ]
        },
        {
          "output_type": "stream",
          "name": "stderr",
          "text": [
            "Epoch [992/5000]: 100%|██████████| 10/10 [00:00<00:00, 116.13it/s, loss=12]\n"
          ]
        },
        {
          "output_type": "stream",
          "name": "stdout",
          "text": [
            "Epoch [992/5000]: Train loss: 11.0024, Valid loss: 11.4802\n"
          ]
        },
        {
          "output_type": "stream",
          "name": "stderr",
          "text": [
            "Epoch [993/5000]: 100%|██████████| 10/10 [00:00<00:00, 127.31it/s, loss=10]\n"
          ]
        },
        {
          "output_type": "stream",
          "name": "stdout",
          "text": [
            "Epoch [993/5000]: Train loss: 10.8772, Valid loss: 11.8072\n"
          ]
        },
        {
          "output_type": "stream",
          "name": "stderr",
          "text": [
            "Epoch [994/5000]: 100%|██████████| 10/10 [00:00<00:00, 115.15it/s, loss=9.52]\n"
          ]
        },
        {
          "output_type": "stream",
          "name": "stdout",
          "text": [
            "Epoch [994/5000]: Train loss: 10.8434, Valid loss: 11.8025\n"
          ]
        },
        {
          "output_type": "stream",
          "name": "stderr",
          "text": [
            "Epoch [995/5000]: 100%|██████████| 10/10 [00:00<00:00, 109.19it/s, loss=12.4]\n"
          ]
        },
        {
          "output_type": "stream",
          "name": "stdout",
          "text": [
            "Epoch [995/5000]: Train loss: 11.0112, Valid loss: 11.2109\n"
          ]
        },
        {
          "output_type": "stream",
          "name": "stderr",
          "text": [
            "Epoch [996/5000]: 100%|██████████| 10/10 [00:00<00:00, 110.16it/s, loss=12.1]\n"
          ]
        },
        {
          "output_type": "stream",
          "name": "stdout",
          "text": [
            "Epoch [996/5000]: Train loss: 10.9871, Valid loss: 12.1215\n"
          ]
        },
        {
          "output_type": "stream",
          "name": "stderr",
          "text": [
            "Epoch [997/5000]: 100%|██████████| 10/10 [00:00<00:00, 114.21it/s, loss=10.8]\n"
          ]
        },
        {
          "output_type": "stream",
          "name": "stdout",
          "text": [
            "Epoch [997/5000]: Train loss: 10.9026, Valid loss: 11.1903\n"
          ]
        },
        {
          "output_type": "stream",
          "name": "stderr",
          "text": [
            "Epoch [998/5000]: 100%|██████████| 10/10 [00:00<00:00, 115.55it/s, loss=9.15]\n"
          ]
        },
        {
          "output_type": "stream",
          "name": "stdout",
          "text": [
            "Epoch [998/5000]: Train loss: 10.8009, Valid loss: 11.6854\n"
          ]
        },
        {
          "output_type": "stream",
          "name": "stderr",
          "text": [
            "Epoch [999/5000]: 100%|██████████| 10/10 [00:00<00:00, 103.48it/s, loss=10.1]\n"
          ]
        },
        {
          "output_type": "stream",
          "name": "stdout",
          "text": [
            "Epoch [999/5000]: Train loss: 10.8523, Valid loss: 11.1152\n"
          ]
        },
        {
          "output_type": "stream",
          "name": "stderr",
          "text": [
            "Epoch [1000/5000]: 100%|██████████| 10/10 [00:00<00:00, 108.06it/s, loss=10.4]\n"
          ]
        },
        {
          "output_type": "stream",
          "name": "stdout",
          "text": [
            "Epoch [1000/5000]: Train loss: 10.8647, Valid loss: 11.4125\n"
          ]
        },
        {
          "output_type": "stream",
          "name": "stderr",
          "text": [
            "Epoch [1001/5000]: 100%|██████████| 10/10 [00:00<00:00, 102.24it/s, loss=10.2]\n"
          ]
        },
        {
          "output_type": "stream",
          "name": "stdout",
          "text": [
            "Epoch [1001/5000]: Train loss: 10.8469, Valid loss: 11.5785\n"
          ]
        },
        {
          "output_type": "stream",
          "name": "stderr",
          "text": [
            "Epoch [1002/5000]: 100%|██████████| 10/10 [00:00<00:00, 122.75it/s, loss=9.66]\n"
          ]
        },
        {
          "output_type": "stream",
          "name": "stdout",
          "text": [
            "Epoch [1002/5000]: Train loss: 10.8108, Valid loss: 11.5979\n"
          ]
        },
        {
          "output_type": "stream",
          "name": "stderr",
          "text": [
            "Epoch [1003/5000]: 100%|██████████| 10/10 [00:00<00:00, 104.50it/s, loss=10.3]\n"
          ]
        },
        {
          "output_type": "stream",
          "name": "stdout",
          "text": [
            "Epoch [1003/5000]: Train loss: 10.8429, Valid loss: 11.3214\n"
          ]
        },
        {
          "output_type": "stream",
          "name": "stderr",
          "text": [
            "Epoch [1004/5000]: 100%|██████████| 10/10 [00:00<00:00, 124.38it/s, loss=11]\n"
          ]
        },
        {
          "output_type": "stream",
          "name": "stdout",
          "text": [
            "Epoch [1004/5000]: Train loss: 10.8812, Valid loss: 11.4293\n"
          ]
        },
        {
          "output_type": "stream",
          "name": "stderr",
          "text": [
            "Epoch [1005/5000]: 100%|██████████| 10/10 [00:00<00:00, 120.25it/s, loss=8.09]\n"
          ]
        },
        {
          "output_type": "stream",
          "name": "stdout",
          "text": [
            "Epoch [1005/5000]: Train loss: 10.7024, Valid loss: 11.7157\n"
          ]
        },
        {
          "output_type": "stream",
          "name": "stderr",
          "text": [
            "Epoch [1006/5000]: 100%|██████████| 10/10 [00:00<00:00, 131.94it/s, loss=12]\n"
          ]
        },
        {
          "output_type": "stream",
          "name": "stdout",
          "text": [
            "Epoch [1006/5000]: Train loss: 10.9272, Valid loss: 11.4956\n"
          ]
        },
        {
          "output_type": "stream",
          "name": "stderr",
          "text": [
            "Epoch [1007/5000]: 100%|██████████| 10/10 [00:00<00:00, 110.95it/s, loss=10.4]\n"
          ]
        },
        {
          "output_type": "stream",
          "name": "stdout",
          "text": [
            "Epoch [1007/5000]: Train loss: 10.8270, Valid loss: 11.3752\n"
          ]
        },
        {
          "output_type": "stream",
          "name": "stderr",
          "text": [
            "Epoch [1008/5000]: 100%|██████████| 10/10 [00:00<00:00, 86.68it/s, loss=12.5]\n"
          ]
        },
        {
          "output_type": "stream",
          "name": "stdout",
          "text": [
            "Epoch [1008/5000]: Train loss: 10.9512, Valid loss: 11.0257\n"
          ]
        },
        {
          "output_type": "stream",
          "name": "stderr",
          "text": [
            "Epoch [1009/5000]: 100%|██████████| 10/10 [00:00<00:00, 95.65it/s, loss=12.7]\n"
          ]
        },
        {
          "output_type": "stream",
          "name": "stdout",
          "text": [
            "Epoch [1009/5000]: Train loss: 10.9534, Valid loss: 11.0632\n"
          ]
        },
        {
          "output_type": "stream",
          "name": "stderr",
          "text": [
            "Epoch [1010/5000]: 100%|██████████| 10/10 [00:00<00:00, 103.07it/s, loss=10.1]\n"
          ]
        },
        {
          "output_type": "stream",
          "name": "stdout",
          "text": [
            "Epoch [1010/5000]: Train loss: 10.7940, Valid loss: 11.7439\n"
          ]
        },
        {
          "output_type": "stream",
          "name": "stderr",
          "text": [
            "Epoch [1011/5000]: 100%|██████████| 10/10 [00:00<00:00, 101.63it/s, loss=13.4]\n"
          ]
        },
        {
          "output_type": "stream",
          "name": "stdout",
          "text": [
            "Epoch [1011/5000]: Train loss: 10.9877, Valid loss: 11.5764\n"
          ]
        },
        {
          "output_type": "stream",
          "name": "stderr",
          "text": [
            "Epoch [1012/5000]: 100%|██████████| 10/10 [00:00<00:00, 102.90it/s, loss=8.81]\n"
          ]
        },
        {
          "output_type": "stream",
          "name": "stdout",
          "text": [
            "Epoch [1012/5000]: Train loss: 10.7083, Valid loss: 11.0742\n"
          ]
        },
        {
          "output_type": "stream",
          "name": "stderr",
          "text": [
            "Epoch [1013/5000]: 100%|██████████| 10/10 [00:00<00:00, 94.82it/s, loss=9.57]\n"
          ]
        },
        {
          "output_type": "stream",
          "name": "stdout",
          "text": [
            "Epoch [1013/5000]: Train loss: 10.7483, Valid loss: 10.4468\n",
            "Saving model with loss 10.447...\n"
          ]
        },
        {
          "output_type": "stream",
          "name": "stderr",
          "text": [
            "Epoch [1014/5000]: 100%|██████████| 10/10 [00:00<00:00, 100.08it/s, loss=11.9]\n"
          ]
        },
        {
          "output_type": "stream",
          "name": "stdout",
          "text": [
            "Epoch [1014/5000]: Train loss: 10.8818, Valid loss: 11.2772\n"
          ]
        },
        {
          "output_type": "stream",
          "name": "stderr",
          "text": [
            "Epoch [1015/5000]: 100%|██████████| 10/10 [00:00<00:00, 99.35it/s, loss=10.4]\n"
          ]
        },
        {
          "output_type": "stream",
          "name": "stdout",
          "text": [
            "Epoch [1015/5000]: Train loss: 10.7885, Valid loss: 10.9175\n"
          ]
        },
        {
          "output_type": "stream",
          "name": "stderr",
          "text": [
            "Epoch [1016/5000]: 100%|██████████| 10/10 [00:00<00:00, 97.13it/s, loss=10.7]\n"
          ]
        },
        {
          "output_type": "stream",
          "name": "stdout",
          "text": [
            "Epoch [1016/5000]: Train loss: 10.7999, Valid loss: 11.9134\n"
          ]
        },
        {
          "output_type": "stream",
          "name": "stderr",
          "text": [
            "Epoch [1017/5000]: 100%|██████████| 10/10 [00:00<00:00, 86.94it/s, loss=11.4]\n"
          ]
        },
        {
          "output_type": "stream",
          "name": "stdout",
          "text": [
            "Epoch [1017/5000]: Train loss: 10.8344, Valid loss: 11.0001\n"
          ]
        },
        {
          "output_type": "stream",
          "name": "stderr",
          "text": [
            "Epoch [1018/5000]: 100%|██████████| 10/10 [00:00<00:00, 90.77it/s, loss=11.4]\n"
          ]
        },
        {
          "output_type": "stream",
          "name": "stdout",
          "text": [
            "Epoch [1018/5000]: Train loss: 10.8298, Valid loss: 10.7467\n"
          ]
        },
        {
          "output_type": "stream",
          "name": "stderr",
          "text": [
            "Epoch [1019/5000]: 100%|██████████| 10/10 [00:00<00:00, 92.62it/s, loss=9]\n"
          ]
        },
        {
          "output_type": "stream",
          "name": "stdout",
          "text": [
            "Epoch [1019/5000]: Train loss: 10.6831, Valid loss: 11.0498\n"
          ]
        },
        {
          "output_type": "stream",
          "name": "stderr",
          "text": [
            "Epoch [1020/5000]: 100%|██████████| 10/10 [00:00<00:00, 95.14it/s, loss=11.7]\n"
          ]
        },
        {
          "output_type": "stream",
          "name": "stdout",
          "text": [
            "Epoch [1020/5000]: Train loss: 10.8352, Valid loss: 10.9760\n"
          ]
        },
        {
          "output_type": "stream",
          "name": "stderr",
          "text": [
            "Epoch [1021/5000]: 100%|██████████| 10/10 [00:00<00:00, 88.17it/s, loss=10.5]\n"
          ]
        },
        {
          "output_type": "stream",
          "name": "stdout",
          "text": [
            "Epoch [1021/5000]: Train loss: 10.7597, Valid loss: 10.8014\n"
          ]
        },
        {
          "output_type": "stream",
          "name": "stderr",
          "text": [
            "Epoch [1022/5000]: 100%|██████████| 10/10 [00:00<00:00, 78.75it/s, loss=12.3]\n"
          ]
        },
        {
          "output_type": "stream",
          "name": "stdout",
          "text": [
            "Epoch [1022/5000]: Train loss: 10.8649, Valid loss: 10.9653\n"
          ]
        },
        {
          "output_type": "stream",
          "name": "stderr",
          "text": [
            "Epoch [1023/5000]: 100%|██████████| 10/10 [00:00<00:00, 76.99it/s, loss=11.8]\n"
          ]
        },
        {
          "output_type": "stream",
          "name": "stdout",
          "text": [
            "Epoch [1023/5000]: Train loss: 10.8258, Valid loss: 11.4067\n"
          ]
        },
        {
          "output_type": "stream",
          "name": "stderr",
          "text": [
            "Epoch [1024/5000]: 100%|██████████| 10/10 [00:00<00:00, 108.73it/s, loss=10.9]\n"
          ]
        },
        {
          "output_type": "stream",
          "name": "stdout",
          "text": [
            "Epoch [1024/5000]: Train loss: 10.7670, Valid loss: 10.5382\n"
          ]
        },
        {
          "output_type": "stream",
          "name": "stderr",
          "text": [
            "Epoch [1025/5000]: 100%|██████████| 10/10 [00:00<00:00, 97.26it/s, loss=7.89]\n"
          ]
        },
        {
          "output_type": "stream",
          "name": "stdout",
          "text": [
            "Epoch [1025/5000]: Train loss: 10.5848, Valid loss: 11.2155\n"
          ]
        },
        {
          "output_type": "stream",
          "name": "stderr",
          "text": [
            "Epoch [1026/5000]: 100%|██████████| 10/10 [00:00<00:00, 81.05it/s, loss=8.54]\n"
          ]
        },
        {
          "output_type": "stream",
          "name": "stdout",
          "text": [
            "Epoch [1026/5000]: Train loss: 10.6187, Valid loss: 11.2274\n"
          ]
        },
        {
          "output_type": "stream",
          "name": "stderr",
          "text": [
            "Epoch [1027/5000]: 100%|██████████| 10/10 [00:00<00:00, 91.18it/s, loss=9.67]\n"
          ]
        },
        {
          "output_type": "stream",
          "name": "stdout",
          "text": [
            "Epoch [1027/5000]: Train loss: 10.6803, Valid loss: 11.2391\n"
          ]
        },
        {
          "output_type": "stream",
          "name": "stderr",
          "text": [
            "Epoch [1028/5000]: 100%|██████████| 10/10 [00:00<00:00, 87.54it/s, loss=10.3]\n"
          ]
        },
        {
          "output_type": "stream",
          "name": "stdout",
          "text": [
            "Epoch [1028/5000]: Train loss: 10.7131, Valid loss: 10.7263\n"
          ]
        },
        {
          "output_type": "stream",
          "name": "stderr",
          "text": [
            "Epoch [1029/5000]: 100%|██████████| 10/10 [00:00<00:00, 97.20it/s, loss=11.2]\n"
          ]
        },
        {
          "output_type": "stream",
          "name": "stdout",
          "text": [
            "Epoch [1029/5000]: Train loss: 10.7577, Valid loss: 11.4248\n"
          ]
        },
        {
          "output_type": "stream",
          "name": "stderr",
          "text": [
            "Epoch [1030/5000]: 100%|██████████| 10/10 [00:00<00:00, 92.70it/s, loss=12.2]\n"
          ]
        },
        {
          "output_type": "stream",
          "name": "stdout",
          "text": [
            "Epoch [1030/5000]: Train loss: 10.8138, Valid loss: 10.7917\n"
          ]
        },
        {
          "output_type": "stream",
          "name": "stderr",
          "text": [
            "Epoch [1031/5000]: 100%|██████████| 10/10 [00:00<00:00, 91.56it/s, loss=9.61]\n"
          ]
        },
        {
          "output_type": "stream",
          "name": "stdout",
          "text": [
            "Epoch [1031/5000]: Train loss: 10.6550, Valid loss: 11.3141\n"
          ]
        },
        {
          "output_type": "stream",
          "name": "stderr",
          "text": [
            "Epoch [1032/5000]: 100%|██████████| 10/10 [00:00<00:00, 110.32it/s, loss=11]\n"
          ]
        },
        {
          "output_type": "stream",
          "name": "stdout",
          "text": [
            "Epoch [1032/5000]: Train loss: 10.7303, Valid loss: 10.9770\n"
          ]
        },
        {
          "output_type": "stream",
          "name": "stderr",
          "text": [
            "Epoch [1033/5000]: 100%|██████████| 10/10 [00:00<00:00, 107.93it/s, loss=11.2]\n"
          ]
        },
        {
          "output_type": "stream",
          "name": "stdout",
          "text": [
            "Epoch [1033/5000]: Train loss: 10.7361, Valid loss: 10.7513\n"
          ]
        },
        {
          "output_type": "stream",
          "name": "stderr",
          "text": [
            "Epoch [1034/5000]: 100%|██████████| 10/10 [00:00<00:00, 114.55it/s, loss=9.25]\n"
          ]
        },
        {
          "output_type": "stream",
          "name": "stdout",
          "text": [
            "Epoch [1034/5000]: Train loss: 10.6178, Valid loss: 11.1886\n"
          ]
        },
        {
          "output_type": "stream",
          "name": "stderr",
          "text": [
            "Epoch [1035/5000]: 100%|██████████| 10/10 [00:00<00:00, 107.83it/s, loss=9.26]\n"
          ]
        },
        {
          "output_type": "stream",
          "name": "stdout",
          "text": [
            "Epoch [1035/5000]: Train loss: 10.6125, Valid loss: 11.1908\n"
          ]
        },
        {
          "output_type": "stream",
          "name": "stderr",
          "text": [
            "Epoch [1036/5000]:   0%|          | 0/10 [00:00<?, ?it/s]"
          ]
        }
      ]
    },
    {
      "cell_type": "markdown",
      "source": [
        "# Testing\n",
        "The predictions of your model on testing set will be stored at `pred.csv`."
      ],
      "metadata": {
        "id": "yhAHGqC9-woK"
      }
    },
    {
      "cell_type": "code",
      "source": [
        "def save_pred(preds, file):\n",
        "    ''' Save predictions to specified file '''\n",
        "    with open(file, 'w') as fp:\n",
        "        writer = csv.writer(fp)\n",
        "        writer.writerow(['id', 'tested_positive'])\n",
        "        for i, p in enumerate(preds):\n",
        "            writer.writerow([i, p])\n",
        "\n",
        "model = My_Model(input_dim=x_train.shape[1]).to(device)\n",
        "model.load_state_dict(torch.load(config['save_path']))\n",
        "preds = predict(test_loader, model, device)\n",
        "save_pred(preds, 'pred.csv')"
      ],
      "metadata": {
        "id": "Q5eVdpbvAlAe",
        "trusted": true,
        "colab": {
          "base_uri": "https://localhost:8080/"
        },
        "outputId": "b5634dcc-6e02-40c3-c691-6f8fdd0e0caf"
      },
      "execution_count": null,
      "outputs": [
        {
          "metadata": {
            "tags": null
          },
          "name": "stderr",
          "output_type": "stream",
          "text": [
            "100%|██████████| 4/4 [00:00<00:00, 486.16it/s]\n"
          ]
        }
      ]
    },
    {
      "cell_type": "markdown",
      "source": [
        "# Download\n",
        "\n",
        "Run this block to download the `pred.csv` by clicking."
      ],
      "metadata": {
        "id": "T_N-wBvVahc7"
      }
    },
    {
      "cell_type": "code",
      "source": [
        "from IPython.display import FileLink\n",
        "FileLink(r'pred.csv')"
      ],
      "metadata": {
        "id": "PmMnwrHeavJv",
        "trusted": true,
        "colab": {
          "base_uri": "https://localhost:8080/",
          "height": 34
        },
        "outputId": "3bbf42a2-2ec0-4e54-f7a8-2566a97e0488"
      },
      "execution_count": null,
      "outputs": [
        {
          "data": {
            "text/html": [
              "<a href='pred.csv' target='_blank'>pred.csv</a><br>"
            ],
            "text/plain": [
              "/content/pred.csv"
            ]
          },
          "execution_count": 40,
          "metadata": {},
          "output_type": "execute_result"
        }
      ]
    },
    {
      "cell_type": "markdown",
      "source": [
        "# Reference\n",
        "This notebook uses code written by Heng-Jui Chang @ NTUEE (https://github.com/ga642381/ML2021-Spring/blob/main/HW01/HW01.ipynb)"
      ],
      "metadata": {
        "id": "IJ_k5rY0GvSV"
      }
    }
  ]
}